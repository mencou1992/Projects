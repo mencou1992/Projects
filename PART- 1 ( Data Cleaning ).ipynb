{
  "nbformat": 4,
  "nbformat_minor": 0,
  "metadata": {
    "colab": {
      "name": "capstone_project/PART- 1 ( Data Cleaning ).ipynb",
      "provenance": []
    },
    "kernelspec": {
      "name": "python3",
      "display_name": "Python 3"
    },
    "language_info": {
      "name": "python"
    }
  },
  "cells": [
    {
      "cell_type": "markdown",
      "source": [
        "Part- 1 ( Data Cleaning )"
      ],
      "metadata": {
        "id": "sSjeV6CmX5pD"
      }
    },
    {
      "cell_type": "code",
      "execution_count": 7,
      "metadata": {
        "id": "kML-SGkk3GMK"
      },
      "outputs": [],
      "source": [
        "import numpy as np\n",
        "import pandas as pd\n",
        "import matplotlib.pyplot as plt\n",
        "from matplotlib import patches\n",
        "import seaborn as sns\n",
        "\n",
        "import warnings\n",
        "\n",
        "# Statistics functions\n",
        "from scipy.stats import norm\n",
        "from scipy import stats\n",
        "from scipy.stats import chi2_contingency\n",
        "from scipy.stats import chi2"
      ]
    },
    {
      "cell_type": "code",
      "source": [
        "# Suppressing a warning \n",
        "warnings.filterwarnings(\"ignore\") \n",
        "\n",
        "# It is a magic function that renders the figure in the notebook\n",
        "%matplotlib inline \n",
        "\n",
        "# Changing the figure size of a seaborn axes \n",
        "sns.set(rc={\"figure.figsize\": (10, 6)})\n",
        "\n",
        "# The style parameters control properties like the color of the background and whether a grid is enabled by default.\n",
        "sns.set_style(\"whitegrid\")\n",
        "\n",
        "# To display maximum columns\n",
        "pd.set_option('display.max_columns', None)\n",
        "\n",
        "# To display maximum columns\n",
        "#pd.set_option('display.max_rows', 16000)"
      ],
      "metadata": {
        "id": "hV9TMbT93IvE"
      },
      "execution_count": 8,
      "outputs": []
    },
    {
      "cell_type": "code",
      "source": [
        "df = pd.read_json(\"scout_car.json\", lines=True)"
      ],
      "metadata": {
        "id": "HxnuwDZE3NX_"
      },
      "execution_count": 20,
      "outputs": []
    },
    {
      "cell_type": "code",
      "source": [
        "df_copy = df.copy()"
      ],
      "metadata": {
        "id": "ta5YSpLz3N7c"
      },
      "execution_count": 22,
      "outputs": []
    },
    {
      "cell_type": "code",
      "source": [
        "df.head()"
      ],
      "metadata": {
        "colab": {
          "base_uri": "https://localhost:8080/",
          "height": 756
        },
        "id": "LW6eq7iX-K6N",
        "outputId": "a8b76f33-69bf-4589-c3d0-22d5446678f2"
      },
      "execution_count": 23,
      "outputs": [
        {
          "output_type": "execute_result",
          "data": {
            "text/plain": [
              "                                                 url make_model  \\\n",
              "0  https://www.autoscout24.com//offers/audi-a1-sp...    Audi A1   \n",
              "1  https://www.autoscout24.com//offers/audi-a1-1-...    Audi A1   \n",
              "2  https://www.autoscout24.com//offers/audi-a1-sp...    Audi A1   \n",
              "3  https://www.autoscout24.com//offers/audi-a1-1-...    Audi A1   \n",
              "4  https://www.autoscout24.com//offers/audi-a1-sp...    Audi A1   \n",
              "\n",
              "                                   short_description body_type  price  \\\n",
              "0        Sportback 1.4 TDI S-tronic Xenon Navi Klima    Sedans  15770   \n",
              "1                                     1.8 TFSI sport    Sedans  14500   \n",
              "2  Sportback 1.6 TDI S tronic Einparkhilfe plus+m...    Sedans  14640   \n",
              "3                            1.4 TDi Design S tronic    Sedans  14500   \n",
              "4  Sportback 1.4 TDI S-Tronic S-Line Ext. admired...    Sedans  16790   \n",
              "\n",
              "                vat         km registration         prev_owner  kW      hp  \\\n",
              "0    VAT deductible  56,013 km      01/2016  2 previous owners NaN   66 kW   \n",
              "1  Price negotiable  80,000 km      03/2017               None NaN  141 kW   \n",
              "2    VAT deductible  83,450 km      02/2016   1 previous owner NaN   85 kW   \n",
              "3              None  73,000 km      08/2016   1 previous owner NaN   66 kW   \n",
              "4              None  16,200 km      05/2016   1 previous owner NaN   66 kW   \n",
              "\n",
              "                                      Type Previous Owners  \\\n",
              "0  [, Used, , Diesel (Particulate Filter)]           \\n2\\n   \n",
              "1                     [, Used, , Gasoline]             NaN   \n",
              "2  [, Used, , Diesel (Particulate Filter)]           \\n1\\n   \n",
              "3  [, Used, , Diesel (Particulate Filter)]           \\n1\\n   \n",
              "4  [, Used, , Diesel (Particulate Filter)]           \\n1\\n   \n",
              "\n",
              "                         Next Inspection                      Inspection new  \\\n",
              "0  [\\n06/2021\\n, \\n99 g CO2/km (comb)\\n]               [\\nYes\\n, \\nEuro 6\\n]   \n",
              "1                                    NaN                                 NaN   \n",
              "2                                    NaN                                 NaN   \n",
              "3                                    NaN                                 NaN   \n",
              "4                                    NaN  [\\nYes\\n, \\n109 g CO2/km (comb)\\n]   \n",
              "\n",
              "                           Warranty                      Full Service  \\\n",
              "0           [\\n, \\n, \\n4 (Green)\\n]                          [\\n, \\n]   \n",
              "1                               NaN                               NaN   \n",
              "2  [\\n, \\n, \\n99 g CO2/km (comb)\\n]                               NaN   \n",
              "3                               NaN  [\\n, \\n, \\n99 g CO2/km (comb)\\n]   \n",
              "4              [\\n, \\n, \\nEuro 6\\n]           [\\n, \\n, \\n4 (Green)\\n]   \n",
              "\n",
              "    Non-smoking Vehicle null      Make         Model     Offer Number  \\\n",
              "0              [\\n, \\n]   []  \\nAudi\\n  [\\n, A1, \\n]  [\\nLR-062483\\n]   \n",
              "1                   NaN   []  \\nAudi\\n  [\\n, A1, \\n]              NaN   \n",
              "2                   NaN   []  \\nAudi\\n  [\\n, A1, \\n]   [\\nAM-95365\\n]   \n",
              "3  [\\n, \\n, \\nEuro 6\\n]   []  \\nAudi\\n  [\\n, A1, \\n]              NaN   \n",
              "4              [\\n, \\n]   []  \\nAudi\\n  [\\n, A1, \\n]      [\\nC1626\\n]   \n",
              "\n",
              "  First Registration       Body Color      Paint Type  \\\n",
              "0     [\\n, 2016, \\n]  [\\n, Black, \\n]  [\\nMetallic\\n]   \n",
              "1     [\\n, 2017, \\n]    [\\n, Red, \\n]             NaN   \n",
              "2     [\\n, 2016, \\n]  [\\n, Black, \\n]  [\\nMetallic\\n]   \n",
              "3     [\\n, 2016, \\n]  [\\n, Brown, \\n]  [\\nMetallic\\n]   \n",
              "4     [\\n, 2016, \\n]  [\\n, Black, \\n]  [\\nMetallic\\n]   \n",
              "\n",
              "            Body Color Original          Upholstery              Body  \\\n",
              "0           [\\nMythosschwarz\\n]  [\\nCloth, Black\\n]  [\\n, Sedans, \\n]   \n",
              "1                           NaN   [\\nCloth, Grey\\n]  [\\n, Sedans, \\n]   \n",
              "2  [\\nmythosschwarz metallic\\n]  [\\nCloth, Black\\n]  [\\n, Sedans, \\n]   \n",
              "3                           NaN                 NaN  [\\n, Sedans, \\n]   \n",
              "4  [\\nMythosschwarz Metallic\\n]  [\\nCloth, Black\\n]  [\\n, Sedans, \\n]   \n",
              "\n",
              "  Nr. of Doors Nr. of Seats      Model Code         Gearing Type  \\\n",
              "0      [\\n5\\n]      [\\n5\\n]  [\\n0588/BDF\\n]  [\\n, Automatic, \\n]   \n",
              "1      [\\n3\\n]      [\\n4\\n]  [\\n0588/BCY\\n]  [\\n, Automatic, \\n]   \n",
              "2      [\\n4\\n]      [\\n4\\n]             NaN  [\\n, Automatic, \\n]   \n",
              "3      [\\n3\\n]      [\\n4\\n]             NaN  [\\n, Automatic, \\n]   \n",
              "4      [\\n5\\n]      [\\n5\\n]  [\\n0588/BDF\\n]  [\\n, Automatic, \\n]   \n",
              "\n",
              "     Displacement Cylinders          Weight  Drive chain  \\\n",
              "0  [\\n1,422 cc\\n]   [\\n3\\n]  [\\n1,220 kg\\n]  [\\nfront\\n]   \n",
              "1  [\\n1,798 cc\\n]   [\\n4\\n]  [\\n1,255 kg\\n]  [\\nfront\\n]   \n",
              "2  [\\n1,598 cc\\n]       NaN             NaN  [\\nfront\\n]   \n",
              "3  [\\n1,422 cc\\n]   [\\n3\\n]  [\\n1,195 kg\\n]          NaN   \n",
              "4  [\\n1,422 cc\\n]   [\\n3\\n]             NaN  [\\nfront\\n]   \n",
              "\n",
              "                                    Fuel  \\\n",
              "0  [\\n, Diesel (Particulate Filter), \\n]   \n",
              "1                     [\\n, Gasoline, \\n]   \n",
              "2  [\\n, Diesel (Particulate Filter), \\n]   \n",
              "3  [\\n, Diesel (Particulate Filter), \\n]   \n",
              "4  [\\n, Diesel (Particulate Filter), \\n]   \n",
              "\n",
              "                                         Consumption  \\\n",
              "0  [[3.8 l/100 km (comb)], [4.3 l/100 km (city)],...   \n",
              "1  [[5.6 l/100 km (comb)], [7.1 l/100 km (city)],...   \n",
              "2  [[3.8 l/100 km (comb)], [4.4 l/100 km (city)],...   \n",
              "3  [[3.8 l/100 km (comb)], [4.3 l/100 km (city)],...   \n",
              "4  [[4.1 l/100 km (comb)], [4.6 l/100 km (city)],...   \n",
              "\n",
              "                CO2 Emission Emission Class  \\\n",
              "0   [\\n99 g CO2/km (comb)\\n]   [\\nEuro 6\\n]   \n",
              "1  [\\n129 g CO2/km (comb)\\n]   [\\nEuro 6\\n]   \n",
              "2   [\\n99 g CO2/km (comb)\\n]   [\\nEuro 6\\n]   \n",
              "3   [\\n99 g CO2/km (comb)\\n]   [\\nEuro 6\\n]   \n",
              "4  [\\n109 g CO2/km (comb)\\n]   [\\nEuro 6\\n]   \n",
              "\n",
              "                           \\nComfort & Convenience\\n  \\\n",
              "0  [Air conditioning, Armrest, Automatic climate ...   \n",
              "1  [Air conditioning, Automatic climate control, ...   \n",
              "2  [Air conditioning, Cruise control, Electrical ...   \n",
              "3  [Air suspension, Armrest, Auxiliary heating, E...   \n",
              "4  [Air conditioning, Armrest, Automatic climate ...   \n",
              "\n",
              "                           \\nEntertainment & Media\\n  \\\n",
              "0  [Bluetooth, Hands-free equipment, On-board com...   \n",
              "1  [Bluetooth, Hands-free equipment, On-board com...   \n",
              "2                           [MP3, On-board computer]   \n",
              "3  [Bluetooth, CD player, Hands-free equipment, M...   \n",
              "4  [Bluetooth, CD player, Hands-free equipment, M...   \n",
              "\n",
              "                                          \\nExtras\\n  \\\n",
              "0  [Alloy wheels, Catalytic Converter, Voice Cont...   \n",
              "1  [Alloy wheels, Sport seats, Sport suspension, ...   \n",
              "2                      [Alloy wheels, Voice Control]   \n",
              "3         [Alloy wheels, Sport seats, Voice Control]   \n",
              "4  [Alloy wheels, Sport package, Sport suspension...   \n",
              "\n",
              "                               \\nSafety & Security\\n  \\\n",
              "0  [ABS, Central door lock, Daytime running light...   \n",
              "1  [ABS, Central door lock, Central door lock wit...   \n",
              "2  [ABS, Central door lock, Daytime running light...   \n",
              "3  [ABS, Alarm system, Central door lock with rem...   \n",
              "4  [ABS, Central door lock, Driver-side airbag, E...   \n",
              "\n",
              "                                         description   Emission Label  \\\n",
              "0  [\\n, Sicherheit:,  , Deaktivierung für Beifahr...              NaN   \n",
              "1  [\\nLangstreckenfahrzeug daher die hohe Kilomet...  [\\n4 (Green)\\n]   \n",
              "2  [\\n, Fahrzeug-Nummer: AM-95365,  , Ehem. UPE 2...  [\\n4 (Green)\\n]   \n",
              "3  [\\nAudi A1: , - 1e eigenaar , - Perfecte staat...              NaN   \n",
              "4  [\\n, Technik & Sicherheit:, Xenon plus, Klimaa...              NaN   \n",
              "\n",
              "     Gears Country version Electricity consumption Last Service Date  \\\n",
              "0      NaN             NaN                     NaN               NaN   \n",
              "1  [\\n7\\n]             NaN                     NaN               NaN   \n",
              "2      NaN             NaN                     NaN               NaN   \n",
              "3  [\\n6\\n]             NaN                     NaN               NaN   \n",
              "4      NaN   [\\nGermany\\n]                     NaN               NaN   \n",
              "\n",
              "  Other Fuel Types Availability Last Timing Belt Service Date Available from  \n",
              "0              NaN          NaN                           NaN            NaN  \n",
              "1              NaN          NaN                           NaN            NaN  \n",
              "2              NaN          NaN                           NaN            NaN  \n",
              "3              NaN          NaN                           NaN            NaN  \n",
              "4              NaN          NaN                           NaN            NaN  "
            ],
            "text/html": [
              "\n",
              "  <div id=\"df-05a3f8ea-814c-4a31-85a9-1539d3d8d88a\">\n",
              "    <div class=\"colab-df-container\">\n",
              "      <div>\n",
              "<style scoped>\n",
              "    .dataframe tbody tr th:only-of-type {\n",
              "        vertical-align: middle;\n",
              "    }\n",
              "\n",
              "    .dataframe tbody tr th {\n",
              "        vertical-align: top;\n",
              "    }\n",
              "\n",
              "    .dataframe thead th {\n",
              "        text-align: right;\n",
              "    }\n",
              "</style>\n",
              "<table border=\"1\" class=\"dataframe\">\n",
              "  <thead>\n",
              "    <tr style=\"text-align: right;\">\n",
              "      <th></th>\n",
              "      <th>url</th>\n",
              "      <th>make_model</th>\n",
              "      <th>short_description</th>\n",
              "      <th>body_type</th>\n",
              "      <th>price</th>\n",
              "      <th>vat</th>\n",
              "      <th>km</th>\n",
              "      <th>registration</th>\n",
              "      <th>prev_owner</th>\n",
              "      <th>kW</th>\n",
              "      <th>hp</th>\n",
              "      <th>Type</th>\n",
              "      <th>Previous Owners</th>\n",
              "      <th>Next Inspection</th>\n",
              "      <th>Inspection new</th>\n",
              "      <th>Warranty</th>\n",
              "      <th>Full Service</th>\n",
              "      <th>Non-smoking Vehicle</th>\n",
              "      <th>null</th>\n",
              "      <th>Make</th>\n",
              "      <th>Model</th>\n",
              "      <th>Offer Number</th>\n",
              "      <th>First Registration</th>\n",
              "      <th>Body Color</th>\n",
              "      <th>Paint Type</th>\n",
              "      <th>Body Color Original</th>\n",
              "      <th>Upholstery</th>\n",
              "      <th>Body</th>\n",
              "      <th>Nr. of Doors</th>\n",
              "      <th>Nr. of Seats</th>\n",
              "      <th>Model Code</th>\n",
              "      <th>Gearing Type</th>\n",
              "      <th>Displacement</th>\n",
              "      <th>Cylinders</th>\n",
              "      <th>Weight</th>\n",
              "      <th>Drive chain</th>\n",
              "      <th>Fuel</th>\n",
              "      <th>Consumption</th>\n",
              "      <th>CO2 Emission</th>\n",
              "      <th>Emission Class</th>\n",
              "      <th>\\nComfort &amp; Convenience\\n</th>\n",
              "      <th>\\nEntertainment &amp; Media\\n</th>\n",
              "      <th>\\nExtras\\n</th>\n",
              "      <th>\\nSafety &amp; Security\\n</th>\n",
              "      <th>description</th>\n",
              "      <th>Emission Label</th>\n",
              "      <th>Gears</th>\n",
              "      <th>Country version</th>\n",
              "      <th>Electricity consumption</th>\n",
              "      <th>Last Service Date</th>\n",
              "      <th>Other Fuel Types</th>\n",
              "      <th>Availability</th>\n",
              "      <th>Last Timing Belt Service Date</th>\n",
              "      <th>Available from</th>\n",
              "    </tr>\n",
              "  </thead>\n",
              "  <tbody>\n",
              "    <tr>\n",
              "      <th>0</th>\n",
              "      <td>https://www.autoscout24.com//offers/audi-a1-sp...</td>\n",
              "      <td>Audi A1</td>\n",
              "      <td>Sportback 1.4 TDI S-tronic Xenon Navi Klima</td>\n",
              "      <td>Sedans</td>\n",
              "      <td>15770</td>\n",
              "      <td>VAT deductible</td>\n",
              "      <td>56,013 km</td>\n",
              "      <td>01/2016</td>\n",
              "      <td>2 previous owners</td>\n",
              "      <td>NaN</td>\n",
              "      <td>66 kW</td>\n",
              "      <td>[, Used, , Diesel (Particulate Filter)]</td>\n",
              "      <td>\\n2\\n</td>\n",
              "      <td>[\\n06/2021\\n, \\n99 g CO2/km (comb)\\n]</td>\n",
              "      <td>[\\nYes\\n, \\nEuro 6\\n]</td>\n",
              "      <td>[\\n, \\n, \\n4 (Green)\\n]</td>\n",
              "      <td>[\\n, \\n]</td>\n",
              "      <td>[\\n, \\n]</td>\n",
              "      <td>[]</td>\n",
              "      <td>\\nAudi\\n</td>\n",
              "      <td>[\\n, A1, \\n]</td>\n",
              "      <td>[\\nLR-062483\\n]</td>\n",
              "      <td>[\\n, 2016, \\n]</td>\n",
              "      <td>[\\n, Black, \\n]</td>\n",
              "      <td>[\\nMetallic\\n]</td>\n",
              "      <td>[\\nMythosschwarz\\n]</td>\n",
              "      <td>[\\nCloth, Black\\n]</td>\n",
              "      <td>[\\n, Sedans, \\n]</td>\n",
              "      <td>[\\n5\\n]</td>\n",
              "      <td>[\\n5\\n]</td>\n",
              "      <td>[\\n0588/BDF\\n]</td>\n",
              "      <td>[\\n, Automatic, \\n]</td>\n",
              "      <td>[\\n1,422 cc\\n]</td>\n",
              "      <td>[\\n3\\n]</td>\n",
              "      <td>[\\n1,220 kg\\n]</td>\n",
              "      <td>[\\nfront\\n]</td>\n",
              "      <td>[\\n, Diesel (Particulate Filter), \\n]</td>\n",
              "      <td>[[3.8 l/100 km (comb)], [4.3 l/100 km (city)],...</td>\n",
              "      <td>[\\n99 g CO2/km (comb)\\n]</td>\n",
              "      <td>[\\nEuro 6\\n]</td>\n",
              "      <td>[Air conditioning, Armrest, Automatic climate ...</td>\n",
              "      <td>[Bluetooth, Hands-free equipment, On-board com...</td>\n",
              "      <td>[Alloy wheels, Catalytic Converter, Voice Cont...</td>\n",
              "      <td>[ABS, Central door lock, Daytime running light...</td>\n",
              "      <td>[\\n, Sicherheit:,  , Deaktivierung für Beifahr...</td>\n",
              "      <td>NaN</td>\n",
              "      <td>NaN</td>\n",
              "      <td>NaN</td>\n",
              "      <td>NaN</td>\n",
              "      <td>NaN</td>\n",
              "      <td>NaN</td>\n",
              "      <td>NaN</td>\n",
              "      <td>NaN</td>\n",
              "      <td>NaN</td>\n",
              "    </tr>\n",
              "    <tr>\n",
              "      <th>1</th>\n",
              "      <td>https://www.autoscout24.com//offers/audi-a1-1-...</td>\n",
              "      <td>Audi A1</td>\n",
              "      <td>1.8 TFSI sport</td>\n",
              "      <td>Sedans</td>\n",
              "      <td>14500</td>\n",
              "      <td>Price negotiable</td>\n",
              "      <td>80,000 km</td>\n",
              "      <td>03/2017</td>\n",
              "      <td>None</td>\n",
              "      <td>NaN</td>\n",
              "      <td>141 kW</td>\n",
              "      <td>[, Used, , Gasoline]</td>\n",
              "      <td>NaN</td>\n",
              "      <td>NaN</td>\n",
              "      <td>NaN</td>\n",
              "      <td>NaN</td>\n",
              "      <td>NaN</td>\n",
              "      <td>NaN</td>\n",
              "      <td>[]</td>\n",
              "      <td>\\nAudi\\n</td>\n",
              "      <td>[\\n, A1, \\n]</td>\n",
              "      <td>NaN</td>\n",
              "      <td>[\\n, 2017, \\n]</td>\n",
              "      <td>[\\n, Red, \\n]</td>\n",
              "      <td>NaN</td>\n",
              "      <td>NaN</td>\n",
              "      <td>[\\nCloth, Grey\\n]</td>\n",
              "      <td>[\\n, Sedans, \\n]</td>\n",
              "      <td>[\\n3\\n]</td>\n",
              "      <td>[\\n4\\n]</td>\n",
              "      <td>[\\n0588/BCY\\n]</td>\n",
              "      <td>[\\n, Automatic, \\n]</td>\n",
              "      <td>[\\n1,798 cc\\n]</td>\n",
              "      <td>[\\n4\\n]</td>\n",
              "      <td>[\\n1,255 kg\\n]</td>\n",
              "      <td>[\\nfront\\n]</td>\n",
              "      <td>[\\n, Gasoline, \\n]</td>\n",
              "      <td>[[5.6 l/100 km (comb)], [7.1 l/100 km (city)],...</td>\n",
              "      <td>[\\n129 g CO2/km (comb)\\n]</td>\n",
              "      <td>[\\nEuro 6\\n]</td>\n",
              "      <td>[Air conditioning, Automatic climate control, ...</td>\n",
              "      <td>[Bluetooth, Hands-free equipment, On-board com...</td>\n",
              "      <td>[Alloy wheels, Sport seats, Sport suspension, ...</td>\n",
              "      <td>[ABS, Central door lock, Central door lock wit...</td>\n",
              "      <td>[\\nLangstreckenfahrzeug daher die hohe Kilomet...</td>\n",
              "      <td>[\\n4 (Green)\\n]</td>\n",
              "      <td>[\\n7\\n]</td>\n",
              "      <td>NaN</td>\n",
              "      <td>NaN</td>\n",
              "      <td>NaN</td>\n",
              "      <td>NaN</td>\n",
              "      <td>NaN</td>\n",
              "      <td>NaN</td>\n",
              "      <td>NaN</td>\n",
              "    </tr>\n",
              "    <tr>\n",
              "      <th>2</th>\n",
              "      <td>https://www.autoscout24.com//offers/audi-a1-sp...</td>\n",
              "      <td>Audi A1</td>\n",
              "      <td>Sportback 1.6 TDI S tronic Einparkhilfe plus+m...</td>\n",
              "      <td>Sedans</td>\n",
              "      <td>14640</td>\n",
              "      <td>VAT deductible</td>\n",
              "      <td>83,450 km</td>\n",
              "      <td>02/2016</td>\n",
              "      <td>1 previous owner</td>\n",
              "      <td>NaN</td>\n",
              "      <td>85 kW</td>\n",
              "      <td>[, Used, , Diesel (Particulate Filter)]</td>\n",
              "      <td>\\n1\\n</td>\n",
              "      <td>NaN</td>\n",
              "      <td>NaN</td>\n",
              "      <td>[\\n, \\n, \\n99 g CO2/km (comb)\\n]</td>\n",
              "      <td>NaN</td>\n",
              "      <td>NaN</td>\n",
              "      <td>[]</td>\n",
              "      <td>\\nAudi\\n</td>\n",
              "      <td>[\\n, A1, \\n]</td>\n",
              "      <td>[\\nAM-95365\\n]</td>\n",
              "      <td>[\\n, 2016, \\n]</td>\n",
              "      <td>[\\n, Black, \\n]</td>\n",
              "      <td>[\\nMetallic\\n]</td>\n",
              "      <td>[\\nmythosschwarz metallic\\n]</td>\n",
              "      <td>[\\nCloth, Black\\n]</td>\n",
              "      <td>[\\n, Sedans, \\n]</td>\n",
              "      <td>[\\n4\\n]</td>\n",
              "      <td>[\\n4\\n]</td>\n",
              "      <td>NaN</td>\n",
              "      <td>[\\n, Automatic, \\n]</td>\n",
              "      <td>[\\n1,598 cc\\n]</td>\n",
              "      <td>NaN</td>\n",
              "      <td>NaN</td>\n",
              "      <td>[\\nfront\\n]</td>\n",
              "      <td>[\\n, Diesel (Particulate Filter), \\n]</td>\n",
              "      <td>[[3.8 l/100 km (comb)], [4.4 l/100 km (city)],...</td>\n",
              "      <td>[\\n99 g CO2/km (comb)\\n]</td>\n",
              "      <td>[\\nEuro 6\\n]</td>\n",
              "      <td>[Air conditioning, Cruise control, Electrical ...</td>\n",
              "      <td>[MP3, On-board computer]</td>\n",
              "      <td>[Alloy wheels, Voice Control]</td>\n",
              "      <td>[ABS, Central door lock, Daytime running light...</td>\n",
              "      <td>[\\n, Fahrzeug-Nummer: AM-95365,  , Ehem. UPE 2...</td>\n",
              "      <td>[\\n4 (Green)\\n]</td>\n",
              "      <td>NaN</td>\n",
              "      <td>NaN</td>\n",
              "      <td>NaN</td>\n",
              "      <td>NaN</td>\n",
              "      <td>NaN</td>\n",
              "      <td>NaN</td>\n",
              "      <td>NaN</td>\n",
              "      <td>NaN</td>\n",
              "    </tr>\n",
              "    <tr>\n",
              "      <th>3</th>\n",
              "      <td>https://www.autoscout24.com//offers/audi-a1-1-...</td>\n",
              "      <td>Audi A1</td>\n",
              "      <td>1.4 TDi Design S tronic</td>\n",
              "      <td>Sedans</td>\n",
              "      <td>14500</td>\n",
              "      <td>None</td>\n",
              "      <td>73,000 km</td>\n",
              "      <td>08/2016</td>\n",
              "      <td>1 previous owner</td>\n",
              "      <td>NaN</td>\n",
              "      <td>66 kW</td>\n",
              "      <td>[, Used, , Diesel (Particulate Filter)]</td>\n",
              "      <td>\\n1\\n</td>\n",
              "      <td>NaN</td>\n",
              "      <td>NaN</td>\n",
              "      <td>NaN</td>\n",
              "      <td>[\\n, \\n, \\n99 g CO2/km (comb)\\n]</td>\n",
              "      <td>[\\n, \\n, \\nEuro 6\\n]</td>\n",
              "      <td>[]</td>\n",
              "      <td>\\nAudi\\n</td>\n",
              "      <td>[\\n, A1, \\n]</td>\n",
              "      <td>NaN</td>\n",
              "      <td>[\\n, 2016, \\n]</td>\n",
              "      <td>[\\n, Brown, \\n]</td>\n",
              "      <td>[\\nMetallic\\n]</td>\n",
              "      <td>NaN</td>\n",
              "      <td>NaN</td>\n",
              "      <td>[\\n, Sedans, \\n]</td>\n",
              "      <td>[\\n3\\n]</td>\n",
              "      <td>[\\n4\\n]</td>\n",
              "      <td>NaN</td>\n",
              "      <td>[\\n, Automatic, \\n]</td>\n",
              "      <td>[\\n1,422 cc\\n]</td>\n",
              "      <td>[\\n3\\n]</td>\n",
              "      <td>[\\n1,195 kg\\n]</td>\n",
              "      <td>NaN</td>\n",
              "      <td>[\\n, Diesel (Particulate Filter), \\n]</td>\n",
              "      <td>[[3.8 l/100 km (comb)], [4.3 l/100 km (city)],...</td>\n",
              "      <td>[\\n99 g CO2/km (comb)\\n]</td>\n",
              "      <td>[\\nEuro 6\\n]</td>\n",
              "      <td>[Air suspension, Armrest, Auxiliary heating, E...</td>\n",
              "      <td>[Bluetooth, CD player, Hands-free equipment, M...</td>\n",
              "      <td>[Alloy wheels, Sport seats, Voice Control]</td>\n",
              "      <td>[ABS, Alarm system, Central door lock with rem...</td>\n",
              "      <td>[\\nAudi A1: , - 1e eigenaar , - Perfecte staat...</td>\n",
              "      <td>NaN</td>\n",
              "      <td>[\\n6\\n]</td>\n",
              "      <td>NaN</td>\n",
              "      <td>NaN</td>\n",
              "      <td>NaN</td>\n",
              "      <td>NaN</td>\n",
              "      <td>NaN</td>\n",
              "      <td>NaN</td>\n",
              "      <td>NaN</td>\n",
              "    </tr>\n",
              "    <tr>\n",
              "      <th>4</th>\n",
              "      <td>https://www.autoscout24.com//offers/audi-a1-sp...</td>\n",
              "      <td>Audi A1</td>\n",
              "      <td>Sportback 1.4 TDI S-Tronic S-Line Ext. admired...</td>\n",
              "      <td>Sedans</td>\n",
              "      <td>16790</td>\n",
              "      <td>None</td>\n",
              "      <td>16,200 km</td>\n",
              "      <td>05/2016</td>\n",
              "      <td>1 previous owner</td>\n",
              "      <td>NaN</td>\n",
              "      <td>66 kW</td>\n",
              "      <td>[, Used, , Diesel (Particulate Filter)]</td>\n",
              "      <td>\\n1\\n</td>\n",
              "      <td>NaN</td>\n",
              "      <td>[\\nYes\\n, \\n109 g CO2/km (comb)\\n]</td>\n",
              "      <td>[\\n, \\n, \\nEuro 6\\n]</td>\n",
              "      <td>[\\n, \\n, \\n4 (Green)\\n]</td>\n",
              "      <td>[\\n, \\n]</td>\n",
              "      <td>[]</td>\n",
              "      <td>\\nAudi\\n</td>\n",
              "      <td>[\\n, A1, \\n]</td>\n",
              "      <td>[\\nC1626\\n]</td>\n",
              "      <td>[\\n, 2016, \\n]</td>\n",
              "      <td>[\\n, Black, \\n]</td>\n",
              "      <td>[\\nMetallic\\n]</td>\n",
              "      <td>[\\nMythosschwarz Metallic\\n]</td>\n",
              "      <td>[\\nCloth, Black\\n]</td>\n",
              "      <td>[\\n, Sedans, \\n]</td>\n",
              "      <td>[\\n5\\n]</td>\n",
              "      <td>[\\n5\\n]</td>\n",
              "      <td>[\\n0588/BDF\\n]</td>\n",
              "      <td>[\\n, Automatic, \\n]</td>\n",
              "      <td>[\\n1,422 cc\\n]</td>\n",
              "      <td>[\\n3\\n]</td>\n",
              "      <td>NaN</td>\n",
              "      <td>[\\nfront\\n]</td>\n",
              "      <td>[\\n, Diesel (Particulate Filter), \\n]</td>\n",
              "      <td>[[4.1 l/100 km (comb)], [4.6 l/100 km (city)],...</td>\n",
              "      <td>[\\n109 g CO2/km (comb)\\n]</td>\n",
              "      <td>[\\nEuro 6\\n]</td>\n",
              "      <td>[Air conditioning, Armrest, Automatic climate ...</td>\n",
              "      <td>[Bluetooth, CD player, Hands-free equipment, M...</td>\n",
              "      <td>[Alloy wheels, Sport package, Sport suspension...</td>\n",
              "      <td>[ABS, Central door lock, Driver-side airbag, E...</td>\n",
              "      <td>[\\n, Technik &amp; Sicherheit:, Xenon plus, Klimaa...</td>\n",
              "      <td>NaN</td>\n",
              "      <td>NaN</td>\n",
              "      <td>[\\nGermany\\n]</td>\n",
              "      <td>NaN</td>\n",
              "      <td>NaN</td>\n",
              "      <td>NaN</td>\n",
              "      <td>NaN</td>\n",
              "      <td>NaN</td>\n",
              "      <td>NaN</td>\n",
              "    </tr>\n",
              "  </tbody>\n",
              "</table>\n",
              "</div>\n",
              "      <button class=\"colab-df-convert\" onclick=\"convertToInteractive('df-05a3f8ea-814c-4a31-85a9-1539d3d8d88a')\"\n",
              "              title=\"Convert this dataframe to an interactive table.\"\n",
              "              style=\"display:none;\">\n",
              "        \n",
              "  <svg xmlns=\"http://www.w3.org/2000/svg\" height=\"24px\"viewBox=\"0 0 24 24\"\n",
              "       width=\"24px\">\n",
              "    <path d=\"M0 0h24v24H0V0z\" fill=\"none\"/>\n",
              "    <path d=\"M18.56 5.44l.94 2.06.94-2.06 2.06-.94-2.06-.94-.94-2.06-.94 2.06-2.06.94zm-11 1L8.5 8.5l.94-2.06 2.06-.94-2.06-.94L8.5 2.5l-.94 2.06-2.06.94zm10 10l.94 2.06.94-2.06 2.06-.94-2.06-.94-.94-2.06-.94 2.06-2.06.94z\"/><path d=\"M17.41 7.96l-1.37-1.37c-.4-.4-.92-.59-1.43-.59-.52 0-1.04.2-1.43.59L10.3 9.45l-7.72 7.72c-.78.78-.78 2.05 0 2.83L4 21.41c.39.39.9.59 1.41.59.51 0 1.02-.2 1.41-.59l7.78-7.78 2.81-2.81c.8-.78.8-2.07 0-2.86zM5.41 20L4 18.59l7.72-7.72 1.47 1.35L5.41 20z\"/>\n",
              "  </svg>\n",
              "      </button>\n",
              "      \n",
              "  <style>\n",
              "    .colab-df-container {\n",
              "      display:flex;\n",
              "      flex-wrap:wrap;\n",
              "      gap: 12px;\n",
              "    }\n",
              "\n",
              "    .colab-df-convert {\n",
              "      background-color: #E8F0FE;\n",
              "      border: none;\n",
              "      border-radius: 50%;\n",
              "      cursor: pointer;\n",
              "      display: none;\n",
              "      fill: #1967D2;\n",
              "      height: 32px;\n",
              "      padding: 0 0 0 0;\n",
              "      width: 32px;\n",
              "    }\n",
              "\n",
              "    .colab-df-convert:hover {\n",
              "      background-color: #E2EBFA;\n",
              "      box-shadow: 0px 1px 2px rgba(60, 64, 67, 0.3), 0px 1px 3px 1px rgba(60, 64, 67, 0.15);\n",
              "      fill: #174EA6;\n",
              "    }\n",
              "\n",
              "    [theme=dark] .colab-df-convert {\n",
              "      background-color: #3B4455;\n",
              "      fill: #D2E3FC;\n",
              "    }\n",
              "\n",
              "    [theme=dark] .colab-df-convert:hover {\n",
              "      background-color: #434B5C;\n",
              "      box-shadow: 0px 1px 3px 1px rgba(0, 0, 0, 0.15);\n",
              "      filter: drop-shadow(0px 1px 2px rgba(0, 0, 0, 0.3));\n",
              "      fill: #FFFFFF;\n",
              "    }\n",
              "  </style>\n",
              "\n",
              "      <script>\n",
              "        const buttonEl =\n",
              "          document.querySelector('#df-05a3f8ea-814c-4a31-85a9-1539d3d8d88a button.colab-df-convert');\n",
              "        buttonEl.style.display =\n",
              "          google.colab.kernel.accessAllowed ? 'block' : 'none';\n",
              "\n",
              "        async function convertToInteractive(key) {\n",
              "          const element = document.querySelector('#df-05a3f8ea-814c-4a31-85a9-1539d3d8d88a');\n",
              "          const dataTable =\n",
              "            await google.colab.kernel.invokeFunction('convertToInteractive',\n",
              "                                                     [key], {});\n",
              "          if (!dataTable) return;\n",
              "\n",
              "          const docLinkHtml = 'Like what you see? Visit the ' +\n",
              "            '<a target=\"_blank\" href=https://colab.research.google.com/notebooks/data_table.ipynb>data table notebook</a>'\n",
              "            + ' to learn more about interactive tables.';\n",
              "          element.innerHTML = '';\n",
              "          dataTable['output_type'] = 'display_data';\n",
              "          await google.colab.output.renderOutput(dataTable, element);\n",
              "          const docLink = document.createElement('div');\n",
              "          docLink.innerHTML = docLinkHtml;\n",
              "          element.appendChild(docLink);\n",
              "        }\n",
              "      </script>\n",
              "    </div>\n",
              "  </div>\n",
              "  "
            ]
          },
          "metadata": {},
          "execution_count": 23
        }
      ]
    },
    {
      "cell_type": "code",
      "source": [
        "df.sample(5).T"
      ],
      "metadata": {
        "colab": {
          "base_uri": "https://localhost:8080/",
          "height": 1000
        },
        "id": "ZVSgCWZi-fsZ",
        "outputId": "e30c2b68-393e-4e9f-c4e8-4de6ba5646c4"
      },
      "execution_count": 25,
      "outputs": [
        {
          "output_type": "execute_result",
          "data": {
            "text/plain": [
              "                                                                            1466  \\\n",
              "url                            https://www.autoscout24.com//offers/audi-a1-sp...   \n",
              "make_model                                                               Audi A1   \n",
              "short_description              Sportback 1.0 TFSI Advance Automaat S-Line Ext...   \n",
              "body_type                                                                Compact   \n",
              "price                                                                      22950   \n",
              "vat                                                               VAT deductible   \n",
              "km                                                                     20,605 km   \n",
              "registration                                                             07/2018   \n",
              "prev_owner                                                                  None   \n",
              "kW                                                                           NaN   \n",
              "hp                                                                         71 kW   \n",
              "Type                                                        [, Used, , Gasoline]   \n",
              "Previous Owners                                                              NaN   \n",
              "Next Inspection                                                      \\n07/2022\\n   \n",
              "Inspection new                                                               NaN   \n",
              "Warranty                                       [\\n, \\n, \\n103 g CO2/km (comb)\\n]   \n",
              "Full Service                                                [\\n, \\n, \\nEuro 6\\n]   \n",
              "Non-smoking Vehicle                                                          NaN   \n",
              "null                                                                          []   \n",
              "Make                                                                    \\nAudi\\n   \n",
              "Model                                                               [\\n, A1, \\n]   \n",
              "Offer Number                                                        [\\nZH723J\\n]   \n",
              "First Registration                                                [\\n, 2018, \\n]   \n",
              "Body Color                                                       [\\n, Black, \\n]   \n",
              "Paint Type                                                        [\\nMetallic\\n]   \n",
              "Body Color Original                                           [\\nDonker zwart\\n]   \n",
              "Upholstery                                                    [\\nCloth, Black\\n]   \n",
              "Body                                                           [\\n, Compact, \\n]   \n",
              "Nr. of Doors                                                             [\\n5\\n]   \n",
              "Nr. of Seats                                                             [\\n4\\n]   \n",
              "Model Code                                                                   NaN   \n",
              "Gearing Type                                                 [\\n, Automatic, \\n]   \n",
              "Displacement                                                        [\\n999 cc\\n]   \n",
              "Cylinders                                                                [\\n3\\n]   \n",
              "Weight                                                            [\\n1,065 kg\\n]   \n",
              "Drive chain                                                          [\\nfront\\n]   \n",
              "Fuel                                                          [\\n, Gasoline, \\n]   \n",
              "Consumption                    [[4.4 l/100 km (comb)], [5.4 l/100 km (city)],...   \n",
              "CO2 Emission                                           [\\n103 g CO2/km (comb)\\n]   \n",
              "Emission Class                                                      [\\nEuro 6\\n]   \n",
              "\\nComfort & Convenience\\n      [Air conditioning, Armrest, Cruise control, El...   \n",
              "\\nEntertainment & Media\\n                             [On-board computer, Radio]   \n",
              "\\nExtras\\n                                                        [Alloy wheels]   \n",
              "\\nSafety & Security\\n          [ABS, Alarm system, Central door lock, Driver-...   \n",
              "description                    [\\nDe door ons genoemde communicatieadviesprij...   \n",
              "Emission Label                                                               NaN   \n",
              "Gears                                                                    [\\n7\\n]   \n",
              "Country version                                                [\\nNetherlands\\n]   \n",
              "Electricity consumption                                                      NaN   \n",
              "Last Service Date                                                            NaN   \n",
              "Other Fuel Types                                                             NaN   \n",
              "Availability                                                                 NaN   \n",
              "Last Timing Belt Service Date                                                NaN   \n",
              "Available from                                                               NaN   \n",
              "\n",
              "                                                                            5660  \\\n",
              "url                            https://www.autoscout24.com//offers/audi-a3-sp...   \n",
              "make_model                                                               Audi A3   \n",
              "short_description                   Sportback 30 TFSI SPORT CONNECT. PDC SITZHZG   \n",
              "body_type                                                                 Sedans   \n",
              "price                                                                      25470   \n",
              "vat                                                               VAT deductible   \n",
              "km                                                                         10 km   \n",
              "registration                                                                 -/-   \n",
              "prev_owner                                                                  None   \n",
              "kW                                                                           NaN   \n",
              "hp                                                                         85 kW   \n",
              "Type                                                         [, New, , Super 95]   \n",
              "Previous Owners                                                              NaN   \n",
              "Next Inspection                                                              NaN   \n",
              "Inspection new                                                               NaN   \n",
              "Warranty                                                                      \\n   \n",
              "Full Service                                                                 NaN   \n",
              "Non-smoking Vehicle                            [\\n, \\n, \\n113 g CO2/km (comb)\\n]   \n",
              "null                                                                          []   \n",
              "Make                                                                    \\nAudi\\n   \n",
              "Model                                                               [\\n, A3, \\n]   \n",
              "Offer Number                                                        [\\nGDR767\\n]   \n",
              "First Registration                                                           NaN   \n",
              "Body Color                                                       [\\n, Black, \\n]   \n",
              "Paint Type                                                        [\\nMetallic\\n]   \n",
              "Body Color Original                                          [\\nMythosschwarz\\n]   \n",
              "Upholstery                                                    [\\nCloth, Black\\n]   \n",
              "Body                                                            [\\n, Sedans, \\n]   \n",
              "Nr. of Doors                                                             [\\n4\\n]   \n",
              "Nr. of Seats                                                             [\\n5\\n]   \n",
              "Model Code                                                        [\\n0588/BHX\\n]   \n",
              "Gearing Type                                                    [\\n, Manual, \\n]   \n",
              "Displacement                                                        [\\n999 cc\\n]   \n",
              "Cylinders                                                                [\\n3\\n]   \n",
              "Weight                                                            [\\n1,255 kg\\n]   \n",
              "Drive chain                                                                  NaN   \n",
              "Fuel                                                          [\\n, Super 95, \\n]   \n",
              "Consumption                    [[4.8 l/100 km (comb)], [5.8 l/100 km (city)],...   \n",
              "CO2 Emission                                           [\\n113 g CO2/km (comb)\\n]   \n",
              "Emission Class                                                      [\\nEuro 6\\n]   \n",
              "\\nComfort & Convenience\\n      [Air conditioning, Armrest, Automatic climate ...   \n",
              "\\nEntertainment & Media\\n      [Bluetooth, CD player, Hands-free equipment, O...   \n",
              "\\nExtras\\n                     [Alloy wheels, Roof rack, Sport seats, Sport s...   \n",
              "\\nSafety & Security\\n          [ABS, Central door lock, Daytime running light...   \n",
              "description                    [\\n, Preis inkl. Überführungskosten, Getriebe ...   \n",
              "Emission Label                                                   [\\n4 (Green)\\n]   \n",
              "Gears                                                                        NaN   \n",
              "Country version                                                    [\\nGermany\\n]   \n",
              "Electricity consumption                                                      NaN   \n",
              "Last Service Date                                                            NaN   \n",
              "Other Fuel Types                                                             NaN   \n",
              "Availability                                                                 NaN   \n",
              "Last Timing Belt Service Date                                                NaN   \n",
              "Available from                                                               NaN   \n",
              "\n",
              "                                                                            3987  \\\n",
              "url                            https://www.autoscout24.com//offers/audi-a3-sp...   \n",
              "make_model                                                               Audi A3   \n",
              "short_description                                    SPB 1.6 TDI 116 CV S tronic   \n",
              "body_type                                                                 Sedans   \n",
              "price                                                                      19800   \n",
              "vat                                                                         None   \n",
              "km                                                                      9,650 km   \n",
              "registration                                                             11/2017   \n",
              "prev_owner                                                      1 previous owner   \n",
              "kW                                                                           NaN   \n",
              "hp                                                                         85 kW   \n",
              "Type                                                          [, Used, , Diesel]   \n",
              "Previous Owners                                                            \\n1\\n   \n",
              "Next Inspection                                                              NaN   \n",
              "Inspection new                                                               NaN   \n",
              "Warranty                                                                     NaN   \n",
              "Full Service                                                                 NaN   \n",
              "Non-smoking Vehicle                                                          NaN   \n",
              "null                                                                          []   \n",
              "Make                                                                    \\nAudi\\n   \n",
              "Model                                                               [\\n, A3, \\n]   \n",
              "Offer Number                                                                 NaN   \n",
              "First Registration                                                [\\n, 2017, \\n]   \n",
              "Body Color                                                       [\\n, White, \\n]   \n",
              "Paint Type                                                                   NaN   \n",
              "Body Color Original                                             [\\nIBIS WHITE\\n]   \n",
              "Upholstery                                                    [\\nCloth, Black\\n]   \n",
              "Body                                                            [\\n, Sedans, \\n]   \n",
              "Nr. of Doors                                                             [\\n5\\n]   \n",
              "Nr. of Seats                                                             [\\n5\\n]   \n",
              "Model Code                                                                   NaN   \n",
              "Gearing Type                                                 [\\n, Automatic, \\n]   \n",
              "Displacement                                                      [\\n1,598 cc\\n]   \n",
              "Cylinders                                                                [\\n4\\n]   \n",
              "Weight                                                            [\\n1,360 kg\\n]   \n",
              "Drive chain                                                                  NaN   \n",
              "Fuel                                                            [\\n, Diesel, \\n]   \n",
              "Consumption                    [[3.9 l/100 km (comb)], [4.1 l/100 km (city)],...   \n",
              "CO2 Emission                                           [\\n103 g CO2/km (comb)\\n]   \n",
              "Emission Class                                                      [\\nEuro 6\\n]   \n",
              "\\nComfort & Convenience\\n      [Air conditioning, Automatic climate control, ...   \n",
              "\\nEntertainment & Media\\n                                [Bluetooth, Radio, USB]   \n",
              "\\nExtras\\n                                                        [Alloy wheels]   \n",
              "\\nSafety & Security\\n          [ABS, Adaptive Cruise Control, Alarm system, C...   \n",
              "description                    [\\nAirbag per guidatore e passeggero anteriore...   \n",
              "Emission Label                                                               NaN   \n",
              "Gears                                                                    [\\n7\\n]   \n",
              "Country version                                                      [\\nItaly\\n]   \n",
              "Electricity consumption                                                      NaN   \n",
              "Last Service Date                                                            NaN   \n",
              "Other Fuel Types                                                             NaN   \n",
              "Availability                                                                 NaN   \n",
              "Last Timing Belt Service Date                                                NaN   \n",
              "Available from                                                               NaN   \n",
              "\n",
              "                                                                            6758  \\\n",
              "url                            https://www.autoscout24.com//offers/opel-astra...   \n",
              "make_model                                                            Opel Astra   \n",
              "short_description                  1.6 D (CDTI) Start/Stop Sports Tourer Dynamic   \n",
              "body_type                                                          Station wagon   \n",
              "price                                                                      12900   \n",
              "vat                                                             Price negotiable   \n",
              "km                                                                     26,000 km   \n",
              "registration                                                             03/2017   \n",
              "prev_owner                                                                  None   \n",
              "kW                                                                           NaN   \n",
              "hp                                                                         81 kW   \n",
              "Type                                     [, Used, , Diesel (Particulate Filter)]   \n",
              "Previous Owners                                                              NaN   \n",
              "Next Inspection                                                              NaN   \n",
              "Inspection new                                                               NaN   \n",
              "Warranty                                                                     NaN   \n",
              "Full Service                                                                  \\n   \n",
              "Non-smoking Vehicle                             [\\n, \\n, \\n92 g CO2/km (comb)\\n]   \n",
              "null                                                                          []   \n",
              "Make                                                                    \\nOpel\\n   \n",
              "Model                                                            [\\n, Astra, \\n]   \n",
              "Offer Number                                                                 NaN   \n",
              "First Registration                                                [\\n, 2017, \\n]   \n",
              "Body Color                                                        [\\n, Grey, \\n]   \n",
              "Paint Type                                                        [\\nMetallic\\n]   \n",
              "Body Color Original                                                          NaN   \n",
              "Upholstery                                                                   NaN   \n",
              "Body                                                     [\\n, Station wagon, \\n]   \n",
              "Nr. of Doors                                                             [\\n5\\n]   \n",
              "Nr. of Seats                                                             [\\n5\\n]   \n",
              "Model Code                                                                   NaN   \n",
              "Gearing Type                                                    [\\n, Manual, \\n]   \n",
              "Displacement                                                      [\\n1,598 cc\\n]   \n",
              "Cylinders                                                                [\\n4\\n]   \n",
              "Weight                                                            [\\n1,403 kg\\n]   \n",
              "Drive chain                                                          [\\nfront\\n]   \n",
              "Fuel                                       [\\n, Diesel (Particulate Filter), \\n]   \n",
              "Consumption                    [[3.5 l/100 km (comb)], [4 l/100 km (city)], [...   \n",
              "CO2 Emission                                            [\\n92 g CO2/km (comb)\\n]   \n",
              "Emission Class                                                      [\\nEuro 6\\n]   \n",
              "\\nComfort & Convenience\\n      [Air conditioning, Armrest, Automatic climate ...   \n",
              "\\nEntertainment & Media\\n      [Bluetooth, Hands-free equipment, MP3, On-boar...   \n",
              "\\nExtras\\n                     [Alloy wheels, Roof rack, Touch screen, Voice ...   \n",
              "\\nSafety & Security\\n          [ABS, Alarm system, Central door lock with rem...   \n",
              "description                    [\\nVendo Opel Astra Sports Tourer 1.6 Cdti per...   \n",
              "Emission Label                                                               NaN   \n",
              "Gears                                                                    [\\n6\\n]   \n",
              "Country version                                                              NaN   \n",
              "Electricity consumption                                                      NaN   \n",
              "Last Service Date                                                            NaN   \n",
              "Other Fuel Types                                                             NaN   \n",
              "Availability                                                                 NaN   \n",
              "Last Timing Belt Service Date                                                NaN   \n",
              "Available from                                                               NaN   \n",
              "\n",
              "                                                                            5205  \n",
              "url                            https://www.autoscout24.com//offers/audi-a3-sp...  \n",
              "make_model                                                               Audi A3  \n",
              "short_description                                   SPB 30 TDI S tronic Business  \n",
              "body_type                                                                 Sedans  \n",
              "price                                                                      25950  \n",
              "vat                                                               VAT deductible  \n",
              "km                                                                         10 km  \n",
              "registration                                                             02/2019  \n",
              "prev_owner                                                                  None  \n",
              "kW                                                                           NaN  \n",
              "hp                                                                         85 kW  \n",
              "Type                                                [, Pre-registered, , Diesel]  \n",
              "Previous Owners                                                              NaN  \n",
              "Next Inspection                                                              NaN  \n",
              "Inspection new                                                               NaN  \n",
              "Warranty                                                                      \\n  \n",
              "Full Service                                                                 NaN  \n",
              "Non-smoking Vehicle                                                          NaN  \n",
              "null                                                                          []  \n",
              "Make                                                                    \\nAudi\\n  \n",
              "Model                                                               [\\n, A3, \\n]  \n",
              "Offer Number                                                      [\\nU7BZRNXY\\n]  \n",
              "First Registration                                                [\\n, 2019, \\n]  \n",
              "Body Color                                                       [\\n, White, \\n]  \n",
              "Paint Type                                                                   NaN  \n",
              "Body Color Original                                                          NaN  \n",
              "Upholstery                                                    [\\nCloth, Other\\n]  \n",
              "Body                                                            [\\n, Sedans, \\n]  \n",
              "Nr. of Doors                                                             [\\n5\\n]  \n",
              "Nr. of Seats                                                             [\\n5\\n]  \n",
              "Model Code                                                                   NaN  \n",
              "Gearing Type                                                 [\\n, Automatic, \\n]  \n",
              "Displacement                                                      [\\n1,598 cc\\n]  \n",
              "Cylinders                                                                [\\n4\\n]  \n",
              "Weight                                                                       NaN  \n",
              "Drive chain                                                          [\\nfront\\n]  \n",
              "Fuel                                                            [\\n, Diesel, \\n]  \n",
              "Consumption                    [[3.9 l/100 km (comb)], [4.1 l/100 km (city)],...  \n",
              "CO2 Emission                                           [\\n103 g CO2/km (comb)\\n]  \n",
              "Emission Class                                                               NaN  \n",
              "\\nComfort & Convenience\\n                                    [Navigation system]  \n",
              "\\nEntertainment & Media\\n                      [Bluetooth, Hands-free equipment]  \n",
              "\\nExtras\\n                                                        [Alloy wheels]  \n",
              "\\nSafety & Security\\n          [ABS, Central door lock, Driver-side airbag, I...  \n",
              "description                    [\\n, Vettura in visione presso la Concessionar...  \n",
              "Emission Label                                              [\\n1 (No sticker)\\n]  \n",
              "Gears                                                                    [\\n7\\n]  \n",
              "Country version                                                              NaN  \n",
              "Electricity consumption                                                      NaN  \n",
              "Last Service Date                                                            NaN  \n",
              "Other Fuel Types                                                             NaN  \n",
              "Availability                                                                 NaN  \n",
              "Last Timing Belt Service Date                                                NaN  \n",
              "Available from                                                               NaN  "
            ],
            "text/html": [
              "\n",
              "  <div id=\"df-4b25f055-43d7-451a-9852-196626b2f44a\">\n",
              "    <div class=\"colab-df-container\">\n",
              "      <div>\n",
              "<style scoped>\n",
              "    .dataframe tbody tr th:only-of-type {\n",
              "        vertical-align: middle;\n",
              "    }\n",
              "\n",
              "    .dataframe tbody tr th {\n",
              "        vertical-align: top;\n",
              "    }\n",
              "\n",
              "    .dataframe thead th {\n",
              "        text-align: right;\n",
              "    }\n",
              "</style>\n",
              "<table border=\"1\" class=\"dataframe\">\n",
              "  <thead>\n",
              "    <tr style=\"text-align: right;\">\n",
              "      <th></th>\n",
              "      <th>1466</th>\n",
              "      <th>5660</th>\n",
              "      <th>3987</th>\n",
              "      <th>6758</th>\n",
              "      <th>5205</th>\n",
              "    </tr>\n",
              "  </thead>\n",
              "  <tbody>\n",
              "    <tr>\n",
              "      <th>url</th>\n",
              "      <td>https://www.autoscout24.com//offers/audi-a1-sp...</td>\n",
              "      <td>https://www.autoscout24.com//offers/audi-a3-sp...</td>\n",
              "      <td>https://www.autoscout24.com//offers/audi-a3-sp...</td>\n",
              "      <td>https://www.autoscout24.com//offers/opel-astra...</td>\n",
              "      <td>https://www.autoscout24.com//offers/audi-a3-sp...</td>\n",
              "    </tr>\n",
              "    <tr>\n",
              "      <th>make_model</th>\n",
              "      <td>Audi A1</td>\n",
              "      <td>Audi A3</td>\n",
              "      <td>Audi A3</td>\n",
              "      <td>Opel Astra</td>\n",
              "      <td>Audi A3</td>\n",
              "    </tr>\n",
              "    <tr>\n",
              "      <th>short_description</th>\n",
              "      <td>Sportback 1.0 TFSI Advance Automaat S-Line Ext...</td>\n",
              "      <td>Sportback 30 TFSI SPORT CONNECT. PDC SITZHZG</td>\n",
              "      <td>SPB 1.6 TDI 116 CV S tronic</td>\n",
              "      <td>1.6 D (CDTI) Start/Stop Sports Tourer Dynamic</td>\n",
              "      <td>SPB 30 TDI S tronic Business</td>\n",
              "    </tr>\n",
              "    <tr>\n",
              "      <th>body_type</th>\n",
              "      <td>Compact</td>\n",
              "      <td>Sedans</td>\n",
              "      <td>Sedans</td>\n",
              "      <td>Station wagon</td>\n",
              "      <td>Sedans</td>\n",
              "    </tr>\n",
              "    <tr>\n",
              "      <th>price</th>\n",
              "      <td>22950</td>\n",
              "      <td>25470</td>\n",
              "      <td>19800</td>\n",
              "      <td>12900</td>\n",
              "      <td>25950</td>\n",
              "    </tr>\n",
              "    <tr>\n",
              "      <th>vat</th>\n",
              "      <td>VAT deductible</td>\n",
              "      <td>VAT deductible</td>\n",
              "      <td>None</td>\n",
              "      <td>Price negotiable</td>\n",
              "      <td>VAT deductible</td>\n",
              "    </tr>\n",
              "    <tr>\n",
              "      <th>km</th>\n",
              "      <td>20,605 km</td>\n",
              "      <td>10 km</td>\n",
              "      <td>9,650 km</td>\n",
              "      <td>26,000 km</td>\n",
              "      <td>10 km</td>\n",
              "    </tr>\n",
              "    <tr>\n",
              "      <th>registration</th>\n",
              "      <td>07/2018</td>\n",
              "      <td>-/-</td>\n",
              "      <td>11/2017</td>\n",
              "      <td>03/2017</td>\n",
              "      <td>02/2019</td>\n",
              "    </tr>\n",
              "    <tr>\n",
              "      <th>prev_owner</th>\n",
              "      <td>None</td>\n",
              "      <td>None</td>\n",
              "      <td>1 previous owner</td>\n",
              "      <td>None</td>\n",
              "      <td>None</td>\n",
              "    </tr>\n",
              "    <tr>\n",
              "      <th>kW</th>\n",
              "      <td>NaN</td>\n",
              "      <td>NaN</td>\n",
              "      <td>NaN</td>\n",
              "      <td>NaN</td>\n",
              "      <td>NaN</td>\n",
              "    </tr>\n",
              "    <tr>\n",
              "      <th>hp</th>\n",
              "      <td>71 kW</td>\n",
              "      <td>85 kW</td>\n",
              "      <td>85 kW</td>\n",
              "      <td>81 kW</td>\n",
              "      <td>85 kW</td>\n",
              "    </tr>\n",
              "    <tr>\n",
              "      <th>Type</th>\n",
              "      <td>[, Used, , Gasoline]</td>\n",
              "      <td>[, New, , Super 95]</td>\n",
              "      <td>[, Used, , Diesel]</td>\n",
              "      <td>[, Used, , Diesel (Particulate Filter)]</td>\n",
              "      <td>[, Pre-registered, , Diesel]</td>\n",
              "    </tr>\n",
              "    <tr>\n",
              "      <th>Previous Owners</th>\n",
              "      <td>NaN</td>\n",
              "      <td>NaN</td>\n",
              "      <td>\\n1\\n</td>\n",
              "      <td>NaN</td>\n",
              "      <td>NaN</td>\n",
              "    </tr>\n",
              "    <tr>\n",
              "      <th>Next Inspection</th>\n",
              "      <td>\\n07/2022\\n</td>\n",
              "      <td>NaN</td>\n",
              "      <td>NaN</td>\n",
              "      <td>NaN</td>\n",
              "      <td>NaN</td>\n",
              "    </tr>\n",
              "    <tr>\n",
              "      <th>Inspection new</th>\n",
              "      <td>NaN</td>\n",
              "      <td>NaN</td>\n",
              "      <td>NaN</td>\n",
              "      <td>NaN</td>\n",
              "      <td>NaN</td>\n",
              "    </tr>\n",
              "    <tr>\n",
              "      <th>Warranty</th>\n",
              "      <td>[\\n, \\n, \\n103 g CO2/km (comb)\\n]</td>\n",
              "      <td>\\n</td>\n",
              "      <td>NaN</td>\n",
              "      <td>NaN</td>\n",
              "      <td>\\n</td>\n",
              "    </tr>\n",
              "    <tr>\n",
              "      <th>Full Service</th>\n",
              "      <td>[\\n, \\n, \\nEuro 6\\n]</td>\n",
              "      <td>NaN</td>\n",
              "      <td>NaN</td>\n",
              "      <td>\\n</td>\n",
              "      <td>NaN</td>\n",
              "    </tr>\n",
              "    <tr>\n",
              "      <th>Non-smoking Vehicle</th>\n",
              "      <td>NaN</td>\n",
              "      <td>[\\n, \\n, \\n113 g CO2/km (comb)\\n]</td>\n",
              "      <td>NaN</td>\n",
              "      <td>[\\n, \\n, \\n92 g CO2/km (comb)\\n]</td>\n",
              "      <td>NaN</td>\n",
              "    </tr>\n",
              "    <tr>\n",
              "      <th>null</th>\n",
              "      <td>[]</td>\n",
              "      <td>[]</td>\n",
              "      <td>[]</td>\n",
              "      <td>[]</td>\n",
              "      <td>[]</td>\n",
              "    </tr>\n",
              "    <tr>\n",
              "      <th>Make</th>\n",
              "      <td>\\nAudi\\n</td>\n",
              "      <td>\\nAudi\\n</td>\n",
              "      <td>\\nAudi\\n</td>\n",
              "      <td>\\nOpel\\n</td>\n",
              "      <td>\\nAudi\\n</td>\n",
              "    </tr>\n",
              "    <tr>\n",
              "      <th>Model</th>\n",
              "      <td>[\\n, A1, \\n]</td>\n",
              "      <td>[\\n, A3, \\n]</td>\n",
              "      <td>[\\n, A3, \\n]</td>\n",
              "      <td>[\\n, Astra, \\n]</td>\n",
              "      <td>[\\n, A3, \\n]</td>\n",
              "    </tr>\n",
              "    <tr>\n",
              "      <th>Offer Number</th>\n",
              "      <td>[\\nZH723J\\n]</td>\n",
              "      <td>[\\nGDR767\\n]</td>\n",
              "      <td>NaN</td>\n",
              "      <td>NaN</td>\n",
              "      <td>[\\nU7BZRNXY\\n]</td>\n",
              "    </tr>\n",
              "    <tr>\n",
              "      <th>First Registration</th>\n",
              "      <td>[\\n, 2018, \\n]</td>\n",
              "      <td>NaN</td>\n",
              "      <td>[\\n, 2017, \\n]</td>\n",
              "      <td>[\\n, 2017, \\n]</td>\n",
              "      <td>[\\n, 2019, \\n]</td>\n",
              "    </tr>\n",
              "    <tr>\n",
              "      <th>Body Color</th>\n",
              "      <td>[\\n, Black, \\n]</td>\n",
              "      <td>[\\n, Black, \\n]</td>\n",
              "      <td>[\\n, White, \\n]</td>\n",
              "      <td>[\\n, Grey, \\n]</td>\n",
              "      <td>[\\n, White, \\n]</td>\n",
              "    </tr>\n",
              "    <tr>\n",
              "      <th>Paint Type</th>\n",
              "      <td>[\\nMetallic\\n]</td>\n",
              "      <td>[\\nMetallic\\n]</td>\n",
              "      <td>NaN</td>\n",
              "      <td>[\\nMetallic\\n]</td>\n",
              "      <td>NaN</td>\n",
              "    </tr>\n",
              "    <tr>\n",
              "      <th>Body Color Original</th>\n",
              "      <td>[\\nDonker zwart\\n]</td>\n",
              "      <td>[\\nMythosschwarz\\n]</td>\n",
              "      <td>[\\nIBIS WHITE\\n]</td>\n",
              "      <td>NaN</td>\n",
              "      <td>NaN</td>\n",
              "    </tr>\n",
              "    <tr>\n",
              "      <th>Upholstery</th>\n",
              "      <td>[\\nCloth, Black\\n]</td>\n",
              "      <td>[\\nCloth, Black\\n]</td>\n",
              "      <td>[\\nCloth, Black\\n]</td>\n",
              "      <td>NaN</td>\n",
              "      <td>[\\nCloth, Other\\n]</td>\n",
              "    </tr>\n",
              "    <tr>\n",
              "      <th>Body</th>\n",
              "      <td>[\\n, Compact, \\n]</td>\n",
              "      <td>[\\n, Sedans, \\n]</td>\n",
              "      <td>[\\n, Sedans, \\n]</td>\n",
              "      <td>[\\n, Station wagon, \\n]</td>\n",
              "      <td>[\\n, Sedans, \\n]</td>\n",
              "    </tr>\n",
              "    <tr>\n",
              "      <th>Nr. of Doors</th>\n",
              "      <td>[\\n5\\n]</td>\n",
              "      <td>[\\n4\\n]</td>\n",
              "      <td>[\\n5\\n]</td>\n",
              "      <td>[\\n5\\n]</td>\n",
              "      <td>[\\n5\\n]</td>\n",
              "    </tr>\n",
              "    <tr>\n",
              "      <th>Nr. of Seats</th>\n",
              "      <td>[\\n4\\n]</td>\n",
              "      <td>[\\n5\\n]</td>\n",
              "      <td>[\\n5\\n]</td>\n",
              "      <td>[\\n5\\n]</td>\n",
              "      <td>[\\n5\\n]</td>\n",
              "    </tr>\n",
              "    <tr>\n",
              "      <th>Model Code</th>\n",
              "      <td>NaN</td>\n",
              "      <td>[\\n0588/BHX\\n]</td>\n",
              "      <td>NaN</td>\n",
              "      <td>NaN</td>\n",
              "      <td>NaN</td>\n",
              "    </tr>\n",
              "    <tr>\n",
              "      <th>Gearing Type</th>\n",
              "      <td>[\\n, Automatic, \\n]</td>\n",
              "      <td>[\\n, Manual, \\n]</td>\n",
              "      <td>[\\n, Automatic, \\n]</td>\n",
              "      <td>[\\n, Manual, \\n]</td>\n",
              "      <td>[\\n, Automatic, \\n]</td>\n",
              "    </tr>\n",
              "    <tr>\n",
              "      <th>Displacement</th>\n",
              "      <td>[\\n999 cc\\n]</td>\n",
              "      <td>[\\n999 cc\\n]</td>\n",
              "      <td>[\\n1,598 cc\\n]</td>\n",
              "      <td>[\\n1,598 cc\\n]</td>\n",
              "      <td>[\\n1,598 cc\\n]</td>\n",
              "    </tr>\n",
              "    <tr>\n",
              "      <th>Cylinders</th>\n",
              "      <td>[\\n3\\n]</td>\n",
              "      <td>[\\n3\\n]</td>\n",
              "      <td>[\\n4\\n]</td>\n",
              "      <td>[\\n4\\n]</td>\n",
              "      <td>[\\n4\\n]</td>\n",
              "    </tr>\n",
              "    <tr>\n",
              "      <th>Weight</th>\n",
              "      <td>[\\n1,065 kg\\n]</td>\n",
              "      <td>[\\n1,255 kg\\n]</td>\n",
              "      <td>[\\n1,360 kg\\n]</td>\n",
              "      <td>[\\n1,403 kg\\n]</td>\n",
              "      <td>NaN</td>\n",
              "    </tr>\n",
              "    <tr>\n",
              "      <th>Drive chain</th>\n",
              "      <td>[\\nfront\\n]</td>\n",
              "      <td>NaN</td>\n",
              "      <td>NaN</td>\n",
              "      <td>[\\nfront\\n]</td>\n",
              "      <td>[\\nfront\\n]</td>\n",
              "    </tr>\n",
              "    <tr>\n",
              "      <th>Fuel</th>\n",
              "      <td>[\\n, Gasoline, \\n]</td>\n",
              "      <td>[\\n, Super 95, \\n]</td>\n",
              "      <td>[\\n, Diesel, \\n]</td>\n",
              "      <td>[\\n, Diesel (Particulate Filter), \\n]</td>\n",
              "      <td>[\\n, Diesel, \\n]</td>\n",
              "    </tr>\n",
              "    <tr>\n",
              "      <th>Consumption</th>\n",
              "      <td>[[4.4 l/100 km (comb)], [5.4 l/100 km (city)],...</td>\n",
              "      <td>[[4.8 l/100 km (comb)], [5.8 l/100 km (city)],...</td>\n",
              "      <td>[[3.9 l/100 km (comb)], [4.1 l/100 km (city)],...</td>\n",
              "      <td>[[3.5 l/100 km (comb)], [4 l/100 km (city)], [...</td>\n",
              "      <td>[[3.9 l/100 km (comb)], [4.1 l/100 km (city)],...</td>\n",
              "    </tr>\n",
              "    <tr>\n",
              "      <th>CO2 Emission</th>\n",
              "      <td>[\\n103 g CO2/km (comb)\\n]</td>\n",
              "      <td>[\\n113 g CO2/km (comb)\\n]</td>\n",
              "      <td>[\\n103 g CO2/km (comb)\\n]</td>\n",
              "      <td>[\\n92 g CO2/km (comb)\\n]</td>\n",
              "      <td>[\\n103 g CO2/km (comb)\\n]</td>\n",
              "    </tr>\n",
              "    <tr>\n",
              "      <th>Emission Class</th>\n",
              "      <td>[\\nEuro 6\\n]</td>\n",
              "      <td>[\\nEuro 6\\n]</td>\n",
              "      <td>[\\nEuro 6\\n]</td>\n",
              "      <td>[\\nEuro 6\\n]</td>\n",
              "      <td>NaN</td>\n",
              "    </tr>\n",
              "    <tr>\n",
              "      <th>\\nComfort &amp; Convenience\\n</th>\n",
              "      <td>[Air conditioning, Armrest, Cruise control, El...</td>\n",
              "      <td>[Air conditioning, Armrest, Automatic climate ...</td>\n",
              "      <td>[Air conditioning, Automatic climate control, ...</td>\n",
              "      <td>[Air conditioning, Armrest, Automatic climate ...</td>\n",
              "      <td>[Navigation system]</td>\n",
              "    </tr>\n",
              "    <tr>\n",
              "      <th>\\nEntertainment &amp; Media\\n</th>\n",
              "      <td>[On-board computer, Radio]</td>\n",
              "      <td>[Bluetooth, CD player, Hands-free equipment, O...</td>\n",
              "      <td>[Bluetooth, Radio, USB]</td>\n",
              "      <td>[Bluetooth, Hands-free equipment, MP3, On-boar...</td>\n",
              "      <td>[Bluetooth, Hands-free equipment]</td>\n",
              "    </tr>\n",
              "    <tr>\n",
              "      <th>\\nExtras\\n</th>\n",
              "      <td>[Alloy wheels]</td>\n",
              "      <td>[Alloy wheels, Roof rack, Sport seats, Sport s...</td>\n",
              "      <td>[Alloy wheels]</td>\n",
              "      <td>[Alloy wheels, Roof rack, Touch screen, Voice ...</td>\n",
              "      <td>[Alloy wheels]</td>\n",
              "    </tr>\n",
              "    <tr>\n",
              "      <th>\\nSafety &amp; Security\\n</th>\n",
              "      <td>[ABS, Alarm system, Central door lock, Driver-...</td>\n",
              "      <td>[ABS, Central door lock, Daytime running light...</td>\n",
              "      <td>[ABS, Adaptive Cruise Control, Alarm system, C...</td>\n",
              "      <td>[ABS, Alarm system, Central door lock with rem...</td>\n",
              "      <td>[ABS, Central door lock, Driver-side airbag, I...</td>\n",
              "    </tr>\n",
              "    <tr>\n",
              "      <th>description</th>\n",
              "      <td>[\\nDe door ons genoemde communicatieadviesprij...</td>\n",
              "      <td>[\\n, Preis inkl. Überführungskosten, Getriebe ...</td>\n",
              "      <td>[\\nAirbag per guidatore e passeggero anteriore...</td>\n",
              "      <td>[\\nVendo Opel Astra Sports Tourer 1.6 Cdti per...</td>\n",
              "      <td>[\\n, Vettura in visione presso la Concessionar...</td>\n",
              "    </tr>\n",
              "    <tr>\n",
              "      <th>Emission Label</th>\n",
              "      <td>NaN</td>\n",
              "      <td>[\\n4 (Green)\\n]</td>\n",
              "      <td>NaN</td>\n",
              "      <td>NaN</td>\n",
              "      <td>[\\n1 (No sticker)\\n]</td>\n",
              "    </tr>\n",
              "    <tr>\n",
              "      <th>Gears</th>\n",
              "      <td>[\\n7\\n]</td>\n",
              "      <td>NaN</td>\n",
              "      <td>[\\n7\\n]</td>\n",
              "      <td>[\\n6\\n]</td>\n",
              "      <td>[\\n7\\n]</td>\n",
              "    </tr>\n",
              "    <tr>\n",
              "      <th>Country version</th>\n",
              "      <td>[\\nNetherlands\\n]</td>\n",
              "      <td>[\\nGermany\\n]</td>\n",
              "      <td>[\\nItaly\\n]</td>\n",
              "      <td>NaN</td>\n",
              "      <td>NaN</td>\n",
              "    </tr>\n",
              "    <tr>\n",
              "      <th>Electricity consumption</th>\n",
              "      <td>NaN</td>\n",
              "      <td>NaN</td>\n",
              "      <td>NaN</td>\n",
              "      <td>NaN</td>\n",
              "      <td>NaN</td>\n",
              "    </tr>\n",
              "    <tr>\n",
              "      <th>Last Service Date</th>\n",
              "      <td>NaN</td>\n",
              "      <td>NaN</td>\n",
              "      <td>NaN</td>\n",
              "      <td>NaN</td>\n",
              "      <td>NaN</td>\n",
              "    </tr>\n",
              "    <tr>\n",
              "      <th>Other Fuel Types</th>\n",
              "      <td>NaN</td>\n",
              "      <td>NaN</td>\n",
              "      <td>NaN</td>\n",
              "      <td>NaN</td>\n",
              "      <td>NaN</td>\n",
              "    </tr>\n",
              "    <tr>\n",
              "      <th>Availability</th>\n",
              "      <td>NaN</td>\n",
              "      <td>NaN</td>\n",
              "      <td>NaN</td>\n",
              "      <td>NaN</td>\n",
              "      <td>NaN</td>\n",
              "    </tr>\n",
              "    <tr>\n",
              "      <th>Last Timing Belt Service Date</th>\n",
              "      <td>NaN</td>\n",
              "      <td>NaN</td>\n",
              "      <td>NaN</td>\n",
              "      <td>NaN</td>\n",
              "      <td>NaN</td>\n",
              "    </tr>\n",
              "    <tr>\n",
              "      <th>Available from</th>\n",
              "      <td>NaN</td>\n",
              "      <td>NaN</td>\n",
              "      <td>NaN</td>\n",
              "      <td>NaN</td>\n",
              "      <td>NaN</td>\n",
              "    </tr>\n",
              "  </tbody>\n",
              "</table>\n",
              "</div>\n",
              "      <button class=\"colab-df-convert\" onclick=\"convertToInteractive('df-4b25f055-43d7-451a-9852-196626b2f44a')\"\n",
              "              title=\"Convert this dataframe to an interactive table.\"\n",
              "              style=\"display:none;\">\n",
              "        \n",
              "  <svg xmlns=\"http://www.w3.org/2000/svg\" height=\"24px\"viewBox=\"0 0 24 24\"\n",
              "       width=\"24px\">\n",
              "    <path d=\"M0 0h24v24H0V0z\" fill=\"none\"/>\n",
              "    <path d=\"M18.56 5.44l.94 2.06.94-2.06 2.06-.94-2.06-.94-.94-2.06-.94 2.06-2.06.94zm-11 1L8.5 8.5l.94-2.06 2.06-.94-2.06-.94L8.5 2.5l-.94 2.06-2.06.94zm10 10l.94 2.06.94-2.06 2.06-.94-2.06-.94-.94-2.06-.94 2.06-2.06.94z\"/><path d=\"M17.41 7.96l-1.37-1.37c-.4-.4-.92-.59-1.43-.59-.52 0-1.04.2-1.43.59L10.3 9.45l-7.72 7.72c-.78.78-.78 2.05 0 2.83L4 21.41c.39.39.9.59 1.41.59.51 0 1.02-.2 1.41-.59l7.78-7.78 2.81-2.81c.8-.78.8-2.07 0-2.86zM5.41 20L4 18.59l7.72-7.72 1.47 1.35L5.41 20z\"/>\n",
              "  </svg>\n",
              "      </button>\n",
              "      \n",
              "  <style>\n",
              "    .colab-df-container {\n",
              "      display:flex;\n",
              "      flex-wrap:wrap;\n",
              "      gap: 12px;\n",
              "    }\n",
              "\n",
              "    .colab-df-convert {\n",
              "      background-color: #E8F0FE;\n",
              "      border: none;\n",
              "      border-radius: 50%;\n",
              "      cursor: pointer;\n",
              "      display: none;\n",
              "      fill: #1967D2;\n",
              "      height: 32px;\n",
              "      padding: 0 0 0 0;\n",
              "      width: 32px;\n",
              "    }\n",
              "\n",
              "    .colab-df-convert:hover {\n",
              "      background-color: #E2EBFA;\n",
              "      box-shadow: 0px 1px 2px rgba(60, 64, 67, 0.3), 0px 1px 3px 1px rgba(60, 64, 67, 0.15);\n",
              "      fill: #174EA6;\n",
              "    }\n",
              "\n",
              "    [theme=dark] .colab-df-convert {\n",
              "      background-color: #3B4455;\n",
              "      fill: #D2E3FC;\n",
              "    }\n",
              "\n",
              "    [theme=dark] .colab-df-convert:hover {\n",
              "      background-color: #434B5C;\n",
              "      box-shadow: 0px 1px 3px 1px rgba(0, 0, 0, 0.15);\n",
              "      filter: drop-shadow(0px 1px 2px rgba(0, 0, 0, 0.3));\n",
              "      fill: #FFFFFF;\n",
              "    }\n",
              "  </style>\n",
              "\n",
              "      <script>\n",
              "        const buttonEl =\n",
              "          document.querySelector('#df-4b25f055-43d7-451a-9852-196626b2f44a button.colab-df-convert');\n",
              "        buttonEl.style.display =\n",
              "          google.colab.kernel.accessAllowed ? 'block' : 'none';\n",
              "\n",
              "        async function convertToInteractive(key) {\n",
              "          const element = document.querySelector('#df-4b25f055-43d7-451a-9852-196626b2f44a');\n",
              "          const dataTable =\n",
              "            await google.colab.kernel.invokeFunction('convertToInteractive',\n",
              "                                                     [key], {});\n",
              "          if (!dataTable) return;\n",
              "\n",
              "          const docLinkHtml = 'Like what you see? Visit the ' +\n",
              "            '<a target=\"_blank\" href=https://colab.research.google.com/notebooks/data_table.ipynb>data table notebook</a>'\n",
              "            + ' to learn more about interactive tables.';\n",
              "          element.innerHTML = '';\n",
              "          dataTable['output_type'] = 'display_data';\n",
              "          await google.colab.output.renderOutput(dataTable, element);\n",
              "          const docLink = document.createElement('div');\n",
              "          docLink.innerHTML = docLinkHtml;\n",
              "          element.appendChild(docLink);\n",
              "        }\n",
              "      </script>\n",
              "    </div>\n",
              "  </div>\n",
              "  "
            ]
          },
          "metadata": {},
          "execution_count": 25
        }
      ]
    },
    {
      "cell_type": "code",
      "source": [
        "df.info()"
      ],
      "metadata": {
        "colab": {
          "base_uri": "https://localhost:8080/"
        },
        "id": "BsOfRzs_-fvE",
        "outputId": "462d75b1-da21-4339-8f26-f2e5a3365505"
      },
      "execution_count": 26,
      "outputs": [
        {
          "output_type": "stream",
          "name": "stdout",
          "text": [
            "<class 'pandas.core.frame.DataFrame'>\n",
            "RangeIndex: 15919 entries, 0 to 15918\n",
            "Data columns (total 54 columns):\n",
            " #   Column                         Non-Null Count  Dtype  \n",
            "---  ------                         --------------  -----  \n",
            " 0   url                            15919 non-null  object \n",
            " 1   make_model                     15919 non-null  object \n",
            " 2   short_description              15873 non-null  object \n",
            " 3   body_type                      15859 non-null  object \n",
            " 4   price                          15919 non-null  int64  \n",
            " 5   vat                            11406 non-null  object \n",
            " 6   km                             15919 non-null  object \n",
            " 7   registration                   15919 non-null  object \n",
            " 8   prev_owner                     9091 non-null   object \n",
            " 9   kW                             0 non-null      float64\n",
            " 10  hp                             15919 non-null  object \n",
            " 11  Type                           15917 non-null  object \n",
            " 12  Previous Owners                9279 non-null   object \n",
            " 13  Next Inspection                3535 non-null   object \n",
            " 14  Inspection new                 3932 non-null   object \n",
            " 15  Warranty                       10499 non-null  object \n",
            " 16  Full Service                   8215 non-null   object \n",
            " 17  Non-smoking Vehicle            7177 non-null   object \n",
            " 18  null                           15919 non-null  object \n",
            " 19  Make                           15919 non-null  object \n",
            " 20  Model                          15919 non-null  object \n",
            " 21  Offer Number                   12744 non-null  object \n",
            " 22  First Registration             14322 non-null  object \n",
            " 23  Body Color                     15322 non-null  object \n",
            " 24  Paint Type                     10147 non-null  object \n",
            " 25  Body Color Original            12160 non-null  object \n",
            " 26  Upholstery                     12199 non-null  object \n",
            " 27  Body                           15859 non-null  object \n",
            " 28  Nr. of Doors                   15707 non-null  object \n",
            " 29  Nr. of Seats                   14942 non-null  object \n",
            " 30  Model Code                     4978 non-null   object \n",
            " 31  Gearing Type                   15919 non-null  object \n",
            " 32  Displacement                   15423 non-null  object \n",
            " 33  Cylinders                      10239 non-null  object \n",
            " 34  Weight                         8945 non-null   object \n",
            " 35  Drive chain                    9061 non-null   object \n",
            " 36  Fuel                           15919 non-null  object \n",
            " 37  Consumption                    14013 non-null  object \n",
            " 38  CO2 Emission                   14111 non-null  object \n",
            " 39  Emission Class                 12898 non-null  object \n",
            " 40  \n",
            "Comfort & Convenience\n",
            "        14999 non-null  object \n",
            " 41  \n",
            "Entertainment & Media\n",
            "        14545 non-null  object \n",
            " 42  \n",
            "Extras\n",
            "                       12957 non-null  object \n",
            " 43  \n",
            "Safety & Security\n",
            "            14937 non-null  object \n",
            " 44  description                    15919 non-null  object \n",
            " 45  Emission Label                 3985 non-null   object \n",
            " 46  Gears                          11207 non-null  object \n",
            " 47  Country version                7586 non-null   object \n",
            " 48  Electricity consumption        137 non-null    object \n",
            " 49  Last Service Date              566 non-null    object \n",
            " 50  Other Fuel Types               880 non-null    object \n",
            " 51  Availability                   635 non-null    object \n",
            " 52  Last Timing Belt Service Date  16 non-null     object \n",
            " 53  Available from                 272 non-null    object \n",
            "dtypes: float64(1), int64(1), object(52)\n",
            "memory usage: 6.6+ MB\n"
          ]
        }
      ]
    },
    {
      "cell_type": "code",
      "source": [
        "df.columns"
      ],
      "metadata": {
        "colab": {
          "base_uri": "https://localhost:8080/"
        },
        "id": "z8biPhAt-fyb",
        "outputId": "5400afff-1f05-4cc2-a3cf-126704cc2f9b"
      },
      "execution_count": 27,
      "outputs": [
        {
          "output_type": "execute_result",
          "data": {
            "text/plain": [
              "Index(['url', 'make_model', 'short_description', 'body_type', 'price', 'vat',\n",
              "       'km', 'registration', 'prev_owner', 'kW', 'hp', 'Type',\n",
              "       'Previous Owners', 'Next Inspection', 'Inspection new', 'Warranty',\n",
              "       'Full Service', 'Non-smoking Vehicle', 'null', 'Make', 'Model',\n",
              "       'Offer Number', 'First Registration', 'Body Color', 'Paint Type',\n",
              "       'Body Color Original', 'Upholstery', 'Body', 'Nr. of Doors',\n",
              "       'Nr. of Seats', 'Model Code', 'Gearing Type', 'Displacement',\n",
              "       'Cylinders', 'Weight', 'Drive chain', 'Fuel', 'Consumption',\n",
              "       'CO2 Emission', 'Emission Class', '\\nComfort & Convenience\\n',\n",
              "       '\\nEntertainment & Media\\n', '\\nExtras\\n', '\\nSafety & Security\\n',\n",
              "       'description', 'Emission Label', 'Gears', 'Country version',\n",
              "       'Electricity consumption', 'Last Service Date', 'Other Fuel Types',\n",
              "       'Availability', 'Last Timing Belt Service Date', 'Available from'],\n",
              "      dtype='object')"
            ]
          },
          "metadata": {},
          "execution_count": 27
        }
      ]
    },
    {
      "cell_type": "code",
      "source": [
        "df.columns=df.columns.str.lower().str.replace(' ','_')"
      ],
      "metadata": {
        "id": "UD7k1r5uEWQ8"
      },
      "execution_count": 30,
      "outputs": []
    },
    {
      "cell_type": "code",
      "source": [
        "df.columns"
      ],
      "metadata": {
        "colab": {
          "base_uri": "https://localhost:8080/"
        },
        "id": "E9gGGm2P-f4S",
        "outputId": "523c076e-6097-4cbb-b0fa-34c2fd19bf84"
      },
      "execution_count": 31,
      "outputs": [
        {
          "output_type": "execute_result",
          "data": {
            "text/plain": [
              "Index(['url', 'make_model', 'short_description', 'body_type', 'price', 'vat',\n",
              "       'km', 'registration', 'prev_owner', 'kw', 'hp', 'type',\n",
              "       'previous_owners', 'next_inspection', 'inspection_new', 'warranty',\n",
              "       'full_service', 'non-smoking_vehicle', 'null', 'make', 'model',\n",
              "       'offer_number', 'first_registration', 'body_color', 'paint_type',\n",
              "       'body_color_original', 'upholstery', 'body', 'nr._of_doors',\n",
              "       'nr._of_seats', 'model_code', 'gearing_type', 'displacement',\n",
              "       'cylinders', 'weight', 'drive_chain', 'fuel', 'consumption',\n",
              "       'co2_emission', 'emission_class', '\\ncomfort_&_convenience\\n',\n",
              "       '\\nentertainment_&_media\\n', '\\nextras\\n', '\\nsafety_&_security\\n',\n",
              "       'description', 'emission_label', 'gears', 'country_version',\n",
              "       'electricity_consumption', 'last_service_date', 'other_fuel_types',\n",
              "       'availability', 'last_timing_belt_service_date', 'available_from'],\n",
              "      dtype='object')"
            ]
          },
          "metadata": {},
          "execution_count": 31
        }
      ]
    },
    {
      "cell_type": "markdown",
      "source": [
        ""
      ],
      "metadata": {
        "id": "AkudueZ3Fic8"
      }
    },
    {
      "cell_type": "code",
      "source": [
        "df.rename(columns ={ \n",
        "                     '\\ncomfort_&_convenience\\n': 'comfort_&_convenience',\n",
        "                     '\\nentertainment_&_media\\n':'entertainment_&_media',\n",
        "                     '\\nextras\\n':'extras',\n",
        "                     '\\nsafety_&_security\\n':'safety_&_security', \n",
        "                     'Nr. of Doors':'nr_of_doors',\n",
        "                     'Nr. of Seats':'ne_of_seats',}, inplace = True)"
      ],
      "metadata": {
        "id": "i3z4Ke91-f7K"
      },
      "execution_count": 39,
      "outputs": []
    },
    {
      "cell_type": "code",
      "source": [
        "df.columns"
      ],
      "metadata": {
        "colab": {
          "base_uri": "https://localhost:8080/"
        },
        "id": "5rL2ozJu-f-Q",
        "outputId": "c33d6585-00ed-4543-8dd8-7a3a3b632397"
      },
      "execution_count": 40,
      "outputs": [
        {
          "output_type": "execute_result",
          "data": {
            "text/plain": [
              "Index(['url', 'make_model', 'short_description', 'body_type', 'price', 'vat',\n",
              "       'km', 'registration', 'prev_owner', 'kw', 'hp', 'type',\n",
              "       'previous_owners', 'next_inspection', 'inspection_new', 'warranty',\n",
              "       'full_service', 'non-smoking_vehicle', 'null', 'make', 'model',\n",
              "       'offer_number', 'first_registration', 'body_color', 'paint_type',\n",
              "       'body_color_original', 'upholstery', 'body', 'nr._of_doors',\n",
              "       'nr._of_seats', 'model_code', 'gearing_type', 'displacement',\n",
              "       'cylinders', 'weight', 'drive_chain', 'fuel', 'consumption',\n",
              "       'co2_emission', 'emission_class', 'comfort&convenience',\n",
              "       'entertainment&media', 'extras', 'safety_&_security', 'description',\n",
              "       'emission_label', 'gears', 'country_version', 'electricity_consumption',\n",
              "       'last_service_date', 'other_fuel_types', 'availability',\n",
              "       'last_timing_belt_service_date', 'available_from'],\n",
              "      dtype='object')"
            ]
          },
          "metadata": {},
          "execution_count": 40
        }
      ]
    },
    {
      "cell_type": "code",
      "source": [
        "df.isnull().sum()"
      ],
      "metadata": {
        "colab": {
          "base_uri": "https://localhost:8080/"
        },
        "id": "gu5s7ovH-gBR",
        "outputId": "8b58c508-dacc-4c40-ccab-425d87fa50d4"
      },
      "execution_count": 41,
      "outputs": [
        {
          "output_type": "execute_result",
          "data": {
            "text/plain": [
              "url                                  0\n",
              "make_model                           0\n",
              "short_description                   46\n",
              "body_type                           60\n",
              "price                                0\n",
              "vat                               4513\n",
              "km                                   0\n",
              "registration                         0\n",
              "prev_owner                        6828\n",
              "kw                               15919\n",
              "hp                                   0\n",
              "type                                 2\n",
              "previous_owners                   6640\n",
              "next_inspection                  12384\n",
              "inspection_new                   11987\n",
              "warranty                          5420\n",
              "full_service                      7704\n",
              "non-smoking_vehicle               8742\n",
              "null                                 0\n",
              "make                                 0\n",
              "model                                0\n",
              "offer_number                      3175\n",
              "first_registration                1597\n",
              "body_color                         597\n",
              "paint_type                        5772\n",
              "body_color_original               3759\n",
              "upholstery                        3720\n",
              "body                                60\n",
              "nr._of_doors                       212\n",
              "nr._of_seats                       977\n",
              "model_code                       10941\n",
              "gearing_type                         0\n",
              "displacement                       496\n",
              "cylinders                         5680\n",
              "weight                            6974\n",
              "drive_chain                       6858\n",
              "fuel                                 0\n",
              "consumption                       1906\n",
              "co2_emission                      1808\n",
              "emission_class                    3021\n",
              "comfort&convenience                920\n",
              "entertainment&media               1374\n",
              "extras                            2962\n",
              "safety_&_security                  982\n",
              "description                          0\n",
              "emission_label                   11934\n",
              "gears                             4712\n",
              "country_version                   8333\n",
              "electricity_consumption          15782\n",
              "last_service_date                15353\n",
              "other_fuel_types                 15039\n",
              "availability                     15284\n",
              "last_timing_belt_service_date    15903\n",
              "available_from                   15647\n",
              "dtype: int64"
            ]
          },
          "metadata": {},
          "execution_count": 41
        }
      ]
    },
    {
      "cell_type": "code",
      "source": [
        "df.isnull().sum() / df.shape[0] * 100"
      ],
      "metadata": {
        "colab": {
          "base_uri": "https://localhost:8080/"
        },
        "id": "3FAjXaBK-gEg",
        "outputId": "d4eb06da-6c78-49c8-d77b-d479cd23613d"
      },
      "execution_count": 42,
      "outputs": [
        {
          "output_type": "execute_result",
          "data": {
            "text/plain": [
              "url                                0.000000\n",
              "make_model                         0.000000\n",
              "short_description                  0.288963\n",
              "body_type                          0.376908\n",
              "price                              0.000000\n",
              "vat                               28.349771\n",
              "km                                 0.000000\n",
              "registration                       0.000000\n",
              "prev_owner                        42.892141\n",
              "kw                               100.000000\n",
              "hp                                 0.000000\n",
              "type                               0.012564\n",
              "previous_owners                   41.711163\n",
              "next_inspection                   77.793831\n",
              "inspection_new                    75.299956\n",
              "warranty                          34.047365\n",
              "full_service                      48.395000\n",
              "non-smoking_vehicle               54.915510\n",
              "null                               0.000000\n",
              "make                               0.000000\n",
              "model                              0.000000\n",
              "offer_number                      19.944720\n",
              "first_registration                10.032037\n",
              "body_color                         3.750236\n",
              "paint_type                        36.258559\n",
              "body_color_original               23.613292\n",
              "upholstery                        23.368302\n",
              "body                               0.376908\n",
              "nr._of_doors                       1.331742\n",
              "nr._of_seats                       6.137320\n",
              "model_code                        68.729192\n",
              "gearing_type                       0.000000\n",
              "displacement                       3.115774\n",
              "cylinders                         35.680633\n",
              "weight                            43.809285\n",
              "drive_chain                       43.080596\n",
              "fuel                               0.000000\n",
              "consumption                       11.973114\n",
              "co2_emission                      11.357497\n",
              "emission_class                    18.977323\n",
              "comfort&convenience                5.779257\n",
              "entertainment&media                8.631195\n",
              "extras                            18.606696\n",
              "safety_&_security                  6.168729\n",
              "description                        0.000000\n",
              "emission_label                    74.967021\n",
              "gears                             29.599849\n",
              "country_version                   52.346253\n",
              "electricity_consumption           99.139393\n",
              "last_service_date                 96.444500\n",
              "other_fuel_types                  94.472015\n",
              "availability                      96.011056\n",
              "last_timing_belt_service_date     99.899491\n",
              "available_from                    98.291350\n",
              "dtype: float64"
            ]
          },
          "metadata": {},
          "execution_count": 42
        }
      ]
    },
    {
      "cell_type": "code",
      "source": [
        "(df.isnull().sum() / df.shape[0] * 100).sort_values(ascending=False)"
      ],
      "metadata": {
        "colab": {
          "base_uri": "https://localhost:8080/"
        },
        "id": "8u1dQxVN-gHn",
        "outputId": "70d61821-7e0f-4777-a1f8-4304bb7a520a"
      },
      "execution_count": 43,
      "outputs": [
        {
          "output_type": "execute_result",
          "data": {
            "text/plain": [
              "kw                               100.000000\n",
              "last_timing_belt_service_date     99.899491\n",
              "electricity_consumption           99.139393\n",
              "available_from                    98.291350\n",
              "last_service_date                 96.444500\n",
              "availability                      96.011056\n",
              "other_fuel_types                  94.472015\n",
              "next_inspection                   77.793831\n",
              "inspection_new                    75.299956\n",
              "emission_label                    74.967021\n",
              "model_code                        68.729192\n",
              "non-smoking_vehicle               54.915510\n",
              "country_version                   52.346253\n",
              "full_service                      48.395000\n",
              "weight                            43.809285\n",
              "drive_chain                       43.080596\n",
              "prev_owner                        42.892141\n",
              "previous_owners                   41.711163\n",
              "paint_type                        36.258559\n",
              "cylinders                         35.680633\n",
              "warranty                          34.047365\n",
              "gears                             29.599849\n",
              "vat                               28.349771\n",
              "body_color_original               23.613292\n",
              "upholstery                        23.368302\n",
              "offer_number                      19.944720\n",
              "emission_class                    18.977323\n",
              "extras                            18.606696\n",
              "consumption                       11.973114\n",
              "co2_emission                      11.357497\n",
              "first_registration                10.032037\n",
              "entertainment&media                8.631195\n",
              "safety_&_security                  6.168729\n",
              "nr._of_seats                       6.137320\n",
              "comfort&convenience                5.779257\n",
              "body_color                         3.750236\n",
              "displacement                       3.115774\n",
              "nr._of_doors                       1.331742\n",
              "body                               0.376908\n",
              "body_type                          0.376908\n",
              "short_description                  0.288963\n",
              "type                               0.012564\n",
              "fuel                               0.000000\n",
              "gearing_type                       0.000000\n",
              "make_model                         0.000000\n",
              "model                              0.000000\n",
              "make                               0.000000\n",
              "description                        0.000000\n",
              "null                               0.000000\n",
              "hp                                 0.000000\n",
              "registration                       0.000000\n",
              "km                                 0.000000\n",
              "price                              0.000000\n",
              "url                                0.000000\n",
              "dtype: float64"
            ]
          },
          "metadata": {},
          "execution_count": 43
        }
      ]
    },
    {
      "cell_type": "code",
      "source": [
        "def check_df(col):\n",
        "    print('column name : ', col)\n",
        "    print('--------------------------------')\n",
        "    print('Per_of_Nulls   : ', '%', round(df[col].isnull().sum() / df.shape[0]*100, 2))\n",
        "    print('Num_of_Nulls   : ', df[col].isnull().sum())\n",
        "    print(df[col].value_counts(dropna = False))\n",
        "    print(\"*\"*30)\n",
        "    print(\"\\n\\n\")"
      ],
      "metadata": {
        "id": "s-YLysgq-gK4"
      },
      "execution_count": 47,
      "outputs": []
    },
    {
      "cell_type": "code",
      "source": [
        "for col in df.columns :\n",
        "    check_df(col)"
      ],
      "metadata": {
        "colab": {
          "base_uri": "https://localhost:8080/"
        },
        "id": "u3gzV8MY-gNs",
        "outputId": "9171f38a-631e-4c7a-eb25-87acbaf851fc"
      },
      "execution_count": 48,
      "outputs": [
        {
          "output_type": "stream",
          "name": "stdout",
          "text": [
            "column name :  url\n",
            "--------------------------------\n",
            "Per_of_Nulls   :  % 0.0\n",
            "Num_of_Nulls   :  0\n",
            "https://www.autoscout24.com//offers/audi-a1-sportback-1-4-tdi-s-tronic-xenon-navi-klima-diesel-black-bdab349a-caa5-41b0-98eb-c1345b84445e                  1\n",
            "https://www.autoscout24.com//offers/opel-insignia-bus-inno-2-0-cdti-aut-navi-bi-xe-led-e6-diesel-black-8710b253-dd98-4ed0-9d46-cbad2d79532b                1\n",
            "https://www.autoscout24.com//offers/opel-insignia-sport-tourer-opel-sport-tourer-1-6-cdti-136-ch-a-c-diesel-silver-10b7463b-9f56-4348-af35-df3432b2b585    1\n",
            "https://www.autoscout24.com//offers/opel-insignia-2-0cdti-st-business-innovation-navi-bt-diesel-black-ba5a3368-dedc-4e51-9127-3976b26e93c2                 1\n",
            "https://www.autoscout24.com//offers/opel-insignia-sport-tourer-opel-sport-tourer-1-6-cdti-136-ch-a-c-diesel-silver-7b52f054-78d3-4d5e-9370-8a7d081d7edd    1\n",
            "                                                                                                                                                          ..\n",
            "https://www.autoscout24.com//offers/audi-a3-sb-30-1-6-tdi-business-116cv-s-tronic-diesel-black-cf50f7b1-4d7b-466f-93a2-4e11ec0b4107                        1\n",
            "https://www.autoscout24.com//offers/audi-a3-sb-30-1-6-tdi-business-116cv-s-tronic-diesel-grey-3f47eb34-15c4-4763-860d-78fcbbd2c9ff                         1\n",
            "https://www.autoscout24.com//offers/audi-a3-sb-30-1-6-tdi-business-116cv-s-tronic-diesel-silver-f7a4bc95-b2ef-4bac-9497-6bcbcd05db0b                       1\n",
            "https://www.autoscout24.com//offers/audi-a3-sb-30-1-6-tdi-business-116cv-s-tronic-diesel-silver-1c94c7a2-67b5-49ca-ae42-42a6800fb3f5                       1\n",
            "https://www.autoscout24.com//offers/renault-espace-initiale-paris-tce-225-edc-gpf-navi-shz-aux-gasoline-grey-0bd690d9-7e93-4cab-bc5a-9d5b63402481          1\n",
            "Name: url, Length: 15919, dtype: int64\n",
            "******************************\n",
            "\n",
            "\n",
            "\n",
            "column name :  make_model\n",
            "--------------------------------\n",
            "Per_of_Nulls   :  % 0.0\n",
            "Num_of_Nulls   :  0\n",
            "Audi A3           3097\n",
            "Audi A1           2614\n",
            "Opel Insignia     2598\n",
            "Opel Astra        2526\n",
            "Opel Corsa        2219\n",
            "Renault Clio      1839\n",
            "Renault Espace     991\n",
            "Renault Duster      34\n",
            "Audi A2              1\n",
            "Name: make_model, dtype: int64\n",
            "******************************\n",
            "\n",
            "\n",
            "\n",
            "column name :  short_description\n",
            "--------------------------------\n",
            "Per_of_Nulls   :  % 0.29\n",
            "Num_of_Nulls   :  46\n",
            "SPB 1.6 TDI 116 CV S tronic Sport                 64\n",
            "NaN                                               46\n",
            "1.4 66kW (90CV) Selective                         40\n",
            "MOVE KLIMA CD USB ALLWETTER BLUETOOTH             38\n",
            "SPB 30 TDI S tronic Business                      35\n",
            "                                                  ..\n",
            "K Sports Tourer Business **Navi*Voll**             1\n",
            "1.0 Turbo ecoFLEX Automatic Elective Park Navi     1\n",
            "1.6 CDTI Business *Navi*Automatik*Spurh.*          1\n",
            "1.6 136 CV Automatica Navi E 6 Garanzia Full       1\n",
            "TCe 225 EDC GPF LIM Deluxe Pano,RFK                1\n",
            "Name: short_description, Length: 10002, dtype: int64\n",
            "******************************\n",
            "\n",
            "\n",
            "\n",
            "column name :  body_type\n",
            "--------------------------------\n",
            "Per_of_Nulls   :  % 0.38\n",
            "Num_of_Nulls   :  60\n",
            "Sedans           7903\n",
            "Station wagon    3553\n",
            "Compact          3153\n",
            "Van               783\n",
            "Other             290\n",
            "Transporter        88\n",
            "NaN                60\n",
            "Off-Road           56\n",
            "Coupe              25\n",
            "Convertible         8\n",
            "Name: body_type, dtype: int64\n",
            "******************************\n",
            "\n",
            "\n",
            "\n",
            "column name :  price\n",
            "--------------------------------\n",
            "Per_of_Nulls   :  % 0.0\n",
            "Num_of_Nulls   :  0\n",
            "14990    154\n",
            "15990    151\n",
            "10990    139\n",
            "15900    106\n",
            "17990    102\n",
            "        ... \n",
            "17559      1\n",
            "17560      1\n",
            "17570      1\n",
            "17575      1\n",
            "39875      1\n",
            "Name: price, Length: 2956, dtype: int64\n",
            "******************************\n",
            "\n",
            "\n",
            "\n",
            "column name :  vat\n",
            "--------------------------------\n",
            "Per_of_Nulls   :  % 28.35\n",
            "Num_of_Nulls   :  4513\n",
            "VAT deductible      10980\n",
            "NaN                  4513\n",
            "Price negotiable      426\n",
            "Name: vat, dtype: int64\n",
            "******************************\n",
            "\n",
            "\n",
            "\n",
            "column name :  km\n",
            "--------------------------------\n",
            "Per_of_Nulls   :  % 0.0\n",
            "Num_of_Nulls   :  0\n",
            "10 km        1045\n",
            "- km         1024\n",
            "1 km          367\n",
            "5 km          170\n",
            "50 km         148\n",
            "             ... \n",
            "67,469 km       1\n",
            "43,197 km       1\n",
            "10,027 km       1\n",
            "35,882 km       1\n",
            "57 km           1\n",
            "Name: km, Length: 6690, dtype: int64\n",
            "******************************\n",
            "\n",
            "\n",
            "\n",
            "column name :  registration\n",
            "--------------------------------\n",
            "Per_of_Nulls   :  % 0.0\n",
            "Num_of_Nulls   :  0\n",
            "-/-        1597\n",
            "03/2018     695\n",
            "02/2019     585\n",
            "05/2018     572\n",
            "03/2019     543\n",
            "01/2019     541\n",
            "04/2018     541\n",
            "02/2018     539\n",
            "03/2016     536\n",
            "04/2016     532\n",
            "06/2018     532\n",
            "01/2018     511\n",
            "04/2019     506\n",
            "02/2016     472\n",
            "03/2017     471\n",
            "05/2016     459\n",
            "06/2016     452\n",
            "05/2019     440\n",
            "06/2017     409\n",
            "05/2017     404\n",
            "07/2018     396\n",
            "04/2017     380\n",
            "01/2016     376\n",
            "02/2017     368\n",
            "01/2017     306\n",
            "08/2018     285\n",
            "06/2019     224\n",
            "07/2017     215\n",
            "11/2017     180\n",
            "07/2016     176\n",
            "10/2016     160\n",
            "10/2017     154\n",
            "09/2017     149\n",
            "11/2016     142\n",
            "09/2018     141\n",
            "09/2016     141\n",
            "12/2016     134\n",
            "12/2017     123\n",
            "08/2017     114\n",
            "11/2018     110\n",
            "12/2018     103\n",
            "10/2018      97\n",
            "08/2016      94\n",
            "07/2019       6\n",
            "09/2019       5\n",
            "08/2019       1\n",
            "11/2019       1\n",
            "12/2019       1\n",
            "Name: registration, dtype: int64\n",
            "******************************\n",
            "\n",
            "\n",
            "\n",
            "column name :  prev_owner\n",
            "--------------------------------\n",
            "Per_of_Nulls   :  % 42.89\n",
            "Num_of_Nulls   :  6828\n",
            "1 previous owner     8294\n",
            "NaN                  6828\n",
            "2 previous owners     778\n",
            "3 previous owners      17\n",
            "4 previous owners       2\n",
            "Name: prev_owner, dtype: int64\n",
            "******************************\n",
            "\n",
            "\n",
            "\n",
            "column name :  kw\n",
            "--------------------------------\n",
            "Per_of_Nulls   :  % 100.0\n",
            "Num_of_Nulls   :  15919\n",
            "NaN    15919\n",
            "Name: kw, dtype: int64\n",
            "******************************\n",
            "\n",
            "\n",
            "\n",
            "column name :  hp\n",
            "--------------------------------\n",
            "Per_of_Nulls   :  % 0.0\n",
            "Num_of_Nulls   :  0\n",
            "85 kW     2542\n",
            "66 kW     2122\n",
            "81 kW     1402\n",
            "100 kW    1308\n",
            "110 kW    1112\n",
            "          ... \n",
            "84 kW        1\n",
            "195 kW       1\n",
            "44 kW        1\n",
            "239 kW       1\n",
            "9 kW         1\n",
            "Name: hp, Length: 81, dtype: int64\n",
            "******************************\n",
            "\n",
            "\n",
            "\n",
            "column name :  type\n",
            "--------------------------------\n",
            "Per_of_Nulls   :  % 0.01\n",
            "Num_of_Nulls   :  2\n",
            "[, Used, , Diesel (Particulate Filter)]                                                                                 3475\n",
            "[, Used, , Diesel]                                                                                                      2516\n",
            "[, Used, , Gasoline]                                                                                                    2367\n",
            "[, Used, , Super 95]                                                                                                    1818\n",
            "[, Pre-registered, , Super 95]                                                                                           500\n",
            "                                                                                                                        ... \n",
            "[, New, , Regular/Benzine 91 / Super 95 / Super Plus 98 / Regular/Benzine E10 91 / Super Plus E10 98 / Super E10 95]       1\n",
            "[, Used, , Super 95 / Super Plus 98 / Super E10 95 / Super Plus E10 98 (Particulate Filter)]                               1\n",
            "[, Demonstration, , Super Plus 98]                                                                                         1\n",
            "[, New, , Super Plus E10 98]                                                                                               1\n",
            "[, Demonstration, , Regular/Benzine E10 91]                                                                                1\n",
            "Name: type, Length: 170, dtype: int64\n",
            "******************************\n",
            "\n",
            "\n",
            "\n",
            "column name :  previous_owners\n",
            "--------------------------------\n",
            "Per_of_Nulls   :  % 41.71\n",
            "Num_of_Nulls   :  6640\n",
            "\\n1\\n                                                                                        8101\n",
            "NaN                                                                                          6640\n",
            "\\n2\\n                                                                                         766\n",
            "\\n0\\n                                                                                         163\n",
            "\\n3\\n                                                                                          17\n",
            "                                                                                             ... \n",
            "[\\n1\\n, \\n111 g CO2/km (comb)\\n]                                                                1\n",
            "[\\n1\\n, \\nEuro 6\\n]                                                                             1\n",
            "[\\n2\\n, \\n119 g CO2/km (comb)\\n]                                                                1\n",
            "[\\n1\\n, \\n, 6.6 l/100 km (comb), \\n, 8.1 l/100 km (city), \\n, 5.7 l/100 km (country), \\n]       1\n",
            "[\\n2\\n, \\n137 g CO2/km (comb)\\n]                                                                1\n",
            "Name: previous_owners, Length: 103, dtype: int64\n",
            "******************************\n",
            "\n",
            "\n",
            "\n",
            "column name :  next_inspection\n",
            "--------------------------------\n",
            "Per_of_Nulls   :  % 77.79\n",
            "Num_of_Nulls   :  12384\n",
            "NaN                                       12384\n",
            "\\n04/2022\\n                                  62\n",
            "\\n03/2021\\n                                  38\n",
            "\\n03/2022\\n                                  36\n",
            "\\n06/2021\\n                                  34\n",
            "                                          ...  \n",
            "[\\n12/2018\\n, \\n97 g CO2/km (comb)\\n]         1\n",
            "[\\n03/2022\\n, \\n1 (No sticker)\\n]             1\n",
            "[\\n05/2021\\n, \\n93 g CO2/km (comb)\\n]         1\n",
            "[\\n06/2021\\n, \\n93 g CO2/km (comb)\\n]         1\n",
            "[\\n01/2022\\n, \\n168 g CO2/km (comb)\\n]        1\n",
            "Name: next_inspection, Length: 1400, dtype: int64\n",
            "******************************\n",
            "\n",
            "\n",
            "\n",
            "column name :  inspection_new\n",
            "--------------------------------\n",
            "Per_of_Nulls   :  % 75.3\n",
            "Num_of_Nulls   :  11987\n",
            "NaN                                                                                            11987\n",
            "[\\nYes\\n, \\nEuro 6\\n]                                                                            523\n",
            "\\nYes\\n                                                                                          362\n",
            "[\\nYes\\n, \\n102 g CO2/km (comb)\\n]                                                               174\n",
            "[\\nYes\\n, \\n4 (Green)\\n]                                                                         166\n",
            "                                                                                               ...  \n",
            "[\\nYes\\n, \\n, 6 l/100 km (comb), \\n, 8 l/100 km (city), \\n, 4.9 l/100 km (country), \\n]            1\n",
            "[\\nYes\\n, \\n, 6.8 l/100 km (comb), \\n, 8.5 l/100 km (city), \\n, 6.1 l/100 km (country), \\n]        1\n",
            "[\\nYes\\n, \\n, 4.1 l/100 km (comb), \\n, 7.5 l/100 km (city), \\n, 5.2 l/100 km (country), \\n]        1\n",
            "[\\nYes\\n, \\n, 5.2 l/100 km (comb), \\n, 6.8 l/100 km (city), \\n, 4.3 l/100 km (country), \\n]        1\n",
            "[\\nYes\\n, \\n172 g CO2/km (comb)\\n]                                                                 1\n",
            "Name: inspection_new, Length: 203, dtype: int64\n",
            "******************************\n",
            "\n",
            "\n",
            "\n",
            "column name :  warranty\n",
            "--------------------------------\n",
            "Per_of_Nulls   :  % 34.05\n",
            "Num_of_Nulls   :  5420\n",
            "NaN                                                                                                5420\n",
            "[\\n, \\n, \\nEuro 6\\n]                                                                               1868\n",
            "\\n12 months\\n                                                                                      1177\n",
            "\\n                                                                                                  979\n",
            "\\n24 months\\n                                                                                       566\n",
            "                                                                                                   ... \n",
            "[\\n72 months\\n, \\n125 g CO2/km (comb)\\n]                                                              1\n",
            "[\\n60 months\\n, \\n14 g CO2/km (comb)\\n]                                                               1\n",
            "[\\n24 months\\n, \\n121 g CO2/km (comb)\\n]                                                              1\n",
            "[\\n12 months\\n, \\nEuro 6d\\n]                                                                          1\n",
            "[\\n36 months\\n, \\n, 7.4 l/100 km (comb), \\n, 9.6 l/100 km (city), \\n, 6 l/100 km (country), \\n]       1\n",
            "Name: warranty, Length: 516, dtype: int64\n",
            "******************************\n",
            "\n",
            "\n",
            "\n",
            "column name :  full_service\n",
            "--------------------------------\n",
            "Per_of_Nulls   :  % 48.39\n",
            "Num_of_Nulls   :  7704\n",
            "NaN                                                                                           7704\n",
            "[\\n, \\n, \\n4 (Green)\\n]                                                                       2235\n",
            "[\\n, \\n, \\nEuro 6\\n]                                                                          2097\n",
            "[\\n, \\n]                                                                                      1702\n",
            "[\\n, \\n, \\nEuro 6d-TEMP\\n]                                                                     399\n",
            "                                                                                              ... \n",
            "[\\n, \\n, \\n80 g CO2/km (comb)\\n]                                                                 1\n",
            "[\\n, \\n, \\n84 g CO2/km (comb)\\n]                                                                 1\n",
            "[\\n, \\n, \\n, 6 l/100 km (comb), \\n, 8 l/100 km (city), \\n, 4.9 l/100 km (country), \\n]           1\n",
            "[\\n, \\n, \\n, 4.9 l/100 km (comb), \\n, 6.2 l/100 km (city), \\n, 4.1 l/100 km (country), \\n]       1\n",
            "[\\n, \\n, \\nEuro 4\\n]                                                                             1\n",
            "Name: full_service, Length: 123, dtype: int64\n",
            "******************************\n",
            "\n",
            "\n",
            "\n",
            "column name :  non-smoking_vehicle\n",
            "--------------------------------\n",
            "Per_of_Nulls   :  % 54.92\n",
            "Num_of_Nulls   :  8742\n",
            "NaN                                                                                           8742\n",
            "[\\n, \\n]                                                                                      3647\n",
            "[\\n, \\n, \\n4 (Green)\\n]                                                                       1240\n",
            "[\\n, \\n, \\nEuro 6\\n]                                                                          1127\n",
            "[\\n, \\n, \\nEuro 6d-TEMP\\n]                                                                     345\n",
            "                                                                                              ... \n",
            "[\\n, \\n, \\n, 5.6 l/100 km (comb), \\n, 7.3 l/100 km (city), \\n, 4.7 l/100 km (country), \\n]       1\n",
            "[\\n, \\n, \\n122 g CO2/km (comb)\\n]                                                                1\n",
            "[\\n, \\n, \\n158 g CO2/km (comb)\\n]                                                                1\n",
            "[\\n, \\n, \\n150 g CO2/km (comb)\\n]                                                                1\n",
            "[\\n, \\n, \\n175 g CO2/km (comb)\\n]                                                                1\n",
            "Name: non-smoking_vehicle, Length: 95, dtype: int64\n",
            "******************************\n",
            "\n",
            "\n",
            "\n",
            "column name :  null\n",
            "--------------------------------\n",
            "Per_of_Nulls   :  % 0.0\n",
            "Num_of_Nulls   :  0\n",
            "[]    15919\n",
            "Name: null, dtype: int64\n",
            "******************************\n",
            "\n",
            "\n",
            "\n",
            "column name :  make\n",
            "--------------------------------\n",
            "Per_of_Nulls   :  % 0.0\n",
            "Num_of_Nulls   :  0\n",
            "\\nOpel\\n       7343\n",
            "\\nAudi\\n       5712\n",
            "\\nRenault\\n    2864\n",
            "Name: make, dtype: int64\n",
            "******************************\n",
            "\n",
            "\n",
            "\n",
            "column name :  model\n",
            "--------------------------------\n",
            "Per_of_Nulls   :  % 0.0\n",
            "Num_of_Nulls   :  0\n",
            "[\\n, A3, \\n]          3097\n",
            "[\\n, A1, \\n]          2614\n",
            "[\\n, Insignia, \\n]    2598\n",
            "[\\n, Astra, \\n]       2526\n",
            "[\\n, Corsa, \\n]       2219\n",
            "[\\n, Clio, \\n]        1839\n",
            "[\\n, Espace, \\n]       991\n",
            "[\\n, Duster, \\n]        34\n",
            "[\\n, A2, \\n]             1\n",
            "Name: model, dtype: int64\n",
            "******************************\n",
            "\n",
            "\n",
            "\n",
            "column name :  offer_number\n",
            "--------------------------------\n",
            "Per_of_Nulls   :  % 19.94\n",
            "Num_of_Nulls   :  3175\n",
            "NaN                                               3175\n",
            "[\\nLT67679\\n]                                       27\n",
            "[\\nUN89904\\n]                                       27\n",
            "[\\nXJ38068\\n]                                       27\n",
            "[\\nJV03654\\n]                                       27\n",
            "                                                  ... \n",
            "[\\n160_dcbb6c3e-a6da-43a3-8754-ccd994cec93b\\n]       1\n",
            "[\\n6701576\\n]                                        1\n",
            "[\\n6701569\\n]                                        1\n",
            "[\\n158121\\n]                                         1\n",
            "[\\nRe_30000008029\\n]                                 1\n",
            "Name: offer_number, Length: 11441, dtype: int64\n",
            "******************************\n",
            "\n",
            "\n",
            "\n",
            "column name :  first_registration\n",
            "--------------------------------\n",
            "Per_of_Nulls   :  % 10.03\n",
            "Num_of_Nulls   :  1597\n",
            "[\\n, 2018, \\n]    4522\n",
            "[\\n, 2016, \\n]    3674\n",
            "[\\n, 2017, \\n]    3273\n",
            "[\\n, 2019, \\n]    2853\n",
            "NaN               1597\n",
            "Name: first_registration, dtype: int64\n",
            "******************************\n",
            "\n",
            "\n",
            "\n",
            "column name :  body_color\n",
            "--------------------------------\n",
            "Per_of_Nulls   :  % 3.75\n",
            "Num_of_Nulls   :  597\n",
            "[\\n, Black, \\n]     3745\n",
            "[\\n, Grey, \\n]      3505\n",
            "[\\n, White, \\n]     3406\n",
            "[\\n, Silver, \\n]    1647\n",
            "[\\n, Blue, \\n]      1431\n",
            "[\\n, Red, \\n]        957\n",
            "NaN                  597\n",
            "[\\n, Brown, \\n]      289\n",
            "[\\n, Green, \\n]      154\n",
            "[\\n, Beige, \\n]      108\n",
            "[\\n, Yellow, \\n]      51\n",
            "[\\n, Violet, \\n]      18\n",
            "[\\n, Bronze, \\n]       6\n",
            "[\\n, Orange, \\n]       3\n",
            "[\\n, Gold, \\n]         2\n",
            "Name: body_color, dtype: int64\n",
            "******************************\n",
            "\n",
            "\n",
            "\n",
            "column name :  paint_type\n",
            "--------------------------------\n",
            "Per_of_Nulls   :  % 36.26\n",
            "Num_of_Nulls   :  5772\n",
            "[\\nMetallic\\n]       9794\n",
            "NaN                  5772\n",
            "[\\nUni/basic\\n]       347\n",
            "[\\nPerl effect\\n]       6\n",
            "Name: paint_type, dtype: int64\n",
            "******************************\n",
            "\n",
            "\n",
            "\n",
            "column name :  body_color_original\n",
            "--------------------------------\n",
            "Per_of_Nulls   :  % 23.61\n",
            "Num_of_Nulls   :  3759\n",
            "NaN                                    3759\n",
            "[\\nOnyx Schwarz\\n]                      338\n",
            "[\\nBianco\\n]                            282\n",
            "[\\nMythosschwarz Metallic\\n]            238\n",
            "[\\nBrillantschwarz\\n]                   216\n",
            "                                       ... \n",
            "[\\nRouge-Braun (G0Y)\\n]                   1\n",
            "[\\nVARI COLRI DISPONIBILI\\n]              1\n",
            "[\\nKokosnussbraun Metallic\\n]             1\n",
            "[\\nFarbe frei wählbar\\n]                  1\n",
            "[\\nPerlmutt-Weiß Metallic (Weiß)\\n]       1\n",
            "Name: body_color_original, Length: 1928, dtype: int64\n",
            "******************************\n",
            "\n",
            "\n",
            "\n",
            "column name :  upholstery\n",
            "--------------------------------\n",
            "Per_of_Nulls   :  % 23.37\n",
            "Num_of_Nulls   :  3720\n",
            "[\\nCloth, Black\\n]           5821\n",
            "NaN                          3720\n",
            "[\\nPart leather, Black\\n]    1121\n",
            "[\\nCloth\\n]                  1005\n",
            "[\\nCloth, Grey\\n]             891\n",
            "[\\nCloth, Other\\n]            639\n",
            "[\\nFull leather, Black\\n]     575\n",
            "[\\nBlack\\n]                   491\n",
            "[\\nGrey\\n]                    273\n",
            "[\\nOther, Other\\n]            182\n",
            "[\\nPart leather\\n]            140\n",
            "[\\nFull leather\\n]            139\n",
            "[\\nFull leather, Brown\\n]     116\n",
            "[\\nPart leather, Grey\\n]      116\n",
            "[\\nOther, Black\\n]            110\n",
            "[\\nFull leather, Other\\n]      72\n",
            "[\\nFull leather, Grey\\n]       67\n",
            "[\\nPart leather, Other\\n]      65\n",
            "[\\nOther\\n]                    56\n",
            "[\\nPart leather, Brown\\n]      50\n",
            "[\\nalcantara, Black\\n]         47\n",
            "[\\nVelour, Black\\n]            36\n",
            "[\\nFull leather, Beige\\n]      36\n",
            "[\\nCloth, Brown\\n]             28\n",
            "[\\nVelour\\n]                   16\n",
            "[\\nOther, Grey\\n]              15\n",
            "[\\nCloth, Beige\\n]             13\n",
            "[\\nBrown\\n]                    12\n",
            "[\\nCloth, Blue\\n]              12\n",
            "[\\nVelour, Grey\\n]              8\n",
            "[\\nCloth, White\\n]              8\n",
            "[\\nalcantara, Grey\\n]           6\n",
            "[\\nCloth, Red\\n]                5\n",
            "[\\nOther, Yellow\\n]             4\n",
            "[\\nPart leather, Red\\n]         3\n",
            "[\\nBeige\\n]                     3\n",
            "[\\nPart leather, White\\n]       2\n",
            "[\\nFull leather, Blue\\n]        2\n",
            "[\\nalcantara, Other\\n]          2\n",
            "[\\nalcantara\\n]                 2\n",
            "[\\nWhite\\n]                     2\n",
            "[\\nPart leather, Beige\\n]       2\n",
            "[\\nBlue\\n]                      2\n",
            "[\\nCloth, Orange\\n]             1\n",
            "[\\nFull leather, Red\\n]         1\n",
            "[\\nOther, Brown\\n]              1\n",
            "[\\nFull leather, White\\n]       1\n",
            "Name: upholstery, dtype: int64\n",
            "******************************\n",
            "\n",
            "\n",
            "\n",
            "column name :  body\n",
            "--------------------------------\n",
            "Per_of_Nulls   :  % 0.38\n",
            "Num_of_Nulls   :  60\n",
            "[\\n, Sedans, \\n]           7903\n",
            "[\\n, Station wagon, \\n]    3553\n",
            "[\\n, Compact, \\n]          3153\n",
            "[\\n, Van, \\n]               783\n",
            "[\\n, Other, \\n]             290\n",
            "[\\n, Transporter, \\n]        88\n",
            "NaN                          60\n",
            "[\\n, Off-Road, \\n]           56\n",
            "[\\n, Coupe, \\n]              25\n",
            "[\\n, Convertible, \\n]         8\n",
            "Name: body, dtype: int64\n",
            "******************************\n",
            "\n",
            "\n",
            "\n",
            "column name :  nr._of_doors\n",
            "--------------------------------\n",
            "Per_of_Nulls   :  % 1.33\n",
            "Num_of_Nulls   :  212\n",
            "[\\n5\\n]    11575\n",
            "[\\n4\\n]     3079\n",
            "[\\n3\\n]      832\n",
            "[\\n2\\n]      219\n",
            "NaN          212\n",
            "[\\n1\\n]        1\n",
            "[\\n7\\n]        1\n",
            "Name: nr._of_doors, dtype: int64\n",
            "******************************\n",
            "\n",
            "\n",
            "\n",
            "column name :  nr._of_seats\n",
            "--------------------------------\n",
            "Per_of_Nulls   :  % 6.14\n",
            "Num_of_Nulls   :  977\n",
            "[\\n5\\n]    13336\n",
            "[\\n4\\n]     1125\n",
            "NaN          977\n",
            "[\\n7\\n]      362\n",
            "[\\n2\\n]      116\n",
            "[\\n6\\n]        2\n",
            "[\\n3\\n]        1\n",
            "Name: nr._of_seats, dtype: int64\n",
            "******************************\n",
            "\n",
            "\n",
            "\n",
            "column name :  model_code\n",
            "--------------------------------\n",
            "Per_of_Nulls   :  % 68.73\n",
            "Num_of_Nulls   :  10941\n",
            "NaN               10941\n",
            "[\\n0035/BCB\\n]      268\n",
            "[\\n0588/BNO\\n]      245\n",
            "[\\n0588/BDB\\n]      206\n",
            "[\\n0588/BHX\\n]      188\n",
            "                  ...  \n",
            "[\\n0035/AVN\\n]        1\n",
            "[\\n0035/BEM\\n]        1\n",
            "[\\n0035/BAG\\n]        1\n",
            "[\\n0035/BAA\\n]        1\n",
            "[\\n3333/BKG\\n]        1\n",
            "Name: model_code, Length: 233, dtype: int64\n",
            "******************************\n",
            "\n",
            "\n",
            "\n",
            "column name :  gearing_type\n",
            "--------------------------------\n",
            "Per_of_Nulls   :  % 0.0\n",
            "Num_of_Nulls   :  0\n",
            "[\\n, Manual, \\n]            8153\n",
            "[\\n, Automatic, \\n]         7297\n",
            "[\\n, Semi-automatic, \\n]     469\n",
            "Name: gearing_type, dtype: int64\n",
            "******************************\n",
            "\n",
            "\n",
            "\n",
            "column name :  displacement\n",
            "--------------------------------\n",
            "Per_of_Nulls   :  % 3.12\n",
            "Num_of_Nulls   :  496\n",
            "[\\n1,598 cc\\n]    4761\n",
            "[\\n999 cc\\n]      2438\n",
            "[\\n1,398 cc\\n]    1314\n",
            "[\\n1,399 cc\\n]     749\n",
            "[\\n1,229 cc\\n]     677\n",
            "                  ... \n",
            "[\\n122 cc\\n]         1\n",
            "[\\n1,198 cc\\n]       1\n",
            "[\\n1,195 cc\\n]       1\n",
            "[\\n2,967 cc\\n]       1\n",
            "[\\n1,800 cc\\n]       1\n",
            "Name: displacement, Length: 78, dtype: int64\n",
            "******************************\n",
            "\n",
            "\n",
            "\n",
            "column name :  cylinders\n",
            "--------------------------------\n",
            "Per_of_Nulls   :  % 35.68\n",
            "Num_of_Nulls   :  5680\n",
            "[\\n4\\n]    8105\n",
            "NaN        5680\n",
            "[\\n3\\n]    2104\n",
            "[\\n5\\n]      22\n",
            "[\\n6\\n]       3\n",
            "[\\n8\\n]       2\n",
            "[\\n2\\n]       2\n",
            "[\\n1\\n]       1\n",
            "Name: cylinders, dtype: int64\n",
            "******************************\n",
            "\n",
            "\n",
            "\n",
            "column name :  weight\n",
            "--------------------------------\n",
            "Per_of_Nulls   :  % 43.81\n",
            "Num_of_Nulls   :  6974\n",
            "NaN               6974\n",
            "[\\n1,163 kg\\n]     574\n",
            "[\\n1,360 kg\\n]     356\n",
            "[\\n1,165 kg\\n]     301\n",
            "[\\n1,335 kg\\n]     242\n",
            "                  ... \n",
            "[\\n1,960 kg\\n]       1\n",
            "[\\n1,258 kg\\n]       1\n",
            "[\\n1,167 kg\\n]       1\n",
            "[\\n1,331 kg\\n]       1\n",
            "[\\n2,037 kg\\n]       1\n",
            "Name: weight, Length: 435, dtype: int64\n",
            "******************************\n",
            "\n",
            "\n",
            "\n",
            "column name :  drive_chain\n",
            "--------------------------------\n",
            "Per_of_Nulls   :  % 43.08\n",
            "Num_of_Nulls   :  6858\n",
            "[\\nfront\\n]    8886\n",
            "NaN            6858\n",
            "[\\n4WD\\n]       171\n",
            "[\\nrear\\n]        4\n",
            "Name: drive_chain, dtype: int64\n",
            "******************************\n",
            "\n",
            "\n",
            "\n",
            "column name :  fuel\n",
            "--------------------------------\n",
            "Per_of_Nulls   :  % 0.0\n",
            "Num_of_Nulls   :  0\n",
            "[\\n, Diesel (Particulate Filter), \\n]                                                                                  4315\n",
            "[\\n, Super 95, \\n]                                                                                                     3338\n",
            "[\\n, Gasoline, \\n]                                                                                                     3175\n",
            "[\\n, Diesel, \\n]                                                                                                       2984\n",
            "[\\n, Super 95 / Regular/Benzine 91, \\n]                                                                                 424\n",
            "                                                                                                                       ... \n",
            "[\\n, Regular/Benzine 91 / Super 95 / Regular/Benzine E10 91, \\n]                                                          1\n",
            "[\\n, Super Plus 98 / Super E10 95, \\n]                                                                                    1\n",
            "[\\n, Regular/Benzine 91 / Super 95 / Regular/Benzine E10 91 / Super E10 95 / Super Plus 98 / Super Plus E10 98, \\n]       1\n",
            "[\\n, Regular/Benzine 91 / Super Plus 98 / Regular/Benzine E10 91 / Super 95 / Super E10 95 / Super Plus E10 98, \\n]       1\n",
            "[\\n, Super Plus 98 / Super 95 / Super Plus E10 98, \\n]                                                                    1\n",
            "Name: fuel, Length: 77, dtype: int64\n",
            "******************************\n",
            "\n",
            "\n",
            "\n",
            "column name :  consumption\n",
            "--------------------------------\n",
            "Per_of_Nulls   :  % 11.97\n",
            "Num_of_Nulls   :  1906\n",
            "NaN                                                                                   1906\n",
            "[[3.9 l/100 km (comb)], [4.1 l/100 km (city)], [3.7 l/100 km (country)]]               304\n",
            "[[4.2 l/100 km (comb)], [5 l/100 km (city)], [3.7 l/100 km (country)]]                 276\n",
            "[[5.4 l/100 km (comb)], [6.8 l/100 km (city)], [4.5 l/100 km (country)]]               257\n",
            "[[3.8 l/100 km (comb)], [4.3 l/100 km (city)], [3.5 l/100 km (country)]]               253\n",
            "                                                                                      ... \n",
            "[[4.2 l/100 km (comb)], [5.3 l/100 km (city)], [3.6 l/100 km (country)]]                 1\n",
            "[\\n, 5.1 l/100 km (comb), \\n, 6.4 l/100 km (city), \\n, 4.3 l/100 km (country), \\n]       1\n",
            "[[4.6 l/100 km (comb)], [5.4 l/100 km (city)], [6.7 l/100 km (country)]]                 1\n",
            "[\\n, 6.3 l/100 km (comb), \\n, \\n, \\n]                                                    1\n",
            "[\\n, 7.4 l/100 km (comb), \\n, 9.6 l/100 km (city), \\n, 6 l/100 km (country), \\n]         1\n",
            "Name: consumption, Length: 882, dtype: int64\n",
            "******************************\n",
            "\n",
            "\n",
            "\n",
            "column name :  co2_emission\n",
            "--------------------------------\n",
            "Per_of_Nulls   :  % 11.36\n",
            "Num_of_Nulls   :  1808\n",
            "NaN                            1808\n",
            "[\\n120 g CO2/km (comb)\\n]       740\n",
            "[[], [], []]                    628\n",
            "[\\n99 g CO2/km (comb)\\n]        545\n",
            "[\\n97 g CO2/km (comb)\\n]        537\n",
            "                               ... \n",
            "[\\n14 g CO2/km (comb)\\n]          1\n",
            "[\\n1,060 g CO2/km (comb)\\n]       1\n",
            "[\\n51 g CO2/km (comb)\\n]          1\n",
            "[\\n165 g CO2/km (comb)\\n]         1\n",
            "[\\n193 g CO2/km (comb)\\n]         1\n",
            "Name: co2_emission, Length: 124, dtype: int64\n",
            "******************************\n",
            "\n",
            "\n",
            "\n",
            "column name :  emission_class\n",
            "--------------------------------\n",
            "Per_of_Nulls   :  % 18.98\n",
            "Num_of_Nulls   :  3021\n",
            "[\\nEuro 6\\n]          10139\n",
            "NaN                    3021\n",
            "[\\nEuro 6d-TEMP\\n]     1845\n",
            "[[], [], []]            607\n",
            "[\\nEuro 6c\\n]           127\n",
            "[\\nEuro 5\\n]             78\n",
            "[\\nEuro 6d\\n]            62\n",
            "[\\nEuro 4\\n]             40\n",
            "Name: emission_class, dtype: int64\n",
            "******************************\n",
            "\n",
            "\n",
            "\n",
            "column name :  comfort&convenience\n",
            "--------------------------------\n",
            "Per_of_Nulls   :  % 5.78\n",
            "Num_of_Nulls   :  920\n",
            "NaN                                                                                                                                                                                                                                                                                                                                                                                                                                                                                                                          920\n",
            "[Air conditioning, Electrical side mirrors, Hill Holder, Power windows]                                                                                                                                                                                                                                                                                                                                                                                                                                                      216\n",
            "[Air conditioning, Electrical side mirrors, Power windows]                                                                                                                                                                                                                                                                                                                                                                                                                                                                   134\n",
            "[Air conditioning, Power windows]                                                                                                                                                                                                                                                                                                                                                                                                                                                                                            130\n",
            "[Air conditioning, Armrest, Automatic climate control, Cruise control, Electrical side mirrors, Leather steering wheel, Light sensor, Lumbar support, Multi-function steering wheel, Navigation system, Park Distance Control, Parking assist system sensors front, Parking assist system sensors rear, Power windows, Rain sensor, Seat heating, Start-stop system]                                                                                                                                                         105\n",
            "                                                                                                                                                                                                                                                                                                                                                                                                                                                                                                                            ... \n",
            "[Air conditioning, Cruise control, Electrical side mirrors, Hill Holder, Leather steering wheel, Light sensor, Multi-function steering wheel, Navigation system, Park Distance Control, Parking assist system sensors rear, Power windows, Rain sensor, Split rear seats, Start-stop system, Tinted windows]                                                                                                                                                                                                                   1\n",
            "[Air conditioning, Armrest, Automatic climate control, Cruise control, Electrical side mirrors, Heated steering wheel, Hill Holder, Leather steering wheel, Light sensor, Lumbar support, Multi-function steering wheel, Navigation system, Park Distance Control, Parking assist system camera, Parking assist system sensors front, Parking assist system sensors rear, Power windows, Rain sensor, Seat heating, Sunroof]                                                                                                   1\n",
            "[Air conditioning, Armrest, Cruise control, Electrical side mirrors, Heated steering wheel, Hill Holder, Leather steering wheel, Light sensor, Multi-function steering wheel, Park Distance Control, Parking assist system camera, Parking assist system sensors front, Parking assist system sensors rear, Power windows, Rain sensor, Seat heating, Split rear seats, Start-stop system, Tinted windows]                                                                                                                     1\n",
            "[Air conditioning, Automatic climate control, Cruise control, Electrical side mirrors, Leather steering wheel, Light sensor, Multi-function steering wheel, Park Distance Control, Parking assist system sensors front, Parking assist system sensors rear, Power windows, Rain sensor, Seat heating]                                                                                                                                                                                                                          1\n",
            "[Air conditioning, Automatic climate control, Cruise control, Electrically heated windshield, Electrical side mirrors, Electric tailgate, Heads-up display, Heated steering wheel, Hill Holder, Keyless central door lock, Leather steering wheel, Light sensor, Lumbar support, Navigation system, Park Distance Control, Parking assist system camera, Parking assist system self-steering, Parking assist system sensors front, Parking assist system sensors rear, Power windows, Rain sensor, Seat heating, Sunroof]      1\n",
            "Name: comfort&convenience, Length: 6199, dtype: int64\n",
            "******************************\n",
            "\n",
            "\n",
            "\n",
            "column name :  entertainment&media\n",
            "--------------------------------\n",
            "Per_of_Nulls   :  % 8.63\n",
            "Num_of_Nulls   :  1374\n",
            "NaN                                                                                                           1374\n",
            "[Bluetooth, Hands-free equipment, On-board computer, Radio, USB]                                              1282\n",
            "[Bluetooth, Hands-free equipment, MP3, On-board computer, Radio, USB]                                          982\n",
            "[Bluetooth, CD player, Hands-free equipment, MP3, On-board computer, Radio, USB]                               783\n",
            "[On-board computer, Radio]                                                                                     487\n",
            "                                                                                                              ... \n",
            "[Bluetooth, CD player, Digital radio, Hands-free equipment, Radio]                                               1\n",
            "[CD player, Hands-free equipment, MP3, Radio, USB]                                                               1\n",
            "[MP3, Radio, Sound system, USB]                                                                                  1\n",
            "[Bluetooth, MP3, On-board computer, Radio, Television, USB]                                                      1\n",
            "[Bluetooth, CD player, Hands-free equipment, MP3, On-board computer, Radio, Sound system, Television, USB]       1\n",
            "Name: entertainment&media, Length: 347, dtype: int64\n",
            "******************************\n",
            "\n",
            "\n",
            "\n",
            "column name :  extras\n",
            "--------------------------------\n",
            "Per_of_Nulls   :  % 18.61\n",
            "Num_of_Nulls   :  2962\n",
            "[Alloy wheels]                                                                                                     3245\n",
            "NaN                                                                                                                2962\n",
            "[Alloy wheels, Touch screen]                                                                                        697\n",
            "[Alloy wheels, Voice Control]                                                                                       577\n",
            "[Alloy wheels, Touch screen, Voice Control]                                                                         541\n",
            "                                                                                                                   ... \n",
            "[Alloy wheels, Catalytic Converter, Shift paddles, Sport package, Sport seats, Sport suspension, Voice Control]       1\n",
            "[Alloy wheels, Catalytic Converter, Roof rack, Sport package, Sport seats, Trailer hitch]                             1\n",
            "[Alloy wheels, Catalytic Converter, Ski bag, Sport package, Voice Control]                                            1\n",
            "[Catalytic Converter, Roof rack, Sport seats, Sport suspension]                                                       1\n",
            "[Alloy wheels, Shift paddles, Ski bag, Sport seats, Sport suspension, Touch screen, Voice Control]                    1\n",
            "Name: extras, Length: 660, dtype: int64\n",
            "******************************\n",
            "\n",
            "\n",
            "\n",
            "column name :  safety_&_security\n",
            "--------------------------------\n",
            "Per_of_Nulls   :  % 6.17\n",
            "Num_of_Nulls   :  982\n",
            "NaN                                                                                                                                                                                                                                                                                                                                                                                  982\n",
            "[ABS, Central door lock, Daytime running lights, Driver-side airbag, Electronic stability control, Fog lights, Immobilizer, Isofix, Passenger-side airbag, Power steering, Side airbag, Tire pressure monitoring system, Traction control]                                                                                                                                           538\n",
            "[ABS, Central door lock, Daytime running lights, Driver-side airbag, Electronic stability control, Immobilizer, Isofix, Passenger-side airbag, Power steering, Side airbag, Tire pressure monitoring system, Traction control]                                                                                                                                                       480\n",
            "[ABS, Central door lock, Daytime running lights, Driver-side airbag, Electronic stability control, Immobilizer, Isofix, Passenger-side airbag, Power steering, Side airbag, Tire pressure monitoring system, Traction control, Xenon headlights]                                                                                                                                     275\n",
            "[ABS, Central door lock, Daytime running lights, Driver-side airbag, Electronic stability control, Fog lights, Immobilizer, Isofix, LED Daytime Running Lights, Passenger-side airbag, Power steering, Side airbag, Tire pressure monitoring system, Traction control]                                                                                                               272\n",
            "                                                                                                                                                                                                                                                                                                                                                                                    ... \n",
            "[ABS, Central door lock, Electronic stability control, Immobilizer, Isofix, Passenger-side airbag, Power steering, Side airbag]                                                                                                                                                                                                                                                        1\n",
            "[ABS, Adaptive Cruise Control, Central door lock, Daytime running lights, Driver-side airbag, Electronic stability control, Emergency brake assistant, Immobilizer, Isofix, Passenger-side airbag, Power steering, Side airbag, Tire pressure monitoring system, Traction control]                                                                                                     1\n",
            "[ABS, Adaptive Cruise Control, Alarm system, Central door lock, Driver-side airbag, Electronic stability control, Fog lights, Immobilizer, Isofix, Lane departure warning system, LED Daytime Running Lights, Passenger-side airbag, Power steering, Side airbag, Tire pressure monitoring system, Traction control, Xenon headlights]                                                 1\n",
            "[ABS, Adaptive Cruise Control, Central door lock, Daytime running lights, Driver-side airbag, Electronic stability control, Fog lights, Immobilizer, Isofix, Power steering, Tire pressure monitoring system, Traction control]                                                                                                                                                        1\n",
            "[ABS, Adaptive Cruise Control, Central door lock, Daytime running lights, Driver-side airbag, Electronic stability control, Emergency brake assistant, Fog lights, Immobilizer, Isofix, Lane departure warning system, LED Daytime Running Lights, LED Headlights, Passenger-side airbag, Power steering, Side airbag, Tire pressure monitoring system, Traffic sign recognition]      1\n",
            "Name: safety_&_security, Length: 4444, dtype: int64\n",
            "******************************\n",
            "\n",
            "\n",
            "\n",
            "column name :  description\n",
            "--------------------------------\n",
            "Per_of_Nulls   :  % 0.0\n",
            "Num_of_Nulls   :  0\n",
            "[]                                                                                                                                                                                                                                                                                                                                                                                                                                                                                                                                                                                                                                                                                                                                                                                                                                                                                                                                                                                                                                                                                                                                                                                                                                                                                                                                                                                                                                                                                                                                                                                                                                                                                                                                                                                                                                                                                                                                                                                                                                                                                                                                                                                                                                                                                                                                                                                                                                                                                                                                                                                                                                                                                        636\n",
            "[\\n, \\n]                                                                                                                                                                                                                                                                                                                                                                                                                                                                                                                                                                                                                                                                                                                                                                                                                                                                                                                                                                                                                                                                                                                                                                                                                                                                                                                                                                                                                                                                                                                                                                                                                                                                                                                                                                                                                                                                                                                                                                                                                                                                                                                                                                                                                                                                                                                                                                                                                                                                                                                                                                                                                                                                                   30\n",
            "[\\n, Fahrzeugbeschreibung,  Sichern Sie sich diesen Renault Clio 1.6 TCE Energy Sport Trophy zum Top-Preis inklusive dem , AUTOHERO-RUNDUM-SORGLOS-PAKET,  , Infos:,  1.Hand, deutsche Auslieferung, Unfallfrei, scheckheftgepflegt,  , Highlights,  , Audio-Navigationssystem R-Link Evolution mit Touchscreen und Carminat TomTom,  , Sportsitze ,  , Sportfahrwerk,  , Scheinwerfer Full-LED , Komfort,  , Geschwindigkeits-Regelanlage (Tempomat) ,  , Klimaanlage,  , Einparkhilfe hinten,  , Multifunktionslenkrad (Sport/Leder) mit Schaltwippen/-tasten ,  , Fensterheber elektr. mit Impulsgeber links/rechts vorn,  , Zentralverriegelung / Startanlage Handsfree Entry & Drive ,  , Berganfahr-Assistent (HSA) , Multimedia,  , Audiosystem: Radio R & GO (Bluetooth, DAB-Tuner),  , Bordcomputer,  , Freisprecheinrichtung Bluetooth ,  , USB-Anschluss inkl. AUX-IN-Anschluss (Plug & Music) , Licht und Sicht,  , Außenspiegel elektr. verstell- und heizbar ,  , Licht- und Regensensor ,  , Tagfahrlicht LED ,  , Nebelscheinwerfer LED ,  , Coming-Home-Lichtfunktion ,  , Heckleuchten LED , Sicherheit,  , Isofix-Aufnahmen für Kindersitz ,  , Seitenairbag vorn,  , Wegfahrsperre,  , Differentialsperre,  , Bremsassistent ,  , Elektron. Stabilitäts-Programm (ESP),  , Anti-Blockier-System (ABS),  , Anti-Submarining-Airbag im Fond,  , Airbag Fahrer-/Beifahrerseite ,  , Differentialsperre ,  , Reifendruck-Kontrollsystem ,  , Untersteuerungskontrolle (USC) ,  , Antischlupfregelung (ASR) , Weiteres,  , Start/Stop-Anlage ,  , Servolenkung geschwindigkeitsabhängig,  , R.S. Drive (Fahrmodusschalter) ,  , Gepäckraumabdeckung / Rollo ,  , Heckdiffusor ,  , LM-Felgen ,  , Heckspoiler (Renault Sport) ,  , Pedale Aluminium ,  , Energierückgewinnung (Energy Smart Management) , ...]                                                                                                                                                                                                                                                                                                                                                                                                                                                                                                                                                                                                                                                                                                                                                                                                                                                              27\n",
            "[\\nPosibilidad de prueba del vehículo hasta 5 días. Consultar condiciones. PVP para particulares. Varias unidades y colores disponibles. Precios publicados para vehículos industriales (furgonetas) válidos para compradores autónomos o empresas, consultar condiciones para particulares. Las imágenes y kilómetros pueden no corresponder con el modelo anunciado. Para confirmar póngase en contacto con nuestro departamento comercial. Consulta las excepcionales condiciones de financiación que tenemos disponibles. Precio de venta final IVA y gastos de transferencia incluidos. Horario de atención al cliente: Lunes a Viernes de 09:00 a 18:00.\\n]                                                                                                                                                                                                                                                                                                                                                                                                                                                                                                                                                                                                                                                                                                                                                                                                                                                                                                                                                                                                                                                                                                                                                                                                                                                                                                                                                                                                                                                                                                                                                                                                                                                                                                                                                                                                                                                                                                                                                                                                                          27\n",
            "[\\nSichern Sie sich diesen RENAULT CLIO 1.2 LIMITED zum Top-Preis inklusive dem, AUTOHERO-RUNDUM-SORGLOS-PAKET,  , Infos:,  2.Hand, mindestens 12 Monate gültige HU und AU, deutsche Ausführung, unfallfrei ,  , Highlights,  , Audio-Navigationssystem mit Touchscreen-Farbdisplay, Komfort,  , Klimaanlage ,  , Multifunktionslenkrad in Leder ,  , Berganfahr-Assistent (HSA),  , Fensterheber elektrisch vorn ,  , Geschwindigkeits-Regelanlage (Tempomat) ,  , Heckscheibe heizbar ,  , Sitz vorn links höhenverstellbar,  , Sitz vorn rechts umklappbar ,  , Stau-/Ablagefach im Laderaumboden ,  , Zentralverriegelung mit Fernbedienung , Multimedia,  , Radio R&GO,  , Bluetooth Freisprechanlage ,  , USB-/AUX-Schnittstelle ,  , Bordcomputer,  , Licht und Sicht,  , Tagfahrlicht LED ,  , Außenspiegel elektrisch verstell- und heizbar, Sicherheit,  , Airbag für Fahrer und Beifahrer,  , Beifahrerairbag deaktivierbar ,  , Seitenairbags vorn ,  , Kopfairbagsystem,  , Anti-Blockier-System (ABS),  , Elektronische Bremskraftverteilung ,  , Elektronische Stabilitäts-Programm (ESP) ,  , Reifen-Reparaturkit ,  , Reifendruck-Kontrollsystem ,  , Untersteuerungskontrolle (USC) ,  , ISOFIX Kindersitzverankerung , Weiteres,  , Dachreling silber ,  , Look-Paket Chrom (außen) ,  , Look-Paket Grau (innen) ,  , R&GO-Paket ,  , Style-Paket ,  Ihr , AUTOHERO-RUNDUM-SORGLOS-PAKET,  beinhaltet:, Kostenlose Lieferung in Ihre Nähe, Optische & technische Aufbereitung, Mindestens 12 Monate gültige HU und AU, 1-Jahr-Premium-Garantie, Zulassung inklusive , 14-Tage-Rückgaberecht, Markenunabhängige Inzahlungnahme , Individuelle Finanzierungen zu fairen Konditionen,  , HIER GEHT ES ZUR 360° - ANSICHT DES FAHRZEUGES:, :, https://www.autohero.com/de/renault-clio-1-2-limited/id/30f99516-8785-47e7-a4a3-6cdac4d8e633/,  , Haftungsausschluss, :, Für Angaben vom Verkäufer, des Herstellers oder von Datenbankabfragen übernimmt Autohero keine Haftung. Änderungen, Zwischenverkauf und Irrtümer sind vorbehalten.\\n]                                                                                                                                                                                                                                                                                                                                                                                                                                                                                                                                                                                                                                27\n",
            "                                                                                                                                                                                                                                                                                                                                                                                                                                                                                                                                                                                                                                                                                                                                                                                                                                                                                                                                                                                                                                                                                                                                                                                                                                                                                                                                                                                                                                                                                                                                                                                                                                                                                                                                                                                                                                                                                                                                                                                                                                                                                                                                                                                                                                                                                                                                                                                                                                                                                                                                                                                                                                                                                         ... \n",
            "[\\nPratica 67374, Airbag fullsize per conducente e passeggero, Alzacristalli elettrici ant. e post. con funzione attivaz. a pressione, Assetto dinamico, Audi drive select, Inserti in micrometallic argento, Kit riparazione pneumatici, Pacchetto di navigazione, Piano di copertura del vano bagagli estraibile, Presa AUX-IN, Proiettori allo Xenon Plus con reg. aut. prof. fari, Lavafari, Rivestimenti dei sedili in tessuto, Serbatoio AdBlue, Sistema controllo pressione pneumatici, Sistema di ancoraggio ISOFIX e 3° punto di ancoraggio Top Tether sui sedili post. laterali, Sistema di informazioni per il conducente con display monocromatico, Tappetini anteriori e posteriori, Versione Business, Volante sportivo multifunzionale in pelle 3 razze, ABS, EBV (Ripartitore elettronico della forza frenante), Airbag laterali anteriori integrati negli schienali dei sedili, Airbag per la testa, Airbag per le ginocchia (lato conducente), Appoggiatesta anteriori (2) e posteriori (3) regolabili, Radio MMI plus, Interfaccia Bluetooth, Appoggiabraccia centrale anteriore, Cambio manuale, Cerchi in lega 7 J x 16\" a 5 razze a stella, Chiusura centralizzata con telecomando, Regolatore di velocità, ESC - Sistema elettronico di controllo della stabilizzazione con bloccaggio trasversale elettronico, ASR - Dispositivo di controllo della trazione, EDS (Dispositivo antislittamento in partenza), Filtro anti particolato, Cinture di sicurezza con pretensionatore, Specchietti retrovisivi esterni riscaldabili e ripiegabili elettricamente, Schienale del sedile posteriore ribaltabile (divisibile in rapporto 40:60 o ribaltabile completam.), Sistema di ausilio al parcheggio posteriore, Servosterzo elettromeccanico, Tergilunotto\\n]                                                                                                                                                                                                                                                                                                                                                                                                                                                                                                                                                                                                                                                                                                                                                                                                                                                                                                          1\n",
            "[\\n, Getriebe:,  Schaltgetriebe, Technik:,  Bordcomputer, Start-Stop-Automatik, Assistenten:,  Regensensor, Lichtsensor, Berganfahrassistent, Komfort:,  Servolenkung, Zentralverriegelung, Elektrischer Fensterheber, Sitzheizung, Elektrische Aussenspiegel, Teilbare Ruecksitzlehne, Tempomat, Park Distance Control, Multifunktionslenkrad, Innenspiegel autom. abblendbar, Mittelarmlehne, Innenraumfilter, Lenksaeule einstellbar, Sportsitze, Klimaautomatik-2-Zonen, Sicht:,  Xenon Scheinwerfer, Colorverglasung, Scheinwerferreinigung, Aussenspiegel beheizbar, Privacyverglasung, Sicherheit:,  ABS, Airbag, Beifahrer-Airbag, Wegfahrsperre, Seitenairbags, ESP, Antriebsschlupfregelung, Reifendruckkontrolle, Traktionskontrolle, Kopfairbag, Knieairbag, Kindersitzbefestigung, Pannenkit, Entertainment:,  CD, Radio, AUX-In, USB-Anschluss, MP3, Bluetooth, Freisprecheinrichtung, Umwelt:,  Grüne Umweltplakette, , Energieeffizienzklasse B, Qualität:,  Garantie, Scheckheftgepflegt, HUAU neu, Nichtraucherfahrzeug, Sonstiges:,  Metallic, Alufelgen, Dachreling, Gepaeckraumabdeckung, Stossfaenger in Wagenfarbe, Sportfahrwerk, Weiteres:,  Connectivity-Paket inkl. Bluetooth-Schnittstelle, Klimaautomatik 2-Zonen, Optik-Paket schwarz Audi exclusive, Einparkhilfe (APS), Verglasung hinten abgedunkelt, Sitzheizung vorn, Dachreling (Aluminium), Soundsystem DSP / Audi Sound-System, Ablage- und Gepäckraum-Paket, Audi music interface, Scheibenwaschdüsen heizbar, Vorbereitung Navigationssystem, Adaptives Bremslicht, Anfahr-Assistent (hold assist), Antriebsart: Frontantrieb, Audi Drive Select, Außenspiegel Wagenfarbe, Blinkleuchten LED in Außenspiegel integriert, Bremsanlage mit Rekuperation - Bremsenergierückgewinnung, Bremsassistent, Dachspoiler, Dekoreinlagen Aluminium Mistral, Einstiegsleisten Aluminium, Elektron. Differentialsperre (EDS), Elektron. Stabilitätskontrolle (ESC), Elektron. Stabilitäts-Programm, Euro 6, Fahrer-Informations-System (FIS), Fensterheber elektrisch vorn und hinten, Frontscheibe Akustikglas, Fußmatten Velours, Getriebe 6-Gang, Heckscheibe heizbar, Interieur Aluminium-Optik, Isofix-Aufnahmen für Kindersitz, Kopfstützen hinten, Multi-Media-Interface MMI, Parkbremse elektro-mechanisch, Polster: Stoff Rallye, Servolenkung elektro-mechanisch, Sitze vorn mit ausziehbarer Oberschenkelauflage, Sitzhöhenverstellung, Sport/Lederlenkrad, Sport-Fahrwerk, Start/Stop-Anlage, Telefon-Vorbereitung mit Bluetooth-Schnittstelle, Wagenheber, Wärmeschutzverglasung, Xenon Plus, ZV mit Fernbedienung, ... Änderungen, Zwischenverkauf und Irrtümer vorbehalten.,  by CG360.de\\n]      1\n",
            "[\\n, Getriebe, 6-Gang, Licht und Sicht, Xenon-Scheinwerfer Plus (Abblend- und Fernlicht), Technik und Sicherheit, Fahrerairbag, Airbag Fahrer-/Beifahrerseite, Seitenairbag vorn, Kopfairbags, Anti-Blockier-System (ABS), Elektron. Stabilitätskontrolle (ESC), Elektron. Differentialsperre (EDS), Zentralverriegelung mit Fernbedienung, Schließ-/Startsystem Advanced Key (Komfortschlüssel), Servolenkung elektro-mechanisch, Geschwindigkeits-Regelanlage (Tempomat), Elektronische Wegfahrsperre, Bordcomputer, Reifendruck-Kontrollsystem, Assistenzsysteme, Fahrassistenz-System: Anfahr-Assistent (hold assist), Multimedia, Multi-Media-Interface MMI Basic Plus / MMI Radio Plus, Audi Smartphone Interface, Komfort, Komfort-Klimaautomatik 2-Zonen, Einparkhilfe hinten (APS), Fensterheber elektrisch, Licht- und Regensensor, Außenspiegel elektr. verstellbar beide, Scheibenwaschdüsen und Außenspiegel beheizt, Wärmeschutzverglasung grün getönt, Innenausstattung, Sitzheizung vorn, Lenkrad (Sport/Leder - 3-Speichen) mit Multifunktion, Mittelarmlehne vorn, Rücksitzlehne geteilt/klappbar, Aussenausstattung, LM-Felgen, Pakete, Komfort-Paket, Sonstiges, Rußpartikelfilter, Scheckheftgepflegt, Nichtraucherfahrzeug, Weitere Informationen, Schadstoffklasse: EURO 6D-TEMP, Connectivity-Paket, Glanz-Paket, LM-Felgen 7.5x17 (5-Speichen Y-Design), Progressivlenkung, Antriebs-Schlupfregelung (ASR), Elektron. Stabilitäts-Programm (ESP), Getriebe 6-Gang, Lenkrad (Sport - 3-Speichen), Parkbremse elektro-mechanisch, Sitze vorn höhenverstellbar, Vorrüstung Mobiltelefon/Handy mit Bluetooth-Schnittstelle, Audi music interface, Außenspiegel elektr. verstell- und heizbar beide, Vorbereitung Navigationssystem, Irrtümer und Änderungen vorbehalten., Die im Internet angebotene Ausstattung ist kein Vertragsbestandteil., Die Ausstattung muss vor Ort geprüft werden., Das angebotene Fahrzeug kann von einer Rückrufaktion betroffen sein. Co2 Angaben können abweichen., \\n]                                                                                                                                                                                                                                                                                                                                                                                                                                                                                                                                                                                                                                                                  1\n",
            "[\\n, Aluminium-Gussräder im 5-Speichen-Stern-Design Größe 7 J x 16 mit Reifen 205/55 R 16, Dachreling eloxiert, Einparkhilfe hinten, Fahrerinformationssystem mit Farbdisplay, Lederlenkrad im 3-Speichen-Design mit Multifunktion plus, Ablage-/Gepäckraumpaket mit erweitertem USB-Buchsen-Angebot, Lichtpaket, Reifen 16', Anlaufvariante RdW, Vorbereitung für Anhängevorrichtung, Audi sound system, Reifen 205/55 R16 91W, Xenon plus, Allwetterlicht, Kopfstützen hinten (3 Stück), MMI Radio plus, Zentralverriegelung mit Funkschlüssel, Bluetooth-Schnittstelle, Innenspiegel abblendbar, elektronische Stabilisierungskontrolle (ESC), Airbags, 6-Gang-Schaltgetriebe, Seitenairbags vorn und Kopfairbagsystem, elektromechanische Servolenkung, Leuchtweitenregulierung automatisch-statisch, Scheibenwaschdüsen beheizbar vorn, Reifendruck-Kontrollanzeige, Tagfahrlicht, Start-Stop-System, AUX-IN-Anschluss, Kindersitzverankerung ISOFIX und Top Tether für die äußeren Fondsitze, Sitzbezüge in Stoff Index, Wärmeschutzverglasung, Akustikfrontscheibe, Außenspiegel links asphärisch, Außen-Sound Standard, Außenspiegel rechts (großes Sichtfeld) konvex, elektromechanische Parkbremse, Dachhimmel in Stoff felsgrau, Kraftstoffsystem Otto-Einspritzer, Linkslenker, Reifenreparaturset, Heckleuchten, Scheibenwaschanlage, Entriegelung Hintersitz Standard, Waschwasserstandsanzeige, Abgaskonzept EU6 AG/H/I, Frontantrieb, A3, Außenspiegelgehäuse in Wagenfarbe, Ohne erweitertem Sicherheitssystem, Geschwindigkeitsbegrenzungsanlage, Dachkantenspoiler, Heckscheibenwischer, Sportback, Kindersicherung manuell, Ohne Kamerasysteme/Umfeldsensorik, 4-Zyl. Ottomotor 1 5 L/110KW TSI Grundmotor ist: TJ7/N09/T9F, Nebelschlussleuchten, Nichtraucherausführung, Radstand, Doppeltonfanfare, Serienfahrwerk, 4 Türen, Modellbezeichnung gemäß neuer Leistungskennzeichnung, Warnleuchten, Zierleisten schwarz, Nichtraucherfahrzeug, Irrtümer Änderungen und Zwischenverkauf vorbehalten, sehr guter Zustand, Komfortklima, Aussenspiegel heizbar, elektrische Aussenspiegel, geteilte Rückbank, Scheckheft gepflegt, Fahrersitz höhenverstellbar, Beifahrersitz höhenverstellbar, \\n]                                                                                                                                                                                                                                                                                                                                                                                                                                                                        1\n",
            "[\\nDEK:[2691331], Renault Espace Blue dCi 200CV EDC Business, Nuova da Immatricolare, COLORE: Grigio Titanio, INTERNO: Pelle+Tessuto, TRASMISSIONE: Cambio Automatico EDC, ---, ACCESSORI: , 7 Posti, , , Cerchi in Lega 17, Navigatore con Display 8.7, Clima Automatico, Sensori di Parcheggio Anteriori e Posteriori con Retrocamera, Fari Full LED Pure Vision, Cruise Control, Renault Multisense, ---, Listino Nuovo 44.300 Euro, Prezzo Gruppo Carmeli: 39.700 Euro (Esclusa IPT e Messa in Strada), IVA Esposta, In caso di Adesione alla PROMO GRUPPO CARMELI puoi Averla a 36.000 Euro, Contattaci per scoprire tutti i vantaggi della PROMO GRUPPO CARMELI, ____________________________________, Gruppo Carmeli S.p.A. è Concessionaria e Service ufficiale dei Marchi Renault, Dacia, Nissan, Mercedes e Smart per la provincia di Brescia e Bergamo ed opera nel mercato dell’auto da più di 40 anni., Nelle sedi di Brescia (Nissan e Renault-Dacia Autospazio), di Coccaglio (Renault-Dacia e Nissan) e di Bergamo (Nissan) oltre a tutta la gamma di veicoli dei Marchi rappresentati, propone anche 2.000 auto a Km Zero e Aziendali di tutte le marche., Offriamo Servizi:, -VALUTAZIONE e PERMUTA del tuo USATO, -ACQUISTO con pagamento immediato del tuo USATO, -FINANZIAMENTI e LEASING agevolati, -NOLEGGIO A LUNGO TERMINE di veicoli di tutte le marche, -PACCHETTI ASSICURATIVI su misura con possibilità di garanzia del valore a Nuovo, ____________________________________, Sebbene sia stato fatto ogni ragionevole sforzo per assicurare l'esattezza delle informazioni riportate, vi potrebbero essere involontarie incongruenze riguardanti le immagini e la descrizione degli accessori, che pertanto non rappresentano vincolo contrattuale. Per ulteriori informazioni sulle condizioni economiche ti invitiamo a contattarci., \\n]                                                                                                                                                                                                                                                                                                                                                                                                                                                                                                                                                                                                                                                                                                                                                                                                                   1\n",
            "Name: description, Length: 12874, dtype: int64\n",
            "******************************\n",
            "\n",
            "\n",
            "\n",
            "column name :  emission_label\n",
            "--------------------------------\n",
            "Per_of_Nulls   :  % 74.97\n",
            "Num_of_Nulls   :  11934\n",
            "NaN                     11934\n",
            "[\\n4 (Green)\\n]          3553\n",
            "[\\n1 (No sticker)\\n]      381\n",
            "[[], [], []]               40\n",
            "[\\n5 (Blue)\\n]              8\n",
            "[\\n3 (Yellow)\\n]            2\n",
            "[\\n2 (Red)\\n]               1\n",
            "Name: emission_label, dtype: int64\n",
            "******************************\n",
            "\n",
            "\n",
            "\n",
            "column name :  gears\n",
            "--------------------------------\n",
            "Per_of_Nulls   :  % 29.6\n",
            "Num_of_Nulls   :  4712\n",
            "[\\n6\\n]     5822\n",
            "NaN         4712\n",
            "[\\n5\\n]     3239\n",
            "[\\n7\\n]     1908\n",
            "[\\n8\\n]      224\n",
            "[\\n9\\n]        6\n",
            "[\\n1\\n]        2\n",
            "[\\n3\\n]        2\n",
            "[\\n4\\n]        2\n",
            "[\\n2\\n]        1\n",
            "[\\n50\\n]       1\n",
            "Name: gears, dtype: int64\n",
            "******************************\n",
            "\n",
            "\n",
            "\n",
            "column name :  country_version\n",
            "--------------------------------\n",
            "Per_of_Nulls   :  % 52.35\n",
            "Num_of_Nulls   :  8333\n",
            "NaN                     8333\n",
            "[\\nGermany\\n]           4502\n",
            "[\\nItaly\\n]             1038\n",
            "[\\nEuropean Union\\n]     507\n",
            "[\\nNetherlands\\n]        464\n",
            "[\\nSpain\\n]              325\n",
            "[\\nBelgium\\n]            314\n",
            "[\\nAustria\\n]            208\n",
            "[\\nCzech Republic\\n]      52\n",
            "[\\nPoland\\n]              49\n",
            "[\\nFrance\\n]              38\n",
            "[\\nDenmark\\n]             33\n",
            "[\\nHungary\\n]             28\n",
            "[\\nJapan\\n]                8\n",
            "[\\nSlovakia\\n]             4\n",
            "[\\nCroatia\\n]              4\n",
            "[\\nSweden\\n]               3\n",
            "[\\nRomania\\n]              2\n",
            "[\\nBulgaria\\n]             2\n",
            "[\\nLuxembourg\\n]           1\n",
            "[\\nSwitzerland\\n]          1\n",
            "[\\nSlovenia\\n]             1\n",
            "[\\nEgypt\\n]                1\n",
            "[\\nSerbia\\n]               1\n",
            "Name: country_version, dtype: int64\n",
            "******************************\n",
            "\n",
            "\n",
            "\n",
            "column name :  electricity_consumption\n",
            "--------------------------------\n",
            "Per_of_Nulls   :  % 99.14\n",
            "Num_of_Nulls   :  15782\n",
            "NaN                          15782\n",
            "[\\n0 kWh/100 km (comb)\\n]      137\n",
            "Name: electricity_consumption, dtype: int64\n",
            "******************************\n",
            "\n",
            "\n",
            "\n",
            "column name :  last_service_date\n",
            "--------------------------------\n",
            "Per_of_Nulls   :  % 96.44\n",
            "Num_of_Nulls   :  15353\n",
            "NaN                                       15353\n",
            "[\\n02/2019\\n, \\nEuro 6\\n]                    23\n",
            "[\\n05/2019\\n, \\nEuro 6\\n]                    16\n",
            "[\\n01/2018\\n, \\n118 g CO2/km (comb)\\n]       15\n",
            "[\\n03/2019\\n, \\nEuro 6\\n]                    15\n",
            "                                          ...  \n",
            "[\\n01/2017\\n, \\n95 g CO2/km (comb)\\n]         1\n",
            "[\\n06/2019\\n, \\n87 g CO2/km (comb)\\n]         1\n",
            "[\\n10/2018\\n, \\n100 g CO2/km (comb)\\n]        1\n",
            "[\\n02/2018\\n, \\n97 g CO2/km (comb)\\n]         1\n",
            "[\\n03/2019\\n, \\n120 g CO2/km (comb)\\n]        1\n",
            "Name: last_service_date, Length: 267, dtype: int64\n",
            "******************************\n",
            "\n",
            "\n",
            "\n",
            "column name :  other_fuel_types\n",
            "--------------------------------\n",
            "Per_of_Nulls   :  % 94.47\n",
            "Num_of_Nulls   :  15039\n",
            "NaN             15039\n",
            "[[], [], []]      880\n",
            "Name: other_fuel_types, dtype: int64\n",
            "******************************\n",
            "\n",
            "\n",
            "\n",
            "column name :  availability\n",
            "--------------------------------\n",
            "Per_of_Nulls   :  % 96.01\n",
            "Num_of_Nulls   :  15284\n",
            "NaN                              15284\n",
            "\\nin 90 days from ordering\\n       196\n",
            "\\nin 120 days from ordering\\n      182\n",
            "\\nin 1 day from ordering\\n          51\n",
            "\\nin 5 days from ordering\\n         35\n",
            "\\nin 3 days from ordering\\n         35\n",
            "\\nin 180 days from ordering\\n       24\n",
            "\\nin 14 days from ordering\\n        24\n",
            "\\nin 7 days from ordering\\n         20\n",
            "\\nin 150 days from ordering\\n       18\n",
            "\\nin 2 days from ordering\\n         16\n",
            "\\nin 60 days from ordering\\n        13\n",
            "\\nin 42 days from ordering\\n        10\n",
            "\\nin 21 days from ordering\\n         8\n",
            "\\nin 4 days from ordering\\n          2\n",
            "\\nin 6 days from ordering\\n          1\n",
            "Name: availability, dtype: int64\n",
            "******************************\n",
            "\n",
            "\n",
            "\n",
            "column name :  last_timing_belt_service_date\n",
            "--------------------------------\n",
            "Per_of_Nulls   :  % 99.9\n",
            "Num_of_Nulls   :  15903\n",
            "NaN                          15903\n",
            "[\\n04/2016\\n]                    2\n",
            "[\\n12/1900\\n]                    1\n",
            "[\\n07/2018\\n]                    1\n",
            "[\\n01/1900\\n]                    1\n",
            "[\\n05/2019\\n]                    1\n",
            "[\\n09/2018\\n]                    1\n",
            "[\\n05/2018\\n, \\nEuro 6\\n]        1\n",
            "[\\n06/2017\\n]                    1\n",
            "[\\n01/2019\\n]                    1\n",
            "[\\n02/2019\\n]                    1\n",
            "[\\n02/2018\\n]                    1\n",
            "[\\n06/2019\\n]                    1\n",
            "[\\n01/2018\\n]                    1\n",
            "[\\n04/2019\\n]                    1\n",
            "[\\n01/1970\\n]                    1\n",
            "Name: last_timing_belt_service_date, dtype: int64\n",
            "******************************\n",
            "\n",
            "\n",
            "\n",
            "column name :  available_from\n",
            "--------------------------------\n",
            "Per_of_Nulls   :  % 98.29\n",
            "Num_of_Nulls   :  15647\n",
            "NaN             15647\n",
            "\\n31/08/19\\n       98\n",
            "\\n30/07/19\\n       25\n",
            "\\n15/08/19\\n       24\n",
            "\\n16/09/19\\n       14\n",
            "\\n29/06/19\\n       12\n",
            "\\n01/07/19\\n       11\n",
            "\\n28/06/19\\n       10\n",
            "\\n19/08/19\\n        7\n",
            "\\n10/09/19\\n        6\n",
            "\\n26/06/19\\n        5\n",
            "\\n27/06/19\\n        5\n",
            "\\n10/11/19\\n        5\n",
            "\\n08/07/19\\n        4\n",
            "\\n15/07/19\\n        3\n",
            "\\n25/10/19\\n        3\n",
            "\\n01/08/19\\n        3\n",
            "\\n04/07/19\\n        2\n",
            "\\n05/08/19\\n        2\n",
            "\\n24/08/19\\n        2\n",
            "\\n16/07/19\\n        2\n",
            "\\n20/07/19\\n        2\n",
            "\\n05/07/19\\n        2\n",
            "\\n30/06/19\\n        2\n",
            "\\n30/09/19\\n        1\n",
            "\\n31/10/19\\n        1\n",
            "\\n27/07/19\\n        1\n",
            "\\n02/07/19\\n        1\n",
            "\\n10/07/19\\n        1\n",
            "\\n19/07/19\\n        1\n",
            "\\n24/07/19\\n        1\n",
            "\\n29/07/19\\n        1\n",
            "\\n29/09/19\\n        1\n",
            "\\n18/08/19\\n        1\n",
            "\\n14/09/19\\n        1\n",
            "\\n18/07/19\\n        1\n",
            "\\n16/08/19\\n        1\n",
            "\\n24/09/19\\n        1\n",
            "\\n17/08/19\\n        1\n",
            "\\n10/10/19\\n        1\n",
            "\\n06/12/19\\n        1\n",
            "\\n03/12/19\\n        1\n",
            "\\n05/12/19\\n        1\n",
            "\\n11/08/19\\n        1\n",
            "\\n10/12/19\\n        1\n",
            "\\n01/09/19\\n        1\n",
            "\\n03/08/19\\n        1\n",
            "Name: available_from, dtype: int64\n",
            "******************************\n",
            "\n",
            "\n",
            "\n"
          ]
        }
      ]
    },
    {
      "cell_type": "code",
      "source": [
        "check_df([\"url\"])"
      ],
      "metadata": {
        "colab": {
          "base_uri": "https://localhost:8080/"
        },
        "id": "rN_ur5u--gQ3",
        "outputId": "fd69d5e3-c6ad-4365-a5aa-6538454fc28c"
      },
      "execution_count": 49,
      "outputs": [
        {
          "output_type": "stream",
          "name": "stdout",
          "text": [
            "column name :  ['url']\n",
            "--------------------------------\n",
            "Per_of_Nulls   :  % url    0.0\n",
            "dtype: float64\n",
            "Num_of_Nulls   :  url    0\n",
            "dtype: int64\n",
            "url                                                                                                                                                        \n",
            "https://www.autoscout24.com//offers/audi-a1-1-0-30-tfsi-sportback-advanced-2019-sh-pdc-gasoline-white-1037d13f-0851-44dd-b559-c6f6def8e6d2                     1\n",
            "https://www.autoscout24.com//offers/opel-insignia-1-5-turbo-s-s-innovation-at-matrix-led-gasoline-black-8b880006-0c08-4500-91c0-2b45013716c8                   1\n",
            "https://www.autoscout24.com//offers/opel-insignia-1-5-turbo-innovation-matrix-navi-pdc-gasoline-silver-bf9ce61b-6d07-4e1a-b734-e5c1742f03b8                    1\n",
            "https://www.autoscout24.com//offers/opel-insignia-1-5-turbo-innovation-navi-klimaaut-gasoline-blue-900ec5a8-b2db-427d-8977-8363b8ae15b9                        1\n",
            "https://www.autoscout24.com//offers/opel-insignia-1-5-turbo-innovation-navi-klimaaut-gasoline-grey-913b914f-a839-416d-96ba-c995de9f4db3                        1\n",
            "                                                                                                                                                              ..\n",
            "https://www.autoscout24.com//offers/audi-a3-sportback-35-tfsi-1-5-150-ps-euro-6-wltp-gasoline-white-d84d9ed1-c735-48a1-89ba-d614f7da6a0a                       1\n",
            "https://www.autoscout24.com//offers/audi-a3-sportback-35-tfsi-110kw-gasoline-00a371f2-061f-4339-87cd-f5605edae75b                                              1\n",
            "https://www.autoscout24.com//offers/audi-a3-sportback-35-tfsi-150-gps-radars-16p-gasoline-black-2f028979-a6f3-4716-9c76-6e981fb0a3c9                           1\n",
            "https://www.autoscout24.com//offers/audi-a3-sportback-35-tfsi-150-gps-radars-16p-gasoline-grey-a6344f21-90da-4140-b505-9bd31ec5013e                            1\n",
            "https://www.autoscout24.com//offers/renault-espace-zu-spaet-geht-an-haendler-da-wird-er-dann-23-000-ko-gasoline-silver-93caa088-19e3-905e-e053-e250040a8d8d    1\n",
            "Length: 15919, dtype: int64\n",
            "******************************\n",
            "\n",
            "\n",
            "\n"
          ]
        }
      ]
    },
    {
      "cell_type": "code",
      "source": [
        "\n",
        "df.drop(columns=\"url\", inplace=True)"
      ],
      "metadata": {
        "id": "PA9IVjn2IdRt"
      },
      "execution_count": 50,
      "outputs": []
    },
    {
      "cell_type": "code",
      "source": [
        "for i in [\"make_model\", \"make\", \"model\"]:\n",
        "    check_df(i)"
      ],
      "metadata": {
        "colab": {
          "base_uri": "https://localhost:8080/"
        },
        "id": "5w3xEixuIgky",
        "outputId": "7d1978ff-6d96-4feb-cfeb-209cb3dcf20a"
      },
      "execution_count": 51,
      "outputs": [
        {
          "output_type": "stream",
          "name": "stdout",
          "text": [
            "column name :  make_model\n",
            "--------------------------------\n",
            "Per_of_Nulls   :  % 0.0\n",
            "Num_of_Nulls   :  0\n",
            "Audi A3           3097\n",
            "Audi A1           2614\n",
            "Opel Insignia     2598\n",
            "Opel Astra        2526\n",
            "Opel Corsa        2219\n",
            "Renault Clio      1839\n",
            "Renault Espace     991\n",
            "Renault Duster      34\n",
            "Audi A2              1\n",
            "Name: make_model, dtype: int64\n",
            "******************************\n",
            "\n",
            "\n",
            "\n",
            "column name :  make\n",
            "--------------------------------\n",
            "Per_of_Nulls   :  % 0.0\n",
            "Num_of_Nulls   :  0\n",
            "\\nOpel\\n       7343\n",
            "\\nAudi\\n       5712\n",
            "\\nRenault\\n    2864\n",
            "Name: make, dtype: int64\n",
            "******************************\n",
            "\n",
            "\n",
            "\n",
            "column name :  model\n",
            "--------------------------------\n",
            "Per_of_Nulls   :  % 0.0\n",
            "Num_of_Nulls   :  0\n",
            "[\\n, A3, \\n]          3097\n",
            "[\\n, A1, \\n]          2614\n",
            "[\\n, Insignia, \\n]    2598\n",
            "[\\n, Astra, \\n]       2526\n",
            "[\\n, Corsa, \\n]       2219\n",
            "[\\n, Clio, \\n]        1839\n",
            "[\\n, Espace, \\n]       991\n",
            "[\\n, Duster, \\n]        34\n",
            "[\\n, A2, \\n]             1\n",
            "Name: model, dtype: int64\n",
            "******************************\n",
            "\n",
            "\n",
            "\n"
          ]
        }
      ]
    },
    {
      "cell_type": "code",
      "source": [
        "df[[\"make_model\", \"make\", \"model\"]].sample(30)"
      ],
      "metadata": {
        "colab": {
          "base_uri": "https://localhost:8080/",
          "height": 990
        },
        "id": "3RhqCBzTIkru",
        "outputId": "ebaa7ad4-4738-4a92-e730-be4a7b36b133"
      },
      "execution_count": 52,
      "outputs": [
        {
          "output_type": "execute_result",
          "data": {
            "text/plain": [
              "           make_model         make               model\n",
              "1897          Audi A1     \\nAudi\\n        [\\n, A1, \\n]\n",
              "3785          Audi A3     \\nAudi\\n        [\\n, A3, \\n]\n",
              "9707       Opel Corsa     \\nOpel\\n     [\\n, Corsa, \\n]\n",
              "14311    Renault Clio  \\nRenault\\n      [\\n, Clio, \\n]\n",
              "12607   Opel Insignia     \\nOpel\\n  [\\n, Insignia, \\n]\n",
              "13847    Renault Clio  \\nRenault\\n      [\\n, Clio, \\n]\n",
              "12657   Opel Insignia     \\nOpel\\n  [\\n, Insignia, \\n]\n",
              "14019    Renault Clio  \\nRenault\\n      [\\n, Clio, \\n]\n",
              "5452          Audi A3     \\nAudi\\n        [\\n, A3, \\n]\n",
              "15143  Renault Espace  \\nRenault\\n    [\\n, Espace, \\n]\n",
              "8371       Opel Corsa     \\nOpel\\n     [\\n, Corsa, \\n]\n",
              "2906          Audi A3     \\nAudi\\n        [\\n, A3, \\n]\n",
              "3454          Audi A3     \\nAudi\\n        [\\n, A3, \\n]\n",
              "8772       Opel Corsa     \\nOpel\\n     [\\n, Corsa, \\n]\n",
              "1275          Audi A1     \\nAudi\\n        [\\n, A1, \\n]\n",
              "2167          Audi A1     \\nAudi\\n        [\\n, A1, \\n]\n",
              "3756          Audi A3     \\nAudi\\n        [\\n, A3, \\n]\n",
              "12573   Opel Insignia     \\nOpel\\n  [\\n, Insignia, \\n]\n",
              "15563  Renault Espace  \\nRenault\\n    [\\n, Espace, \\n]\n",
              "1794          Audi A1     \\nAudi\\n        [\\n, A1, \\n]\n",
              "5322          Audi A3     \\nAudi\\n        [\\n, A3, \\n]\n",
              "10522   Opel Insignia     \\nOpel\\n  [\\n, Insignia, \\n]\n",
              "12960   Opel Insignia     \\nOpel\\n  [\\n, Insignia, \\n]\n",
              "2144          Audi A1     \\nAudi\\n        [\\n, A1, \\n]\n",
              "11844   Opel Insignia     \\nOpel\\n  [\\n, Insignia, \\n]\n",
              "1583          Audi A1     \\nAudi\\n        [\\n, A1, \\n]\n",
              "14062    Renault Clio  \\nRenault\\n      [\\n, Clio, \\n]\n",
              "14837    Renault Clio  \\nRenault\\n      [\\n, Clio, \\n]\n",
              "2959          Audi A3     \\nAudi\\n        [\\n, A3, \\n]\n",
              "11230   Opel Insignia     \\nOpel\\n  [\\n, Insignia, \\n]"
            ],
            "text/html": [
              "\n",
              "  <div id=\"df-2dadb320-4277-4626-929b-cfeb11016664\">\n",
              "    <div class=\"colab-df-container\">\n",
              "      <div>\n",
              "<style scoped>\n",
              "    .dataframe tbody tr th:only-of-type {\n",
              "        vertical-align: middle;\n",
              "    }\n",
              "\n",
              "    .dataframe tbody tr th {\n",
              "        vertical-align: top;\n",
              "    }\n",
              "\n",
              "    .dataframe thead th {\n",
              "        text-align: right;\n",
              "    }\n",
              "</style>\n",
              "<table border=\"1\" class=\"dataframe\">\n",
              "  <thead>\n",
              "    <tr style=\"text-align: right;\">\n",
              "      <th></th>\n",
              "      <th>make_model</th>\n",
              "      <th>make</th>\n",
              "      <th>model</th>\n",
              "    </tr>\n",
              "  </thead>\n",
              "  <tbody>\n",
              "    <tr>\n",
              "      <th>1897</th>\n",
              "      <td>Audi A1</td>\n",
              "      <td>\\nAudi\\n</td>\n",
              "      <td>[\\n, A1, \\n]</td>\n",
              "    </tr>\n",
              "    <tr>\n",
              "      <th>3785</th>\n",
              "      <td>Audi A3</td>\n",
              "      <td>\\nAudi\\n</td>\n",
              "      <td>[\\n, A3, \\n]</td>\n",
              "    </tr>\n",
              "    <tr>\n",
              "      <th>9707</th>\n",
              "      <td>Opel Corsa</td>\n",
              "      <td>\\nOpel\\n</td>\n",
              "      <td>[\\n, Corsa, \\n]</td>\n",
              "    </tr>\n",
              "    <tr>\n",
              "      <th>14311</th>\n",
              "      <td>Renault Clio</td>\n",
              "      <td>\\nRenault\\n</td>\n",
              "      <td>[\\n, Clio, \\n]</td>\n",
              "    </tr>\n",
              "    <tr>\n",
              "      <th>12607</th>\n",
              "      <td>Opel Insignia</td>\n",
              "      <td>\\nOpel\\n</td>\n",
              "      <td>[\\n, Insignia, \\n]</td>\n",
              "    </tr>\n",
              "    <tr>\n",
              "      <th>13847</th>\n",
              "      <td>Renault Clio</td>\n",
              "      <td>\\nRenault\\n</td>\n",
              "      <td>[\\n, Clio, \\n]</td>\n",
              "    </tr>\n",
              "    <tr>\n",
              "      <th>12657</th>\n",
              "      <td>Opel Insignia</td>\n",
              "      <td>\\nOpel\\n</td>\n",
              "      <td>[\\n, Insignia, \\n]</td>\n",
              "    </tr>\n",
              "    <tr>\n",
              "      <th>14019</th>\n",
              "      <td>Renault Clio</td>\n",
              "      <td>\\nRenault\\n</td>\n",
              "      <td>[\\n, Clio, \\n]</td>\n",
              "    </tr>\n",
              "    <tr>\n",
              "      <th>5452</th>\n",
              "      <td>Audi A3</td>\n",
              "      <td>\\nAudi\\n</td>\n",
              "      <td>[\\n, A3, \\n]</td>\n",
              "    </tr>\n",
              "    <tr>\n",
              "      <th>15143</th>\n",
              "      <td>Renault Espace</td>\n",
              "      <td>\\nRenault\\n</td>\n",
              "      <td>[\\n, Espace, \\n]</td>\n",
              "    </tr>\n",
              "    <tr>\n",
              "      <th>8371</th>\n",
              "      <td>Opel Corsa</td>\n",
              "      <td>\\nOpel\\n</td>\n",
              "      <td>[\\n, Corsa, \\n]</td>\n",
              "    </tr>\n",
              "    <tr>\n",
              "      <th>2906</th>\n",
              "      <td>Audi A3</td>\n",
              "      <td>\\nAudi\\n</td>\n",
              "      <td>[\\n, A3, \\n]</td>\n",
              "    </tr>\n",
              "    <tr>\n",
              "      <th>3454</th>\n",
              "      <td>Audi A3</td>\n",
              "      <td>\\nAudi\\n</td>\n",
              "      <td>[\\n, A3, \\n]</td>\n",
              "    </tr>\n",
              "    <tr>\n",
              "      <th>8772</th>\n",
              "      <td>Opel Corsa</td>\n",
              "      <td>\\nOpel\\n</td>\n",
              "      <td>[\\n, Corsa, \\n]</td>\n",
              "    </tr>\n",
              "    <tr>\n",
              "      <th>1275</th>\n",
              "      <td>Audi A1</td>\n",
              "      <td>\\nAudi\\n</td>\n",
              "      <td>[\\n, A1, \\n]</td>\n",
              "    </tr>\n",
              "    <tr>\n",
              "      <th>2167</th>\n",
              "      <td>Audi A1</td>\n",
              "      <td>\\nAudi\\n</td>\n",
              "      <td>[\\n, A1, \\n]</td>\n",
              "    </tr>\n",
              "    <tr>\n",
              "      <th>3756</th>\n",
              "      <td>Audi A3</td>\n",
              "      <td>\\nAudi\\n</td>\n",
              "      <td>[\\n, A3, \\n]</td>\n",
              "    </tr>\n",
              "    <tr>\n",
              "      <th>12573</th>\n",
              "      <td>Opel Insignia</td>\n",
              "      <td>\\nOpel\\n</td>\n",
              "      <td>[\\n, Insignia, \\n]</td>\n",
              "    </tr>\n",
              "    <tr>\n",
              "      <th>15563</th>\n",
              "      <td>Renault Espace</td>\n",
              "      <td>\\nRenault\\n</td>\n",
              "      <td>[\\n, Espace, \\n]</td>\n",
              "    </tr>\n",
              "    <tr>\n",
              "      <th>1794</th>\n",
              "      <td>Audi A1</td>\n",
              "      <td>\\nAudi\\n</td>\n",
              "      <td>[\\n, A1, \\n]</td>\n",
              "    </tr>\n",
              "    <tr>\n",
              "      <th>5322</th>\n",
              "      <td>Audi A3</td>\n",
              "      <td>\\nAudi\\n</td>\n",
              "      <td>[\\n, A3, \\n]</td>\n",
              "    </tr>\n",
              "    <tr>\n",
              "      <th>10522</th>\n",
              "      <td>Opel Insignia</td>\n",
              "      <td>\\nOpel\\n</td>\n",
              "      <td>[\\n, Insignia, \\n]</td>\n",
              "    </tr>\n",
              "    <tr>\n",
              "      <th>12960</th>\n",
              "      <td>Opel Insignia</td>\n",
              "      <td>\\nOpel\\n</td>\n",
              "      <td>[\\n, Insignia, \\n]</td>\n",
              "    </tr>\n",
              "    <tr>\n",
              "      <th>2144</th>\n",
              "      <td>Audi A1</td>\n",
              "      <td>\\nAudi\\n</td>\n",
              "      <td>[\\n, A1, \\n]</td>\n",
              "    </tr>\n",
              "    <tr>\n",
              "      <th>11844</th>\n",
              "      <td>Opel Insignia</td>\n",
              "      <td>\\nOpel\\n</td>\n",
              "      <td>[\\n, Insignia, \\n]</td>\n",
              "    </tr>\n",
              "    <tr>\n",
              "      <th>1583</th>\n",
              "      <td>Audi A1</td>\n",
              "      <td>\\nAudi\\n</td>\n",
              "      <td>[\\n, A1, \\n]</td>\n",
              "    </tr>\n",
              "    <tr>\n",
              "      <th>14062</th>\n",
              "      <td>Renault Clio</td>\n",
              "      <td>\\nRenault\\n</td>\n",
              "      <td>[\\n, Clio, \\n]</td>\n",
              "    </tr>\n",
              "    <tr>\n",
              "      <th>14837</th>\n",
              "      <td>Renault Clio</td>\n",
              "      <td>\\nRenault\\n</td>\n",
              "      <td>[\\n, Clio, \\n]</td>\n",
              "    </tr>\n",
              "    <tr>\n",
              "      <th>2959</th>\n",
              "      <td>Audi A3</td>\n",
              "      <td>\\nAudi\\n</td>\n",
              "      <td>[\\n, A3, \\n]</td>\n",
              "    </tr>\n",
              "    <tr>\n",
              "      <th>11230</th>\n",
              "      <td>Opel Insignia</td>\n",
              "      <td>\\nOpel\\n</td>\n",
              "      <td>[\\n, Insignia, \\n]</td>\n",
              "    </tr>\n",
              "  </tbody>\n",
              "</table>\n",
              "</div>\n",
              "      <button class=\"colab-df-convert\" onclick=\"convertToInteractive('df-2dadb320-4277-4626-929b-cfeb11016664')\"\n",
              "              title=\"Convert this dataframe to an interactive table.\"\n",
              "              style=\"display:none;\">\n",
              "        \n",
              "  <svg xmlns=\"http://www.w3.org/2000/svg\" height=\"24px\"viewBox=\"0 0 24 24\"\n",
              "       width=\"24px\">\n",
              "    <path d=\"M0 0h24v24H0V0z\" fill=\"none\"/>\n",
              "    <path d=\"M18.56 5.44l.94 2.06.94-2.06 2.06-.94-2.06-.94-.94-2.06-.94 2.06-2.06.94zm-11 1L8.5 8.5l.94-2.06 2.06-.94-2.06-.94L8.5 2.5l-.94 2.06-2.06.94zm10 10l.94 2.06.94-2.06 2.06-.94-2.06-.94-.94-2.06-.94 2.06-2.06.94z\"/><path d=\"M17.41 7.96l-1.37-1.37c-.4-.4-.92-.59-1.43-.59-.52 0-1.04.2-1.43.59L10.3 9.45l-7.72 7.72c-.78.78-.78 2.05 0 2.83L4 21.41c.39.39.9.59 1.41.59.51 0 1.02-.2 1.41-.59l7.78-7.78 2.81-2.81c.8-.78.8-2.07 0-2.86zM5.41 20L4 18.59l7.72-7.72 1.47 1.35L5.41 20z\"/>\n",
              "  </svg>\n",
              "      </button>\n",
              "      \n",
              "  <style>\n",
              "    .colab-df-container {\n",
              "      display:flex;\n",
              "      flex-wrap:wrap;\n",
              "      gap: 12px;\n",
              "    }\n",
              "\n",
              "    .colab-df-convert {\n",
              "      background-color: #E8F0FE;\n",
              "      border: none;\n",
              "      border-radius: 50%;\n",
              "      cursor: pointer;\n",
              "      display: none;\n",
              "      fill: #1967D2;\n",
              "      height: 32px;\n",
              "      padding: 0 0 0 0;\n",
              "      width: 32px;\n",
              "    }\n",
              "\n",
              "    .colab-df-convert:hover {\n",
              "      background-color: #E2EBFA;\n",
              "      box-shadow: 0px 1px 2px rgba(60, 64, 67, 0.3), 0px 1px 3px 1px rgba(60, 64, 67, 0.15);\n",
              "      fill: #174EA6;\n",
              "    }\n",
              "\n",
              "    [theme=dark] .colab-df-convert {\n",
              "      background-color: #3B4455;\n",
              "      fill: #D2E3FC;\n",
              "    }\n",
              "\n",
              "    [theme=dark] .colab-df-convert:hover {\n",
              "      background-color: #434B5C;\n",
              "      box-shadow: 0px 1px 3px 1px rgba(0, 0, 0, 0.15);\n",
              "      filter: drop-shadow(0px 1px 2px rgba(0, 0, 0, 0.3));\n",
              "      fill: #FFFFFF;\n",
              "    }\n",
              "  </style>\n",
              "\n",
              "      <script>\n",
              "        const buttonEl =\n",
              "          document.querySelector('#df-2dadb320-4277-4626-929b-cfeb11016664 button.colab-df-convert');\n",
              "        buttonEl.style.display =\n",
              "          google.colab.kernel.accessAllowed ? 'block' : 'none';\n",
              "\n",
              "        async function convertToInteractive(key) {\n",
              "          const element = document.querySelector('#df-2dadb320-4277-4626-929b-cfeb11016664');\n",
              "          const dataTable =\n",
              "            await google.colab.kernel.invokeFunction('convertToInteractive',\n",
              "                                                     [key], {});\n",
              "          if (!dataTable) return;\n",
              "\n",
              "          const docLinkHtml = 'Like what you see? Visit the ' +\n",
              "            '<a target=\"_blank\" href=https://colab.research.google.com/notebooks/data_table.ipynb>data table notebook</a>'\n",
              "            + ' to learn more about interactive tables.';\n",
              "          element.innerHTML = '';\n",
              "          dataTable['output_type'] = 'display_data';\n",
              "          await google.colab.output.renderOutput(dataTable, element);\n",
              "          const docLink = document.createElement('div');\n",
              "          docLink.innerHTML = docLinkHtml;\n",
              "          element.appendChild(docLink);\n",
              "        }\n",
              "      </script>\n",
              "    </div>\n",
              "  </div>\n",
              "  "
            ]
          },
          "metadata": {},
          "execution_count": 52
        }
      ]
    },
    {
      "cell_type": "code",
      "source": [
        "df[[\"make\", \"model\"]] = df.make_model.str.split(\" \", expand=True)"
      ],
      "metadata": {
        "id": "65yCJ-cKIkuj"
      },
      "execution_count": 53,
      "outputs": []
    },
    {
      "cell_type": "code",
      "source": [
        "df.drop(columns=\"make_model\", inplace=True)"
      ],
      "metadata": {
        "id": "rBD2RAPKIkxZ"
      },
      "execution_count": 54,
      "outputs": []
    },
    {
      "cell_type": "code",
      "source": [
        "df.head(1).T"
      ],
      "metadata": {
        "colab": {
          "base_uri": "https://localhost:8080/",
          "height": 1000
        },
        "id": "xf0_bw-ZIk0P",
        "outputId": "9f1c242f-9f2a-46fb-f2bd-808365240a87"
      },
      "execution_count": 55,
      "outputs": [
        {
          "output_type": "execute_result",
          "data": {
            "text/plain": [
              "                                                                               0\n",
              "short_description                    Sportback 1.4 TDI S-tronic Xenon Navi Klima\n",
              "body_type                                                                 Sedans\n",
              "price                                                                      15770\n",
              "vat                                                               VAT deductible\n",
              "km                                                                     56,013 km\n",
              "registration                                                             01/2016\n",
              "prev_owner                                                     2 previous owners\n",
              "kw                                                                           NaN\n",
              "hp                                                                         66 kW\n",
              "type                                     [, Used, , Diesel (Particulate Filter)]\n",
              "previous_owners                                                            \\n2\\n\n",
              "next_inspection                            [\\n06/2021\\n, \\n99 g CO2/km (comb)\\n]\n",
              "inspection_new                                             [\\nYes\\n, \\nEuro 6\\n]\n",
              "warranty                                                 [\\n, \\n, \\n4 (Green)\\n]\n",
              "full_service                                                            [\\n, \\n]\n",
              "non-smoking_vehicle                                                     [\\n, \\n]\n",
              "null                                                                          []\n",
              "make                                                                        Audi\n",
              "model                                                                         A1\n",
              "offer_number                                                     [\\nLR-062483\\n]\n",
              "first_registration                                                [\\n, 2016, \\n]\n",
              "body_color                                                       [\\n, Black, \\n]\n",
              "paint_type                                                        [\\nMetallic\\n]\n",
              "body_color_original                                          [\\nMythosschwarz\\n]\n",
              "upholstery                                                    [\\nCloth, Black\\n]\n",
              "body                                                            [\\n, Sedans, \\n]\n",
              "nr._of_doors                                                             [\\n5\\n]\n",
              "nr._of_seats                                                             [\\n5\\n]\n",
              "model_code                                                        [\\n0588/BDF\\n]\n",
              "gearing_type                                                 [\\n, Automatic, \\n]\n",
              "displacement                                                      [\\n1,422 cc\\n]\n",
              "cylinders                                                                [\\n3\\n]\n",
              "weight                                                            [\\n1,220 kg\\n]\n",
              "drive_chain                                                          [\\nfront\\n]\n",
              "fuel                                       [\\n, Diesel (Particulate Filter), \\n]\n",
              "consumption                    [[3.8 l/100 km (comb)], [4.3 l/100 km (city)],...\n",
              "co2_emission                                            [\\n99 g CO2/km (comb)\\n]\n",
              "emission_class                                                      [\\nEuro 6\\n]\n",
              "comfort&convenience            [Air conditioning, Armrest, Automatic climate ...\n",
              "entertainment&media            [Bluetooth, Hands-free equipment, On-board com...\n",
              "extras                         [Alloy wheels, Catalytic Converter, Voice Cont...\n",
              "safety_&_security              [ABS, Central door lock, Daytime running light...\n",
              "description                    [\\n, Sicherheit:,  , Deaktivierung für Beifahr...\n",
              "emission_label                                                               NaN\n",
              "gears                                                                        NaN\n",
              "country_version                                                              NaN\n",
              "electricity_consumption                                                      NaN\n",
              "last_service_date                                                            NaN\n",
              "other_fuel_types                                                             NaN\n",
              "availability                                                                 NaN\n",
              "last_timing_belt_service_date                                                NaN\n",
              "available_from                                                               NaN"
            ],
            "text/html": [
              "\n",
              "  <div id=\"df-90cbf48b-1a1c-4946-8844-024b200aa500\">\n",
              "    <div class=\"colab-df-container\">\n",
              "      <div>\n",
              "<style scoped>\n",
              "    .dataframe tbody tr th:only-of-type {\n",
              "        vertical-align: middle;\n",
              "    }\n",
              "\n",
              "    .dataframe tbody tr th {\n",
              "        vertical-align: top;\n",
              "    }\n",
              "\n",
              "    .dataframe thead th {\n",
              "        text-align: right;\n",
              "    }\n",
              "</style>\n",
              "<table border=\"1\" class=\"dataframe\">\n",
              "  <thead>\n",
              "    <tr style=\"text-align: right;\">\n",
              "      <th></th>\n",
              "      <th>0</th>\n",
              "    </tr>\n",
              "  </thead>\n",
              "  <tbody>\n",
              "    <tr>\n",
              "      <th>short_description</th>\n",
              "      <td>Sportback 1.4 TDI S-tronic Xenon Navi Klima</td>\n",
              "    </tr>\n",
              "    <tr>\n",
              "      <th>body_type</th>\n",
              "      <td>Sedans</td>\n",
              "    </tr>\n",
              "    <tr>\n",
              "      <th>price</th>\n",
              "      <td>15770</td>\n",
              "    </tr>\n",
              "    <tr>\n",
              "      <th>vat</th>\n",
              "      <td>VAT deductible</td>\n",
              "    </tr>\n",
              "    <tr>\n",
              "      <th>km</th>\n",
              "      <td>56,013 km</td>\n",
              "    </tr>\n",
              "    <tr>\n",
              "      <th>registration</th>\n",
              "      <td>01/2016</td>\n",
              "    </tr>\n",
              "    <tr>\n",
              "      <th>prev_owner</th>\n",
              "      <td>2 previous owners</td>\n",
              "    </tr>\n",
              "    <tr>\n",
              "      <th>kw</th>\n",
              "      <td>NaN</td>\n",
              "    </tr>\n",
              "    <tr>\n",
              "      <th>hp</th>\n",
              "      <td>66 kW</td>\n",
              "    </tr>\n",
              "    <tr>\n",
              "      <th>type</th>\n",
              "      <td>[, Used, , Diesel (Particulate Filter)]</td>\n",
              "    </tr>\n",
              "    <tr>\n",
              "      <th>previous_owners</th>\n",
              "      <td>\\n2\\n</td>\n",
              "    </tr>\n",
              "    <tr>\n",
              "      <th>next_inspection</th>\n",
              "      <td>[\\n06/2021\\n, \\n99 g CO2/km (comb)\\n]</td>\n",
              "    </tr>\n",
              "    <tr>\n",
              "      <th>inspection_new</th>\n",
              "      <td>[\\nYes\\n, \\nEuro 6\\n]</td>\n",
              "    </tr>\n",
              "    <tr>\n",
              "      <th>warranty</th>\n",
              "      <td>[\\n, \\n, \\n4 (Green)\\n]</td>\n",
              "    </tr>\n",
              "    <tr>\n",
              "      <th>full_service</th>\n",
              "      <td>[\\n, \\n]</td>\n",
              "    </tr>\n",
              "    <tr>\n",
              "      <th>non-smoking_vehicle</th>\n",
              "      <td>[\\n, \\n]</td>\n",
              "    </tr>\n",
              "    <tr>\n",
              "      <th>null</th>\n",
              "      <td>[]</td>\n",
              "    </tr>\n",
              "    <tr>\n",
              "      <th>make</th>\n",
              "      <td>Audi</td>\n",
              "    </tr>\n",
              "    <tr>\n",
              "      <th>model</th>\n",
              "      <td>A1</td>\n",
              "    </tr>\n",
              "    <tr>\n",
              "      <th>offer_number</th>\n",
              "      <td>[\\nLR-062483\\n]</td>\n",
              "    </tr>\n",
              "    <tr>\n",
              "      <th>first_registration</th>\n",
              "      <td>[\\n, 2016, \\n]</td>\n",
              "    </tr>\n",
              "    <tr>\n",
              "      <th>body_color</th>\n",
              "      <td>[\\n, Black, \\n]</td>\n",
              "    </tr>\n",
              "    <tr>\n",
              "      <th>paint_type</th>\n",
              "      <td>[\\nMetallic\\n]</td>\n",
              "    </tr>\n",
              "    <tr>\n",
              "      <th>body_color_original</th>\n",
              "      <td>[\\nMythosschwarz\\n]</td>\n",
              "    </tr>\n",
              "    <tr>\n",
              "      <th>upholstery</th>\n",
              "      <td>[\\nCloth, Black\\n]</td>\n",
              "    </tr>\n",
              "    <tr>\n",
              "      <th>body</th>\n",
              "      <td>[\\n, Sedans, \\n]</td>\n",
              "    </tr>\n",
              "    <tr>\n",
              "      <th>nr._of_doors</th>\n",
              "      <td>[\\n5\\n]</td>\n",
              "    </tr>\n",
              "    <tr>\n",
              "      <th>nr._of_seats</th>\n",
              "      <td>[\\n5\\n]</td>\n",
              "    </tr>\n",
              "    <tr>\n",
              "      <th>model_code</th>\n",
              "      <td>[\\n0588/BDF\\n]</td>\n",
              "    </tr>\n",
              "    <tr>\n",
              "      <th>gearing_type</th>\n",
              "      <td>[\\n, Automatic, \\n]</td>\n",
              "    </tr>\n",
              "    <tr>\n",
              "      <th>displacement</th>\n",
              "      <td>[\\n1,422 cc\\n]</td>\n",
              "    </tr>\n",
              "    <tr>\n",
              "      <th>cylinders</th>\n",
              "      <td>[\\n3\\n]</td>\n",
              "    </tr>\n",
              "    <tr>\n",
              "      <th>weight</th>\n",
              "      <td>[\\n1,220 kg\\n]</td>\n",
              "    </tr>\n",
              "    <tr>\n",
              "      <th>drive_chain</th>\n",
              "      <td>[\\nfront\\n]</td>\n",
              "    </tr>\n",
              "    <tr>\n",
              "      <th>fuel</th>\n",
              "      <td>[\\n, Diesel (Particulate Filter), \\n]</td>\n",
              "    </tr>\n",
              "    <tr>\n",
              "      <th>consumption</th>\n",
              "      <td>[[3.8 l/100 km (comb)], [4.3 l/100 km (city)],...</td>\n",
              "    </tr>\n",
              "    <tr>\n",
              "      <th>co2_emission</th>\n",
              "      <td>[\\n99 g CO2/km (comb)\\n]</td>\n",
              "    </tr>\n",
              "    <tr>\n",
              "      <th>emission_class</th>\n",
              "      <td>[\\nEuro 6\\n]</td>\n",
              "    </tr>\n",
              "    <tr>\n",
              "      <th>comfort&amp;convenience</th>\n",
              "      <td>[Air conditioning, Armrest, Automatic climate ...</td>\n",
              "    </tr>\n",
              "    <tr>\n",
              "      <th>entertainment&amp;media</th>\n",
              "      <td>[Bluetooth, Hands-free equipment, On-board com...</td>\n",
              "    </tr>\n",
              "    <tr>\n",
              "      <th>extras</th>\n",
              "      <td>[Alloy wheels, Catalytic Converter, Voice Cont...</td>\n",
              "    </tr>\n",
              "    <tr>\n",
              "      <th>safety_&amp;_security</th>\n",
              "      <td>[ABS, Central door lock, Daytime running light...</td>\n",
              "    </tr>\n",
              "    <tr>\n",
              "      <th>description</th>\n",
              "      <td>[\\n, Sicherheit:,  , Deaktivierung für Beifahr...</td>\n",
              "    </tr>\n",
              "    <tr>\n",
              "      <th>emission_label</th>\n",
              "      <td>NaN</td>\n",
              "    </tr>\n",
              "    <tr>\n",
              "      <th>gears</th>\n",
              "      <td>NaN</td>\n",
              "    </tr>\n",
              "    <tr>\n",
              "      <th>country_version</th>\n",
              "      <td>NaN</td>\n",
              "    </tr>\n",
              "    <tr>\n",
              "      <th>electricity_consumption</th>\n",
              "      <td>NaN</td>\n",
              "    </tr>\n",
              "    <tr>\n",
              "      <th>last_service_date</th>\n",
              "      <td>NaN</td>\n",
              "    </tr>\n",
              "    <tr>\n",
              "      <th>other_fuel_types</th>\n",
              "      <td>NaN</td>\n",
              "    </tr>\n",
              "    <tr>\n",
              "      <th>availability</th>\n",
              "      <td>NaN</td>\n",
              "    </tr>\n",
              "    <tr>\n",
              "      <th>last_timing_belt_service_date</th>\n",
              "      <td>NaN</td>\n",
              "    </tr>\n",
              "    <tr>\n",
              "      <th>available_from</th>\n",
              "      <td>NaN</td>\n",
              "    </tr>\n",
              "  </tbody>\n",
              "</table>\n",
              "</div>\n",
              "      <button class=\"colab-df-convert\" onclick=\"convertToInteractive('df-90cbf48b-1a1c-4946-8844-024b200aa500')\"\n",
              "              title=\"Convert this dataframe to an interactive table.\"\n",
              "              style=\"display:none;\">\n",
              "        \n",
              "  <svg xmlns=\"http://www.w3.org/2000/svg\" height=\"24px\"viewBox=\"0 0 24 24\"\n",
              "       width=\"24px\">\n",
              "    <path d=\"M0 0h24v24H0V0z\" fill=\"none\"/>\n",
              "    <path d=\"M18.56 5.44l.94 2.06.94-2.06 2.06-.94-2.06-.94-.94-2.06-.94 2.06-2.06.94zm-11 1L8.5 8.5l.94-2.06 2.06-.94-2.06-.94L8.5 2.5l-.94 2.06-2.06.94zm10 10l.94 2.06.94-2.06 2.06-.94-2.06-.94-.94-2.06-.94 2.06-2.06.94z\"/><path d=\"M17.41 7.96l-1.37-1.37c-.4-.4-.92-.59-1.43-.59-.52 0-1.04.2-1.43.59L10.3 9.45l-7.72 7.72c-.78.78-.78 2.05 0 2.83L4 21.41c.39.39.9.59 1.41.59.51 0 1.02-.2 1.41-.59l7.78-7.78 2.81-2.81c.8-.78.8-2.07 0-2.86zM5.41 20L4 18.59l7.72-7.72 1.47 1.35L5.41 20z\"/>\n",
              "  </svg>\n",
              "      </button>\n",
              "      \n",
              "  <style>\n",
              "    .colab-df-container {\n",
              "      display:flex;\n",
              "      flex-wrap:wrap;\n",
              "      gap: 12px;\n",
              "    }\n",
              "\n",
              "    .colab-df-convert {\n",
              "      background-color: #E8F0FE;\n",
              "      border: none;\n",
              "      border-radius: 50%;\n",
              "      cursor: pointer;\n",
              "      display: none;\n",
              "      fill: #1967D2;\n",
              "      height: 32px;\n",
              "      padding: 0 0 0 0;\n",
              "      width: 32px;\n",
              "    }\n",
              "\n",
              "    .colab-df-convert:hover {\n",
              "      background-color: #E2EBFA;\n",
              "      box-shadow: 0px 1px 2px rgba(60, 64, 67, 0.3), 0px 1px 3px 1px rgba(60, 64, 67, 0.15);\n",
              "      fill: #174EA6;\n",
              "    }\n",
              "\n",
              "    [theme=dark] .colab-df-convert {\n",
              "      background-color: #3B4455;\n",
              "      fill: #D2E3FC;\n",
              "    }\n",
              "\n",
              "    [theme=dark] .colab-df-convert:hover {\n",
              "      background-color: #434B5C;\n",
              "      box-shadow: 0px 1px 3px 1px rgba(0, 0, 0, 0.15);\n",
              "      filter: drop-shadow(0px 1px 2px rgba(0, 0, 0, 0.3));\n",
              "      fill: #FFFFFF;\n",
              "    }\n",
              "  </style>\n",
              "\n",
              "      <script>\n",
              "        const buttonEl =\n",
              "          document.querySelector('#df-90cbf48b-1a1c-4946-8844-024b200aa500 button.colab-df-convert');\n",
              "        buttonEl.style.display =\n",
              "          google.colab.kernel.accessAllowed ? 'block' : 'none';\n",
              "\n",
              "        async function convertToInteractive(key) {\n",
              "          const element = document.querySelector('#df-90cbf48b-1a1c-4946-8844-024b200aa500');\n",
              "          const dataTable =\n",
              "            await google.colab.kernel.invokeFunction('convertToInteractive',\n",
              "                                                     [key], {});\n",
              "          if (!dataTable) return;\n",
              "\n",
              "          const docLinkHtml = 'Like what you see? Visit the ' +\n",
              "            '<a target=\"_blank\" href=https://colab.research.google.com/notebooks/data_table.ipynb>data table notebook</a>'\n",
              "            + ' to learn more about interactive tables.';\n",
              "          element.innerHTML = '';\n",
              "          dataTable['output_type'] = 'display_data';\n",
              "          await google.colab.output.renderOutput(dataTable, element);\n",
              "          const docLink = document.createElement('div');\n",
              "          docLink.innerHTML = docLinkHtml;\n",
              "          element.appendChild(docLink);\n",
              "        }\n",
              "      </script>\n",
              "    </div>\n",
              "  </div>\n",
              "  "
            ]
          },
          "metadata": {},
          "execution_count": 55
        }
      ]
    },
    {
      "cell_type": "code",
      "source": [
        "check_df(\"short_description\")"
      ],
      "metadata": {
        "colab": {
          "base_uri": "https://localhost:8080/"
        },
        "id": "TSRYoIkHIk3H",
        "outputId": "b4e1be02-1ba5-4921-fcd6-5877ff0a06df"
      },
      "execution_count": 56,
      "outputs": [
        {
          "output_type": "stream",
          "name": "stdout",
          "text": [
            "column name :  short_description\n",
            "--------------------------------\n",
            "Per_of_Nulls   :  % 0.29\n",
            "Num_of_Nulls   :  46\n",
            "SPB 1.6 TDI 116 CV S tronic Sport                 64\n",
            "NaN                                               46\n",
            "1.4 66kW (90CV) Selective                         40\n",
            "MOVE KLIMA CD USB ALLWETTER BLUETOOTH             38\n",
            "SPB 30 TDI S tronic Business                      35\n",
            "                                                  ..\n",
            "K Sports Tourer Business **Navi*Voll**             1\n",
            "1.0 Turbo ecoFLEX Automatic Elective Park Navi     1\n",
            "1.6 CDTI Business *Navi*Automatik*Spurh.*          1\n",
            "1.6 136 CV Automatica Navi E 6 Garanzia Full       1\n",
            "TCe 225 EDC GPF LIM Deluxe Pano,RFK                1\n",
            "Name: short_description, Length: 10002, dtype: int64\n",
            "******************************\n",
            "\n",
            "\n",
            "\n"
          ]
        }
      ]
    },
    {
      "cell_type": "code",
      "source": [
        "check_df(\"body_type\")"
      ],
      "metadata": {
        "colab": {
          "base_uri": "https://localhost:8080/"
        },
        "id": "11sr58J1I6VC",
        "outputId": "5a8841fd-90be-4f9c-a2bb-6c7302107baf"
      },
      "execution_count": 57,
      "outputs": [
        {
          "output_type": "stream",
          "name": "stdout",
          "text": [
            "column name :  body_type\n",
            "--------------------------------\n",
            "Per_of_Nulls   :  % 0.38\n",
            "Num_of_Nulls   :  60\n",
            "Sedans           7903\n",
            "Station wagon    3553\n",
            "Compact          3153\n",
            "Van               783\n",
            "Other             290\n",
            "Transporter        88\n",
            "NaN                60\n",
            "Off-Road           56\n",
            "Coupe              25\n",
            "Convertible         8\n",
            "Name: body_type, dtype: int64\n",
            "******************************\n",
            "\n",
            "\n",
            "\n"
          ]
        }
      ]
    },
    {
      "cell_type": "code",
      "source": [
        "check_df(\"price\")"
      ],
      "metadata": {
        "colab": {
          "base_uri": "https://localhost:8080/"
        },
        "id": "fjfr0UJxI8ws",
        "outputId": "4df29a51-ec24-4bbf-ee37-84b305ec754c"
      },
      "execution_count": 58,
      "outputs": [
        {
          "output_type": "stream",
          "name": "stdout",
          "text": [
            "column name :  price\n",
            "--------------------------------\n",
            "Per_of_Nulls   :  % 0.0\n",
            "Num_of_Nulls   :  0\n",
            "14990    154\n",
            "15990    151\n",
            "10990    139\n",
            "15900    106\n",
            "17990    102\n",
            "        ... \n",
            "17559      1\n",
            "17560      1\n",
            "17570      1\n",
            "17575      1\n",
            "39875      1\n",
            "Name: price, Length: 2956, dtype: int64\n",
            "******************************\n",
            "\n",
            "\n",
            "\n"
          ]
        }
      ]
    },
    {
      "cell_type": "code",
      "source": [
        "df.rename(columns={\"price\":\"price_€\"}, inplace=True)"
      ],
      "metadata": {
        "id": "mal9VYahI8zk"
      },
      "execution_count": 59,
      "outputs": []
    },
    {
      "cell_type": "code",
      "source": [
        "df[\"price_€\"] = df[\"price_€\"].astype(float)"
      ],
      "metadata": {
        "id": "-eFV-BPdI82c"
      },
      "execution_count": 61,
      "outputs": []
    },
    {
      "cell_type": "code",
      "source": [
        "check_df(\"vat\")"
      ],
      "metadata": {
        "colab": {
          "base_uri": "https://localhost:8080/"
        },
        "id": "Arv7WsWmJKsI",
        "outputId": "97381c4e-8cec-4cd8-faea-3fae8193627d"
      },
      "execution_count": 62,
      "outputs": [
        {
          "output_type": "stream",
          "name": "stdout",
          "text": [
            "column name :  vat\n",
            "--------------------------------\n",
            "Per_of_Nulls   :  % 28.35\n",
            "Num_of_Nulls   :  4513\n",
            "VAT deductible      10980\n",
            "NaN                  4513\n",
            "Price negotiable      426\n",
            "Name: vat, dtype: int64\n",
            "******************************\n",
            "\n",
            "\n",
            "\n"
          ]
        }
      ]
    },
    {
      "cell_type": "code",
      "source": [
        "df.km = df.km.str.replace(\" km\", \"\").str.replace(\",\", \"\")"
      ],
      "metadata": {
        "id": "agPNsbDsJRQE"
      },
      "execution_count": 63,
      "outputs": []
    },
    {
      "cell_type": "code",
      "source": [
        "df.km.replace(\"-\", np.nan).astype(float)"
      ],
      "metadata": {
        "colab": {
          "base_uri": "https://localhost:8080/"
        },
        "id": "p3jL8EYLJRS8",
        "outputId": "8a5bfe8a-3a0b-4829-f465-6848b2296307"
      },
      "execution_count": 64,
      "outputs": [
        {
          "output_type": "execute_result",
          "data": {
            "text/plain": [
              "0        56013.0\n",
              "1        80000.0\n",
              "2        83450.0\n",
              "3        73000.0\n",
              "4        16200.0\n",
              "          ...   \n",
              "15914        NaN\n",
              "15915     9900.0\n",
              "15916       15.0\n",
              "15917       10.0\n",
              "15918        NaN\n",
              "Name: km, Length: 15919, dtype: float64"
            ]
          },
          "metadata": {},
          "execution_count": 64
        }
      ]
    },
    {
      "cell_type": "code",
      "source": [
        "df.km = df.km.replace(\"-\", np.nan).astype(float)"
      ],
      "metadata": {
        "id": "x7JgD_FMJRVq"
      },
      "execution_count": 65,
      "outputs": []
    },
    {
      "cell_type": "code",
      "source": [
        "df.km.value_counts(dropna=False)"
      ],
      "metadata": {
        "colab": {
          "base_uri": "https://localhost:8080/"
        },
        "id": "PXBTrtQGJRYe",
        "outputId": "82b65662-5dfc-4648-b064-00fed35def2d"
      },
      "execution_count": 66,
      "outputs": [
        {
          "output_type": "execute_result",
          "data": {
            "text/plain": [
              "10.0       1045\n",
              "NaN        1024\n",
              "1.0         367\n",
              "5.0         170\n",
              "50.0        148\n",
              "           ... \n",
              "67469.0       1\n",
              "43197.0       1\n",
              "10027.0       1\n",
              "35882.0       1\n",
              "57.0          1\n",
              "Name: km, Length: 6690, dtype: int64"
            ]
          },
          "metadata": {},
          "execution_count": 66
        }
      ]
    },
    {
      "cell_type": "code",
      "source": [
        "df.sample(2).T"
      ],
      "metadata": {
        "colab": {
          "base_uri": "https://localhost:8080/",
          "height": 1000
        },
        "id": "PN_nrzTeJRbL",
        "outputId": "816d3273-1ff6-4505-8095-61538d99d93f"
      },
      "execution_count": 67,
      "outputs": [
        {
          "output_type": "execute_result",
          "data": {
            "text/plain": [
              "                                                                           1215   \\\n",
              "short_description                                1.0 TFSI ultra Sportback design   \n",
              "body_type                                                                 Sedans   \n",
              "price_€                                                                  15880.0   \n",
              "vat                                                             Price negotiable   \n",
              "km                                                                       21000.0   \n",
              "registration                                                             01/2017   \n",
              "prev_owner                                                      1 previous owner   \n",
              "kw                                                                           NaN   \n",
              "hp                                                                         70 kW   \n",
              "type                                   [, Used, , Gasoline (Particulate Filter)]   \n",
              "previous_owners                                                            \\n1\\n   \n",
              "next_inspection                            [\\n03/2021\\n, \\n97 g CO2/km (comb)\\n]   \n",
              "inspection_new                                             [\\nYes\\n, \\nEuro 6\\n]   \n",
              "warranty                                                                     NaN   \n",
              "full_service                                              [\\n, \\n, \\n5 (Blue)\\n]   \n",
              "non-smoking_vehicle                                                     [\\n, \\n]   \n",
              "null                                                                          []   \n",
              "make                                                                        Audi   \n",
              "model                                                                         A1   \n",
              "offer_number                                                                 NaN   \n",
              "first_registration                                                [\\n, 2017, \\n]   \n",
              "body_color                                                        [\\n, Grey, \\n]   \n",
              "paint_type                                                        [\\nMetallic\\n]   \n",
              "body_color_original                                                          NaN   \n",
              "upholstery                                             [\\nPart leather, Black\\n]   \n",
              "body                                                            [\\n, Sedans, \\n]   \n",
              "nr._of_doors                                                             [\\n5\\n]   \n",
              "nr._of_seats                                                             [\\n4\\n]   \n",
              "model_code                                                        [\\n0588/BDB\\n]   \n",
              "gearing_type                                                    [\\n, Manual, \\n]   \n",
              "displacement                                                        [\\n999 cc\\n]   \n",
              "cylinders                                                                [\\n3\\n]   \n",
              "weight                                                            [\\n1,135 kg\\n]   \n",
              "drive_chain                                                                  NaN   \n",
              "fuel                                     [\\n, Gasoline (Particulate Filter), \\n]   \n",
              "consumption                    [[4.2 l/100 km (comb)], [5 l/100 km (city)], [...   \n",
              "co2_emission                                            [\\n97 g CO2/km (comb)\\n]   \n",
              "emission_class                                                      [\\nEuro 6\\n]   \n",
              "comfort&convenience            [Air conditioning, Armrest, Automatic climate ...   \n",
              "entertainment&media            [CD player, Digital radio, MP3, On-board compu...   \n",
              "extras                         [Alloy wheels, Catalytic Converter, Roof rack,...   \n",
              "safety_&_security              [ABS, Adaptive headlights, Central door lock, ...   \n",
              "description                    [\\nverkaufe hier den Audi a1 meiner Freundin, ...   \n",
              "emission_label                                                               NaN   \n",
              "gears                                                                    [\\n5\\n]   \n",
              "country_version                                                              NaN   \n",
              "electricity_consumption                                                      NaN   \n",
              "last_service_date                                                            NaN   \n",
              "other_fuel_types                                                             NaN   \n",
              "availability                                                                 NaN   \n",
              "last_timing_belt_service_date                                                NaN   \n",
              "available_from                                                               NaN   \n",
              "\n",
              "                                                                           11810  \n",
              "short_description                           Sports Tourer 2.0 CDTI AT INNOVATION  \n",
              "body_type                                                                  Other  \n",
              "price_€                                                                  23985.0  \n",
              "vat                                                               VAT deductible  \n",
              "km                                                                       25252.0  \n",
              "registration                                                             10/2018  \n",
              "prev_owner                                                      1 previous owner  \n",
              "kw                                                                           NaN  \n",
              "hp                                                                        125 kW  \n",
              "type                                     [, Used, , Diesel (Particulate Filter)]  \n",
              "previous_owners                                                            \\n1\\n  \n",
              "next_inspection                           [\\n06/2021\\n, \\n147 g CO2/km (comb)\\n]  \n",
              "inspection_new                                                               NaN  \n",
              "warranty                                                   [\\n, \\n, \\nEuro 6c\\n]  \n",
              "full_service                                             [\\n, \\n, \\n4 (Green)\\n]  \n",
              "non-smoking_vehicle                                                     [\\n, \\n]  \n",
              "null                                                                          []  \n",
              "make                                                                        Opel  \n",
              "model                                                                   Insignia  \n",
              "offer_number                                                    [\\nJDG1905-03\\n]  \n",
              "first_registration                                                [\\n, 2018, \\n]  \n",
              "body_color                                                        [\\n, Grey, \\n]  \n",
              "paint_type                                                        [\\nMetallic\\n]  \n",
              "body_color_original                                          [\\nLicht Grau M2\\n]  \n",
              "upholstery                                             [\\nPart leather, Black\\n]  \n",
              "body                                                             [\\n, Other, \\n]  \n",
              "nr._of_doors                                                             [\\n4\\n]  \n",
              "nr._of_seats                                                             [\\n5\\n]  \n",
              "model_code                                                                   NaN  \n",
              "gearing_type                                                 [\\n, Automatic, \\n]  \n",
              "displacement                                                      [\\n1,956 cc\\n]  \n",
              "cylinders                                                                    NaN  \n",
              "weight                                                                       NaN  \n",
              "drive_chain                                                                  NaN  \n",
              "fuel                                       [\\n, Diesel (Particulate Filter), \\n]  \n",
              "consumption                    [[5.6 l/100 km (comb)], [7.1 l/100 km (city)],...  \n",
              "co2_emission                                           [\\n147 g CO2/km (comb)\\n]  \n",
              "emission_class                                                     [\\nEuro 6c\\n]  \n",
              "comfort&convenience            [Air conditioning, Armrest, Automatic climate ...  \n",
              "entertainment&media            [Bluetooth, CD player, Digital radio, Hands-fr...  \n",
              "extras                         [Alloy wheels, Roof rack, Shift paddles, Sport...  \n",
              "safety_&_security              [ABS, Adaptive Cruise Control, Adaptive headli...  \n",
              "description                    [\\n, BEACHTEN Sie auch unsere derzeitigen SANT...  \n",
              "emission_label                                                               NaN  \n",
              "gears                                                                        NaN  \n",
              "country_version                                                    [\\nGermany\\n]  \n",
              "electricity_consumption                                                      NaN  \n",
              "last_service_date                                                            NaN  \n",
              "other_fuel_types                                                             NaN  \n",
              "availability                                                                 NaN  \n",
              "last_timing_belt_service_date                                                NaN  \n",
              "available_from                                                               NaN  "
            ],
            "text/html": [
              "\n",
              "  <div id=\"df-0a5dc4c4-f3ea-4cf0-bef6-9428fd72aa3d\">\n",
              "    <div class=\"colab-df-container\">\n",
              "      <div>\n",
              "<style scoped>\n",
              "    .dataframe tbody tr th:only-of-type {\n",
              "        vertical-align: middle;\n",
              "    }\n",
              "\n",
              "    .dataframe tbody tr th {\n",
              "        vertical-align: top;\n",
              "    }\n",
              "\n",
              "    .dataframe thead th {\n",
              "        text-align: right;\n",
              "    }\n",
              "</style>\n",
              "<table border=\"1\" class=\"dataframe\">\n",
              "  <thead>\n",
              "    <tr style=\"text-align: right;\">\n",
              "      <th></th>\n",
              "      <th>1215</th>\n",
              "      <th>11810</th>\n",
              "    </tr>\n",
              "  </thead>\n",
              "  <tbody>\n",
              "    <tr>\n",
              "      <th>short_description</th>\n",
              "      <td>1.0 TFSI ultra Sportback design</td>\n",
              "      <td>Sports Tourer 2.0 CDTI AT INNOVATION</td>\n",
              "    </tr>\n",
              "    <tr>\n",
              "      <th>body_type</th>\n",
              "      <td>Sedans</td>\n",
              "      <td>Other</td>\n",
              "    </tr>\n",
              "    <tr>\n",
              "      <th>price_€</th>\n",
              "      <td>15880.0</td>\n",
              "      <td>23985.0</td>\n",
              "    </tr>\n",
              "    <tr>\n",
              "      <th>vat</th>\n",
              "      <td>Price negotiable</td>\n",
              "      <td>VAT deductible</td>\n",
              "    </tr>\n",
              "    <tr>\n",
              "      <th>km</th>\n",
              "      <td>21000.0</td>\n",
              "      <td>25252.0</td>\n",
              "    </tr>\n",
              "    <tr>\n",
              "      <th>registration</th>\n",
              "      <td>01/2017</td>\n",
              "      <td>10/2018</td>\n",
              "    </tr>\n",
              "    <tr>\n",
              "      <th>prev_owner</th>\n",
              "      <td>1 previous owner</td>\n",
              "      <td>1 previous owner</td>\n",
              "    </tr>\n",
              "    <tr>\n",
              "      <th>kw</th>\n",
              "      <td>NaN</td>\n",
              "      <td>NaN</td>\n",
              "    </tr>\n",
              "    <tr>\n",
              "      <th>hp</th>\n",
              "      <td>70 kW</td>\n",
              "      <td>125 kW</td>\n",
              "    </tr>\n",
              "    <tr>\n",
              "      <th>type</th>\n",
              "      <td>[, Used, , Gasoline (Particulate Filter)]</td>\n",
              "      <td>[, Used, , Diesel (Particulate Filter)]</td>\n",
              "    </tr>\n",
              "    <tr>\n",
              "      <th>previous_owners</th>\n",
              "      <td>\\n1\\n</td>\n",
              "      <td>\\n1\\n</td>\n",
              "    </tr>\n",
              "    <tr>\n",
              "      <th>next_inspection</th>\n",
              "      <td>[\\n03/2021\\n, \\n97 g CO2/km (comb)\\n]</td>\n",
              "      <td>[\\n06/2021\\n, \\n147 g CO2/km (comb)\\n]</td>\n",
              "    </tr>\n",
              "    <tr>\n",
              "      <th>inspection_new</th>\n",
              "      <td>[\\nYes\\n, \\nEuro 6\\n]</td>\n",
              "      <td>NaN</td>\n",
              "    </tr>\n",
              "    <tr>\n",
              "      <th>warranty</th>\n",
              "      <td>NaN</td>\n",
              "      <td>[\\n, \\n, \\nEuro 6c\\n]</td>\n",
              "    </tr>\n",
              "    <tr>\n",
              "      <th>full_service</th>\n",
              "      <td>[\\n, \\n, \\n5 (Blue)\\n]</td>\n",
              "      <td>[\\n, \\n, \\n4 (Green)\\n]</td>\n",
              "    </tr>\n",
              "    <tr>\n",
              "      <th>non-smoking_vehicle</th>\n",
              "      <td>[\\n, \\n]</td>\n",
              "      <td>[\\n, \\n]</td>\n",
              "    </tr>\n",
              "    <tr>\n",
              "      <th>null</th>\n",
              "      <td>[]</td>\n",
              "      <td>[]</td>\n",
              "    </tr>\n",
              "    <tr>\n",
              "      <th>make</th>\n",
              "      <td>Audi</td>\n",
              "      <td>Opel</td>\n",
              "    </tr>\n",
              "    <tr>\n",
              "      <th>model</th>\n",
              "      <td>A1</td>\n",
              "      <td>Insignia</td>\n",
              "    </tr>\n",
              "    <tr>\n",
              "      <th>offer_number</th>\n",
              "      <td>NaN</td>\n",
              "      <td>[\\nJDG1905-03\\n]</td>\n",
              "    </tr>\n",
              "    <tr>\n",
              "      <th>first_registration</th>\n",
              "      <td>[\\n, 2017, \\n]</td>\n",
              "      <td>[\\n, 2018, \\n]</td>\n",
              "    </tr>\n",
              "    <tr>\n",
              "      <th>body_color</th>\n",
              "      <td>[\\n, Grey, \\n]</td>\n",
              "      <td>[\\n, Grey, \\n]</td>\n",
              "    </tr>\n",
              "    <tr>\n",
              "      <th>paint_type</th>\n",
              "      <td>[\\nMetallic\\n]</td>\n",
              "      <td>[\\nMetallic\\n]</td>\n",
              "    </tr>\n",
              "    <tr>\n",
              "      <th>body_color_original</th>\n",
              "      <td>NaN</td>\n",
              "      <td>[\\nLicht Grau M2\\n]</td>\n",
              "    </tr>\n",
              "    <tr>\n",
              "      <th>upholstery</th>\n",
              "      <td>[\\nPart leather, Black\\n]</td>\n",
              "      <td>[\\nPart leather, Black\\n]</td>\n",
              "    </tr>\n",
              "    <tr>\n",
              "      <th>body</th>\n",
              "      <td>[\\n, Sedans, \\n]</td>\n",
              "      <td>[\\n, Other, \\n]</td>\n",
              "    </tr>\n",
              "    <tr>\n",
              "      <th>nr._of_doors</th>\n",
              "      <td>[\\n5\\n]</td>\n",
              "      <td>[\\n4\\n]</td>\n",
              "    </tr>\n",
              "    <tr>\n",
              "      <th>nr._of_seats</th>\n",
              "      <td>[\\n4\\n]</td>\n",
              "      <td>[\\n5\\n]</td>\n",
              "    </tr>\n",
              "    <tr>\n",
              "      <th>model_code</th>\n",
              "      <td>[\\n0588/BDB\\n]</td>\n",
              "      <td>NaN</td>\n",
              "    </tr>\n",
              "    <tr>\n",
              "      <th>gearing_type</th>\n",
              "      <td>[\\n, Manual, \\n]</td>\n",
              "      <td>[\\n, Automatic, \\n]</td>\n",
              "    </tr>\n",
              "    <tr>\n",
              "      <th>displacement</th>\n",
              "      <td>[\\n999 cc\\n]</td>\n",
              "      <td>[\\n1,956 cc\\n]</td>\n",
              "    </tr>\n",
              "    <tr>\n",
              "      <th>cylinders</th>\n",
              "      <td>[\\n3\\n]</td>\n",
              "      <td>NaN</td>\n",
              "    </tr>\n",
              "    <tr>\n",
              "      <th>weight</th>\n",
              "      <td>[\\n1,135 kg\\n]</td>\n",
              "      <td>NaN</td>\n",
              "    </tr>\n",
              "    <tr>\n",
              "      <th>drive_chain</th>\n",
              "      <td>NaN</td>\n",
              "      <td>NaN</td>\n",
              "    </tr>\n",
              "    <tr>\n",
              "      <th>fuel</th>\n",
              "      <td>[\\n, Gasoline (Particulate Filter), \\n]</td>\n",
              "      <td>[\\n, Diesel (Particulate Filter), \\n]</td>\n",
              "    </tr>\n",
              "    <tr>\n",
              "      <th>consumption</th>\n",
              "      <td>[[4.2 l/100 km (comb)], [5 l/100 km (city)], [...</td>\n",
              "      <td>[[5.6 l/100 km (comb)], [7.1 l/100 km (city)],...</td>\n",
              "    </tr>\n",
              "    <tr>\n",
              "      <th>co2_emission</th>\n",
              "      <td>[\\n97 g CO2/km (comb)\\n]</td>\n",
              "      <td>[\\n147 g CO2/km (comb)\\n]</td>\n",
              "    </tr>\n",
              "    <tr>\n",
              "      <th>emission_class</th>\n",
              "      <td>[\\nEuro 6\\n]</td>\n",
              "      <td>[\\nEuro 6c\\n]</td>\n",
              "    </tr>\n",
              "    <tr>\n",
              "      <th>comfort&amp;convenience</th>\n",
              "      <td>[Air conditioning, Armrest, Automatic climate ...</td>\n",
              "      <td>[Air conditioning, Armrest, Automatic climate ...</td>\n",
              "    </tr>\n",
              "    <tr>\n",
              "      <th>entertainment&amp;media</th>\n",
              "      <td>[CD player, Digital radio, MP3, On-board compu...</td>\n",
              "      <td>[Bluetooth, CD player, Digital radio, Hands-fr...</td>\n",
              "    </tr>\n",
              "    <tr>\n",
              "      <th>extras</th>\n",
              "      <td>[Alloy wheels, Catalytic Converter, Roof rack,...</td>\n",
              "      <td>[Alloy wheels, Roof rack, Shift paddles, Sport...</td>\n",
              "    </tr>\n",
              "    <tr>\n",
              "      <th>safety_&amp;_security</th>\n",
              "      <td>[ABS, Adaptive headlights, Central door lock, ...</td>\n",
              "      <td>[ABS, Adaptive Cruise Control, Adaptive headli...</td>\n",
              "    </tr>\n",
              "    <tr>\n",
              "      <th>description</th>\n",
              "      <td>[\\nverkaufe hier den Audi a1 meiner Freundin, ...</td>\n",
              "      <td>[\\n, BEACHTEN Sie auch unsere derzeitigen SANT...</td>\n",
              "    </tr>\n",
              "    <tr>\n",
              "      <th>emission_label</th>\n",
              "      <td>NaN</td>\n",
              "      <td>NaN</td>\n",
              "    </tr>\n",
              "    <tr>\n",
              "      <th>gears</th>\n",
              "      <td>[\\n5\\n]</td>\n",
              "      <td>NaN</td>\n",
              "    </tr>\n",
              "    <tr>\n",
              "      <th>country_version</th>\n",
              "      <td>NaN</td>\n",
              "      <td>[\\nGermany\\n]</td>\n",
              "    </tr>\n",
              "    <tr>\n",
              "      <th>electricity_consumption</th>\n",
              "      <td>NaN</td>\n",
              "      <td>NaN</td>\n",
              "    </tr>\n",
              "    <tr>\n",
              "      <th>last_service_date</th>\n",
              "      <td>NaN</td>\n",
              "      <td>NaN</td>\n",
              "    </tr>\n",
              "    <tr>\n",
              "      <th>other_fuel_types</th>\n",
              "      <td>NaN</td>\n",
              "      <td>NaN</td>\n",
              "    </tr>\n",
              "    <tr>\n",
              "      <th>availability</th>\n",
              "      <td>NaN</td>\n",
              "      <td>NaN</td>\n",
              "    </tr>\n",
              "    <tr>\n",
              "      <th>last_timing_belt_service_date</th>\n",
              "      <td>NaN</td>\n",
              "      <td>NaN</td>\n",
              "    </tr>\n",
              "    <tr>\n",
              "      <th>available_from</th>\n",
              "      <td>NaN</td>\n",
              "      <td>NaN</td>\n",
              "    </tr>\n",
              "  </tbody>\n",
              "</table>\n",
              "</div>\n",
              "      <button class=\"colab-df-convert\" onclick=\"convertToInteractive('df-0a5dc4c4-f3ea-4cf0-bef6-9428fd72aa3d')\"\n",
              "              title=\"Convert this dataframe to an interactive table.\"\n",
              "              style=\"display:none;\">\n",
              "        \n",
              "  <svg xmlns=\"http://www.w3.org/2000/svg\" height=\"24px\"viewBox=\"0 0 24 24\"\n",
              "       width=\"24px\">\n",
              "    <path d=\"M0 0h24v24H0V0z\" fill=\"none\"/>\n",
              "    <path d=\"M18.56 5.44l.94 2.06.94-2.06 2.06-.94-2.06-.94-.94-2.06-.94 2.06-2.06.94zm-11 1L8.5 8.5l.94-2.06 2.06-.94-2.06-.94L8.5 2.5l-.94 2.06-2.06.94zm10 10l.94 2.06.94-2.06 2.06-.94-2.06-.94-.94-2.06-.94 2.06-2.06.94z\"/><path d=\"M17.41 7.96l-1.37-1.37c-.4-.4-.92-.59-1.43-.59-.52 0-1.04.2-1.43.59L10.3 9.45l-7.72 7.72c-.78.78-.78 2.05 0 2.83L4 21.41c.39.39.9.59 1.41.59.51 0 1.02-.2 1.41-.59l7.78-7.78 2.81-2.81c.8-.78.8-2.07 0-2.86zM5.41 20L4 18.59l7.72-7.72 1.47 1.35L5.41 20z\"/>\n",
              "  </svg>\n",
              "      </button>\n",
              "      \n",
              "  <style>\n",
              "    .colab-df-container {\n",
              "      display:flex;\n",
              "      flex-wrap:wrap;\n",
              "      gap: 12px;\n",
              "    }\n",
              "\n",
              "    .colab-df-convert {\n",
              "      background-color: #E8F0FE;\n",
              "      border: none;\n",
              "      border-radius: 50%;\n",
              "      cursor: pointer;\n",
              "      display: none;\n",
              "      fill: #1967D2;\n",
              "      height: 32px;\n",
              "      padding: 0 0 0 0;\n",
              "      width: 32px;\n",
              "    }\n",
              "\n",
              "    .colab-df-convert:hover {\n",
              "      background-color: #E2EBFA;\n",
              "      box-shadow: 0px 1px 2px rgba(60, 64, 67, 0.3), 0px 1px 3px 1px rgba(60, 64, 67, 0.15);\n",
              "      fill: #174EA6;\n",
              "    }\n",
              "\n",
              "    [theme=dark] .colab-df-convert {\n",
              "      background-color: #3B4455;\n",
              "      fill: #D2E3FC;\n",
              "    }\n",
              "\n",
              "    [theme=dark] .colab-df-convert:hover {\n",
              "      background-color: #434B5C;\n",
              "      box-shadow: 0px 1px 3px 1px rgba(0, 0, 0, 0.15);\n",
              "      filter: drop-shadow(0px 1px 2px rgba(0, 0, 0, 0.3));\n",
              "      fill: #FFFFFF;\n",
              "    }\n",
              "  </style>\n",
              "\n",
              "      <script>\n",
              "        const buttonEl =\n",
              "          document.querySelector('#df-0a5dc4c4-f3ea-4cf0-bef6-9428fd72aa3d button.colab-df-convert');\n",
              "        buttonEl.style.display =\n",
              "          google.colab.kernel.accessAllowed ? 'block' : 'none';\n",
              "\n",
              "        async function convertToInteractive(key) {\n",
              "          const element = document.querySelector('#df-0a5dc4c4-f3ea-4cf0-bef6-9428fd72aa3d');\n",
              "          const dataTable =\n",
              "            await google.colab.kernel.invokeFunction('convertToInteractive',\n",
              "                                                     [key], {});\n",
              "          if (!dataTable) return;\n",
              "\n",
              "          const docLinkHtml = 'Like what you see? Visit the ' +\n",
              "            '<a target=\"_blank\" href=https://colab.research.google.com/notebooks/data_table.ipynb>data table notebook</a>'\n",
              "            + ' to learn more about interactive tables.';\n",
              "          element.innerHTML = '';\n",
              "          dataTable['output_type'] = 'display_data';\n",
              "          await google.colab.output.renderOutput(dataTable, element);\n",
              "          const docLink = document.createElement('div');\n",
              "          docLink.innerHTML = docLinkHtml;\n",
              "          element.appendChild(docLink);\n",
              "        }\n",
              "      </script>\n",
              "    </div>\n",
              "  </div>\n",
              "  "
            ]
          },
          "metadata": {},
          "execution_count": 67
        }
      ]
    },
    {
      "cell_type": "code",
      "source": [
        "check_df(\"registration\")"
      ],
      "metadata": {
        "colab": {
          "base_uri": "https://localhost:8080/"
        },
        "id": "KTzvf1cYJReE",
        "outputId": "2f49e01f-f04b-48ea-d61f-4b33b83a517b"
      },
      "execution_count": 68,
      "outputs": [
        {
          "output_type": "stream",
          "name": "stdout",
          "text": [
            "column name :  registration\n",
            "--------------------------------\n",
            "Per_of_Nulls   :  % 0.0\n",
            "Num_of_Nulls   :  0\n",
            "-/-        1597\n",
            "03/2018     695\n",
            "02/2019     585\n",
            "05/2018     572\n",
            "03/2019     543\n",
            "01/2019     541\n",
            "04/2018     541\n",
            "02/2018     539\n",
            "03/2016     536\n",
            "04/2016     532\n",
            "06/2018     532\n",
            "01/2018     511\n",
            "04/2019     506\n",
            "02/2016     472\n",
            "03/2017     471\n",
            "05/2016     459\n",
            "06/2016     452\n",
            "05/2019     440\n",
            "06/2017     409\n",
            "05/2017     404\n",
            "07/2018     396\n",
            "04/2017     380\n",
            "01/2016     376\n",
            "02/2017     368\n",
            "01/2017     306\n",
            "08/2018     285\n",
            "06/2019     224\n",
            "07/2017     215\n",
            "11/2017     180\n",
            "07/2016     176\n",
            "10/2016     160\n",
            "10/2017     154\n",
            "09/2017     149\n",
            "11/2016     142\n",
            "09/2018     141\n",
            "09/2016     141\n",
            "12/2016     134\n",
            "12/2017     123\n",
            "08/2017     114\n",
            "11/2018     110\n",
            "12/2018     103\n",
            "10/2018      97\n",
            "08/2016      94\n",
            "07/2019       6\n",
            "09/2019       5\n",
            "08/2019       1\n",
            "11/2019       1\n",
            "12/2019       1\n",
            "Name: registration, dtype: int64\n",
            "******************************\n",
            "\n",
            "\n",
            "\n"
          ]
        }
      ]
    },
    {
      "cell_type": "code",
      "source": [
        "df[\"registration\"] = df.registration.str.extract(r\"\\d+/(\\d*)\")"
      ],
      "metadata": {
        "id": "RB2brHXhJRh7"
      },
      "execution_count": 69,
      "outputs": []
    },
    {
      "cell_type": "code",
      "source": [
        "df[\"registration\"]"
      ],
      "metadata": {
        "colab": {
          "base_uri": "https://localhost:8080/"
        },
        "id": "tRZ2_yv7JmE3",
        "outputId": "605f211d-cd0f-478b-bc09-5ea065b5feb9"
      },
      "execution_count": 70,
      "outputs": [
        {
          "output_type": "execute_result",
          "data": {
            "text/plain": [
              "0        2016\n",
              "1        2017\n",
              "2        2016\n",
              "3        2016\n",
              "4        2016\n",
              "         ... \n",
              "15914     NaN\n",
              "15915    2019\n",
              "15916    2019\n",
              "15917    2019\n",
              "15918    2019\n",
              "Name: registration, Length: 15919, dtype: object"
            ]
          },
          "metadata": {},
          "execution_count": 70
        }
      ]
    },
    {
      "cell_type": "code",
      "source": [
        "df[\"registration\"] = df[\"registration\"].astype(float)"
      ],
      "metadata": {
        "id": "Qlm2UD6ZJmO9"
      },
      "execution_count": 71,
      "outputs": []
    },
    {
      "cell_type": "code",
      "source": [
        "pd.options.display.max_colwidth = 200"
      ],
      "metadata": {
        "id": "0_QIyTQAJmR1"
      },
      "execution_count": 72,
      "outputs": []
    },
    {
      "cell_type": "code",
      "source": [
        "df.info()"
      ],
      "metadata": {
        "colab": {
          "base_uri": "https://localhost:8080/"
        },
        "id": "95QfQ96IJmVb",
        "outputId": "055aafd4-ea71-4d98-ed78-87e63f877cb5"
      },
      "execution_count": 73,
      "outputs": [
        {
          "output_type": "stream",
          "name": "stdout",
          "text": [
            "<class 'pandas.core.frame.DataFrame'>\n",
            "RangeIndex: 15919 entries, 0 to 15918\n",
            "Data columns (total 52 columns):\n",
            " #   Column                         Non-Null Count  Dtype  \n",
            "---  ------                         --------------  -----  \n",
            " 0   short_description              15873 non-null  object \n",
            " 1   body_type                      15859 non-null  object \n",
            " 2   price_€                        15919 non-null  float64\n",
            " 3   vat                            11406 non-null  object \n",
            " 4   km                             14895 non-null  float64\n",
            " 5   registration                   14322 non-null  float64\n",
            " 6   prev_owner                     9091 non-null   object \n",
            " 7   kw                             0 non-null      float64\n",
            " 8   hp                             15919 non-null  object \n",
            " 9   type                           15917 non-null  object \n",
            " 10  previous_owners                9279 non-null   object \n",
            " 11  next_inspection                3535 non-null   object \n",
            " 12  inspection_new                 3932 non-null   object \n",
            " 13  warranty                       10499 non-null  object \n",
            " 14  full_service                   8215 non-null   object \n",
            " 15  non-smoking_vehicle            7177 non-null   object \n",
            " 16  null                           15919 non-null  object \n",
            " 17  make                           15919 non-null  object \n",
            " 18  model                          15919 non-null  object \n",
            " 19  offer_number                   12744 non-null  object \n",
            " 20  first_registration             14322 non-null  object \n",
            " 21  body_color                     15322 non-null  object \n",
            " 22  paint_type                     10147 non-null  object \n",
            " 23  body_color_original            12160 non-null  object \n",
            " 24  upholstery                     12199 non-null  object \n",
            " 25  body                           15859 non-null  object \n",
            " 26  nr._of_doors                   15707 non-null  object \n",
            " 27  nr._of_seats                   14942 non-null  object \n",
            " 28  model_code                     4978 non-null   object \n",
            " 29  gearing_type                   15919 non-null  object \n",
            " 30  displacement                   15423 non-null  object \n",
            " 31  cylinders                      10239 non-null  object \n",
            " 32  weight                         8945 non-null   object \n",
            " 33  drive_chain                    9061 non-null   object \n",
            " 34  fuel                           15919 non-null  object \n",
            " 35  consumption                    14013 non-null  object \n",
            " 36  co2_emission                   14111 non-null  object \n",
            " 37  emission_class                 12898 non-null  object \n",
            " 38  comfort&convenience            14999 non-null  object \n",
            " 39  entertainment&media            14545 non-null  object \n",
            " 40  extras                         12957 non-null  object \n",
            " 41  safety_&_security              14937 non-null  object \n",
            " 42  description                    15919 non-null  object \n",
            " 43  emission_label                 3985 non-null   object \n",
            " 44  gears                          11207 non-null  object \n",
            " 45  country_version                7586 non-null   object \n",
            " 46  electricity_consumption        137 non-null    object \n",
            " 47  last_service_date              566 non-null    object \n",
            " 48  other_fuel_types               880 non-null    object \n",
            " 49  availability                   635 non-null    object \n",
            " 50  last_timing_belt_service_date  16 non-null     object \n",
            " 51  available_from                 272 non-null    object \n",
            "dtypes: float64(4), object(48)\n",
            "memory usage: 6.3+ MB\n"
          ]
        }
      ]
    },
    {
      "cell_type": "code",
      "source": [
        "check_df(\"prev_owner\")"
      ],
      "metadata": {
        "colab": {
          "base_uri": "https://localhost:8080/"
        },
        "id": "tT2eSZsLJmZH",
        "outputId": "b5013e8e-eba8-4f99-a013-7c154f42c987"
      },
      "execution_count": 74,
      "outputs": [
        {
          "output_type": "stream",
          "name": "stdout",
          "text": [
            "column name :  prev_owner\n",
            "--------------------------------\n",
            "Per_of_Nulls   :  % 42.89\n",
            "Num_of_Nulls   :  6828\n",
            "1 previous owner     8294\n",
            "NaN                  6828\n",
            "2 previous owners     778\n",
            "3 previous owners      17\n",
            "4 previous owners       2\n",
            "Name: prev_owner, dtype: int64\n",
            "******************************\n",
            "\n",
            "\n",
            "\n"
          ]
        }
      ]
    },
    {
      "cell_type": "code",
      "source": [
        "df['prev_owner'] = df['prev_owner'].str.replace(r'[^0-9]+', '')"
      ],
      "metadata": {
        "id": "kvq2Gs6_Jmb-"
      },
      "execution_count": 75,
      "outputs": []
    },
    {
      "cell_type": "code",
      "source": [
        "df['prev_owner']"
      ],
      "metadata": {
        "colab": {
          "base_uri": "https://localhost:8080/"
        },
        "id": "8GXWxczrJme7",
        "outputId": "2addf2c2-38af-464e-865c-dc744063e983"
      },
      "execution_count": 76,
      "outputs": [
        {
          "output_type": "execute_result",
          "data": {
            "text/plain": [
              "0           2\n",
              "1        None\n",
              "2           1\n",
              "3           1\n",
              "4           1\n",
              "         ... \n",
              "15914    None\n",
              "15915       1\n",
              "15916       1\n",
              "15917    None\n",
              "15918       1\n",
              "Name: prev_owner, Length: 15919, dtype: object"
            ]
          },
          "metadata": {},
          "execution_count": 76
        }
      ]
    },
    {
      "cell_type": "code",
      "source": [
        "df['prev_owner'] = df['prev_owner'].astype(float)"
      ],
      "metadata": {
        "id": "nW5wp5HGJ3tl"
      },
      "execution_count": 77,
      "outputs": []
    },
    {
      "cell_type": "code",
      "source": [
        "check_df(\"kw\")"
      ],
      "metadata": {
        "colab": {
          "base_uri": "https://localhost:8080/"
        },
        "id": "kA86oaxWJ6RJ",
        "outputId": "32c18690-dd80-4d1f-be99-321cc4c4c759"
      },
      "execution_count": 79,
      "outputs": [
        {
          "output_type": "stream",
          "name": "stdout",
          "text": [
            "column name :  kw\n",
            "--------------------------------\n",
            "Per_of_Nulls   :  % 100.0\n",
            "Num_of_Nulls   :  15919\n",
            "NaN    15919\n",
            "Name: kw, dtype: int64\n",
            "******************************\n",
            "\n",
            "\n",
            "\n"
          ]
        }
      ]
    },
    {
      "cell_type": "code",
      "source": [
        "df.drop(columns=\"kw\", inplace=True)"
      ],
      "metadata": {
        "id": "lghZiegiJ6Y8"
      },
      "execution_count": 80,
      "outputs": []
    },
    {
      "cell_type": "code",
      "source": [
        "\n",
        "df.info()"
      ],
      "metadata": {
        "colab": {
          "base_uri": "https://localhost:8080/"
        },
        "id": "SKzufXeWJ6b-",
        "outputId": "356f4e40-b5a3-4c6c-b3f0-905f2cb022d4"
      },
      "execution_count": 81,
      "outputs": [
        {
          "output_type": "stream",
          "name": "stdout",
          "text": [
            "<class 'pandas.core.frame.DataFrame'>\n",
            "RangeIndex: 15919 entries, 0 to 15918\n",
            "Data columns (total 51 columns):\n",
            " #   Column                         Non-Null Count  Dtype  \n",
            "---  ------                         --------------  -----  \n",
            " 0   short_description              15873 non-null  object \n",
            " 1   body_type                      15859 non-null  object \n",
            " 2   price_€                        15919 non-null  float64\n",
            " 3   vat                            11406 non-null  object \n",
            " 4   km                             14895 non-null  float64\n",
            " 5   registration                   14322 non-null  float64\n",
            " 6   prev_owner                     9091 non-null   float64\n",
            " 7   hp                             15919 non-null  object \n",
            " 8   type                           15917 non-null  object \n",
            " 9   previous_owners                9279 non-null   object \n",
            " 10  next_inspection                3535 non-null   object \n",
            " 11  inspection_new                 3932 non-null   object \n",
            " 12  warranty                       10499 non-null  object \n",
            " 13  full_service                   8215 non-null   object \n",
            " 14  non-smoking_vehicle            7177 non-null   object \n",
            " 15  null                           15919 non-null  object \n",
            " 16  make                           15919 non-null  object \n",
            " 17  model                          15919 non-null  object \n",
            " 18  offer_number                   12744 non-null  object \n",
            " 19  first_registration             14322 non-null  object \n",
            " 20  body_color                     15322 non-null  object \n",
            " 21  paint_type                     10147 non-null  object \n",
            " 22  body_color_original            12160 non-null  object \n",
            " 23  upholstery                     12199 non-null  object \n",
            " 24  body                           15859 non-null  object \n",
            " 25  nr._of_doors                   15707 non-null  object \n",
            " 26  nr._of_seats                   14942 non-null  object \n",
            " 27  model_code                     4978 non-null   object \n",
            " 28  gearing_type                   15919 non-null  object \n",
            " 29  displacement                   15423 non-null  object \n",
            " 30  cylinders                      10239 non-null  object \n",
            " 31  weight                         8945 non-null   object \n",
            " 32  drive_chain                    9061 non-null   object \n",
            " 33  fuel                           15919 non-null  object \n",
            " 34  consumption                    14013 non-null  object \n",
            " 35  co2_emission                   14111 non-null  object \n",
            " 36  emission_class                 12898 non-null  object \n",
            " 37  comfort&convenience            14999 non-null  object \n",
            " 38  entertainment&media            14545 non-null  object \n",
            " 39  extras                         12957 non-null  object \n",
            " 40  safety_&_security              14937 non-null  object \n",
            " 41  description                    15919 non-null  object \n",
            " 42  emission_label                 3985 non-null   object \n",
            " 43  gears                          11207 non-null  object \n",
            " 44  country_version                7586 non-null   object \n",
            " 45  electricity_consumption        137 non-null    object \n",
            " 46  last_service_date              566 non-null    object \n",
            " 47  other_fuel_types               880 non-null    object \n",
            " 48  availability                   635 non-null    object \n",
            " 49  last_timing_belt_service_date  16 non-null     object \n",
            " 50  available_from                 272 non-null    object \n",
            "dtypes: float64(4), object(47)\n",
            "memory usage: 6.2+ MB\n"
          ]
        }
      ]
    },
    {
      "cell_type": "code",
      "source": [
        "check_df(\"hp\")"
      ],
      "metadata": {
        "colab": {
          "base_uri": "https://localhost:8080/"
        },
        "id": "OAVB_lJiJ6e0",
        "outputId": "8e8ede62-d879-4b46-efb0-d8eb94a02180"
      },
      "execution_count": 82,
      "outputs": [
        {
          "output_type": "stream",
          "name": "stdout",
          "text": [
            "column name :  hp\n",
            "--------------------------------\n",
            "Per_of_Nulls   :  % 0.0\n",
            "Num_of_Nulls   :  0\n",
            "85 kW     2542\n",
            "66 kW     2122\n",
            "81 kW     1402\n",
            "100 kW    1308\n",
            "110 kW    1112\n",
            "          ... \n",
            "84 kW        1\n",
            "195 kW       1\n",
            "44 kW        1\n",
            "239 kW       1\n",
            "9 kW         1\n",
            "Name: hp, Length: 81, dtype: int64\n",
            "******************************\n",
            "\n",
            "\n",
            "\n"
          ]
        }
      ]
    },
    {
      "cell_type": "code",
      "source": [
        "df[\"hp\"] = df['hp'].str.extract(r\"(\\d+)\").astype(float)"
      ],
      "metadata": {
        "id": "sTVXuer_J6hh"
      },
      "execution_count": 83,
      "outputs": []
    },
    {
      "cell_type": "code",
      "source": [
        "df.rename(columns={\"hp\" : \"hp_kW\"}, inplace=True)"
      ],
      "metadata": {
        "id": "IzmlMpnhKJXE"
      },
      "execution_count": 84,
      "outputs": []
    },
    {
      "cell_type": "code",
      "source": [
        "df.info()"
      ],
      "metadata": {
        "colab": {
          "base_uri": "https://localhost:8080/"
        },
        "id": "jZeHTu1yKJZ2",
        "outputId": "53c7987a-72de-4326-ccf1-06aacbabc0af"
      },
      "execution_count": 85,
      "outputs": [
        {
          "output_type": "stream",
          "name": "stdout",
          "text": [
            "<class 'pandas.core.frame.DataFrame'>\n",
            "RangeIndex: 15919 entries, 0 to 15918\n",
            "Data columns (total 51 columns):\n",
            " #   Column                         Non-Null Count  Dtype  \n",
            "---  ------                         --------------  -----  \n",
            " 0   short_description              15873 non-null  object \n",
            " 1   body_type                      15859 non-null  object \n",
            " 2   price_€                        15919 non-null  float64\n",
            " 3   vat                            11406 non-null  object \n",
            " 4   km                             14895 non-null  float64\n",
            " 5   registration                   14322 non-null  float64\n",
            " 6   prev_owner                     9091 non-null   float64\n",
            " 7   hp_kW                          15831 non-null  float64\n",
            " 8   type                           15917 non-null  object \n",
            " 9   previous_owners                9279 non-null   object \n",
            " 10  next_inspection                3535 non-null   object \n",
            " 11  inspection_new                 3932 non-null   object \n",
            " 12  warranty                       10499 non-null  object \n",
            " 13  full_service                   8215 non-null   object \n",
            " 14  non-smoking_vehicle            7177 non-null   object \n",
            " 15  null                           15919 non-null  object \n",
            " 16  make                           15919 non-null  object \n",
            " 17  model                          15919 non-null  object \n",
            " 18  offer_number                   12744 non-null  object \n",
            " 19  first_registration             14322 non-null  object \n",
            " 20  body_color                     15322 non-null  object \n",
            " 21  paint_type                     10147 non-null  object \n",
            " 22  body_color_original            12160 non-null  object \n",
            " 23  upholstery                     12199 non-null  object \n",
            " 24  body                           15859 non-null  object \n",
            " 25  nr._of_doors                   15707 non-null  object \n",
            " 26  nr._of_seats                   14942 non-null  object \n",
            " 27  model_code                     4978 non-null   object \n",
            " 28  gearing_type                   15919 non-null  object \n",
            " 29  displacement                   15423 non-null  object \n",
            " 30  cylinders                      10239 non-null  object \n",
            " 31  weight                         8945 non-null   object \n",
            " 32  drive_chain                    9061 non-null   object \n",
            " 33  fuel                           15919 non-null  object \n",
            " 34  consumption                    14013 non-null  object \n",
            " 35  co2_emission                   14111 non-null  object \n",
            " 36  emission_class                 12898 non-null  object \n",
            " 37  comfort&convenience            14999 non-null  object \n",
            " 38  entertainment&media            14545 non-null  object \n",
            " 39  extras                         12957 non-null  object \n",
            " 40  safety_&_security              14937 non-null  object \n",
            " 41  description                    15919 non-null  object \n",
            " 42  emission_label                 3985 non-null   object \n",
            " 43  gears                          11207 non-null  object \n",
            " 44  country_version                7586 non-null   object \n",
            " 45  electricity_consumption        137 non-null    object \n",
            " 46  last_service_date              566 non-null    object \n",
            " 47  other_fuel_types               880 non-null    object \n",
            " 48  availability                   635 non-null    object \n",
            " 49  last_timing_belt_service_date  16 non-null     object \n",
            " 50  available_from                 272 non-null    object \n",
            "dtypes: float64(5), object(46)\n",
            "memory usage: 6.2+ MB\n"
          ]
        }
      ]
    },
    {
      "cell_type": "code",
      "source": [
        "check_df(\"type\")"
      ],
      "metadata": {
        "colab": {
          "base_uri": "https://localhost:8080/"
        },
        "id": "KiXzqnPaKJco",
        "outputId": "7ba6145d-58a3-42a1-918d-ba3785a4b0a0"
      },
      "execution_count": 86,
      "outputs": [
        {
          "output_type": "stream",
          "name": "stdout",
          "text": [
            "column name :  type\n",
            "--------------------------------\n",
            "Per_of_Nulls   :  % 0.01\n",
            "Num_of_Nulls   :  2\n",
            "[, Used, , Diesel (Particulate Filter)]                                                                                 3475\n",
            "[, Used, , Diesel]                                                                                                      2516\n",
            "[, Used, , Gasoline]                                                                                                    2367\n",
            "[, Used, , Super 95]                                                                                                    1818\n",
            "[, Pre-registered, , Super 95]                                                                                           500\n",
            "                                                                                                                        ... \n",
            "[, New, , Regular/Benzine 91 / Super 95 / Super Plus 98 / Regular/Benzine E10 91 / Super Plus E10 98 / Super E10 95]       1\n",
            "[, Used, , Super 95 / Super Plus 98 / Super E10 95 / Super Plus E10 98 (Particulate Filter)]                               1\n",
            "[, Demonstration, , Super Plus 98]                                                                                         1\n",
            "[, New, , Super Plus E10 98]                                                                                               1\n",
            "[, Demonstration, , Regular/Benzine E10 91]                                                                                1\n",
            "Name: type, Length: 170, dtype: int64\n",
            "******************************\n",
            "\n",
            "\n",
            "\n"
          ]
        }
      ]
    },
    {
      "cell_type": "code",
      "source": [
        "df = df.applymap(lambda x: ','.join(map(str,x)) if type(x) == list else x)\n",
        "df.head()"
      ],
      "metadata": {
        "colab": {
          "base_uri": "https://localhost:8080/",
          "height": 930
        },
        "id": "mnAHqiuIKJfP",
        "outputId": "176dea92-5496-49ff-99dd-d25044f69f6c"
      },
      "execution_count": 87,
      "outputs": [
        {
          "output_type": "execute_result",
          "data": {
            "text/plain": [
              "                                    short_description body_type  price_€  \\\n",
              "0         Sportback 1.4 TDI S-tronic Xenon Navi Klima    Sedans  15770.0   \n",
              "1                                      1.8 TFSI sport    Sedans  14500.0   \n",
              "2  Sportback 1.6 TDI S tronic Einparkhilfe plus+music    Sedans  14640.0   \n",
              "3                             1.4 TDi Design S tronic    Sedans  14500.0   \n",
              "4  Sportback 1.4 TDI S-Tronic S-Line Ext. admired, Xe    Sedans  16790.0   \n",
              "\n",
              "                vat       km  registration  prev_owner  hp_kW  \\\n",
              "0    VAT deductible  56013.0        2016.0         2.0   66.0   \n",
              "1  Price negotiable  80000.0        2017.0         NaN  141.0   \n",
              "2    VAT deductible  83450.0        2016.0         1.0   85.0   \n",
              "3              None  73000.0        2016.0         1.0   66.0   \n",
              "4              None  16200.0        2016.0         1.0   66.0   \n",
              "\n",
              "                                 type previous_owners  \\\n",
              "0  ,Used,,Diesel (Particulate Filter)           \\n2\\n   \n",
              "1                     ,Used,,Gasoline             NaN   \n",
              "2  ,Used,,Diesel (Particulate Filter)           \\n1\\n   \n",
              "3  ,Used,,Diesel (Particulate Filter)           \\n1\\n   \n",
              "4  ,Used,,Diesel (Particulate Filter)           \\n1\\n   \n",
              "\n",
              "                      next_inspection                   inspection_new  \\\n",
              "0  \\n06/2021\\n,\\n99 g CO2/km (comb)\\n               \\nYes\\n,\\nEuro 6\\n   \n",
              "1                                 NaN                              NaN   \n",
              "2                                 NaN                              NaN   \n",
              "3                                 NaN                              NaN   \n",
              "4                                 NaN  \\nYes\\n,\\n109 g CO2/km (comb)\\n   \n",
              "\n",
              "                       warranty                  full_service  \\\n",
              "0           \\n,\\n,\\n4 (Green)\\n                         \\n,\\n   \n",
              "1                           NaN                           NaN   \n",
              "2  \\n,\\n,\\n99 g CO2/km (comb)\\n                           NaN   \n",
              "3                           NaN  \\n,\\n,\\n99 g CO2/km (comb)\\n   \n",
              "4              \\n,\\n,\\nEuro 6\\n           \\n,\\n,\\n4 (Green)\\n   \n",
              "\n",
              "  non-smoking_vehicle null  make model   offer_number first_registration  \\\n",
              "0               \\n,\\n       Audi    A1  \\nLR-062483\\n         \\n,2016,\\n   \n",
              "1                 NaN       Audi    A1            NaN         \\n,2017,\\n   \n",
              "2                 NaN       Audi    A1   \\nAM-95365\\n         \\n,2016,\\n   \n",
              "3    \\n,\\n,\\nEuro 6\\n       Audi    A1            NaN         \\n,2016,\\n   \n",
              "4               \\n,\\n       Audi    A1      \\nC1626\\n         \\n,2016,\\n   \n",
              "\n",
              "    body_color    paint_type         body_color_original        upholstery  \\\n",
              "0  \\n,Black,\\n  \\nMetallic\\n           \\nMythosschwarz\\n  \\nCloth, Black\\n   \n",
              "1    \\n,Red,\\n           NaN                         NaN   \\nCloth, Grey\\n   \n",
              "2  \\n,Black,\\n  \\nMetallic\\n  \\nmythosschwarz metallic\\n  \\nCloth, Black\\n   \n",
              "3  \\n,Brown,\\n  \\nMetallic\\n                         NaN               NaN   \n",
              "4  \\n,Black,\\n  \\nMetallic\\n  \\nMythosschwarz Metallic\\n  \\nCloth, Black\\n   \n",
              "\n",
              "           body nr._of_doors nr._of_seats    model_code     gearing_type  \\\n",
              "0  \\n,Sedans,\\n        \\n5\\n        \\n5\\n  \\n0588/BDF\\n  \\n,Automatic,\\n   \n",
              "1  \\n,Sedans,\\n        \\n3\\n        \\n4\\n  \\n0588/BCY\\n  \\n,Automatic,\\n   \n",
              "2  \\n,Sedans,\\n        \\n4\\n        \\n4\\n           NaN  \\n,Automatic,\\n   \n",
              "3  \\n,Sedans,\\n        \\n3\\n        \\n4\\n           NaN  \\n,Automatic,\\n   \n",
              "4  \\n,Sedans,\\n        \\n5\\n        \\n5\\n  \\n0588/BDF\\n  \\n,Automatic,\\n   \n",
              "\n",
              "   displacement cylinders        weight drive_chain  \\\n",
              "0  \\n1,422 cc\\n     \\n3\\n  \\n1,220 kg\\n   \\nfront\\n   \n",
              "1  \\n1,798 cc\\n     \\n4\\n  \\n1,255 kg\\n   \\nfront\\n   \n",
              "2  \\n1,598 cc\\n       NaN           NaN   \\nfront\\n   \n",
              "3  \\n1,422 cc\\n     \\n3\\n  \\n1,195 kg\\n         NaN   \n",
              "4  \\n1,422 cc\\n     \\n3\\n           NaN   \\nfront\\n   \n",
              "\n",
              "                                fuel  \\\n",
              "0  \\n,Diesel (Particulate Filter),\\n   \n",
              "1                     \\n,Gasoline,\\n   \n",
              "2  \\n,Diesel (Particulate Filter),\\n   \n",
              "3  \\n,Diesel (Particulate Filter),\\n   \n",
              "4  \\n,Diesel (Particulate Filter),\\n   \n",
              "\n",
              "                                                                  consumption  \\\n",
              "0  ['3.8 l/100 km (comb)'],['4.3 l/100 km (city)'],['3.5 l/100 km (country)']   \n",
              "1  ['5.6 l/100 km (comb)'],['7.1 l/100 km (city)'],['4.7 l/100 km (country)']   \n",
              "2  ['3.8 l/100 km (comb)'],['4.4 l/100 km (city)'],['3.4 l/100 km (country)']   \n",
              "3  ['3.8 l/100 km (comb)'],['4.3 l/100 km (city)'],['3.5 l/100 km (country)']   \n",
              "4  ['4.1 l/100 km (comb)'],['4.6 l/100 km (city)'],['3.8 l/100 km (country)']   \n",
              "\n",
              "              co2_emission emission_class  \\\n",
              "0   \\n99 g CO2/km (comb)\\n     \\nEuro 6\\n   \n",
              "1  \\n129 g CO2/km (comb)\\n     \\nEuro 6\\n   \n",
              "2   \\n99 g CO2/km (comb)\\n     \\nEuro 6\\n   \n",
              "3   \\n99 g CO2/km (comb)\\n     \\nEuro 6\\n   \n",
              "4  \\n109 g CO2/km (comb)\\n     \\nEuro 6\\n   \n",
              "\n",
              "                                                                                                                                                                                       comfort&convenience  \\\n",
              "0  Air conditioning,Armrest,Automatic climate control,Cruise control,Electrical side mirrors,Hill Holder,Leather steering wheel,Light sensor,Multi-function steering wheel,Navigation system,Park Dista...   \n",
              "1                           Air conditioning,Automatic climate control,Hill Holder,Leather steering wheel,Lumbar support,Parking assist system sensors rear,Power windows,Start-stop system,Tinted windows   \n",
              "2  Air conditioning,Cruise control,Electrical side mirrors,Hill Holder,Leather steering wheel,Multi-function steering wheel,Navigation system,Park Distance Control,Parking assist system sensors front...   \n",
              "3  Air suspension,Armrest,Auxiliary heating,Electrical side mirrors,Heads-up display,Hill Holder,Leather steering wheel,Light sensor,Lumbar support,Multi-function steering wheel,Navigation system,Pow...   \n",
              "4  Air conditioning,Armrest,Automatic climate control,Electrical side mirrors,Hill Holder,Leather steering wheel,Light sensor,Multi-function steering wheel,Park Distance Control,Parking assist system...   \n",
              "\n",
              "                                                                     entertainment&media  \\\n",
              "0                                 Bluetooth,Hands-free equipment,On-board computer,Radio   \n",
              "1                    Bluetooth,Hands-free equipment,On-board computer,Radio,Sound system   \n",
              "2                                                                  MP3,On-board computer   \n",
              "3  Bluetooth,CD player,Hands-free equipment,MP3,On-board computer,Radio,Sound system,USB   \n",
              "4               Bluetooth,CD player,Hands-free equipment,MP3,On-board computer,Radio,USB   \n",
              "\n",
              "                                                      extras  \\\n",
              "0             Alloy wheels,Catalytic Converter,Voice Control   \n",
              "1    Alloy wheels,Sport seats,Sport suspension,Voice Control   \n",
              "2                                 Alloy wheels,Voice Control   \n",
              "3                     Alloy wheels,Sport seats,Voice Control   \n",
              "4  Alloy wheels,Sport package,Sport suspension,Voice Control   \n",
              "\n",
              "                                                                                                                                                                                         safety_&_security  \\\n",
              "0  ABS,Central door lock,Daytime running lights,Driver-side airbag,Electronic stability control,Fog lights,Immobilizer,Isofix,Passenger-side airbag,Power steering,Side airbag,Tire pressure monitoring...   \n",
              "1  ABS,Central door lock,Central door lock with remote control,Daytime running lights,Driver-side airbag,Electronic stability control,Head airbag,Immobilizer,Isofix,Passenger-side airbag,Power steeri...   \n",
              "2  ABS,Central door lock,Daytime running lights,Driver-side airbag,Electronic stability control,Immobilizer,Isofix,Passenger-side airbag,Power steering,Side airbag,Tire pressure monitoring system,Tra...   \n",
              "3  ABS,Alarm system,Central door lock with remote control,Driver drowsiness detection,Driver-side airbag,Electronic stability control,Emergency system,Head airbag,Immobilizer,Isofix,Passenger-side ai...   \n",
              "4  ABS,Central door lock,Driver-side airbag,Electronic stability control,Fog lights,Immobilizer,Isofix,Passenger-side airbag,Power steering,Side airbag,Tire pressure monitoring system,Traction contro...   \n",
              "\n",
              "                                                                                                                                                                                               description  \\\n",
              "0  \\n,Sicherheit:, ,Deaktivierung für Beifahrer-Airbag, ,ESC mit elektronischer Quersperre, ,Tagfahrlicht, ,Reifendruck-Kontrollanzeige, ,Kopfairbag-System mit Seiten-Airbags vorn, ,Sicherheitslenksä...   \n",
              "1                                                                                                 \\nLangstreckenfahrzeug daher die hohe Kilometerleistung. ,Bremsen neu bei 62000 km. ,Gut gepflegter A1\\n   \n",
              "2  \\n,Fahrzeug-Nummer: AM-95365, ,Ehem. UPE 24.640 EUR, ,Komfort, ,Klimaanlage, ,Elektrische Fensterheber, ,Sitzheizung, ,Tempomat, ,Zentralverriegelung, ,Leder-Lenkrad, ,Elektrische Spiegel, ,Wärmed...   \n",
              "3  \\nAudi A1: ,- 1e eigenaar ,- Perfecte staat: schade/ongevalvrij ,- Onderhoudsboekje Audi garage ,- Full option!,- S-line opties,- Automaat, lederen bekleding, navi-pro, Xenon lampen, zetelverwarmi...   \n",
              "4  \\n,Technik & Sicherheit:,Xenon plus,Klimaautomatik,Einparkhilfe hinten,Scheinwerferreinigungsanlage,Nebelscheinwerfer,Zentralverriegelung mit Fernbedienung,Außenspiegel elek. einstellbar,Fensterhe...   \n",
              "\n",
              "  emission_label  gears country_version electricity_consumption  \\\n",
              "0            NaN    NaN             NaN                     NaN   \n",
              "1  \\n4 (Green)\\n  \\n7\\n             NaN                     NaN   \n",
              "2  \\n4 (Green)\\n    NaN             NaN                     NaN   \n",
              "3            NaN  \\n6\\n             NaN                     NaN   \n",
              "4            NaN    NaN     \\nGermany\\n                     NaN   \n",
              "\n",
              "  last_service_date other_fuel_types availability  \\\n",
              "0               NaN              NaN          NaN   \n",
              "1               NaN              NaN          NaN   \n",
              "2               NaN              NaN          NaN   \n",
              "3               NaN              NaN          NaN   \n",
              "4               NaN              NaN          NaN   \n",
              "\n",
              "  last_timing_belt_service_date available_from  \n",
              "0                           NaN            NaN  \n",
              "1                           NaN            NaN  \n",
              "2                           NaN            NaN  \n",
              "3                           NaN            NaN  \n",
              "4                           NaN            NaN  "
            ],
            "text/html": [
              "\n",
              "  <div id=\"df-a8ba1a8c-15df-4b7b-9091-dd864bc0a0de\">\n",
              "    <div class=\"colab-df-container\">\n",
              "      <div>\n",
              "<style scoped>\n",
              "    .dataframe tbody tr th:only-of-type {\n",
              "        vertical-align: middle;\n",
              "    }\n",
              "\n",
              "    .dataframe tbody tr th {\n",
              "        vertical-align: top;\n",
              "    }\n",
              "\n",
              "    .dataframe thead th {\n",
              "        text-align: right;\n",
              "    }\n",
              "</style>\n",
              "<table border=\"1\" class=\"dataframe\">\n",
              "  <thead>\n",
              "    <tr style=\"text-align: right;\">\n",
              "      <th></th>\n",
              "      <th>short_description</th>\n",
              "      <th>body_type</th>\n",
              "      <th>price_€</th>\n",
              "      <th>vat</th>\n",
              "      <th>km</th>\n",
              "      <th>registration</th>\n",
              "      <th>prev_owner</th>\n",
              "      <th>hp_kW</th>\n",
              "      <th>type</th>\n",
              "      <th>previous_owners</th>\n",
              "      <th>next_inspection</th>\n",
              "      <th>inspection_new</th>\n",
              "      <th>warranty</th>\n",
              "      <th>full_service</th>\n",
              "      <th>non-smoking_vehicle</th>\n",
              "      <th>null</th>\n",
              "      <th>make</th>\n",
              "      <th>model</th>\n",
              "      <th>offer_number</th>\n",
              "      <th>first_registration</th>\n",
              "      <th>body_color</th>\n",
              "      <th>paint_type</th>\n",
              "      <th>body_color_original</th>\n",
              "      <th>upholstery</th>\n",
              "      <th>body</th>\n",
              "      <th>nr._of_doors</th>\n",
              "      <th>nr._of_seats</th>\n",
              "      <th>model_code</th>\n",
              "      <th>gearing_type</th>\n",
              "      <th>displacement</th>\n",
              "      <th>cylinders</th>\n",
              "      <th>weight</th>\n",
              "      <th>drive_chain</th>\n",
              "      <th>fuel</th>\n",
              "      <th>consumption</th>\n",
              "      <th>co2_emission</th>\n",
              "      <th>emission_class</th>\n",
              "      <th>comfort&amp;convenience</th>\n",
              "      <th>entertainment&amp;media</th>\n",
              "      <th>extras</th>\n",
              "      <th>safety_&amp;_security</th>\n",
              "      <th>description</th>\n",
              "      <th>emission_label</th>\n",
              "      <th>gears</th>\n",
              "      <th>country_version</th>\n",
              "      <th>electricity_consumption</th>\n",
              "      <th>last_service_date</th>\n",
              "      <th>other_fuel_types</th>\n",
              "      <th>availability</th>\n",
              "      <th>last_timing_belt_service_date</th>\n",
              "      <th>available_from</th>\n",
              "    </tr>\n",
              "  </thead>\n",
              "  <tbody>\n",
              "    <tr>\n",
              "      <th>0</th>\n",
              "      <td>Sportback 1.4 TDI S-tronic Xenon Navi Klima</td>\n",
              "      <td>Sedans</td>\n",
              "      <td>15770.0</td>\n",
              "      <td>VAT deductible</td>\n",
              "      <td>56013.0</td>\n",
              "      <td>2016.0</td>\n",
              "      <td>2.0</td>\n",
              "      <td>66.0</td>\n",
              "      <td>,Used,,Diesel (Particulate Filter)</td>\n",
              "      <td>\\n2\\n</td>\n",
              "      <td>\\n06/2021\\n,\\n99 g CO2/km (comb)\\n</td>\n",
              "      <td>\\nYes\\n,\\nEuro 6\\n</td>\n",
              "      <td>\\n,\\n,\\n4 (Green)\\n</td>\n",
              "      <td>\\n,\\n</td>\n",
              "      <td>\\n,\\n</td>\n",
              "      <td></td>\n",
              "      <td>Audi</td>\n",
              "      <td>A1</td>\n",
              "      <td>\\nLR-062483\\n</td>\n",
              "      <td>\\n,2016,\\n</td>\n",
              "      <td>\\n,Black,\\n</td>\n",
              "      <td>\\nMetallic\\n</td>\n",
              "      <td>\\nMythosschwarz\\n</td>\n",
              "      <td>\\nCloth, Black\\n</td>\n",
              "      <td>\\n,Sedans,\\n</td>\n",
              "      <td>\\n5\\n</td>\n",
              "      <td>\\n5\\n</td>\n",
              "      <td>\\n0588/BDF\\n</td>\n",
              "      <td>\\n,Automatic,\\n</td>\n",
              "      <td>\\n1,422 cc\\n</td>\n",
              "      <td>\\n3\\n</td>\n",
              "      <td>\\n1,220 kg\\n</td>\n",
              "      <td>\\nfront\\n</td>\n",
              "      <td>\\n,Diesel (Particulate Filter),\\n</td>\n",
              "      <td>['3.8 l/100 km (comb)'],['4.3 l/100 km (city)'],['3.5 l/100 km (country)']</td>\n",
              "      <td>\\n99 g CO2/km (comb)\\n</td>\n",
              "      <td>\\nEuro 6\\n</td>\n",
              "      <td>Air conditioning,Armrest,Automatic climate control,Cruise control,Electrical side mirrors,Hill Holder,Leather steering wheel,Light sensor,Multi-function steering wheel,Navigation system,Park Dista...</td>\n",
              "      <td>Bluetooth,Hands-free equipment,On-board computer,Radio</td>\n",
              "      <td>Alloy wheels,Catalytic Converter,Voice Control</td>\n",
              "      <td>ABS,Central door lock,Daytime running lights,Driver-side airbag,Electronic stability control,Fog lights,Immobilizer,Isofix,Passenger-side airbag,Power steering,Side airbag,Tire pressure monitoring...</td>\n",
              "      <td>\\n,Sicherheit:, ,Deaktivierung für Beifahrer-Airbag, ,ESC mit elektronischer Quersperre, ,Tagfahrlicht, ,Reifendruck-Kontrollanzeige, ,Kopfairbag-System mit Seiten-Airbags vorn, ,Sicherheitslenksä...</td>\n",
              "      <td>NaN</td>\n",
              "      <td>NaN</td>\n",
              "      <td>NaN</td>\n",
              "      <td>NaN</td>\n",
              "      <td>NaN</td>\n",
              "      <td>NaN</td>\n",
              "      <td>NaN</td>\n",
              "      <td>NaN</td>\n",
              "      <td>NaN</td>\n",
              "    </tr>\n",
              "    <tr>\n",
              "      <th>1</th>\n",
              "      <td>1.8 TFSI sport</td>\n",
              "      <td>Sedans</td>\n",
              "      <td>14500.0</td>\n",
              "      <td>Price negotiable</td>\n",
              "      <td>80000.0</td>\n",
              "      <td>2017.0</td>\n",
              "      <td>NaN</td>\n",
              "      <td>141.0</td>\n",
              "      <td>,Used,,Gasoline</td>\n",
              "      <td>NaN</td>\n",
              "      <td>NaN</td>\n",
              "      <td>NaN</td>\n",
              "      <td>NaN</td>\n",
              "      <td>NaN</td>\n",
              "      <td>NaN</td>\n",
              "      <td></td>\n",
              "      <td>Audi</td>\n",
              "      <td>A1</td>\n",
              "      <td>NaN</td>\n",
              "      <td>\\n,2017,\\n</td>\n",
              "      <td>\\n,Red,\\n</td>\n",
              "      <td>NaN</td>\n",
              "      <td>NaN</td>\n",
              "      <td>\\nCloth, Grey\\n</td>\n",
              "      <td>\\n,Sedans,\\n</td>\n",
              "      <td>\\n3\\n</td>\n",
              "      <td>\\n4\\n</td>\n",
              "      <td>\\n0588/BCY\\n</td>\n",
              "      <td>\\n,Automatic,\\n</td>\n",
              "      <td>\\n1,798 cc\\n</td>\n",
              "      <td>\\n4\\n</td>\n",
              "      <td>\\n1,255 kg\\n</td>\n",
              "      <td>\\nfront\\n</td>\n",
              "      <td>\\n,Gasoline,\\n</td>\n",
              "      <td>['5.6 l/100 km (comb)'],['7.1 l/100 km (city)'],['4.7 l/100 km (country)']</td>\n",
              "      <td>\\n129 g CO2/km (comb)\\n</td>\n",
              "      <td>\\nEuro 6\\n</td>\n",
              "      <td>Air conditioning,Automatic climate control,Hill Holder,Leather steering wheel,Lumbar support,Parking assist system sensors rear,Power windows,Start-stop system,Tinted windows</td>\n",
              "      <td>Bluetooth,Hands-free equipment,On-board computer,Radio,Sound system</td>\n",
              "      <td>Alloy wheels,Sport seats,Sport suspension,Voice Control</td>\n",
              "      <td>ABS,Central door lock,Central door lock with remote control,Daytime running lights,Driver-side airbag,Electronic stability control,Head airbag,Immobilizer,Isofix,Passenger-side airbag,Power steeri...</td>\n",
              "      <td>\\nLangstreckenfahrzeug daher die hohe Kilometerleistung. ,Bremsen neu bei 62000 km. ,Gut gepflegter A1\\n</td>\n",
              "      <td>\\n4 (Green)\\n</td>\n",
              "      <td>\\n7\\n</td>\n",
              "      <td>NaN</td>\n",
              "      <td>NaN</td>\n",
              "      <td>NaN</td>\n",
              "      <td>NaN</td>\n",
              "      <td>NaN</td>\n",
              "      <td>NaN</td>\n",
              "      <td>NaN</td>\n",
              "    </tr>\n",
              "    <tr>\n",
              "      <th>2</th>\n",
              "      <td>Sportback 1.6 TDI S tronic Einparkhilfe plus+music</td>\n",
              "      <td>Sedans</td>\n",
              "      <td>14640.0</td>\n",
              "      <td>VAT deductible</td>\n",
              "      <td>83450.0</td>\n",
              "      <td>2016.0</td>\n",
              "      <td>1.0</td>\n",
              "      <td>85.0</td>\n",
              "      <td>,Used,,Diesel (Particulate Filter)</td>\n",
              "      <td>\\n1\\n</td>\n",
              "      <td>NaN</td>\n",
              "      <td>NaN</td>\n",
              "      <td>\\n,\\n,\\n99 g CO2/km (comb)\\n</td>\n",
              "      <td>NaN</td>\n",
              "      <td>NaN</td>\n",
              "      <td></td>\n",
              "      <td>Audi</td>\n",
              "      <td>A1</td>\n",
              "      <td>\\nAM-95365\\n</td>\n",
              "      <td>\\n,2016,\\n</td>\n",
              "      <td>\\n,Black,\\n</td>\n",
              "      <td>\\nMetallic\\n</td>\n",
              "      <td>\\nmythosschwarz metallic\\n</td>\n",
              "      <td>\\nCloth, Black\\n</td>\n",
              "      <td>\\n,Sedans,\\n</td>\n",
              "      <td>\\n4\\n</td>\n",
              "      <td>\\n4\\n</td>\n",
              "      <td>NaN</td>\n",
              "      <td>\\n,Automatic,\\n</td>\n",
              "      <td>\\n1,598 cc\\n</td>\n",
              "      <td>NaN</td>\n",
              "      <td>NaN</td>\n",
              "      <td>\\nfront\\n</td>\n",
              "      <td>\\n,Diesel (Particulate Filter),\\n</td>\n",
              "      <td>['3.8 l/100 km (comb)'],['4.4 l/100 km (city)'],['3.4 l/100 km (country)']</td>\n",
              "      <td>\\n99 g CO2/km (comb)\\n</td>\n",
              "      <td>\\nEuro 6\\n</td>\n",
              "      <td>Air conditioning,Cruise control,Electrical side mirrors,Hill Holder,Leather steering wheel,Multi-function steering wheel,Navigation system,Park Distance Control,Parking assist system sensors front...</td>\n",
              "      <td>MP3,On-board computer</td>\n",
              "      <td>Alloy wheels,Voice Control</td>\n",
              "      <td>ABS,Central door lock,Daytime running lights,Driver-side airbag,Electronic stability control,Immobilizer,Isofix,Passenger-side airbag,Power steering,Side airbag,Tire pressure monitoring system,Tra...</td>\n",
              "      <td>\\n,Fahrzeug-Nummer: AM-95365, ,Ehem. UPE 24.640 EUR, ,Komfort, ,Klimaanlage, ,Elektrische Fensterheber, ,Sitzheizung, ,Tempomat, ,Zentralverriegelung, ,Leder-Lenkrad, ,Elektrische Spiegel, ,Wärmed...</td>\n",
              "      <td>\\n4 (Green)\\n</td>\n",
              "      <td>NaN</td>\n",
              "      <td>NaN</td>\n",
              "      <td>NaN</td>\n",
              "      <td>NaN</td>\n",
              "      <td>NaN</td>\n",
              "      <td>NaN</td>\n",
              "      <td>NaN</td>\n",
              "      <td>NaN</td>\n",
              "    </tr>\n",
              "    <tr>\n",
              "      <th>3</th>\n",
              "      <td>1.4 TDi Design S tronic</td>\n",
              "      <td>Sedans</td>\n",
              "      <td>14500.0</td>\n",
              "      <td>None</td>\n",
              "      <td>73000.0</td>\n",
              "      <td>2016.0</td>\n",
              "      <td>1.0</td>\n",
              "      <td>66.0</td>\n",
              "      <td>,Used,,Diesel (Particulate Filter)</td>\n",
              "      <td>\\n1\\n</td>\n",
              "      <td>NaN</td>\n",
              "      <td>NaN</td>\n",
              "      <td>NaN</td>\n",
              "      <td>\\n,\\n,\\n99 g CO2/km (comb)\\n</td>\n",
              "      <td>\\n,\\n,\\nEuro 6\\n</td>\n",
              "      <td></td>\n",
              "      <td>Audi</td>\n",
              "      <td>A1</td>\n",
              "      <td>NaN</td>\n",
              "      <td>\\n,2016,\\n</td>\n",
              "      <td>\\n,Brown,\\n</td>\n",
              "      <td>\\nMetallic\\n</td>\n",
              "      <td>NaN</td>\n",
              "      <td>NaN</td>\n",
              "      <td>\\n,Sedans,\\n</td>\n",
              "      <td>\\n3\\n</td>\n",
              "      <td>\\n4\\n</td>\n",
              "      <td>NaN</td>\n",
              "      <td>\\n,Automatic,\\n</td>\n",
              "      <td>\\n1,422 cc\\n</td>\n",
              "      <td>\\n3\\n</td>\n",
              "      <td>\\n1,195 kg\\n</td>\n",
              "      <td>NaN</td>\n",
              "      <td>\\n,Diesel (Particulate Filter),\\n</td>\n",
              "      <td>['3.8 l/100 km (comb)'],['4.3 l/100 km (city)'],['3.5 l/100 km (country)']</td>\n",
              "      <td>\\n99 g CO2/km (comb)\\n</td>\n",
              "      <td>\\nEuro 6\\n</td>\n",
              "      <td>Air suspension,Armrest,Auxiliary heating,Electrical side mirrors,Heads-up display,Hill Holder,Leather steering wheel,Light sensor,Lumbar support,Multi-function steering wheel,Navigation system,Pow...</td>\n",
              "      <td>Bluetooth,CD player,Hands-free equipment,MP3,On-board computer,Radio,Sound system,USB</td>\n",
              "      <td>Alloy wheels,Sport seats,Voice Control</td>\n",
              "      <td>ABS,Alarm system,Central door lock with remote control,Driver drowsiness detection,Driver-side airbag,Electronic stability control,Emergency system,Head airbag,Immobilizer,Isofix,Passenger-side ai...</td>\n",
              "      <td>\\nAudi A1: ,- 1e eigenaar ,- Perfecte staat: schade/ongevalvrij ,- Onderhoudsboekje Audi garage ,- Full option!,- S-line opties,- Automaat, lederen bekleding, navi-pro, Xenon lampen, zetelverwarmi...</td>\n",
              "      <td>NaN</td>\n",
              "      <td>\\n6\\n</td>\n",
              "      <td>NaN</td>\n",
              "      <td>NaN</td>\n",
              "      <td>NaN</td>\n",
              "      <td>NaN</td>\n",
              "      <td>NaN</td>\n",
              "      <td>NaN</td>\n",
              "      <td>NaN</td>\n",
              "    </tr>\n",
              "    <tr>\n",
              "      <th>4</th>\n",
              "      <td>Sportback 1.4 TDI S-Tronic S-Line Ext. admired, Xe</td>\n",
              "      <td>Sedans</td>\n",
              "      <td>16790.0</td>\n",
              "      <td>None</td>\n",
              "      <td>16200.0</td>\n",
              "      <td>2016.0</td>\n",
              "      <td>1.0</td>\n",
              "      <td>66.0</td>\n",
              "      <td>,Used,,Diesel (Particulate Filter)</td>\n",
              "      <td>\\n1\\n</td>\n",
              "      <td>NaN</td>\n",
              "      <td>\\nYes\\n,\\n109 g CO2/km (comb)\\n</td>\n",
              "      <td>\\n,\\n,\\nEuro 6\\n</td>\n",
              "      <td>\\n,\\n,\\n4 (Green)\\n</td>\n",
              "      <td>\\n,\\n</td>\n",
              "      <td></td>\n",
              "      <td>Audi</td>\n",
              "      <td>A1</td>\n",
              "      <td>\\nC1626\\n</td>\n",
              "      <td>\\n,2016,\\n</td>\n",
              "      <td>\\n,Black,\\n</td>\n",
              "      <td>\\nMetallic\\n</td>\n",
              "      <td>\\nMythosschwarz Metallic\\n</td>\n",
              "      <td>\\nCloth, Black\\n</td>\n",
              "      <td>\\n,Sedans,\\n</td>\n",
              "      <td>\\n5\\n</td>\n",
              "      <td>\\n5\\n</td>\n",
              "      <td>\\n0588/BDF\\n</td>\n",
              "      <td>\\n,Automatic,\\n</td>\n",
              "      <td>\\n1,422 cc\\n</td>\n",
              "      <td>\\n3\\n</td>\n",
              "      <td>NaN</td>\n",
              "      <td>\\nfront\\n</td>\n",
              "      <td>\\n,Diesel (Particulate Filter),\\n</td>\n",
              "      <td>['4.1 l/100 km (comb)'],['4.6 l/100 km (city)'],['3.8 l/100 km (country)']</td>\n",
              "      <td>\\n109 g CO2/km (comb)\\n</td>\n",
              "      <td>\\nEuro 6\\n</td>\n",
              "      <td>Air conditioning,Armrest,Automatic climate control,Electrical side mirrors,Hill Holder,Leather steering wheel,Light sensor,Multi-function steering wheel,Park Distance Control,Parking assist system...</td>\n",
              "      <td>Bluetooth,CD player,Hands-free equipment,MP3,On-board computer,Radio,USB</td>\n",
              "      <td>Alloy wheels,Sport package,Sport suspension,Voice Control</td>\n",
              "      <td>ABS,Central door lock,Driver-side airbag,Electronic stability control,Fog lights,Immobilizer,Isofix,Passenger-side airbag,Power steering,Side airbag,Tire pressure monitoring system,Traction contro...</td>\n",
              "      <td>\\n,Technik &amp; Sicherheit:,Xenon plus,Klimaautomatik,Einparkhilfe hinten,Scheinwerferreinigungsanlage,Nebelscheinwerfer,Zentralverriegelung mit Fernbedienung,Außenspiegel elek. einstellbar,Fensterhe...</td>\n",
              "      <td>NaN</td>\n",
              "      <td>NaN</td>\n",
              "      <td>\\nGermany\\n</td>\n",
              "      <td>NaN</td>\n",
              "      <td>NaN</td>\n",
              "      <td>NaN</td>\n",
              "      <td>NaN</td>\n",
              "      <td>NaN</td>\n",
              "      <td>NaN</td>\n",
              "    </tr>\n",
              "  </tbody>\n",
              "</table>\n",
              "</div>\n",
              "      <button class=\"colab-df-convert\" onclick=\"convertToInteractive('df-a8ba1a8c-15df-4b7b-9091-dd864bc0a0de')\"\n",
              "              title=\"Convert this dataframe to an interactive table.\"\n",
              "              style=\"display:none;\">\n",
              "        \n",
              "  <svg xmlns=\"http://www.w3.org/2000/svg\" height=\"24px\"viewBox=\"0 0 24 24\"\n",
              "       width=\"24px\">\n",
              "    <path d=\"M0 0h24v24H0V0z\" fill=\"none\"/>\n",
              "    <path d=\"M18.56 5.44l.94 2.06.94-2.06 2.06-.94-2.06-.94-.94-2.06-.94 2.06-2.06.94zm-11 1L8.5 8.5l.94-2.06 2.06-.94-2.06-.94L8.5 2.5l-.94 2.06-2.06.94zm10 10l.94 2.06.94-2.06 2.06-.94-2.06-.94-.94-2.06-.94 2.06-2.06.94z\"/><path d=\"M17.41 7.96l-1.37-1.37c-.4-.4-.92-.59-1.43-.59-.52 0-1.04.2-1.43.59L10.3 9.45l-7.72 7.72c-.78.78-.78 2.05 0 2.83L4 21.41c.39.39.9.59 1.41.59.51 0 1.02-.2 1.41-.59l7.78-7.78 2.81-2.81c.8-.78.8-2.07 0-2.86zM5.41 20L4 18.59l7.72-7.72 1.47 1.35L5.41 20z\"/>\n",
              "  </svg>\n",
              "      </button>\n",
              "      \n",
              "  <style>\n",
              "    .colab-df-container {\n",
              "      display:flex;\n",
              "      flex-wrap:wrap;\n",
              "      gap: 12px;\n",
              "    }\n",
              "\n",
              "    .colab-df-convert {\n",
              "      background-color: #E8F0FE;\n",
              "      border: none;\n",
              "      border-radius: 50%;\n",
              "      cursor: pointer;\n",
              "      display: none;\n",
              "      fill: #1967D2;\n",
              "      height: 32px;\n",
              "      padding: 0 0 0 0;\n",
              "      width: 32px;\n",
              "    }\n",
              "\n",
              "    .colab-df-convert:hover {\n",
              "      background-color: #E2EBFA;\n",
              "      box-shadow: 0px 1px 2px rgba(60, 64, 67, 0.3), 0px 1px 3px 1px rgba(60, 64, 67, 0.15);\n",
              "      fill: #174EA6;\n",
              "    }\n",
              "\n",
              "    [theme=dark] .colab-df-convert {\n",
              "      background-color: #3B4455;\n",
              "      fill: #D2E3FC;\n",
              "    }\n",
              "\n",
              "    [theme=dark] .colab-df-convert:hover {\n",
              "      background-color: #434B5C;\n",
              "      box-shadow: 0px 1px 3px 1px rgba(0, 0, 0, 0.15);\n",
              "      filter: drop-shadow(0px 1px 2px rgba(0, 0, 0, 0.3));\n",
              "      fill: #FFFFFF;\n",
              "    }\n",
              "  </style>\n",
              "\n",
              "      <script>\n",
              "        const buttonEl =\n",
              "          document.querySelector('#df-a8ba1a8c-15df-4b7b-9091-dd864bc0a0de button.colab-df-convert');\n",
              "        buttonEl.style.display =\n",
              "          google.colab.kernel.accessAllowed ? 'block' : 'none';\n",
              "\n",
              "        async function convertToInteractive(key) {\n",
              "          const element = document.querySelector('#df-a8ba1a8c-15df-4b7b-9091-dd864bc0a0de');\n",
              "          const dataTable =\n",
              "            await google.colab.kernel.invokeFunction('convertToInteractive',\n",
              "                                                     [key], {});\n",
              "          if (!dataTable) return;\n",
              "\n",
              "          const docLinkHtml = 'Like what you see? Visit the ' +\n",
              "            '<a target=\"_blank\" href=https://colab.research.google.com/notebooks/data_table.ipynb>data table notebook</a>'\n",
              "            + ' to learn more about interactive tables.';\n",
              "          element.innerHTML = '';\n",
              "          dataTable['output_type'] = 'display_data';\n",
              "          await google.colab.output.renderOutput(dataTable, element);\n",
              "          const docLink = document.createElement('div');\n",
              "          docLink.innerHTML = docLinkHtml;\n",
              "          element.appendChild(docLink);\n",
              "        }\n",
              "      </script>\n",
              "    </div>\n",
              "  </div>\n",
              "  "
            ]
          },
          "metadata": {},
          "execution_count": 87
        }
      ]
    },
    {
      "cell_type": "code",
      "source": [
        "df.type = df.type.str.extract(r\",(\\w+|\\w+\\W\\w+|\\w+\\W\\w\\s\\w+),\")"
      ],
      "metadata": {
        "id": "ilMeiRoUKJiq"
      },
      "execution_count": 88,
      "outputs": []
    },
    {
      "cell_type": "code",
      "source": [
        "df.type.value_counts()"
      ],
      "metadata": {
        "colab": {
          "base_uri": "https://localhost:8080/"
        },
        "id": "2PhK4DkjKWP9",
        "outputId": "8b008a74-bb01-4e33-fafd-fe4521820cbd"
      },
      "execution_count": 89,
      "outputs": [
        {
          "output_type": "execute_result",
          "data": {
            "text/plain": [
              "Used              11096\n",
              "New                1650\n",
              "Pre-registered     1364\n",
              "Employee's car     1011\n",
              "Demonstration       796\n",
              "Name: type, dtype: int64"
            ]
          },
          "metadata": {},
          "execution_count": 89
        }
      ]
    },
    {
      "cell_type": "code",
      "source": [
        "check_df(\"previous_owners\")"
      ],
      "metadata": {
        "colab": {
          "base_uri": "https://localhost:8080/"
        },
        "id": "V32AltwWKWSp",
        "outputId": "21277534-9eb0-4ac5-fdf8-9cbecc2e8b81"
      },
      "execution_count": 90,
      "outputs": [
        {
          "output_type": "stream",
          "name": "stdout",
          "text": [
            "column name :  previous_owners\n",
            "--------------------------------\n",
            "Per_of_Nulls   :  % 41.71\n",
            "Num_of_Nulls   :  6640\n",
            "\\n1\\n                                                                               8103\n",
            "NaN                                                                                 6640\n",
            "\\n2\\n                                                                                766\n",
            "\\n0\\n                                                                                163\n",
            "\\n3\\n                                                                                 17\n",
            "                                                                                    ... \n",
            "\\n1\\n,\\n111 g CO2/km (comb)\\n                                                          1\n",
            "\\n1\\n,\\nEuro 6\\n                                                                       1\n",
            "\\n2\\n,\\n119 g CO2/km (comb)\\n                                                          1\n",
            "\\n1\\n,\\n,6.6 l/100 km (comb),\\n,8.1 l/100 km (city),\\n,5.7 l/100 km (country),\\n       1\n",
            "\\n1\\n,\\n142 g CO2/km (comb)\\n                                                          1\n",
            "Name: previous_owners, Length: 102, dtype: int64\n",
            "******************************\n",
            "\n",
            "\n",
            "\n"
          ]
        }
      ]
    },
    {
      "cell_type": "code",
      "source": [
        "df.previous_owners.sample(60)"
      ],
      "metadata": {
        "colab": {
          "base_uri": "https://localhost:8080/"
        },
        "id": "k3WlH2lYKWVZ",
        "outputId": "82c62e6a-88da-4aa7-912e-ee2fcb23df0b"
      },
      "execution_count": 91,
      "outputs": [
        {
          "output_type": "execute_result",
          "data": {
            "text/plain": [
              "10704    \\n1\\n,\\n159 g CO2/km (comb)\\n\n",
              "6552                             \\n1\\n\n",
              "3214                               NaN\n",
              "9462                               NaN\n",
              "2569                               NaN\n",
              "13879                            \\n1\\n\n",
              "11075                              NaN\n",
              "3205                               NaN\n",
              "4533                             \\n1\\n\n",
              "8332                             \\n1\\n\n",
              "2497                               NaN\n",
              "5117                               NaN\n",
              "8257                             \\n1\\n\n",
              "627                              \\n2\\n\n",
              "4838                             \\n1\\n\n",
              "10452                              NaN\n",
              "5501                             \\n1\\n\n",
              "4833                               NaN\n",
              "568                              \\n1\\n\n",
              "14971                            \\n2\\n\n",
              "11025                            \\n1\\n\n",
              "2407                             \\n1\\n\n",
              "9490                             \\n1\\n\n",
              "15595                              NaN\n",
              "6674                             \\n1\\n\n",
              "6248                             \\n1\\n\n",
              "15633                            \\n1\\n\n",
              "6961                             \\n1\\n\n",
              "463                              \\n1\\n\n",
              "3607                               NaN\n",
              "15377                            \\n1\\n\n",
              "4477                               NaN\n",
              "13649                              NaN\n",
              "11747                            \\n1\\n\n",
              "5966                             \\n1\\n\n",
              "7858                               NaN\n",
              "706                                NaN\n",
              "13387                            \\n1\\n\n",
              "8525                               NaN\n",
              "13622                              NaN\n",
              "4669                               NaN\n",
              "1012                             \\n1\\n\n",
              "4159                             \\n1\\n\n",
              "1868                               NaN\n",
              "15250                            \\n1\\n\n",
              "4380                             \\n1\\n\n",
              "3246                               NaN\n",
              "8385                             \\n1\\n\n",
              "9346                             \\n1\\n\n",
              "14331                            \\n1\\n\n",
              "1316                             \\n1\\n\n",
              "11593                              NaN\n",
              "14155                            \\n1\\n\n",
              "11767                            \\n1\\n\n",
              "8216                               NaN\n",
              "2521                               NaN\n",
              "11491                            \\n1\\n\n",
              "623                                NaN\n",
              "13357                            \\n1\\n\n",
              "230                              \\n1\\n\n",
              "Name: previous_owners, dtype: object"
            ]
          },
          "metadata": {},
          "execution_count": 91
        }
      ]
    },
    {
      "cell_type": "code",
      "source": [
        "df[[\"prev_owner\", \"previous_owners\"]].sample(5)"
      ],
      "metadata": {
        "colab": {
          "base_uri": "https://localhost:8080/",
          "height": 206
        },
        "id": "FqLWzXNOKWYE",
        "outputId": "f242fbcf-417b-4047-f522-5851d467b53f"
      },
      "execution_count": 92,
      "outputs": [
        {
          "output_type": "execute_result",
          "data": {
            "text/plain": [
              "       prev_owner previous_owners\n",
              "14507         NaN             NaN\n",
              "13233         NaN             NaN\n",
              "13934         NaN             NaN\n",
              "13579         NaN             NaN\n",
              "10299         NaN             NaN"
            ],
            "text/html": [
              "\n",
              "  <div id=\"df-2ae601fc-8615-441c-b85d-561f3c0d620d\">\n",
              "    <div class=\"colab-df-container\">\n",
              "      <div>\n",
              "<style scoped>\n",
              "    .dataframe tbody tr th:only-of-type {\n",
              "        vertical-align: middle;\n",
              "    }\n",
              "\n",
              "    .dataframe tbody tr th {\n",
              "        vertical-align: top;\n",
              "    }\n",
              "\n",
              "    .dataframe thead th {\n",
              "        text-align: right;\n",
              "    }\n",
              "</style>\n",
              "<table border=\"1\" class=\"dataframe\">\n",
              "  <thead>\n",
              "    <tr style=\"text-align: right;\">\n",
              "      <th></th>\n",
              "      <th>prev_owner</th>\n",
              "      <th>previous_owners</th>\n",
              "    </tr>\n",
              "  </thead>\n",
              "  <tbody>\n",
              "    <tr>\n",
              "      <th>14507</th>\n",
              "      <td>NaN</td>\n",
              "      <td>NaN</td>\n",
              "    </tr>\n",
              "    <tr>\n",
              "      <th>13233</th>\n",
              "      <td>NaN</td>\n",
              "      <td>NaN</td>\n",
              "    </tr>\n",
              "    <tr>\n",
              "      <th>13934</th>\n",
              "      <td>NaN</td>\n",
              "      <td>NaN</td>\n",
              "    </tr>\n",
              "    <tr>\n",
              "      <th>13579</th>\n",
              "      <td>NaN</td>\n",
              "      <td>NaN</td>\n",
              "    </tr>\n",
              "    <tr>\n",
              "      <th>10299</th>\n",
              "      <td>NaN</td>\n",
              "      <td>NaN</td>\n",
              "    </tr>\n",
              "  </tbody>\n",
              "</table>\n",
              "</div>\n",
              "      <button class=\"colab-df-convert\" onclick=\"convertToInteractive('df-2ae601fc-8615-441c-b85d-561f3c0d620d')\"\n",
              "              title=\"Convert this dataframe to an interactive table.\"\n",
              "              style=\"display:none;\">\n",
              "        \n",
              "  <svg xmlns=\"http://www.w3.org/2000/svg\" height=\"24px\"viewBox=\"0 0 24 24\"\n",
              "       width=\"24px\">\n",
              "    <path d=\"M0 0h24v24H0V0z\" fill=\"none\"/>\n",
              "    <path d=\"M18.56 5.44l.94 2.06.94-2.06 2.06-.94-2.06-.94-.94-2.06-.94 2.06-2.06.94zm-11 1L8.5 8.5l.94-2.06 2.06-.94-2.06-.94L8.5 2.5l-.94 2.06-2.06.94zm10 10l.94 2.06.94-2.06 2.06-.94-2.06-.94-.94-2.06-.94 2.06-2.06.94z\"/><path d=\"M17.41 7.96l-1.37-1.37c-.4-.4-.92-.59-1.43-.59-.52 0-1.04.2-1.43.59L10.3 9.45l-7.72 7.72c-.78.78-.78 2.05 0 2.83L4 21.41c.39.39.9.59 1.41.59.51 0 1.02-.2 1.41-.59l7.78-7.78 2.81-2.81c.8-.78.8-2.07 0-2.86zM5.41 20L4 18.59l7.72-7.72 1.47 1.35L5.41 20z\"/>\n",
              "  </svg>\n",
              "      </button>\n",
              "      \n",
              "  <style>\n",
              "    .colab-df-container {\n",
              "      display:flex;\n",
              "      flex-wrap:wrap;\n",
              "      gap: 12px;\n",
              "    }\n",
              "\n",
              "    .colab-df-convert {\n",
              "      background-color: #E8F0FE;\n",
              "      border: none;\n",
              "      border-radius: 50%;\n",
              "      cursor: pointer;\n",
              "      display: none;\n",
              "      fill: #1967D2;\n",
              "      height: 32px;\n",
              "      padding: 0 0 0 0;\n",
              "      width: 32px;\n",
              "    }\n",
              "\n",
              "    .colab-df-convert:hover {\n",
              "      background-color: #E2EBFA;\n",
              "      box-shadow: 0px 1px 2px rgba(60, 64, 67, 0.3), 0px 1px 3px 1px rgba(60, 64, 67, 0.15);\n",
              "      fill: #174EA6;\n",
              "    }\n",
              "\n",
              "    [theme=dark] .colab-df-convert {\n",
              "      background-color: #3B4455;\n",
              "      fill: #D2E3FC;\n",
              "    }\n",
              "\n",
              "    [theme=dark] .colab-df-convert:hover {\n",
              "      background-color: #434B5C;\n",
              "      box-shadow: 0px 1px 3px 1px rgba(0, 0, 0, 0.15);\n",
              "      filter: drop-shadow(0px 1px 2px rgba(0, 0, 0, 0.3));\n",
              "      fill: #FFFFFF;\n",
              "    }\n",
              "  </style>\n",
              "\n",
              "      <script>\n",
              "        const buttonEl =\n",
              "          document.querySelector('#df-2ae601fc-8615-441c-b85d-561f3c0d620d button.colab-df-convert');\n",
              "        buttonEl.style.display =\n",
              "          google.colab.kernel.accessAllowed ? 'block' : 'none';\n",
              "\n",
              "        async function convertToInteractive(key) {\n",
              "          const element = document.querySelector('#df-2ae601fc-8615-441c-b85d-561f3c0d620d');\n",
              "          const dataTable =\n",
              "            await google.colab.kernel.invokeFunction('convertToInteractive',\n",
              "                                                     [key], {});\n",
              "          if (!dataTable) return;\n",
              "\n",
              "          const docLinkHtml = 'Like what you see? Visit the ' +\n",
              "            '<a target=\"_blank\" href=https://colab.research.google.com/notebooks/data_table.ipynb>data table notebook</a>'\n",
              "            + ' to learn more about interactive tables.';\n",
              "          element.innerHTML = '';\n",
              "          dataTable['output_type'] = 'display_data';\n",
              "          await google.colab.output.renderOutput(dataTable, element);\n",
              "          const docLink = document.createElement('div');\n",
              "          docLink.innerHTML = docLinkHtml;\n",
              "          element.appendChild(docLink);\n",
              "        }\n",
              "      </script>\n",
              "    </div>\n",
              "  </div>\n",
              "  "
            ]
          },
          "metadata": {},
          "execution_count": 92
        }
      ]
    },
    {
      "cell_type": "code",
      "source": [
        "df.previous_owners = df.previous_owners.str.extract(r\"(\\d+)\")"
      ],
      "metadata": {
        "id": "57KUS9yJKWbB"
      },
      "execution_count": 93,
      "outputs": []
    },
    {
      "cell_type": "code",
      "source": [
        "df.previous_owners.value_counts(dropna=False)"
      ],
      "metadata": {
        "colab": {
          "base_uri": "https://localhost:8080/"
        },
        "id": "LI6Io0DAKWd4",
        "outputId": "9e323d87-9791-4a23-acc0-28ce25c0bb3c"
      },
      "execution_count": 94,
      "outputs": [
        {
          "output_type": "execute_result",
          "data": {
            "text/plain": [
              "1      8294\n",
              "NaN    6640\n",
              "2       778\n",
              "0       188\n",
              "3        17\n",
              "4         2\n",
              "Name: previous_owners, dtype: int64"
            ]
          },
          "metadata": {},
          "execution_count": 94
        }
      ]
    },
    {
      "cell_type": "code",
      "source": [
        "df.previous_owners = df.previous_owners.astype(float)"
      ],
      "metadata": {
        "id": "Nkn4nmx6KWgp"
      },
      "execution_count": 95,
      "outputs": []
    },
    {
      "cell_type": "code",
      "source": [
        "check_df(\"next_inspection\")"
      ],
      "metadata": {
        "colab": {
          "base_uri": "https://localhost:8080/"
        },
        "id": "zUfG8KiHKWjs",
        "outputId": "609edbd1-bd97-4ab9-b495-9b7781e9f4f1"
      },
      "execution_count": 96,
      "outputs": [
        {
          "output_type": "stream",
          "name": "stdout",
          "text": [
            "column name :  next_inspection\n",
            "--------------------------------\n",
            "Per_of_Nulls   :  % 77.79\n",
            "Num_of_Nulls   :  12384\n",
            "NaN                                    12384\n",
            "\\n04/2022\\n                               62\n",
            "\\n06/2021\\n                               47\n",
            "\\n03/2021\\n                               39\n",
            "\\n03/2022\\n                               36\n",
            "                                       ...  \n",
            "\\n06/2021\\n,\\n121 g CO2/km (comb)\\n        1\n",
            "\\n02/2020\\n,\\n139 g CO2/km (comb)\\n        1\n",
            "\\n10/2021\\n,\\n136 g CO2/km (comb)\\n        1\n",
            "\\n06/2019\\n,\\n139 g CO2/km (comb)\\n        1\n",
            "\\n01/2022\\n,\\n168 g CO2/km (comb)\\n        1\n",
            "Name: next_inspection, Length: 1385, dtype: int64\n",
            "******************************\n",
            "\n",
            "\n",
            "\n"
          ]
        }
      ]
    },
    {
      "cell_type": "code",
      "source": [
        "df.drop(columns=\"next_inspection\", inplace=True)"
      ],
      "metadata": {
        "id": "vi2dhBiyKoXs"
      },
      "execution_count": 97,
      "outputs": []
    },
    {
      "cell_type": "code",
      "source": [
        "check_df(\"inspection_new\")"
      ],
      "metadata": {
        "colab": {
          "base_uri": "https://localhost:8080/"
        },
        "id": "5jZ8VEDQKobN",
        "outputId": "f1cd0192-f885-41cc-a94b-8b26d2ea419a"
      },
      "execution_count": 98,
      "outputs": [
        {
          "output_type": "stream",
          "name": "stdout",
          "text": [
            "column name :  inspection_new\n",
            "--------------------------------\n",
            "Per_of_Nulls   :  % 75.3\n",
            "Num_of_Nulls   :  11987\n",
            "NaN                                                                                   11987\n",
            "\\nYes\\n,\\nEuro 6\\n                                                                      523\n",
            "\\nYes\\n                                                                                 442\n",
            "\\nYes\\n,\\n102 g CO2/km (comb)\\n                                                         174\n",
            "\\nYes\\n,\\n4 (Green)\\n                                                                   166\n",
            "                                                                                      ...  \n",
            "\\nYes\\n,\\n,5.2 l/100 km (comb),\\n,6.7 l/100 km (city),\\n,4.2 l/100 km (country),\\n        1\n",
            "\\nYes\\n,\\n100 g CO2/km (comb)\\n                                                           1\n",
            "\\nYes\\n,\\n,4.9 l/100 km (comb),\\n,5.9 l/100 km (city),\\n,4.3 l/100 km (country),\\n        1\n",
            "\\nYes\\n,\\n,5.1 l/100 km (comb),\\n,6.4 l/100 km (city),\\n,4.3 l/100 km (country),\\n        1\n",
            "\\nYes\\n,\\n172 g CO2/km (comb)\\n                                                           1\n",
            "Name: inspection_new, Length: 202, dtype: int64\n",
            "******************************\n",
            "\n",
            "\n",
            "\n"
          ]
        }
      ]
    },
    {
      "cell_type": "code",
      "source": [
        "df.drop(columns=\"inspection_new\", inplace=True)"
      ],
      "metadata": {
        "id": "a8YU30m-KoeN"
      },
      "execution_count": 99,
      "outputs": []
    },
    {
      "cell_type": "code",
      "source": [
        "check_df(\"warranty\")"
      ],
      "metadata": {
        "colab": {
          "base_uri": "https://localhost:8080/"
        },
        "id": "ajl9YdPFKog4",
        "outputId": "b42bfc6b-17bd-4b6f-eb3e-5002044bfc58"
      },
      "execution_count": 100,
      "outputs": [
        {
          "output_type": "stream",
          "name": "stdout",
          "text": [
            "column name :  warranty\n",
            "--------------------------------\n",
            "Per_of_Nulls   :  % 34.05\n",
            "Num_of_Nulls   :  5420\n",
            "NaN                                                                                       5420\n",
            "\\n,\\n,\\nEuro 6\\n                                                                          1868\n",
            "\\n12 months\\n                                                                             1305\n",
            "\\n                                                                                         979\n",
            "\\n24 months\\n                                                                              585\n",
            "                                                                                          ... \n",
            "\\n2 months\\n                                                                                 1\n",
            "\\n72 months\\n,\\n125 g CO2/km (comb)\\n                                                        1\n",
            "\\n60 months\\n,\\n14 g CO2/km (comb)\\n                                                         1\n",
            "\\n24 months\\n,\\n121 g CO2/km (comb)\\n                                                        1\n",
            "\\n36 months\\n,\\n,7.4 l/100 km (comb),\\n,9.6 l/100 km (city),\\n,6 l/100 km (country),\\n       1\n",
            "Name: warranty, Length: 508, dtype: int64\n",
            "******************************\n",
            "\n",
            "\n",
            "\n"
          ]
        }
      ]
    },
    {
      "cell_type": "code",
      "source": [
        "df.warranty = df.warranty.str.extract(r\"(\\d+)\\sm+\").astype(float)"
      ],
      "metadata": {
        "id": "DjTnu2YtKokF"
      },
      "execution_count": 101,
      "outputs": []
    },
    {
      "cell_type": "code",
      "source": [
        "df.warranty.value_counts().sort_index()"
      ],
      "metadata": {
        "colab": {
          "base_uri": "https://localhost:8080/"
        },
        "id": "I1wVkAK_KonI",
        "outputId": "3f6dff27-9563-4b06-acdc-a107f1da440f"
      },
      "execution_count": 102,
      "outputs": [
        {
          "output_type": "execute_result",
          "data": {
            "text/plain": [
              "1.0        3\n",
              "2.0        5\n",
              "3.0       33\n",
              "4.0        3\n",
              "6.0      125\n",
              "7.0        1\n",
              "8.0        1\n",
              "9.0        2\n",
              "10.0       1\n",
              "11.0       2\n",
              "12.0    2594\n",
              "13.0       3\n",
              "14.0       2\n",
              "15.0       1\n",
              "16.0       4\n",
              "17.0       2\n",
              "18.0      10\n",
              "19.0       3\n",
              "20.0       7\n",
              "21.0       2\n",
              "22.0       2\n",
              "23.0      11\n",
              "24.0    1118\n",
              "25.0       6\n",
              "26.0       4\n",
              "28.0       2\n",
              "30.0       1\n",
              "33.0       1\n",
              "34.0       3\n",
              "36.0     279\n",
              "40.0       1\n",
              "45.0       2\n",
              "46.0       2\n",
              "47.0       1\n",
              "48.0     149\n",
              "49.0       1\n",
              "50.0       4\n",
              "56.0       1\n",
              "60.0     401\n",
              "65.0       1\n",
              "72.0      59\n",
              "Name: warranty, dtype: int64"
            ]
          },
          "metadata": {},
          "execution_count": 102
        }
      ]
    },
    {
      "cell_type": "code",
      "source": [
        "check_df(\"full_service\")"
      ],
      "metadata": {
        "colab": {
          "base_uri": "https://localhost:8080/"
        },
        "id": "9UW8cyl8Kopo",
        "outputId": "4dce32c8-1b2b-4670-945e-fee19e44224f"
      },
      "execution_count": 103,
      "outputs": [
        {
          "output_type": "stream",
          "name": "stdout",
          "text": [
            "column name :  full_service\n",
            "--------------------------------\n",
            "Per_of_Nulls   :  % 48.39\n",
            "Num_of_Nulls   :  7704\n",
            "NaN                                                                                 7704\n",
            "\\n,\\n,\\n4 (Green)\\n                                                                 2235\n",
            "\\n,\\n,\\nEuro 6\\n                                                                    2097\n",
            "\\n,\\n                                                                               1702\n",
            "\\n,\\n,\\nEuro 6d-TEMP\\n                                                               399\n",
            "                                                                                    ... \n",
            "\\n,\\n,\\n80 g CO2/km (comb)\\n                                                           1\n",
            "\\n,\\n,\\n84 g CO2/km (comb)\\n                                                           1\n",
            "\\n,\\n,\\n,6 l/100 km (comb),\\n,8 l/100 km (city),\\n,4.9 l/100 km (country),\\n           1\n",
            "\\n,\\n,\\n,4.9 l/100 km (comb),\\n,6.2 l/100 km (city),\\n,4.1 l/100 km (country),\\n       1\n",
            "\\n,\\n,\\nEuro 4\\n                                                                       1\n",
            "Name: full_service, Length: 123, dtype: int64\n",
            "******************************\n",
            "\n",
            "\n",
            "\n"
          ]
        }
      ]
    },
    {
      "cell_type": "code",
      "source": [
        "df.drop(columns=\"full_service\",inplace=True)"
      ],
      "metadata": {
        "id": "qGr20BukKosz"
      },
      "execution_count": 104,
      "outputs": []
    },
    {
      "cell_type": "code",
      "source": [
        "check_df(\"non-smoking_vehicle\")"
      ],
      "metadata": {
        "colab": {
          "base_uri": "https://localhost:8080/"
        },
        "id": "hijjAnpxKovK",
        "outputId": "87ee2409-6a2c-4d46-94b3-ca1651f2eb7d"
      },
      "execution_count": 107,
      "outputs": [
        {
          "output_type": "stream",
          "name": "stdout",
          "text": [
            "column name :  non-smoking_vehicle\n",
            "--------------------------------\n",
            "Per_of_Nulls   :  % 54.92\n",
            "Num_of_Nulls   :  8742\n",
            "NaN                                                                                 8742\n",
            "\\n,\\n                                                                               3647\n",
            "\\n,\\n,\\n4 (Green)\\n                                                                 1240\n",
            "\\n,\\n,\\nEuro 6\\n                                                                    1127\n",
            "\\n,\\n,\\nEuro 6d-TEMP\\n                                                               345\n",
            "                                                                                    ... \n",
            "\\n,\\n,\\n,5.6 l/100 km (comb),\\n,7.3 l/100 km (city),\\n,4.7 l/100 km (country),\\n       1\n",
            "\\n,\\n,\\n122 g CO2/km (comb)\\n                                                          1\n",
            "\\n,\\n,\\n158 g CO2/km (comb)\\n                                                          1\n",
            "\\n,\\n,\\n150 g CO2/km (comb)\\n                                                          1\n",
            "\\n,\\n,\\n175 g CO2/km (comb)\\n                                                          1\n",
            "Name: non-smoking_vehicle, Length: 95, dtype: int64\n",
            "******************************\n",
            "\n",
            "\n",
            "\n"
          ]
        }
      ]
    },
    {
      "cell_type": "code",
      "source": [
        "df.drop(columns=\"non-smoking_vehicle\",inplace=True)\n"
      ],
      "metadata": {
        "id": "4pj_7DYTT0Jl"
      },
      "execution_count": 108,
      "outputs": []
    },
    {
      "cell_type": "code",
      "source": [
        "check_df(\"null\")"
      ],
      "metadata": {
        "colab": {
          "base_uri": "https://localhost:8080/"
        },
        "id": "F3H322rOT0Mj",
        "outputId": "f4743550-6a3d-46b4-9d9e-8fc5541606e0"
      },
      "execution_count": 109,
      "outputs": [
        {
          "output_type": "stream",
          "name": "stdout",
          "text": [
            "column name :  null\n",
            "--------------------------------\n",
            "Per_of_Nulls   :  % 0.0\n",
            "Num_of_Nulls   :  0\n",
            "    15919\n",
            "Name: null, dtype: int64\n",
            "******************************\n",
            "\n",
            "\n",
            "\n"
          ]
        }
      ]
    },
    {
      "cell_type": "code",
      "source": [
        "df.drop(columns=\"null\",inplace=True)"
      ],
      "metadata": {
        "id": "yy1ncKpqT0ST"
      },
      "execution_count": 110,
      "outputs": []
    },
    {
      "cell_type": "code",
      "source": [
        "check_df(\"offer_number\")"
      ],
      "metadata": {
        "colab": {
          "base_uri": "https://localhost:8080/"
        },
        "id": "TBum6Y_kT0Vj",
        "outputId": "1cad53d0-b84d-4949-df43-d88f8be95a8b"
      },
      "execution_count": 111,
      "outputs": [
        {
          "output_type": "stream",
          "name": "stdout",
          "text": [
            "column name :  offer_number\n",
            "--------------------------------\n",
            "Per_of_Nulls   :  % 19.94\n",
            "Num_of_Nulls   :  3175\n",
            "NaN                                             3175\n",
            "\\nLT67679\\n                                       27\n",
            "\\nUN89904\\n                                       27\n",
            "\\nXJ38068\\n                                       27\n",
            "\\nJV03654\\n                                       27\n",
            "                                                ... \n",
            "\\n160_dcbb6c3e-a6da-43a3-8754-ccd994cec93b\\n       1\n",
            "\\n6701576\\n                                        1\n",
            "\\n6701569\\n                                        1\n",
            "\\n158121\\n                                         1\n",
            "\\nRe_30000008029\\n                                 1\n",
            "Name: offer_number, Length: 11441, dtype: int64\n",
            "******************************\n",
            "\n",
            "\n",
            "\n"
          ]
        }
      ]
    },
    {
      "cell_type": "code",
      "source": [
        "df.drop(columns=\"offer_number\",inplace=True)"
      ],
      "metadata": {
        "id": "4jRD10-gT0Y3"
      },
      "execution_count": 112,
      "outputs": []
    },
    {
      "cell_type": "code",
      "source": [
        "check_df(\"first_registration\")"
      ],
      "metadata": {
        "colab": {
          "base_uri": "https://localhost:8080/"
        },
        "id": "nGsDw4H8UDhQ",
        "outputId": "88b0c384-d75b-446d-8ddd-d7b6ade1f8d5"
      },
      "execution_count": 113,
      "outputs": [
        {
          "output_type": "stream",
          "name": "stdout",
          "text": [
            "column name :  first_registration\n",
            "--------------------------------\n",
            "Per_of_Nulls   :  % 10.03\n",
            "Num_of_Nulls   :  1597\n",
            "\\n,2018,\\n    4522\n",
            "\\n,2016,\\n    3674\n",
            "\\n,2017,\\n    3273\n",
            "\\n,2019,\\n    2853\n",
            "NaN           1597\n",
            "Name: first_registration, dtype: int64\n",
            "******************************\n",
            "\n",
            "\n",
            "\n"
          ]
        }
      ]
    },
    {
      "cell_type": "code",
      "source": [
        "df.drop(columns=\"first_registration\",inplace=True)"
      ],
      "metadata": {
        "id": "iZcziaMGUDkZ"
      },
      "execution_count": 114,
      "outputs": []
    },
    {
      "cell_type": "code",
      "source": [
        "check_df(\"body_color\")"
      ],
      "metadata": {
        "colab": {
          "base_uri": "https://localhost:8080/"
        },
        "id": "5jWbTcNyUDni",
        "outputId": "14968b71-dd14-4389-8462-81142f56f26d"
      },
      "execution_count": 115,
      "outputs": [
        {
          "output_type": "stream",
          "name": "stdout",
          "text": [
            "column name :  body_color\n",
            "--------------------------------\n",
            "Per_of_Nulls   :  % 3.75\n",
            "Num_of_Nulls   :  597\n",
            "\\n,Black,\\n     3745\n",
            "\\n,Grey,\\n      3505\n",
            "\\n,White,\\n     3406\n",
            "\\n,Silver,\\n    1647\n",
            "\\n,Blue,\\n      1431\n",
            "\\n,Red,\\n        957\n",
            "NaN              597\n",
            "\\n,Brown,\\n      289\n",
            "\\n,Green,\\n      154\n",
            "\\n,Beige,\\n      108\n",
            "\\n,Yellow,\\n      51\n",
            "\\n,Violet,\\n      18\n",
            "\\n,Bronze,\\n       6\n",
            "\\n,Orange,\\n       3\n",
            "\\n,Gold,\\n         2\n",
            "Name: body_color, dtype: int64\n",
            "******************************\n",
            "\n",
            "\n",
            "\n"
          ]
        }
      ]
    },
    {
      "cell_type": "code",
      "source": [
        "df.body_color = df.body_color.str.split(\",\", expand=True)[1]"
      ],
      "metadata": {
        "id": "NNW2AoJmUDqf"
      },
      "execution_count": 116,
      "outputs": []
    },
    {
      "cell_type": "code",
      "source": [
        "df.body_color.value_counts()"
      ],
      "metadata": {
        "colab": {
          "base_uri": "https://localhost:8080/"
        },
        "id": "A3KMY7L7UDtd",
        "outputId": "0c4e3056-5131-429d-c123-85a308ff3446"
      },
      "execution_count": 117,
      "outputs": [
        {
          "output_type": "execute_result",
          "data": {
            "text/plain": [
              "Black     3745\n",
              "Grey      3505\n",
              "White     3406\n",
              "Silver    1647\n",
              "Blue      1431\n",
              "Red        957\n",
              "Brown      289\n",
              "Green      154\n",
              "Beige      108\n",
              "Yellow      51\n",
              "Violet      18\n",
              "Bronze       6\n",
              "Orange       3\n",
              "Gold         2\n",
              "Name: body_color, dtype: int64"
            ]
          },
          "metadata": {},
          "execution_count": 117
        }
      ]
    },
    {
      "cell_type": "code",
      "source": [
        "check_df(\"paint_type\")"
      ],
      "metadata": {
        "colab": {
          "base_uri": "https://localhost:8080/"
        },
        "id": "puNey79AUDwZ",
        "outputId": "c0a37739-a57d-4587-9990-095f247d686d"
      },
      "execution_count": 118,
      "outputs": [
        {
          "output_type": "stream",
          "name": "stdout",
          "text": [
            "column name :  paint_type\n",
            "--------------------------------\n",
            "Per_of_Nulls   :  % 36.26\n",
            "Num_of_Nulls   :  5772\n",
            "\\nMetallic\\n       9794\n",
            "NaN                5772\n",
            "\\nUni/basic\\n       347\n",
            "\\nPerl effect\\n       6\n",
            "Name: paint_type, dtype: int64\n",
            "******************************\n",
            "\n",
            "\n",
            "\n"
          ]
        }
      ]
    },
    {
      "cell_type": "code",
      "source": [
        "df.paint_type.str.extract(r\"(\\w+\\W\\w+|\\w+)\").value_counts(dropna=False)"
      ],
      "metadata": {
        "colab": {
          "base_uri": "https://localhost:8080/"
        },
        "id": "aSdCq72aUDzO",
        "outputId": "ddc2a329-a037-43ad-f20f-995b8ca1a57d"
      },
      "execution_count": 119,
      "outputs": [
        {
          "output_type": "execute_result",
          "data": {
            "text/plain": [
              "Metallic       9794\n",
              "NaN            5772\n",
              "Uni/basic       347\n",
              "Perl effect       6\n",
              "dtype: int64"
            ]
          },
          "metadata": {},
          "execution_count": 119
        }
      ]
    },
    {
      "cell_type": "code",
      "source": [
        "df.paint_type = df.paint_type.str.extract(r\"(\\w+\\W\\w+|\\w+)\")"
      ],
      "metadata": {
        "id": "mN117NY3UD2I"
      },
      "execution_count": 120,
      "outputs": []
    },
    {
      "cell_type": "code",
      "source": [
        "check_df(\"body_color_original\")"
      ],
      "metadata": {
        "colab": {
          "base_uri": "https://localhost:8080/"
        },
        "id": "_XPwTw5PUD5A",
        "outputId": "8dcecb91-217d-46a5-e3fb-e154f921c094"
      },
      "execution_count": 121,
      "outputs": [
        {
          "output_type": "stream",
          "name": "stdout",
          "text": [
            "column name :  body_color_original\n",
            "--------------------------------\n",
            "Per_of_Nulls   :  % 23.61\n",
            "Num_of_Nulls   :  3759\n",
            "NaN                                  3759\n",
            "\\nOnyx Schwarz\\n                      338\n",
            "\\nBianco\\n                            282\n",
            "\\nMythosschwarz Metallic\\n            238\n",
            "\\nBrillantschwarz\\n                   216\n",
            "                                     ... \n",
            "\\nRouge-Braun (G0Y)\\n                   1\n",
            "\\nVARI COLRI DISPONIBILI\\n              1\n",
            "\\nKokosnussbraun Metallic\\n             1\n",
            "\\nFarbe frei wählbar\\n                  1\n",
            "\\nPerlmutt-Weiß Metallic (Weiß)\\n       1\n",
            "Name: body_color_original, Length: 1928, dtype: int64\n",
            "******************************\n",
            "\n",
            "\n",
            "\n"
          ]
        }
      ]
    },
    {
      "cell_type": "code",
      "source": [
        "\n",
        "df.body_color_original.str.split(\"\\n\", expand=True)[1].value_counts(dropna=False)"
      ],
      "metadata": {
        "colab": {
          "base_uri": "https://localhost:8080/"
        },
        "id": "fyaYsOeEUD79",
        "outputId": "2dc374fc-6aad-46b0-e3df-053e68b598ae"
      },
      "execution_count": 122,
      "outputs": [
        {
          "output_type": "execute_result",
          "data": {
            "text/plain": [
              "NaN                              3759\n",
              "Onyx Schwarz                      338\n",
              "Bianco                            282\n",
              "Mythosschwarz Metallic            238\n",
              "Brillantschwarz                   216\n",
              "                                 ... \n",
              "Rouge-Braun (G0Y)                   1\n",
              "VARI COLRI DISPONIBILI              1\n",
              "Kokosnussbraun Metallic             1\n",
              "Farbe frei wählbar                  1\n",
              "Perlmutt-Weiß Metallic (Weiß)       1\n",
              "Name: 1, Length: 1928, dtype: int64"
            ]
          },
          "metadata": {},
          "execution_count": 122
        }
      ]
    },
    {
      "cell_type": "code",
      "source": [
        "\n",
        "df.body_color_original = df.body_color_original.str.split(\"\\n\", expand=True)[1]"
      ],
      "metadata": {
        "id": "AUwgLbDMUD-8"
      },
      "execution_count": 123,
      "outputs": []
    },
    {
      "cell_type": "code",
      "source": [
        "check_df(\"upholstery\")"
      ],
      "metadata": {
        "colab": {
          "base_uri": "https://localhost:8080/"
        },
        "id": "4lpTZ-CBUECJ",
        "outputId": "d9c51e5e-7ff8-4e59-d203-55e51fdf6b6c"
      },
      "execution_count": 124,
      "outputs": [
        {
          "output_type": "stream",
          "name": "stdout",
          "text": [
            "column name :  upholstery\n",
            "--------------------------------\n",
            "Per_of_Nulls   :  % 23.37\n",
            "Num_of_Nulls   :  3720\n",
            "\\nCloth, Black\\n           5821\n",
            "NaN                        3720\n",
            "\\nPart leather, Black\\n    1121\n",
            "\\nCloth\\n                  1005\n",
            "\\nCloth, Grey\\n             891\n",
            "\\nCloth, Other\\n            639\n",
            "\\nFull leather, Black\\n     575\n",
            "\\nBlack\\n                   491\n",
            "\\nGrey\\n                    273\n",
            "\\nOther, Other\\n            182\n",
            "\\nPart leather\\n            140\n",
            "\\nFull leather\\n            139\n",
            "\\nFull leather, Brown\\n     116\n",
            "\\nPart leather, Grey\\n      116\n",
            "\\nOther, Black\\n            110\n",
            "\\nFull leather, Other\\n      72\n",
            "\\nFull leather, Grey\\n       67\n",
            "\\nPart leather, Other\\n      65\n",
            "\\nOther\\n                    56\n",
            "\\nPart leather, Brown\\n      50\n",
            "\\nalcantara, Black\\n         47\n",
            "\\nVelour, Black\\n            36\n",
            "\\nFull leather, Beige\\n      36\n",
            "\\nCloth, Brown\\n             28\n",
            "\\nVelour\\n                   16\n",
            "\\nOther, Grey\\n              15\n",
            "\\nCloth, Beige\\n             13\n",
            "\\nBrown\\n                    12\n",
            "\\nCloth, Blue\\n              12\n",
            "\\nVelour, Grey\\n              8\n",
            "\\nCloth, White\\n              8\n",
            "\\nalcantara, Grey\\n           6\n",
            "\\nCloth, Red\\n                5\n",
            "\\nOther, Yellow\\n             4\n",
            "\\nPart leather, Red\\n         3\n",
            "\\nBeige\\n                     3\n",
            "\\nPart leather, White\\n       2\n",
            "\\nFull leather, Blue\\n        2\n",
            "\\nalcantara, Other\\n          2\n",
            "\\nalcantara\\n                 2\n",
            "\\nWhite\\n                     2\n",
            "\\nPart leather, Beige\\n       2\n",
            "\\nBlue\\n                      2\n",
            "\\nCloth, Orange\\n             1\n",
            "\\nFull leather, Red\\n         1\n",
            "\\nOther, Brown\\n              1\n",
            "\\nFull leather, White\\n       1\n",
            "Name: upholstery, dtype: int64\n",
            "******************************\n",
            "\n",
            "\n",
            "\n"
          ]
        }
      ]
    },
    {
      "cell_type": "code",
      "source": [
        "df.upholstery.str.split(\"\\n\", expand=True)[1].str.split(\",\", expand=True)[0].value_counts(dropna=False)"
      ],
      "metadata": {
        "colab": {
          "base_uri": "https://localhost:8080/"
        },
        "id": "kSSYFbF7UEFA",
        "outputId": "35d7995b-64b7-480b-9180-74d3f9a65461"
      },
      "execution_count": 125,
      "outputs": [
        {
          "output_type": "execute_result",
          "data": {
            "text/plain": [
              "Cloth           8423\n",
              "NaN             3720\n",
              "Part leather    1499\n",
              "Full leather    1009\n",
              "Black            491\n",
              "Other            368\n",
              "Grey             273\n",
              "Velour            60\n",
              "alcantara         57\n",
              "Brown             12\n",
              "Beige              3\n",
              "Blue               2\n",
              "White              2\n",
              "Name: 0, dtype: int64"
            ]
          },
          "metadata": {},
          "execution_count": 125
        }
      ]
    },
    {
      "cell_type": "code",
      "source": [
        "\n",
        "check_df(\"upholstery\")"
      ],
      "metadata": {
        "colab": {
          "base_uri": "https://localhost:8080/"
        },
        "id": "mVRxIWE0UEIG",
        "outputId": "4758512d-5c92-472b-9786-dd415f68848d"
      },
      "execution_count": 128,
      "outputs": [
        {
          "output_type": "stream",
          "name": "stdout",
          "text": [
            "column name :  upholstery\n",
            "--------------------------------\n",
            "Per_of_Nulls   :  % 23.37\n",
            "Num_of_Nulls   :  3720\n",
            "\\nCloth, Black\\n           5821\n",
            "NaN                        3720\n",
            "\\nPart leather, Black\\n    1121\n",
            "\\nCloth\\n                  1005\n",
            "\\nCloth, Grey\\n             891\n",
            "\\nCloth, Other\\n            639\n",
            "\\nFull leather, Black\\n     575\n",
            "\\nBlack\\n                   491\n",
            "\\nGrey\\n                    273\n",
            "\\nOther, Other\\n            182\n",
            "\\nPart leather\\n            140\n",
            "\\nFull leather\\n            139\n",
            "\\nFull leather, Brown\\n     116\n",
            "\\nPart leather, Grey\\n      116\n",
            "\\nOther, Black\\n            110\n",
            "\\nFull leather, Other\\n      72\n",
            "\\nFull leather, Grey\\n       67\n",
            "\\nPart leather, Other\\n      65\n",
            "\\nOther\\n                    56\n",
            "\\nPart leather, Brown\\n      50\n",
            "\\nalcantara, Black\\n         47\n",
            "\\nVelour, Black\\n            36\n",
            "\\nFull leather, Beige\\n      36\n",
            "\\nCloth, Brown\\n             28\n",
            "\\nVelour\\n                   16\n",
            "\\nOther, Grey\\n              15\n",
            "\\nCloth, Beige\\n             13\n",
            "\\nBrown\\n                    12\n",
            "\\nCloth, Blue\\n              12\n",
            "\\nVelour, Grey\\n              8\n",
            "\\nCloth, White\\n              8\n",
            "\\nalcantara, Grey\\n           6\n",
            "\\nCloth, Red\\n                5\n",
            "\\nOther, Yellow\\n             4\n",
            "\\nPart leather, Red\\n         3\n",
            "\\nBeige\\n                     3\n",
            "\\nPart leather, White\\n       2\n",
            "\\nFull leather, Blue\\n        2\n",
            "\\nalcantara, Other\\n          2\n",
            "\\nalcantara\\n                 2\n",
            "\\nWhite\\n                     2\n",
            "\\nPart leather, Beige\\n       2\n",
            "\\nBlue\\n                      2\n",
            "\\nCloth, Orange\\n             1\n",
            "\\nFull leather, Red\\n         1\n",
            "\\nOther, Brown\\n              1\n",
            "\\nFull leather, White\\n       1\n",
            "Name: upholstery, dtype: int64\n",
            "******************************\n",
            "\n",
            "\n",
            "\n"
          ]
        }
      ]
    },
    {
      "cell_type": "code",
      "source": [
        "df.upholstery.str.split(\"\\n\", expand=True)[1].str.split(\",\", expand=True)[0].value_counts(dropna=False)"
      ],
      "metadata": {
        "colab": {
          "base_uri": "https://localhost:8080/"
        },
        "id": "wQRS3_sXUELA",
        "outputId": "7b775108-a928-4fbb-8fa2-df23cb3e46a9"
      },
      "execution_count": 130,
      "outputs": [
        {
          "output_type": "execute_result",
          "data": {
            "text/plain": [
              "Cloth           8423\n",
              "NaN             3720\n",
              "Part leather    1499\n",
              "Full leather    1009\n",
              "Black            491\n",
              "Other            368\n",
              "Grey             273\n",
              "Velour            60\n",
              "alcantara         57\n",
              "Brown             12\n",
              "Beige              3\n",
              "Blue               2\n",
              "White              2\n",
              "Name: 0, dtype: int64"
            ]
          },
          "metadata": {},
          "execution_count": 130
        }
      ]
    },
    {
      "cell_type": "code",
      "source": [
        "df.upholstery = df.upholstery.str.split(\"\\n\", expand=True)[1].str.extract(r\"(\\w+\\s?\\w+)\")"
      ],
      "metadata": {
        "id": "Bp1rJQ19UEOD"
      },
      "execution_count": 132,
      "outputs": []
    },
    {
      "cell_type": "code",
      "source": [
        "Cloths = ['Cloth','Black', 'Grey', 'Blue', 'White', 'Beige', 'Brown']"
      ],
      "metadata": {
        "id": "eV6dh_k2UEQ8"
      },
      "execution_count": 133,
      "outputs": []
    },
    {
      "cell_type": "code",
      "source": [
        "def upholsterytype(x):\n",
        "    if x in Cloths:\n",
        "        return \"Cloth\"\n",
        "    elif x == \"Full leather\":\n",
        "        return \"Full leather\"\n",
        "    elif x == \"Part leather\":\n",
        "        return \"Part leather\"\n",
        "    elif x == \"alcantara\":\n",
        "        return \"alcantara\"\n",
        "    elif x== \"Velour\":\n",
        "        return \"Velour\"\n",
        "    elif x== \"Other\":\n",
        "        return \"Other\""
      ],
      "metadata": {
        "id": "AQU1MI7oUETj"
      },
      "execution_count": 134,
      "outputs": []
    },
    {
      "cell_type": "code",
      "source": [
        "df.upholstery.value_counts()"
      ],
      "metadata": {
        "colab": {
          "base_uri": "https://localhost:8080/"
        },
        "id": "IRNjZrROU-j0",
        "outputId": "3884c628-a695-467e-c48b-29e9c8d626d3"
      },
      "execution_count": 135,
      "outputs": [
        {
          "output_type": "execute_result",
          "data": {
            "text/plain": [
              "Cloth           8423\n",
              "Part leather    1499\n",
              "Full leather    1009\n",
              "Black            491\n",
              "Other            368\n",
              "Grey             273\n",
              "Velour            60\n",
              "alcantara         57\n",
              "Brown             12\n",
              "Beige              3\n",
              "Blue               2\n",
              "White              2\n",
              "Name: upholstery, dtype: int64"
            ]
          },
          "metadata": {},
          "execution_count": 135
        }
      ]
    },
    {
      "cell_type": "code",
      "source": [
        "check_df(\"body\")"
      ],
      "metadata": {
        "colab": {
          "base_uri": "https://localhost:8080/"
        },
        "id": "gmwc_H08U-m9",
        "outputId": "bc4c14e2-8546-495b-c392-306cb44dbb4f"
      },
      "execution_count": 136,
      "outputs": [
        {
          "output_type": "stream",
          "name": "stdout",
          "text": [
            "column name :  body\n",
            "--------------------------------\n",
            "Per_of_Nulls   :  % 0.38\n",
            "Num_of_Nulls   :  60\n",
            "\\n,Sedans,\\n           7903\n",
            "\\n,Station wagon,\\n    3553\n",
            "\\n,Compact,\\n          3153\n",
            "\\n,Van,\\n               783\n",
            "\\n,Other,\\n             290\n",
            "\\n,Transporter,\\n        88\n",
            "NaN                      60\n",
            "\\n,Off-Road,\\n           56\n",
            "\\n,Coupe,\\n              25\n",
            "\\n,Convertible,\\n         8\n",
            "Name: body, dtype: int64\n",
            "******************************\n",
            "\n",
            "\n",
            "\n"
          ]
        }
      ]
    },
    {
      "cell_type": "code",
      "source": [
        "df.body.str.strip(\"\\n,\").value_counts()"
      ],
      "metadata": {
        "colab": {
          "base_uri": "https://localhost:8080/"
        },
        "id": "yyulZwT0U-p3",
        "outputId": "f75a0cac-a94f-4814-a467-493e8f1b0113"
      },
      "execution_count": 137,
      "outputs": [
        {
          "output_type": "execute_result",
          "data": {
            "text/plain": [
              "Sedans           7903\n",
              "Station wagon    3553\n",
              "Compact          3153\n",
              "Van               783\n",
              "Other             290\n",
              "Transporter        88\n",
              "Off-Road           56\n",
              "Coupe              25\n",
              "Convertible         8\n",
              "Name: body, dtype: int64"
            ]
          },
          "metadata": {},
          "execution_count": 137
        }
      ]
    },
    {
      "cell_type": "code",
      "source": [
        "df.body_type.value_counts()"
      ],
      "metadata": {
        "colab": {
          "base_uri": "https://localhost:8080/"
        },
        "id": "CP3yRE7GU-s7",
        "outputId": "68510a81-1cb8-4075-c1d8-936e5dc522a3"
      },
      "execution_count": 138,
      "outputs": [
        {
          "output_type": "execute_result",
          "data": {
            "text/plain": [
              "Sedans           7903\n",
              "Station wagon    3553\n",
              "Compact          3153\n",
              "Van               783\n",
              "Other             290\n",
              "Transporter        88\n",
              "Off-Road           56\n",
              "Coupe              25\n",
              "Convertible         8\n",
              "Name: body_type, dtype: int64"
            ]
          },
          "metadata": {},
          "execution_count": 138
        }
      ]
    },
    {
      "cell_type": "code",
      "source": [
        "df.drop(columns=\"body\", inplace=True)"
      ],
      "metadata": {
        "id": "i29ex6K9U-wE"
      },
      "execution_count": 139,
      "outputs": []
    },
    {
      "cell_type": "markdown",
      "source": [
        ""
      ],
      "metadata": {
        "id": "mA7I3vPqVRPC"
      }
    },
    {
      "cell_type": "code",
      "source": [
        "check_df(\"nr._of_doors\")"
      ],
      "metadata": {
        "colab": {
          "base_uri": "https://localhost:8080/"
        },
        "id": "Lvdb5-YlU-y-",
        "outputId": "5346a271-54f8-43db-9da5-3a3828b01554"
      },
      "execution_count": 142,
      "outputs": [
        {
          "output_type": "stream",
          "name": "stdout",
          "text": [
            "column name :  nr._of_doors\n",
            "--------------------------------\n",
            "Per_of_Nulls   :  % 1.33\n",
            "Num_of_Nulls   :  212\n",
            "\\n5\\n    11575\n",
            "\\n4\\n     3079\n",
            "\\n3\\n      832\n",
            "\\n2\\n      219\n",
            "NaN        212\n",
            "\\n1\\n        1\n",
            "\\n7\\n        1\n",
            "Name: nr._of_doors, dtype: int64\n",
            "******************************\n",
            "\n",
            "\n",
            "\n"
          ]
        }
      ]
    },
    {
      "cell_type": "code",
      "source": [
        "df['nr._of_doors'].value_counts()"
      ],
      "metadata": {
        "colab": {
          "base_uri": "https://localhost:8080/"
        },
        "id": "OHAIzY_YU-2B",
        "outputId": "9f82fcd2-ba66-4dae-a27b-4e176dc8aef8"
      },
      "execution_count": 145,
      "outputs": [
        {
          "output_type": "execute_result",
          "data": {
            "text/plain": [
              "\\n5\\n    11575\n",
              "\\n4\\n     3079\n",
              "\\n3\\n      832\n",
              "\\n2\\n      219\n",
              "\\n1\\n        1\n",
              "\\n7\\n        1\n",
              "Name: nr._of_doors, dtype: int64"
            ]
          },
          "metadata": {},
          "execution_count": 145
        }
      ]
    },
    {
      "cell_type": "code",
      "source": [
        "check_df(\"nr._of_seats\")"
      ],
      "metadata": {
        "colab": {
          "base_uri": "https://localhost:8080/"
        },
        "id": "Yp_1nZQNU-5A",
        "outputId": "924a6761-3821-4f44-8566-cd9e78b53ced"
      },
      "execution_count": 147,
      "outputs": [
        {
          "output_type": "stream",
          "name": "stdout",
          "text": [
            "column name :  nr._of_seats\n",
            "--------------------------------\n",
            "Per_of_Nulls   :  % 6.14\n",
            "Num_of_Nulls   :  977\n",
            "\\n5\\n    13336\n",
            "\\n4\\n     1125\n",
            "NaN        977\n",
            "\\n7\\n      362\n",
            "\\n2\\n      116\n",
            "\\n6\\n        2\n",
            "\\n3\\n        1\n",
            "Name: nr._of_seats, dtype: int64\n",
            "******************************\n",
            "\n",
            "\n",
            "\n"
          ]
        }
      ]
    },
    {
      "cell_type": "code",
      "source": [
        "df['nr._of_seats'] = df['nr._of_seats'].str.strip(\"\\n\").astype(float)"
      ],
      "metadata": {
        "id": "o11KWL1gU-8A"
      },
      "execution_count": 149,
      "outputs": []
    },
    {
      "cell_type": "code",
      "source": [
        "df['nr._of_seats'].value_counts()"
      ],
      "metadata": {
        "colab": {
          "base_uri": "https://localhost:8080/"
        },
        "id": "8eJAtyYsVrJb",
        "outputId": "0b5ec467-a1d5-4733-9e5e-c04307b372e6"
      },
      "execution_count": 151,
      "outputs": [
        {
          "output_type": "execute_result",
          "data": {
            "text/plain": [
              "5.0    13336\n",
              "4.0     1125\n",
              "7.0      362\n",
              "2.0      116\n",
              "6.0        2\n",
              "3.0        1\n",
              "Name: nr._of_seats, dtype: int64"
            ]
          },
          "metadata": {},
          "execution_count": 151
        }
      ]
    },
    {
      "cell_type": "code",
      "source": [
        "check_df(\"model_code\")"
      ],
      "metadata": {
        "colab": {
          "base_uri": "https://localhost:8080/"
        },
        "id": "DIgkUtcYVwno",
        "outputId": "92a21484-2983-4e32-f377-731e7d19538e"
      },
      "execution_count": 152,
      "outputs": [
        {
          "output_type": "stream",
          "name": "stdout",
          "text": [
            "column name :  model_code\n",
            "--------------------------------\n",
            "Per_of_Nulls   :  % 68.73\n",
            "Num_of_Nulls   :  10941\n",
            "NaN             10941\n",
            "\\n0035/BCB\\n      268\n",
            "\\n0588/BNO\\n      245\n",
            "\\n0588/BDB\\n      206\n",
            "\\n0588/BHX\\n      188\n",
            "                ...  \n",
            "\\n0035/AVN\\n        1\n",
            "\\n0035/BEM\\n        1\n",
            "\\n0035/BAG\\n        1\n",
            "\\n0035/BAA\\n        1\n",
            "\\n3333/BKG\\n        1\n",
            "Name: model_code, Length: 233, dtype: int64\n",
            "******************************\n",
            "\n",
            "\n",
            "\n"
          ]
        }
      ]
    },
    {
      "cell_type": "code",
      "source": [
        "df.drop(columns=\"model_code\", inplace=True)"
      ],
      "metadata": {
        "id": "mHnXl05-Vwqv"
      },
      "execution_count": 153,
      "outputs": []
    },
    {
      "cell_type": "code",
      "source": [
        "check_df(\"gearing_type\")"
      ],
      "metadata": {
        "colab": {
          "base_uri": "https://localhost:8080/"
        },
        "id": "rRnW7q5WVwts",
        "outputId": "2e0ae81f-f03b-49ad-ccae-c7f68cfa0030"
      },
      "execution_count": 154,
      "outputs": [
        {
          "output_type": "stream",
          "name": "stdout",
          "text": [
            "column name :  gearing_type\n",
            "--------------------------------\n",
            "Per_of_Nulls   :  % 0.0\n",
            "Num_of_Nulls   :  0\n",
            "\\n,Manual,\\n            8153\n",
            "\\n,Automatic,\\n         7297\n",
            "\\n,Semi-automatic,\\n     469\n",
            "Name: gearing_type, dtype: int64\n",
            "******************************\n",
            "\n",
            "\n",
            "\n"
          ]
        }
      ]
    },
    {
      "cell_type": "code",
      "source": [
        "df.gearing_type = df.gearing_type.str.strip(\"\\n,\")"
      ],
      "metadata": {
        "id": "VIeGlFvWVwws"
      },
      "execution_count": 155,
      "outputs": []
    },
    {
      "cell_type": "code",
      "source": [
        "df.gearing_type.value_counts()"
      ],
      "metadata": {
        "colab": {
          "base_uri": "https://localhost:8080/"
        },
        "id": "wCu16bDBVwza",
        "outputId": "b09d009c-ba52-4f2b-99b3-5459f20afb4f"
      },
      "execution_count": 156,
      "outputs": [
        {
          "output_type": "execute_result",
          "data": {
            "text/plain": [
              "Manual            8153\n",
              "Automatic         7297\n",
              "Semi-automatic     469\n",
              "Name: gearing_type, dtype: int64"
            ]
          },
          "metadata": {},
          "execution_count": 156
        }
      ]
    },
    {
      "cell_type": "code",
      "source": [
        "check_df(\"displacement\")"
      ],
      "metadata": {
        "colab": {
          "base_uri": "https://localhost:8080/"
        },
        "id": "lgZuqS0TVw19",
        "outputId": "fe0ff65e-e9ed-45ef-8de1-09dd1116771f"
      },
      "execution_count": 157,
      "outputs": [
        {
          "output_type": "stream",
          "name": "stdout",
          "text": [
            "column name :  displacement\n",
            "--------------------------------\n",
            "Per_of_Nulls   :  % 3.12\n",
            "Num_of_Nulls   :  496\n",
            "\\n1,598 cc\\n    4761\n",
            "\\n999 cc\\n      2438\n",
            "\\n1,398 cc\\n    1314\n",
            "\\n1,399 cc\\n     749\n",
            "\\n1,229 cc\\n     677\n",
            "                ... \n",
            "\\n122 cc\\n         1\n",
            "\\n1,198 cc\\n       1\n",
            "\\n1,195 cc\\n       1\n",
            "\\n2,967 cc\\n       1\n",
            "\\n1,800 cc\\n       1\n",
            "Name: displacement, Length: 78, dtype: int64\n",
            "******************************\n",
            "\n",
            "\n",
            "\n"
          ]
        }
      ]
    },
    {
      "cell_type": "code",
      "source": [
        "df.displacement.str.strip(\"\\n cc\")"
      ],
      "metadata": {
        "colab": {
          "base_uri": "https://localhost:8080/"
        },
        "id": "cvFqm-d0V7Vq",
        "outputId": "d6d89aae-5d61-4567-9948-f453d30b43fa"
      },
      "execution_count": 158,
      "outputs": [
        {
          "output_type": "execute_result",
          "data": {
            "text/plain": [
              "0        1,422\n",
              "1        1,798\n",
              "2        1,598\n",
              "3        1,422\n",
              "4        1,422\n",
              "         ...  \n",
              "15914    1,997\n",
              "15915    1,798\n",
              "15916    1,997\n",
              "15917    1,997\n",
              "15918    1,798\n",
              "Name: displacement, Length: 15919, dtype: object"
            ]
          },
          "metadata": {},
          "execution_count": 158
        }
      ]
    },
    {
      "cell_type": "code",
      "source": [
        "df.displacement = df.displacement.str.strip(\"\\n cc\").str.replace(\",\", \"\").astype(float)"
      ],
      "metadata": {
        "id": "DB5vvOhKV7cO"
      },
      "execution_count": 159,
      "outputs": []
    },
    {
      "cell_type": "code",
      "source": [
        "df.displacement.value_counts().sort_index(ascending=True)"
      ],
      "metadata": {
        "colab": {
          "base_uri": "https://localhost:8080/"
        },
        "id": "ApqSegozV7fE",
        "outputId": "bd5cbc66-9751-44e0-b7d2-8dc36b986434"
      },
      "execution_count": 160,
      "outputs": [
        {
          "output_type": "execute_result",
          "data": {
            "text/plain": [
              "1.0        36\n",
              "2.0         2\n",
              "54.0        1\n",
              "122.0       1\n",
              "139.0       4\n",
              "           ..\n",
              "2000.0     46\n",
              "2480.0     20\n",
              "2967.0      1\n",
              "15898.0     1\n",
              "16000.0     1\n",
              "Name: displacement, Length: 77, dtype: int64"
            ]
          },
          "metadata": {},
          "execution_count": 160
        }
      ]
    },
    {
      "cell_type": "code",
      "source": [
        "df.rename(columns={\"displacement\" : \"engine_displacement_cc\"}, inplace=True)"
      ],
      "metadata": {
        "id": "Or50fn61V7iB"
      },
      "execution_count": 161,
      "outputs": []
    },
    {
      "cell_type": "code",
      "source": [
        "\n",
        "check_df(\"cylinders\")"
      ],
      "metadata": {
        "colab": {
          "base_uri": "https://localhost:8080/"
        },
        "id": "ZBRl_u9gV7lA",
        "outputId": "14b185dc-04c3-4c8a-b94f-10de9f4d339a"
      },
      "execution_count": 162,
      "outputs": [
        {
          "output_type": "stream",
          "name": "stdout",
          "text": [
            "column name :  cylinders\n",
            "--------------------------------\n",
            "Per_of_Nulls   :  % 35.68\n",
            "Num_of_Nulls   :  5680\n",
            "\\n4\\n    8105\n",
            "NaN      5680\n",
            "\\n3\\n    2104\n",
            "\\n5\\n      22\n",
            "\\n6\\n       3\n",
            "\\n8\\n       2\n",
            "\\n2\\n       2\n",
            "\\n1\\n       1\n",
            "Name: cylinders, dtype: int64\n",
            "******************************\n",
            "\n",
            "\n",
            "\n"
          ]
        }
      ]
    },
    {
      "cell_type": "code",
      "source": [
        "df.cylinders = df.cylinders.str.strip(\"\\n\").astype(float)"
      ],
      "metadata": {
        "id": "Qctx-gAyV7n8"
      },
      "execution_count": 163,
      "outputs": []
    },
    {
      "cell_type": "code",
      "source": [
        "df.cylinders.value_counts()"
      ],
      "metadata": {
        "colab": {
          "base_uri": "https://localhost:8080/"
        },
        "id": "JaSpQkN0V7rR",
        "outputId": "443fb2f5-7b54-4377-ca7c-eb64794605f8"
      },
      "execution_count": 164,
      "outputs": [
        {
          "output_type": "execute_result",
          "data": {
            "text/plain": [
              "4.0    8105\n",
              "3.0    2104\n",
              "5.0      22\n",
              "6.0       3\n",
              "8.0       2\n",
              "2.0       2\n",
              "1.0       1\n",
              "Name: cylinders, dtype: int64"
            ]
          },
          "metadata": {},
          "execution_count": 164
        }
      ]
    },
    {
      "cell_type": "code",
      "source": [
        "check_df(\"weight\")"
      ],
      "metadata": {
        "colab": {
          "base_uri": "https://localhost:8080/"
        },
        "id": "3PhmMu_LWH74",
        "outputId": "793060f6-5fc3-495d-9960-7e79a3d1a923"
      },
      "execution_count": 165,
      "outputs": [
        {
          "output_type": "stream",
          "name": "stdout",
          "text": [
            "column name :  weight\n",
            "--------------------------------\n",
            "Per_of_Nulls   :  % 43.81\n",
            "Num_of_Nulls   :  6974\n",
            "NaN             6974\n",
            "\\n1,163 kg\\n     574\n",
            "\\n1,360 kg\\n     356\n",
            "\\n1,165 kg\\n     301\n",
            "\\n1,335 kg\\n     242\n",
            "                ... \n",
            "\\n1,960 kg\\n       1\n",
            "\\n1,258 kg\\n       1\n",
            "\\n1,167 kg\\n       1\n",
            "\\n1,331 kg\\n       1\n",
            "\\n2,037 kg\\n       1\n",
            "Name: weight, Length: 435, dtype: int64\n",
            "******************************\n",
            "\n",
            "\n",
            "\n"
          ]
        }
      ]
    },
    {
      "cell_type": "code",
      "source": [
        "df.weight = df.weight.str.strip(\"\\n kg\").str.replace(\",\", \"\").astype(float)"
      ],
      "metadata": {
        "id": "d1AJzg3FWIBv"
      },
      "execution_count": 166,
      "outputs": []
    },
    {
      "cell_type": "code",
      "source": [
        "df.weight.value_counts()"
      ],
      "metadata": {
        "colab": {
          "base_uri": "https://localhost:8080/"
        },
        "id": "aK4dyJ3cWIE3",
        "outputId": "17ce474a-34cb-4cf1-862d-984c41b7504f"
      },
      "execution_count": 167,
      "outputs": [
        {
          "output_type": "execute_result",
          "data": {
            "text/plain": [
              "1163.0    574\n",
              "1360.0    356\n",
              "1165.0    301\n",
              "1335.0    242\n",
              "1135.0    213\n",
              "         ... \n",
              "1331.0      1\n",
              "1132.0      1\n",
              "1252.0      1\n",
              "1792.0      1\n",
              "2037.0      1\n",
              "Name: weight, Length: 434, dtype: int64"
            ]
          },
          "metadata": {},
          "execution_count": 167
        }
      ]
    },
    {
      "cell_type": "code",
      "source": [
        "df.rename(columns={\"weight\" : \"weight_kg\"}, inplace=True)"
      ],
      "metadata": {
        "id": "egXsQ3TRWIH_"
      },
      "execution_count": 168,
      "outputs": []
    },
    {
      "cell_type": "code",
      "source": [
        "check_df(\"drive_chain\")"
      ],
      "metadata": {
        "colab": {
          "base_uri": "https://localhost:8080/"
        },
        "id": "F2VCfH76WIK8",
        "outputId": "72f4c436-b220-41eb-e4d9-25f68d2f7559"
      },
      "execution_count": 169,
      "outputs": [
        {
          "output_type": "stream",
          "name": "stdout",
          "text": [
            "column name :  drive_chain\n",
            "--------------------------------\n",
            "Per_of_Nulls   :  % 43.08\n",
            "Num_of_Nulls   :  6858\n",
            "\\nfront\\n    8886\n",
            "NaN          6858\n",
            "\\n4WD\\n       171\n",
            "\\nrear\\n        4\n",
            "Name: drive_chain, dtype: int64\n",
            "******************************\n",
            "\n",
            "\n",
            "\n"
          ]
        }
      ]
    },
    {
      "cell_type": "code",
      "source": [
        "df.drive_chain = df.drive_chain.str.strip(\"\\n\")"
      ],
      "metadata": {
        "id": "jdE-0abCWINn"
      },
      "execution_count": 170,
      "outputs": []
    },
    {
      "cell_type": "code",
      "source": [
        "df.drive_chain.str.strip(\"\\n\").value_counts()"
      ],
      "metadata": {
        "colab": {
          "base_uri": "https://localhost:8080/"
        },
        "id": "xtiFf2PVWIQz",
        "outputId": "78e20cab-ca40-4519-9f81-be46a10094e1"
      },
      "execution_count": 171,
      "outputs": [
        {
          "output_type": "execute_result",
          "data": {
            "text/plain": [
              "front    8886\n",
              "4WD       171\n",
              "rear        4\n",
              "Name: drive_chain, dtype: int64"
            ]
          },
          "metadata": {},
          "execution_count": 171
        }
      ]
    },
    {
      "cell_type": "code",
      "source": [
        "check_df(\"fuel\")"
      ],
      "metadata": {
        "colab": {
          "base_uri": "https://localhost:8080/"
        },
        "id": "S36XTiyaWITw",
        "outputId": "9e435694-b6d5-4186-db85-a384cb95a87f"
      },
      "execution_count": 172,
      "outputs": [
        {
          "output_type": "stream",
          "name": "stdout",
          "text": [
            "column name :  fuel\n",
            "--------------------------------\n",
            "Per_of_Nulls   :  % 0.0\n",
            "Num_of_Nulls   :  0\n",
            "\\n,Diesel (Particulate Filter),\\n                                                                                  4315\n",
            "\\n,Super 95,\\n                                                                                                     3338\n",
            "\\n,Gasoline,\\n                                                                                                     3175\n",
            "\\n,Diesel,\\n                                                                                                       2984\n",
            "\\n,Super 95 / Regular/Benzine 91,\\n                                                                                 424\n",
            "                                                                                                                   ... \n",
            "\\n,Regular/Benzine 91 / Super 95 / Regular/Benzine E10 91,\\n                                                          1\n",
            "\\n,Super Plus 98 / Super E10 95,\\n                                                                                    1\n",
            "\\n,Regular/Benzine 91 / Super 95 / Regular/Benzine E10 91 / Super E10 95 / Super Plus 98 / Super Plus E10 98,\\n       1\n",
            "\\n,Regular/Benzine 91 / Super Plus 98 / Regular/Benzine E10 91 / Super 95 / Super E10 95 / Super Plus E10 98,\\n       1\n",
            "\\n,Super Plus 98 / Super 95 / Super Plus E10 98,\\n                                                                    1\n",
            "Name: fuel, Length: 77, dtype: int64\n",
            "******************************\n",
            "\n",
            "\n",
            "\n"
          ]
        }
      ]
    },
    {
      "cell_type": "code",
      "source": [
        "df.fuel = df.fuel.str.strip(\",\\n \")"
      ],
      "metadata": {
        "id": "yw_95osgWWs7"
      },
      "execution_count": 173,
      "outputs": []
    },
    {
      "cell_type": "code",
      "source": [
        "df.fuel = df.fuel.str.extract(r\"(\\w+\\s?\\w+\\s?\\w+)\")"
      ],
      "metadata": {
        "id": "zZP-S878WWvw"
      },
      "execution_count": 174,
      "outputs": []
    },
    {
      "cell_type": "code",
      "source": [
        "benzine = [\"Gasoline\", \"Super 95\", \"Regular\", \"Super E10 95\", \"Super Plus 98\", \"Super Plus E10\", \"Benzine E10 91\", \"Benzine 91\", \"Others\"]\n",
        "lpg = [\"LPG\", \"Liquid petroleum gas\", \"CNG\", \"Biogas\", \"Domestic gas H\"]"
      ],
      "metadata": {
        "id": "Ic3O9Vl0WWys"
      },
      "execution_count": 175,
      "outputs": []
    },
    {
      "cell_type": "code",
      "source": [
        "def fueltype(x):\n",
        "    if x in benzine:\n",
        "        return \"Benzine\"\n",
        "    elif x in lpg:\n",
        "        return \"LPG/CNG\"\n",
        "    else :\n",
        "        return x"
      ],
      "metadata": {
        "id": "DEWz7iG4WW1X"
      },
      "execution_count": 176,
      "outputs": []
    },
    {
      "cell_type": "code",
      "source": [
        "df.fuel = df.fuel.apply(fueltype)"
      ],
      "metadata": {
        "id": "hantIFclWW4G"
      },
      "execution_count": 177,
      "outputs": []
    },
    {
      "cell_type": "code",
      "source": [
        "df.fuel.apply(fueltype).value_counts(dropna=False)"
      ],
      "metadata": {
        "colab": {
          "base_uri": "https://localhost:8080/"
        },
        "id": "dOShxPw9WW62",
        "outputId": "935f2519-340b-44d9-f736-ce92197dfcdb"
      },
      "execution_count": 178,
      "outputs": [
        {
          "output_type": "execute_result",
          "data": {
            "text/plain": [
              "Benzine     8551\n",
              "Diesel      7299\n",
              "LPG/CNG       64\n",
              "Electric       5\n",
              "Name: fuel, dtype: int64"
            ]
          },
          "metadata": {},
          "execution_count": 178
        }
      ]
    },
    {
      "cell_type": "code",
      "source": [
        "check_df(\"consumption\")"
      ],
      "metadata": {
        "colab": {
          "base_uri": "https://localhost:8080/"
        },
        "id": "0pkqSdmgWW9k",
        "outputId": "50a5478d-0911-477c-8125-e54dffd31bce"
      },
      "execution_count": 179,
      "outputs": [
        {
          "output_type": "stream",
          "name": "stdout",
          "text": [
            "column name :  consumption\n",
            "--------------------------------\n",
            "Per_of_Nulls   :  % 11.97\n",
            "Num_of_Nulls   :  1906\n",
            "NaN                                                                           1906\n",
            "['3.9 l/100 km (comb)'],['4.1 l/100 km (city)'],['3.7 l/100 km (country)']     304\n",
            "['4.2 l/100 km (comb)'],['5 l/100 km (city)'],['3.7 l/100 km (country)']       276\n",
            "['5.4 l/100 km (comb)'],['6.8 l/100 km (city)'],['4.5 l/100 km (country)']     257\n",
            "['3.8 l/100 km (comb)'],['4.3 l/100 km (city)'],['3.5 l/100 km (country)']     253\n",
            "                                                                              ... \n",
            "['4.2 l/100 km (comb)'],['5.3 l/100 km (city)'],['3.6 l/100 km (country)']       1\n",
            "\\n,5.1 l/100 km (comb),\\n,6.4 l/100 km (city),\\n,4.3 l/100 km (country),\\n       1\n",
            "['4.6 l/100 km (comb)'],['5.4 l/100 km (city)'],['6.7 l/100 km (country)']       1\n",
            "\\n,6.3 l/100 km (comb),\\n,\\n,\\n                                                  1\n",
            "\\n,7.4 l/100 km (comb),\\n,9.6 l/100 km (city),\\n,6 l/100 km (country),\\n         1\n",
            "Name: consumption, Length: 882, dtype: int64\n",
            "******************************\n",
            "\n",
            "\n",
            "\n"
          ]
        }
      ]
    },
    {
      "cell_type": "code",
      "source": [
        "df[\"consumption_comb\"] = df.consumption.str.extract(r\"(\\d+\\.\\d+) l/100 km \\(comb\\)\").astype(float)"
      ],
      "metadata": {
        "id": "DW9-8GJxWXAs"
      },
      "execution_count": 180,
      "outputs": []
    },
    {
      "cell_type": "code",
      "source": [
        "df.consumption_comb.value_counts(dropna=False)"
      ],
      "metadata": {
        "colab": {
          "base_uri": "https://localhost:8080/"
        },
        "id": "MOsCzAVWWXDp",
        "outputId": "734bb74d-566d-4f56-a47f-95042db94aef"
      },
      "execution_count": 181,
      "outputs": [
        {
          "output_type": "execute_result",
          "data": {
            "text/plain": [
              "NaN     3790\n",
              "5.4      769\n",
              "3.9      733\n",
              "5.1      654\n",
              "4.4      623\n",
              "5.6      618\n",
              "4.7      602\n",
              "3.8      585\n",
              "4.8      546\n",
              "4.5      523\n",
              "5.2      454\n",
              "4.2      435\n",
              "4.6      426\n",
              "4.9      393\n",
              "5.5      380\n",
              "5.3      379\n",
              "5.9      369\n",
              "3.7      369\n",
              "5.7      342\n",
              "4.1      342\n",
              "4.3      307\n",
              "3.3      298\n",
              "3.5      285\n",
              "6.2      216\n",
              "3.6      193\n",
              "6.3      181\n",
              "6.1      175\n",
              "5.8      164\n",
              "6.6      148\n",
              "6.8      136\n",
              "3.4       94\n",
              "6.4       75\n",
              "7.4       66\n",
              "6.5       43\n",
              "6.7       43\n",
              "7.1       38\n",
              "6.9       27\n",
              "3.2       25\n",
              "8.3       19\n",
              "7.6       14\n",
              "3.1        7\n",
              "7.8        6\n",
              "7.2        6\n",
              "8.6        4\n",
              "1.6        3\n",
              "8.7        3\n",
              "7.9        3\n",
              "7.3        2\n",
              "8.1        2\n",
              "7.5        1\n",
              "9.1        1\n",
              "1.2        1\n",
              "13.8       1\n",
              "Name: consumption_comb, dtype: int64"
            ]
          },
          "metadata": {},
          "execution_count": 181
        }
      ]
    },
    {
      "cell_type": "code",
      "source": [
        "df[\"consumption_city\"] = df.consumption.str.extract(r\"(\\d+\\.\\d+) l/100 km \\(city\\)\").astype(float)"
      ],
      "metadata": {
        "id": "22whGjtwWkkf"
      },
      "execution_count": 182,
      "outputs": []
    },
    {
      "cell_type": "code",
      "source": [
        "df.consumption_city.value_counts(dropna=False)"
      ],
      "metadata": {
        "colab": {
          "base_uri": "https://localhost:8080/"
        },
        "id": "dZHfmf0PWknf",
        "outputId": "3bd10a4e-0eea-4d08-b7a3-8e991c1dd132"
      },
      "execution_count": 183,
      "outputs": [
        {
          "output_type": "execute_result",
          "data": {
            "text/plain": [
              "NaN     4039\n",
              "5.8      630\n",
              "4.5      577\n",
              "4.3      512\n",
              "5.1      479\n",
              "        ... \n",
              "3.6        2\n",
              "10.4       1\n",
              "16.1       1\n",
              "19.9       1\n",
              "9.7        1\n",
              "Name: consumption_city, Length: 70, dtype: int64"
            ]
          },
          "metadata": {},
          "execution_count": 183
        }
      ]
    },
    {
      "cell_type": "code",
      "source": [
        "df[\"consumption_country\"] = df.consumption.str.extract(r\"(\\d+\\.\\d+) l/100 km \\(country\\)\").astype(float)"
      ],
      "metadata": {
        "id": "YTpvkQZKWkqU"
      },
      "execution_count": 184,
      "outputs": []
    },
    {
      "cell_type": "code",
      "source": [
        "df.consumption_country.value_counts(dropna=False)"
      ],
      "metadata": {
        "colab": {
          "base_uri": "https://localhost:8080/"
        },
        "id": "W8owxLWXWktP",
        "outputId": "69a9f50c-cd2d-413f-e39d-276bd2c172d2"
      },
      "execution_count": 185,
      "outputs": [
        {
          "output_type": "execute_result",
          "data": {
            "text/plain": [
              "NaN     3365\n",
              "4.2     1178\n",
              "3.7     1089\n",
              "4.4      898\n",
              "4.5      847\n",
              "3.8      802\n",
              "3.9      777\n",
              "4.7      612\n",
              "4.1      592\n",
              "3.5      525\n",
              "4.3      520\n",
              "4.6      515\n",
              "3.6      486\n",
              "4.9      481\n",
              "3.1      481\n",
              "3.3      457\n",
              "3.4      353\n",
              "4.8      341\n",
              "5.3      278\n",
              "5.4      239\n",
              "5.1      232\n",
              "5.7      204\n",
              "3.2      180\n",
              "5.6      154\n",
              "5.2      117\n",
              "6.3       52\n",
              "5.5       36\n",
              "5.8       30\n",
              "7.7       20\n",
              "6.6       19\n",
              "6.4       15\n",
              "6.5        4\n",
              "7.3        4\n",
              "7.1        3\n",
              "6.7        2\n",
              "6.1        2\n",
              "5.9        2\n",
              "7.8        2\n",
              "2.9        1\n",
              "10.3       1\n",
              "8.6        1\n",
              "6.9        1\n",
              "7.6        1\n",
              "Name: consumption_country, dtype: int64"
            ]
          },
          "metadata": {},
          "execution_count": 185
        }
      ]
    },
    {
      "cell_type": "code",
      "source": [
        "df.drop(columns=\"consumption\", inplace=True)"
      ],
      "metadata": {
        "id": "R0Z7JrpEWkwL"
      },
      "execution_count": 186,
      "outputs": []
    },
    {
      "cell_type": "code",
      "source": [
        "check_df(\"co2_emission\")"
      ],
      "metadata": {
        "colab": {
          "base_uri": "https://localhost:8080/"
        },
        "id": "U8Kj1mUtWkzY",
        "outputId": "a7f4257f-ee59-420a-f737-c4fd22d3dff0"
      },
      "execution_count": 187,
      "outputs": [
        {
          "output_type": "stream",
          "name": "stdout",
          "text": [
            "column name :  co2_emission\n",
            "--------------------------------\n",
            "Per_of_Nulls   :  % 11.36\n",
            "Num_of_Nulls   :  1808\n",
            "NaN                          1808\n",
            "\\n120 g CO2/km (comb)\\n       740\n",
            "[],[],[]                      628\n",
            "\\n99 g CO2/km (comb)\\n        545\n",
            "\\n97 g CO2/km (comb)\\n        537\n",
            "                             ... \n",
            "\\n14 g CO2/km (comb)\\n          1\n",
            "\\n1,060 g CO2/km (comb)\\n       1\n",
            "\\n51 g CO2/km (comb)\\n          1\n",
            "\\n165 g CO2/km (comb)\\n         1\n",
            "\\n193 g CO2/km (comb)\\n         1\n",
            "Name: co2_emission, Length: 124, dtype: int64\n",
            "******************************\n",
            "\n",
            "\n",
            "\n"
          ]
        }
      ]
    },
    {
      "cell_type": "code",
      "source": [
        "df.co2_emission = df.co2_emission.str.extract(r\"(\\d+\\W?\\d+) g\")"
      ],
      "metadata": {
        "id": "fQhx3clXWk2G"
      },
      "execution_count": 188,
      "outputs": []
    },
    {
      "cell_type": "code",
      "source": [
        "df.co2_emission = df.co2_emission.str.replace(\",\",\"\").astype(float)"
      ],
      "metadata": {
        "id": "5KKXbfD9Wk5M"
      },
      "execution_count": 189,
      "outputs": []
    },
    {
      "cell_type": "code",
      "source": [
        "df.co2_emission.value_counts()"
      ],
      "metadata": {
        "colab": {
          "base_uri": "https://localhost:8080/"
        },
        "id": "IjGlSKqrWk8E",
        "outputId": "ac35b402-25f7-4c87-a0f5-d4886bb07b89"
      },
      "execution_count": 190,
      "outputs": [
        {
          "output_type": "execute_result",
          "data": {
            "text/plain": [
              "120.0     740\n",
              "99.0      545\n",
              "97.0      537\n",
              "104.0     501\n",
              "102.0     477\n",
              "         ... \n",
              "160.0       1\n",
              "331.0       1\n",
              "990.0       1\n",
              "1060.0      1\n",
              "193.0       1\n",
              "Name: co2_emission, Length: 119, dtype: int64"
            ]
          },
          "metadata": {},
          "execution_count": 190
        }
      ]
    },
    {
      "cell_type": "code",
      "source": [
        "df.rename(columns={\"co2_emission\" : \"co2e_g\"}, inplace=True)"
      ],
      "metadata": {
        "id": "XuY2l4ArWk-9"
      },
      "execution_count": 191,
      "outputs": []
    },
    {
      "cell_type": "code",
      "source": [
        "df.co2e_g"
      ],
      "metadata": {
        "colab": {
          "base_uri": "https://localhost:8080/"
        },
        "id": "Bviorv7yWlBz",
        "outputId": "1c5d53b3-e503-450e-b3f7-f90a0227edef"
      },
      "execution_count": 192,
      "outputs": [
        {
          "output_type": "execute_result",
          "data": {
            "text/plain": [
              "0         99.0\n",
              "1        129.0\n",
              "2         99.0\n",
              "3         99.0\n",
              "4        109.0\n",
              "         ...  \n",
              "15914    139.0\n",
              "15915    168.0\n",
              "15916    139.0\n",
              "15917    139.0\n",
              "15918    153.0\n",
              "Name: co2e_g, Length: 15919, dtype: float64"
            ]
          },
          "metadata": {},
          "execution_count": 192
        }
      ]
    },
    {
      "cell_type": "code",
      "source": [
        "check_df(\"emission_class\")"
      ],
      "metadata": {
        "colab": {
          "base_uri": "https://localhost:8080/"
        },
        "id": "N73CYXqUWlE7",
        "outputId": "8e42ac73-98c8-4122-b092-0bc30aa9a1ac"
      },
      "execution_count": 193,
      "outputs": [
        {
          "output_type": "stream",
          "name": "stdout",
          "text": [
            "column name :  emission_class\n",
            "--------------------------------\n",
            "Per_of_Nulls   :  % 18.98\n",
            "Num_of_Nulls   :  3021\n",
            "\\nEuro 6\\n          10139\n",
            "NaN                  3021\n",
            "\\nEuro 6d-TEMP\\n     1845\n",
            "[],[],[]              607\n",
            "\\nEuro 6c\\n           127\n",
            "\\nEuro 5\\n             78\n",
            "\\nEuro 6d\\n            62\n",
            "\\nEuro 4\\n             40\n",
            "Name: emission_class, dtype: int64\n",
            "******************************\n",
            "\n",
            "\n",
            "\n"
          ]
        }
      ]
    },
    {
      "cell_type": "code",
      "source": [
        "df.emission_class = df.emission_class.str.strip(\"\\n[],\").replace(\"\", np.nan)"
      ],
      "metadata": {
        "id": "x7VarSU9WlIH"
      },
      "execution_count": 194,
      "outputs": []
    },
    {
      "cell_type": "code",
      "source": [
        "df.emission_class.value_counts(dropna=False)"
      ],
      "metadata": {
        "colab": {
          "base_uri": "https://localhost:8080/"
        },
        "id": "nzIgPI2oWlLB",
        "outputId": "e92d79b5-44a1-43d9-bd14-e5b9b0b47fc2"
      },
      "execution_count": 195,
      "outputs": [
        {
          "output_type": "execute_result",
          "data": {
            "text/plain": [
              "Euro 6          10139\n",
              "NaN              3628\n",
              "Euro 6d-TEMP     1845\n",
              "Euro 6c           127\n",
              "Euro 5             78\n",
              "Euro 6d            62\n",
              "Euro 4             40\n",
              "Name: emission_class, dtype: int64"
            ]
          },
          "metadata": {},
          "execution_count": 195
        }
      ]
    },
    {
      "cell_type": "code",
      "source": [
        "check_df(\"comfort&convenience\")"
      ],
      "metadata": {
        "colab": {
          "base_uri": "https://localhost:8080/"
        },
        "id": "jCWGtUINWlOG",
        "outputId": "36bbfb9d-8244-47e1-ffa8-3b1ad72ad624"
      },
      "execution_count": 196,
      "outputs": [
        {
          "output_type": "stream",
          "name": "stdout",
          "text": [
            "column name :  comfort&convenience\n",
            "--------------------------------\n",
            "Per_of_Nulls   :  % 5.78\n",
            "Num_of_Nulls   :  920\n",
            "NaN                                                                                                                                                                                                                                                                                                                                                                                                                                                                                                  920\n",
            "Air conditioning,Electrical side mirrors,Hill Holder,Power windows                                                                                                                                                                                                                                                                                                                                                                                                                                   216\n",
            "Air conditioning,Electrical side mirrors,Power windows                                                                                                                                                                                                                                                                                                                                                                                                                                               134\n",
            "Air conditioning,Power windows                                                                                                                                                                                                                                                                                                                                                                                                                                                                       130\n",
            "Air conditioning,Armrest,Automatic climate control,Cruise control,Electrical side mirrors,Leather steering wheel,Light sensor,Lumbar support,Multi-function steering wheel,Navigation system,Park Distance Control,Parking assist system sensors front,Parking assist system sensors rear,Power windows,Rain sensor,Seat heating,Start-stop system                                                                                                                                                   105\n",
            "                                                                                                                                                                                                                                                                                                                                                                                                                                                                                                    ... \n",
            "Air conditioning,Cruise control,Electrical side mirrors,Hill Holder,Leather steering wheel,Light sensor,Multi-function steering wheel,Navigation system,Park Distance Control,Parking assist system sensors rear,Power windows,Rain sensor,Split rear seats,Start-stop system,Tinted windows                                                                                                                                                                                                           1\n",
            "Air conditioning,Armrest,Automatic climate control,Cruise control,Electrical side mirrors,Heated steering wheel,Hill Holder,Leather steering wheel,Light sensor,Lumbar support,Multi-function steering wheel,Navigation system,Park Distance Control,Parking assist system camera,Parking assist system sensors front,Parking assist system sensors rear,Power windows,Rain sensor,Seat heating,Sunroof                                                                                                1\n",
            "Air conditioning,Armrest,Cruise control,Electrical side mirrors,Heated steering wheel,Hill Holder,Leather steering wheel,Light sensor,Multi-function steering wheel,Park Distance Control,Parking assist system camera,Parking assist system sensors front,Parking assist system sensors rear,Power windows,Rain sensor,Seat heating,Split rear seats,Start-stop system,Tinted windows                                                                                                                 1\n",
            "Air conditioning,Automatic climate control,Cruise control,Electrical side mirrors,Leather steering wheel,Light sensor,Multi-function steering wheel,Park Distance Control,Parking assist system sensors front,Parking assist system sensors rear,Power windows,Rain sensor,Seat heating                                                                                                                                                                                                                1\n",
            "Air conditioning,Automatic climate control,Cruise control,Electrically heated windshield,Electrical side mirrors,Electric tailgate,Heads-up display,Heated steering wheel,Hill Holder,Keyless central door lock,Leather steering wheel,Light sensor,Lumbar support,Navigation system,Park Distance Control,Parking assist system camera,Parking assist system self-steering,Parking assist system sensors front,Parking assist system sensors rear,Power windows,Rain sensor,Seat heating,Sunroof      1\n",
            "Name: comfort&convenience, Length: 6199, dtype: int64\n",
            "******************************\n",
            "\n",
            "\n",
            "\n"
          ]
        }
      ]
    },
    {
      "cell_type": "code",
      "source": [
        "check_df(\"entertainment&media\")"
      ],
      "metadata": {
        "colab": {
          "base_uri": "https://localhost:8080/"
        },
        "id": "EhbRBDUlWlRO",
        "outputId": "c7834819-4aa8-4b30-bf2c-3596f31462b8"
      },
      "execution_count": 197,
      "outputs": [
        {
          "output_type": "stream",
          "name": "stdout",
          "text": [
            "column name :  entertainment&media\n",
            "--------------------------------\n",
            "Per_of_Nulls   :  % 8.63\n",
            "Num_of_Nulls   :  1374\n",
            "NaN                                                                                                 1374\n",
            "Bluetooth,Hands-free equipment,On-board computer,Radio,USB                                          1282\n",
            "Bluetooth,Hands-free equipment,MP3,On-board computer,Radio,USB                                       982\n",
            "Bluetooth,CD player,Hands-free equipment,MP3,On-board computer,Radio,USB                             783\n",
            "On-board computer,Radio                                                                              487\n",
            "                                                                                                    ... \n",
            "Bluetooth,CD player,Digital radio,Hands-free equipment,Radio                                           1\n",
            "CD player,Hands-free equipment,MP3,Radio,USB                                                           1\n",
            "MP3,Radio,Sound system,USB                                                                             1\n",
            "Bluetooth,MP3,On-board computer,Radio,Television,USB                                                   1\n",
            "Bluetooth,CD player,Hands-free equipment,MP3,On-board computer,Radio,Sound system,Television,USB       1\n",
            "Name: entertainment&media, Length: 347, dtype: int64\n",
            "******************************\n",
            "\n",
            "\n",
            "\n"
          ]
        }
      ]
    },
    {
      "cell_type": "code",
      "source": [
        "check_df(\"extras\")"
      ],
      "metadata": {
        "colab": {
          "base_uri": "https://localhost:8080/"
        },
        "id": "7ti_5cEBWlTe",
        "outputId": "8bf018d4-146c-4e67-8fa8-4a1bc1620fb4"
      },
      "execution_count": 198,
      "outputs": [
        {
          "output_type": "stream",
          "name": "stdout",
          "text": [
            "column name :  extras\n",
            "--------------------------------\n",
            "Per_of_Nulls   :  % 18.61\n",
            "Num_of_Nulls   :  2962\n",
            "Alloy wheels                                                                                               3245\n",
            "NaN                                                                                                        2962\n",
            "Alloy wheels,Touch screen                                                                                   697\n",
            "Alloy wheels,Voice Control                                                                                  577\n",
            "Alloy wheels,Touch screen,Voice Control                                                                     541\n",
            "                                                                                                           ... \n",
            "Alloy wheels,Catalytic Converter,Shift paddles,Sport package,Sport seats,Sport suspension,Voice Control       1\n",
            "Alloy wheels,Catalytic Converter,Roof rack,Sport package,Sport seats,Trailer hitch                            1\n",
            "Alloy wheels,Catalytic Converter,Ski bag,Sport package,Voice Control                                          1\n",
            "Catalytic Converter,Roof rack,Sport seats,Sport suspension                                                    1\n",
            "Alloy wheels,Shift paddles,Ski bag,Sport seats,Sport suspension,Touch screen,Voice Control                    1\n",
            "Name: extras, Length: 660, dtype: int64\n",
            "******************************\n",
            "\n",
            "\n",
            "\n"
          ]
        }
      ]
    },
    {
      "cell_type": "code",
      "source": [
        "check_df(\"safety_&_security\")"
      ],
      "metadata": {
        "colab": {
          "base_uri": "https://localhost:8080/"
        },
        "id": "sGjJZhN9XCKg",
        "outputId": "151b3261-7405-4550-910d-5c464966531e"
      },
      "execution_count": 199,
      "outputs": [
        {
          "output_type": "stream",
          "name": "stdout",
          "text": [
            "column name :  safety_&_security\n",
            "--------------------------------\n",
            "Per_of_Nulls   :  % 6.17\n",
            "Num_of_Nulls   :  982\n",
            "NaN                                                                                                                                                                                                                                                                                                                                                               982\n",
            "ABS,Central door lock,Daytime running lights,Driver-side airbag,Electronic stability control,Fog lights,Immobilizer,Isofix,Passenger-side airbag,Power steering,Side airbag,Tire pressure monitoring system,Traction control                                                                                                                                      538\n",
            "ABS,Central door lock,Daytime running lights,Driver-side airbag,Electronic stability control,Immobilizer,Isofix,Passenger-side airbag,Power steering,Side airbag,Tire pressure monitoring system,Traction control                                                                                                                                                 480\n",
            "ABS,Central door lock,Daytime running lights,Driver-side airbag,Electronic stability control,Immobilizer,Isofix,Passenger-side airbag,Power steering,Side airbag,Tire pressure monitoring system,Traction control,Xenon headlights                                                                                                                                275\n",
            "ABS,Central door lock,Daytime running lights,Driver-side airbag,Electronic stability control,Fog lights,Immobilizer,Isofix,LED Daytime Running Lights,Passenger-side airbag,Power steering,Side airbag,Tire pressure monitoring system,Traction control                                                                                                           272\n",
            "                                                                                                                                                                                                                                                                                                                                                                 ... \n",
            "ABS,Central door lock,Electronic stability control,Immobilizer,Isofix,Passenger-side airbag,Power steering,Side airbag                                                                                                                                                                                                                                              1\n",
            "ABS,Adaptive Cruise Control,Central door lock,Daytime running lights,Driver-side airbag,Electronic stability control,Emergency brake assistant,Immobilizer,Isofix,Passenger-side airbag,Power steering,Side airbag,Tire pressure monitoring system,Traction control                                                                                                 1\n",
            "ABS,Adaptive Cruise Control,Alarm system,Central door lock,Driver-side airbag,Electronic stability control,Fog lights,Immobilizer,Isofix,Lane departure warning system,LED Daytime Running Lights,Passenger-side airbag,Power steering,Side airbag,Tire pressure monitoring system,Traction control,Xenon headlights                                                1\n",
            "ABS,Adaptive Cruise Control,Central door lock,Daytime running lights,Driver-side airbag,Electronic stability control,Fog lights,Immobilizer,Isofix,Power steering,Tire pressure monitoring system,Traction control                                                                                                                                                  1\n",
            "ABS,Adaptive Cruise Control,Central door lock,Daytime running lights,Driver-side airbag,Electronic stability control,Emergency brake assistant,Fog lights,Immobilizer,Isofix,Lane departure warning system,LED Daytime Running Lights,LED Headlights,Passenger-side airbag,Power steering,Side airbag,Tire pressure monitoring system,Traffic sign recognition      1\n",
            "Name: safety_&_security, Length: 4444, dtype: int64\n",
            "******************************\n",
            "\n",
            "\n",
            "\n"
          ]
        }
      ]
    },
    {
      "cell_type": "code",
      "source": [
        "check_df(\"description\")"
      ],
      "metadata": {
        "colab": {
          "base_uri": "https://localhost:8080/"
        },
        "id": "Skx2hDnaXCNW",
        "outputId": "1154e80f-a1e6-4add-ee64-ebee0f945770"
      },
      "execution_count": 200,
      "outputs": [
        {
          "output_type": "stream",
          "name": "stdout",
          "text": [
            "column name :  description\n",
            "--------------------------------\n",
            "Per_of_Nulls   :  % 0.0\n",
            "Num_of_Nulls   :  0\n",
            "                                                                                                                                                                                                                                                                                                                                                                                                                                                                                                                                                                                                                                                                                                                                                                                                                                                                                                                                                                                                                                                                                                                                                                                                                                                                                                                                                                                                                                                                                                                                                                                                                                                                                                                                                                                                                                                                                                                                                                                                                                                                                                                                                                                                                                                                                                                                                                                                                                                                                                                                                                                                                                                               636\n",
            "\\n,\\n                                                                                                                                                                                                                                                                                                                                                                                                                                                                                                                                                                                                                                                                                                                                                                                                                                                                                                                                                                                                                                                                                                                                                                                                                                                                                                                                                                                                                                                                                                                                                                                                                                                                                                                                                                                                                                                                                                                                                                                                                                                                                                                                                                                                                                                                                                                                                                                                                                                                                                                                                                                                                                                           30\n",
            "\\n,Fahrzeugbeschreibung, Sichern Sie sich diesen Renault Clio 1.6 TCE Energy Sport Trophy zum Top-Preis inklusive dem ,AUTOHERO-RUNDUM-SORGLOS-PAKET, ,Infos:, 1.Hand, deutsche Auslieferung, Unfallfrei, scheckheftgepflegt, ,Highlights, ,Audio-Navigationssystem R-Link Evolution mit Touchscreen und Carminat TomTom, ,Sportsitze , ,Sportfahrwerk, ,Scheinwerfer Full-LED ,Komfort, ,Geschwindigkeits-Regelanlage (Tempomat) , ,Klimaanlage, ,Einparkhilfe hinten, ,Multifunktionslenkrad (Sport/Leder) mit Schaltwippen/-tasten , ,Fensterheber elektr. mit Impulsgeber links/rechts vorn, ,Zentralverriegelung / Startanlage Handsfree Entry & Drive , ,Berganfahr-Assistent (HSA) ,Multimedia, ,Audiosystem: Radio R & GO (Bluetooth, DAB-Tuner), ,Bordcomputer, ,Freisprecheinrichtung Bluetooth , ,USB-Anschluss inkl. AUX-IN-Anschluss (Plug & Music) ,Licht und Sicht, ,Außenspiegel elektr. verstell- und heizbar , ,Licht- und Regensensor , ,Tagfahrlicht LED , ,Nebelscheinwerfer LED , ,Coming-Home-Lichtfunktion , ,Heckleuchten LED ,Sicherheit, ,Isofix-Aufnahmen für Kindersitz , ,Seitenairbag vorn, ,Wegfahrsperre, ,Differentialsperre, ,Bremsassistent , ,Elektron. Stabilitäts-Programm (ESP), ,Anti-Blockier-System (ABS), ,Anti-Submarining-Airbag im Fond, ,Airbag Fahrer-/Beifahrerseite , ,Differentialsperre , ,Reifendruck-Kontrollsystem , ,Untersteuerungskontrolle (USC) , ,Antischlupfregelung (ASR) ,Weiteres, ,Start/Stop-Anlage , ,Servolenkung geschwindigkeitsabhängig, ,R.S. Drive (Fahrmodusschalter) , ,Gepäckraumabdeckung / Rollo , ,Heckdiffusor , ,LM-Felgen , ,Heckspoiler (Renault Sport) , ,Pedale Aluminium , ,Energierückgewinnung (Energy Smart Management) , ,Elektr. Bremskraftverteilung , ,Reifen-Reparaturkit , ,Sitzbezug / Polsterung: Stoff , Ihr ,AUTOHERO-RUNDUM-SORGLOS-PAKET, beinhaltet:,Kostenlose Lieferung in Ihre Nähe,Optische & technische Aufbereitung,Mindestens 12 Monate gültige HU und AU,1-Jahr-Premium-Garantie,Zulassung inklusive ,14-Tage-Rückgaberecht,Markenunabhängige Inzahlungnahme ,Individuelle Finanzierungen zu fairen Konditionen, ,HIER GEHT ES ZUR 360° - ANSICHT DES FAHRZEUGES:,:,https://www.autohero.com/de/renault-clio-1-6-tce-energy-renault-sport-trophy/id/f7ca29bf-e005-453f-bbc9-8c6fe892dec6/, ,Haftungsausschluss,:,Für Angaben vom Verkäufer, des Herstellers oder von Datenbankabfragen übernimmt Autohero keine Haftung. Änderungen, Zwischenverkauf und Irrtümer sind vorbehalten.\\n                                                                                                                                                           27\n",
            "\\nPosibilidad de prueba del vehículo hasta 5 días. Consultar condiciones. PVP para particulares. Varias unidades y colores disponibles. Precios publicados para vehículos industriales (furgonetas) válidos para compradores autónomos o empresas, consultar condiciones para particulares. Las imágenes y kilómetros pueden no corresponder con el modelo anunciado. Para confirmar póngase en contacto con nuestro departamento comercial. Consulta las excepcionales condiciones de financiación que tenemos disponibles. Precio de venta final IVA y gastos de transferencia incluidos. Horario de atención al cliente: Lunes a Viernes de 09:00 a 18:00.\\n                                                                                                                                                                                                                                                                                                                                                                                                                                                                                                                                                                                                                                                                                                                                                                                                                                                                                                                                                                                                                                                                                                                                                                                                                                                                                                                                                                                                                                                                                                                                                                                                                                                                                                                                                                                                                                                                                                                                                                                                 27\n",
            "\\nSichern Sie sich diesen RENAULT CLIO 1.2 LIMITED zum Top-Preis inklusive dem,AUTOHERO-RUNDUM-SORGLOS-PAKET, ,Infos:, 2.Hand, mindestens 12 Monate gültige HU und AU, deutsche Ausführung, unfallfrei , ,Highlights, ,Audio-Navigationssystem mit Touchscreen-Farbdisplay,Komfort, ,Klimaanlage , ,Multifunktionslenkrad in Leder , ,Berganfahr-Assistent (HSA), ,Fensterheber elektrisch vorn , ,Geschwindigkeits-Regelanlage (Tempomat) , ,Heckscheibe heizbar , ,Sitz vorn links höhenverstellbar, ,Sitz vorn rechts umklappbar , ,Stau-/Ablagefach im Laderaumboden , ,Zentralverriegelung mit Fernbedienung ,Multimedia, ,Radio R&GO, ,Bluetooth Freisprechanlage , ,USB-/AUX-Schnittstelle , ,Bordcomputer, ,Licht und Sicht, ,Tagfahrlicht LED , ,Außenspiegel elektrisch verstell- und heizbar,Sicherheit, ,Airbag für Fahrer und Beifahrer, ,Beifahrerairbag deaktivierbar , ,Seitenairbags vorn , ,Kopfairbagsystem, ,Anti-Blockier-System (ABS), ,Elektronische Bremskraftverteilung , ,Elektronische Stabilitäts-Programm (ESP) , ,Reifen-Reparaturkit , ,Reifendruck-Kontrollsystem , ,Untersteuerungskontrolle (USC) , ,ISOFIX Kindersitzverankerung ,Weiteres, ,Dachreling silber , ,Look-Paket Chrom (außen) , ,Look-Paket Grau (innen) , ,R&GO-Paket , ,Style-Paket , Ihr ,AUTOHERO-RUNDUM-SORGLOS-PAKET, beinhaltet:,Kostenlose Lieferung in Ihre Nähe,Optische & technische Aufbereitung,Mindestens 12 Monate gültige HU und AU,1-Jahr-Premium-Garantie,Zulassung inklusive ,14-Tage-Rückgaberecht,Markenunabhängige Inzahlungnahme ,Individuelle Finanzierungen zu fairen Konditionen, ,HIER GEHT ES ZUR 360° - ANSICHT DES FAHRZEUGES:,:,https://www.autohero.com/de/renault-clio-1-2-limited/id/30f99516-8785-47e7-a4a3-6cdac4d8e633/, ,Haftungsausschluss,:,Für Angaben vom Verkäufer, des Herstellers oder von Datenbankabfragen übernimmt Autohero keine Haftung. Änderungen, Zwischenverkauf und Irrtümer sind vorbehalten.\\n                                                                                                                                                                                                                                                                                                                                                                                                                                                                                                                                                                                                                                                                                                        27\n",
            "                                                                                                                                                                                                                                                                                                                                                                                                                                                                                                                                                                                                                                                                                                                                                                                                                                                                                                                                                                                                                                                                                                                                                                                                                                                                                                                                                                                                                                                                                                                                                                                                                                                                                                                                                                                                                                                                                                                                                                                                                                                                                                                                                                                                                                                                                                                                                                                                                                                                                                                                                                                                                                                              ... \n",
            "\\nPratica 67374,Airbag fullsize per conducente e passeggero, Alzacristalli elettrici ant. e post. con funzione attivaz. a pressione, Assetto dinamico, Audi drive select, Inserti in micrometallic argento, Kit riparazione pneumatici, Pacchetto di navigazione, Piano di copertura del vano bagagli estraibile, Presa AUX-IN, Proiettori allo Xenon Plus con reg. aut. prof. fari, Lavafari, Rivestimenti dei sedili in tessuto, Serbatoio AdBlue, Sistema controllo pressione pneumatici, Sistema di ancoraggio ISOFIX e 3° punto di ancoraggio Top Tether sui sedili post. laterali, Sistema di informazioni per il conducente con display monocromatico, Tappetini anteriori e posteriori, Versione Business, Volante sportivo multifunzionale in pelle 3 razze, ABS, EBV (Ripartitore elettronico della forza frenante), Airbag laterali anteriori integrati negli schienali dei sedili, Airbag per la testa, Airbag per le ginocchia (lato conducente), Appoggiatesta anteriori (2) e posteriori (3) regolabili, Radio MMI plus, Interfaccia Bluetooth, Appoggiabraccia centrale anteriore, Cambio manuale, Cerchi in lega 7 J x 16\" a 5 razze a stella, Chiusura centralizzata con telecomando, Regolatore di velocità, ESC - Sistema elettronico di controllo della stabilizzazione con bloccaggio trasversale elettronico, ASR - Dispositivo di controllo della trazione, EDS (Dispositivo antislittamento in partenza), Filtro anti particolato, Cinture di sicurezza con pretensionatore, Specchietti retrovisivi esterni riscaldabili e ripiegabili elettricamente, Schienale del sedile posteriore ribaltabile (divisibile in rapporto 40:60 o ribaltabile completam.), Sistema di ausilio al parcheggio posteriore, Servosterzo elettromeccanico, Tergilunotto\\n                                                                                                                                                                                                                                                                                                                                                                                                                                                                                                                                                                                                                                                                                                                                                                                                                                                                                  1\n",
            "\\n,Getriebe:, Schaltgetriebe,Technik:, Bordcomputer, Start-Stop-Automatik,Assistenten:, Regensensor, Lichtsensor, Berganfahrassistent,Komfort:, Servolenkung, Zentralverriegelung, Elektrischer Fensterheber, Sitzheizung, Elektrische Aussenspiegel, Teilbare Ruecksitzlehne, Tempomat, Park Distance Control, Multifunktionslenkrad, Innenspiegel autom. abblendbar, Mittelarmlehne, Innenraumfilter, Lenksaeule einstellbar, Sportsitze, Klimaautomatik-2-Zonen,Sicht:, Xenon Scheinwerfer, Colorverglasung, Scheinwerferreinigung, Aussenspiegel beheizbar, Privacyverglasung,Sicherheit:, ABS, Airbag, Beifahrer-Airbag, Wegfahrsperre, Seitenairbags, ESP, Antriebsschlupfregelung, Reifendruckkontrolle, Traktionskontrolle, Kopfairbag, Knieairbag, Kindersitzbefestigung, Pannenkit,Entertainment:, CD, Radio, AUX-In, USB-Anschluss, MP3, Bluetooth, Freisprecheinrichtung,Umwelt:, Grüne Umweltplakette, ,Energieeffizienzklasse B,Qualität:, Garantie, Scheckheftgepflegt, HUAU neu, Nichtraucherfahrzeug,Sonstiges:, Metallic, Alufelgen, Dachreling, Gepaeckraumabdeckung, Stossfaenger in Wagenfarbe, Sportfahrwerk,Weiteres:, Connectivity-Paket inkl. Bluetooth-Schnittstelle, Klimaautomatik 2-Zonen, Optik-Paket schwarz Audi exclusive, Einparkhilfe (APS), Verglasung hinten abgedunkelt, Sitzheizung vorn, Dachreling (Aluminium), Soundsystem DSP / Audi Sound-System, Ablage- und Gepäckraum-Paket, Audi music interface, Scheibenwaschdüsen heizbar, Vorbereitung Navigationssystem, Adaptives Bremslicht, Anfahr-Assistent (hold assist), Antriebsart: Frontantrieb, Audi Drive Select, Außenspiegel Wagenfarbe, Blinkleuchten LED in Außenspiegel integriert, Bremsanlage mit Rekuperation - Bremsenergierückgewinnung, Bremsassistent, Dachspoiler, Dekoreinlagen Aluminium Mistral, Einstiegsleisten Aluminium, Elektron. Differentialsperre (EDS), Elektron. Stabilitätskontrolle (ESC), Elektron. Stabilitäts-Programm, Euro 6, Fahrer-Informations-System (FIS), Fensterheber elektrisch vorn und hinten, Frontscheibe Akustikglas, Fußmatten Velours, Getriebe 6-Gang, Heckscheibe heizbar, Interieur Aluminium-Optik, Isofix-Aufnahmen für Kindersitz, Kopfstützen hinten, Multi-Media-Interface MMI, Parkbremse elektro-mechanisch, Polster: Stoff Rallye, Servolenkung elektro-mechanisch, Sitze vorn mit ausziehbarer Oberschenkelauflage, Sitzhöhenverstellung, Sport/Lederlenkrad, Sport-Fahrwerk, Start/Stop-Anlage, Telefon-Vorbereitung mit Bluetooth-Schnittstelle, Wagenheber, Wärmeschutzverglasung, Xenon Plus, ZV mit Fernbedienung,... Änderungen, Zwischenverkauf und Irrtümer vorbehalten., by CG360.de\\n      1\n",
            "\\n,Getriebe,6-Gang,Licht und Sicht,Xenon-Scheinwerfer Plus (Abblend- und Fernlicht),Technik und Sicherheit,Fahrerairbag,Airbag Fahrer-/Beifahrerseite,Seitenairbag vorn,Kopfairbags,Anti-Blockier-System (ABS),Elektron. Stabilitätskontrolle (ESC),Elektron. Differentialsperre (EDS),Zentralverriegelung mit Fernbedienung,Schließ-/Startsystem Advanced Key (Komfortschlüssel),Servolenkung elektro-mechanisch,Geschwindigkeits-Regelanlage (Tempomat),Elektronische Wegfahrsperre,Bordcomputer,Reifendruck-Kontrollsystem,Assistenzsysteme,Fahrassistenz-System: Anfahr-Assistent (hold assist),Multimedia,Multi-Media-Interface MMI Basic Plus / MMI Radio Plus,Audi Smartphone Interface,Komfort,Komfort-Klimaautomatik 2-Zonen,Einparkhilfe hinten (APS),Fensterheber elektrisch,Licht- und Regensensor,Außenspiegel elektr. verstellbar beide,Scheibenwaschdüsen und Außenspiegel beheizt,Wärmeschutzverglasung grün getönt,Innenausstattung,Sitzheizung vorn,Lenkrad (Sport/Leder - 3-Speichen) mit Multifunktion,Mittelarmlehne vorn,Rücksitzlehne geteilt/klappbar,Aussenausstattung,LM-Felgen,Pakete,Komfort-Paket,Sonstiges,Rußpartikelfilter,Scheckheftgepflegt,Nichtraucherfahrzeug,Weitere Informationen,Schadstoffklasse: EURO 6D-TEMP,Connectivity-Paket,Glanz-Paket,LM-Felgen 7.5x17 (5-Speichen Y-Design),Progressivlenkung,Antriebs-Schlupfregelung (ASR),Elektron. Stabilitäts-Programm (ESP),Getriebe 6-Gang,Lenkrad (Sport - 3-Speichen),Parkbremse elektro-mechanisch,Sitze vorn höhenverstellbar,Vorrüstung Mobiltelefon/Handy mit Bluetooth-Schnittstelle,Audi music interface,Außenspiegel elektr. verstell- und heizbar beide,Vorbereitung Navigationssystem,Irrtümer und Änderungen vorbehalten.,Die im Internet angebotene Ausstattung ist kein Vertragsbestandteil.,Die Ausstattung muss vor Ort geprüft werden.,Das angebotene Fahrzeug kann von einer Rückrufaktion betroffen sein. Co2 Angaben können abweichen.,\\n                                                                                                                                                                                                                                                                                                                                                                                                                                                                                                                                                                                                                                                                                                           1\n",
            "\\n,Aluminium-Gussräder im 5-Speichen-Stern-Design Größe 7 J x 16 mit Reifen 205/55 R 16,Dachreling eloxiert,Einparkhilfe hinten,Fahrerinformationssystem mit Farbdisplay,Lederlenkrad im 3-Speichen-Design mit Multifunktion plus,Ablage-/Gepäckraumpaket mit erweitertem USB-Buchsen-Angebot,Lichtpaket,Reifen 16',Anlaufvariante RdW,Vorbereitung für Anhängevorrichtung,Audi sound system,Reifen 205/55 R16 91W,Xenon plus,Allwetterlicht,Kopfstützen hinten (3 Stück),MMI Radio plus,Zentralverriegelung mit Funkschlüssel,Bluetooth-Schnittstelle,Innenspiegel abblendbar,elektronische Stabilisierungskontrolle (ESC),Airbags,6-Gang-Schaltgetriebe,Seitenairbags vorn und Kopfairbagsystem,elektromechanische Servolenkung,Leuchtweitenregulierung automatisch-statisch,Scheibenwaschdüsen beheizbar vorn,Reifendruck-Kontrollanzeige,Tagfahrlicht,Start-Stop-System,AUX-IN-Anschluss,Kindersitzverankerung ISOFIX und Top Tether für die äußeren Fondsitze,Sitzbezüge in Stoff Index,Wärmeschutzverglasung,Akustikfrontscheibe,Außenspiegel links asphärisch,Außen-Sound Standard,Außenspiegel rechts (großes Sichtfeld) konvex,elektromechanische Parkbremse,Dachhimmel in Stoff felsgrau,Kraftstoffsystem Otto-Einspritzer,Linkslenker,Reifenreparaturset,Heckleuchten,Scheibenwaschanlage,Entriegelung Hintersitz Standard,Waschwasserstandsanzeige,Abgaskonzept EU6 AG/H/I,Frontantrieb,A3,Außenspiegelgehäuse in Wagenfarbe,Ohne erweitertem Sicherheitssystem,Geschwindigkeitsbegrenzungsanlage,Dachkantenspoiler,Heckscheibenwischer,Sportback,Kindersicherung manuell,Ohne Kamerasysteme/Umfeldsensorik,4-Zyl. Ottomotor 1 5 L/110KW TSI Grundmotor ist: TJ7/N09/T9F,Nebelschlussleuchten,Nichtraucherausführung,Radstand,Doppeltonfanfare,Serienfahrwerk,4 Türen,Modellbezeichnung gemäß neuer Leistungskennzeichnung,Warnleuchten,Zierleisten schwarz,Nichtraucherfahrzeug,Irrtümer Änderungen und Zwischenverkauf vorbehalten,sehr guter Zustand,Komfortklima,Aussenspiegel heizbar,elektrische Aussenspiegel,geteilte Rückbank,Scheckheft gepflegt,Fahrersitz höhenverstellbar,Beifahrersitz höhenverstellbar,\\n                                                                                                                                                                                                                                                                                                                                                                                                                                                                                                                             1\n",
            "\\nDEK:[2691331],Renault Espace Blue dCi 200CV EDC Business,Nuova da Immatricolare,COLORE: Grigio Titanio,INTERNO: Pelle+Tessuto,TRASMISSIONE: Cambio Automatico EDC,---,ACCESSORI: ,7 Posti,, ,Cerchi in Lega 17, Navigatore con Display 8.7, Clima Automatico, Sensori di Parcheggio Anteriori e Posteriori con Retrocamera, Fari Full LED Pure Vision, Cruise Control, Renault Multisense,---,Listino Nuovo 44.300 Euro,Prezzo Gruppo Carmeli: 39.700 Euro (Esclusa IPT e Messa in Strada),IVA Esposta,In caso di Adesione alla PROMO GRUPPO CARMELI puoi Averla a 36.000 Euro,Contattaci per scoprire tutti i vantaggi della PROMO GRUPPO CARMELI,____________________________________,Gruppo Carmeli S.p.A. è Concessionaria e Service ufficiale dei Marchi Renault, Dacia, Nissan, Mercedes e Smart per la provincia di Brescia e Bergamo ed opera nel mercato dell’auto da più di 40 anni.,Nelle sedi di Brescia (Nissan e Renault-Dacia Autospazio), di Coccaglio (Renault-Dacia e Nissan) e di Bergamo (Nissan) oltre a tutta la gamma di veicoli dei Marchi rappresentati, propone anche 2.000 auto a Km Zero e Aziendali di tutte le marche.,Offriamo Servizi:,-VALUTAZIONE e PERMUTA del tuo USATO,-ACQUISTO con pagamento immediato del tuo USATO,-FINANZIAMENTI e LEASING agevolati,-NOLEGGIO A LUNGO TERMINE di veicoli di tutte le marche,-PACCHETTI ASSICURATIVI su misura con possibilità di garanzia del valore a Nuovo,____________________________________,Sebbene sia stato fatto ogni ragionevole sforzo per assicurare l'esattezza delle informazioni riportate, vi potrebbero essere involontarie incongruenze riguardanti le immagini e la descrizione degli accessori, che pertanto non rappresentano vincolo contrattuale. Per ulteriori informazioni sulle condizioni economiche ti invitiamo a contattarci.,\\n                                                                                                                                                                                                                                                                                                                                                                                                                                                                                                                                                                                                                                                                                                                                                                                                                      1\n",
            "Name: description, Length: 12874, dtype: int64\n",
            "******************************\n",
            "\n",
            "\n",
            "\n"
          ]
        }
      ]
    },
    {
      "cell_type": "code",
      "source": [
        "df.drop(columns=\"description\", inplace=True)"
      ],
      "metadata": {
        "id": "Vw2n9OT2XCP-"
      },
      "execution_count": 201,
      "outputs": []
    },
    {
      "cell_type": "code",
      "source": [
        "check_df(\"emission_label\")"
      ],
      "metadata": {
        "colab": {
          "base_uri": "https://localhost:8080/"
        },
        "id": "h8bYDxHVXKO8",
        "outputId": "480f7f3e-b104-4f5e-f7b7-b84fbced5744"
      },
      "execution_count": 202,
      "outputs": [
        {
          "output_type": "stream",
          "name": "stdout",
          "text": [
            "column name :  emission_label\n",
            "--------------------------------\n",
            "Per_of_Nulls   :  % 74.97\n",
            "Num_of_Nulls   :  11934\n",
            "NaN                   11934\n",
            "\\n4 (Green)\\n          3553\n",
            "\\n1 (No sticker)\\n      381\n",
            "[],[],[]                 40\n",
            "\\n5 (Blue)\\n              8\n",
            "\\n3 (Yellow)\\n            2\n",
            "\\n2 (Red)\\n               1\n",
            "Name: emission_label, dtype: int64\n",
            "******************************\n",
            "\n",
            "\n",
            "\n"
          ]
        }
      ]
    },
    {
      "cell_type": "code",
      "source": [
        "df.drop(columns=\"emission_label\", inplace=True)"
      ],
      "metadata": {
        "id": "tI8Xw7EBXKRw"
      },
      "execution_count": 203,
      "outputs": []
    },
    {
      "cell_type": "code",
      "source": [
        "check_df(\"gears\")"
      ],
      "metadata": {
        "colab": {
          "base_uri": "https://localhost:8080/"
        },
        "id": "9mwwfT95XKU2",
        "outputId": "f6fe91cd-e31c-4434-deb6-c415dfa96ae1"
      },
      "execution_count": 204,
      "outputs": [
        {
          "output_type": "stream",
          "name": "stdout",
          "text": [
            "column name :  gears\n",
            "--------------------------------\n",
            "Per_of_Nulls   :  % 29.6\n",
            "Num_of_Nulls   :  4712\n",
            "\\n6\\n     5822\n",
            "NaN       4712\n",
            "\\n5\\n     3239\n",
            "\\n7\\n     1908\n",
            "\\n8\\n      224\n",
            "\\n9\\n        6\n",
            "\\n1\\n        2\n",
            "\\n3\\n        2\n",
            "\\n4\\n        2\n",
            "\\n2\\n        1\n",
            "\\n50\\n       1\n",
            "Name: gears, dtype: int64\n",
            "******************************\n",
            "\n",
            "\n",
            "\n"
          ]
        }
      ]
    },
    {
      "cell_type": "code",
      "source": [
        "df.gears.str.strip(\"\\n\").value_counts(dropna=False)"
      ],
      "metadata": {
        "colab": {
          "base_uri": "https://localhost:8080/"
        },
        "id": "Ixut-L7SXKXk",
        "outputId": "fc97763a-6842-47d2-bee0-0da0b6182754"
      },
      "execution_count": 205,
      "outputs": [
        {
          "output_type": "execute_result",
          "data": {
            "text/plain": [
              "6      5822\n",
              "NaN    4712\n",
              "5      3239\n",
              "7      1908\n",
              "8       224\n",
              "9         6\n",
              "1         2\n",
              "3         2\n",
              "4         2\n",
              "2         1\n",
              "50        1\n",
              "Name: gears, dtype: int64"
            ]
          },
          "metadata": {},
          "execution_count": 205
        }
      ]
    },
    {
      "cell_type": "code",
      "source": [
        "df.gears = df.gears.str.strip(\"\\n\").astype(float)"
      ],
      "metadata": {
        "id": "tgs-q6UrXKan"
      },
      "execution_count": 206,
      "outputs": []
    },
    {
      "cell_type": "code",
      "source": [
        "check_df(\"country_version\")"
      ],
      "metadata": {
        "colab": {
          "base_uri": "https://localhost:8080/"
        },
        "id": "DWxx_B0yXKdQ",
        "outputId": "63a041fa-7939-43c5-9cd3-062a8a23da9e"
      },
      "execution_count": 207,
      "outputs": [
        {
          "output_type": "stream",
          "name": "stdout",
          "text": [
            "column name :  country_version\n",
            "--------------------------------\n",
            "Per_of_Nulls   :  % 52.35\n",
            "Num_of_Nulls   :  8333\n",
            "NaN                   8333\n",
            "\\nGermany\\n           4502\n",
            "\\nItaly\\n             1038\n",
            "\\nEuropean Union\\n     507\n",
            "\\nNetherlands\\n        464\n",
            "\\nSpain\\n              325\n",
            "\\nBelgium\\n            314\n",
            "\\nAustria\\n            208\n",
            "\\nCzech Republic\\n      52\n",
            "\\nPoland\\n              49\n",
            "\\nFrance\\n              38\n",
            "\\nDenmark\\n             33\n",
            "\\nHungary\\n             28\n",
            "\\nJapan\\n                8\n",
            "\\nSlovakia\\n             4\n",
            "\\nCroatia\\n              4\n",
            "\\nSweden\\n               3\n",
            "\\nRomania\\n              2\n",
            "\\nBulgaria\\n             2\n",
            "\\nLuxembourg\\n           1\n",
            "\\nSwitzerland\\n          1\n",
            "\\nSlovenia\\n             1\n",
            "\\nEgypt\\n                1\n",
            "\\nSerbia\\n               1\n",
            "Name: country_version, dtype: int64\n",
            "******************************\n",
            "\n",
            "\n",
            "\n"
          ]
        }
      ]
    },
    {
      "cell_type": "code",
      "source": [
        "df.country_version.str.strip(\"\\n\").value_counts(dropna=False)"
      ],
      "metadata": {
        "colab": {
          "base_uri": "https://localhost:8080/"
        },
        "id": "e2j-cTDvXU97",
        "outputId": "9cefa8f2-b63f-4237-ae13-3c3f07b67c21"
      },
      "execution_count": 208,
      "outputs": [
        {
          "output_type": "execute_result",
          "data": {
            "text/plain": [
              "NaN               8333\n",
              "Germany           4502\n",
              "Italy             1038\n",
              "European Union     507\n",
              "Netherlands        464\n",
              "Spain              325\n",
              "Belgium            314\n",
              "Austria            208\n",
              "Czech Republic      52\n",
              "Poland              49\n",
              "France              38\n",
              "Denmark             33\n",
              "Hungary             28\n",
              "Japan                8\n",
              "Slovakia             4\n",
              "Croatia              4\n",
              "Sweden               3\n",
              "Romania              2\n",
              "Bulgaria             2\n",
              "Luxembourg           1\n",
              "Switzerland          1\n",
              "Slovenia             1\n",
              "Egypt                1\n",
              "Serbia               1\n",
              "Name: country_version, dtype: int64"
            ]
          },
          "metadata": {},
          "execution_count": 208
        }
      ]
    },
    {
      "cell_type": "code",
      "source": [
        "df.country_version = df.country_version.str.strip(\"\\n\")"
      ],
      "metadata": {
        "id": "Z11J95c0XVA1"
      },
      "execution_count": 209,
      "outputs": []
    },
    {
      "cell_type": "code",
      "source": [
        "df.drop(columns=[\"electricity_consumption\", \"last_service_date\", \"other_fuel_types\", \"availability\", \"last_timing_belt_service_date\", \"available_from\"], inplace=True)\n"
      ],
      "metadata": {
        "id": "oJaPZ7suXVDv"
      },
      "execution_count": 210,
      "outputs": []
    },
    {
      "cell_type": "code",
      "source": [
        "df.info()\n"
      ],
      "metadata": {
        "colab": {
          "base_uri": "https://localhost:8080/"
        },
        "id": "agCVolIMXVIk",
        "outputId": "5e4beb98-8425-43aa-d90b-69982282e382"
      },
      "execution_count": 211,
      "outputs": [
        {
          "output_type": "stream",
          "name": "stdout",
          "text": [
            "<class 'pandas.core.frame.DataFrame'>\n",
            "RangeIndex: 15919 entries, 0 to 15918\n",
            "Data columns (total 36 columns):\n",
            " #   Column                  Non-Null Count  Dtype  \n",
            "---  ------                  --------------  -----  \n",
            " 0   short_description       15873 non-null  object \n",
            " 1   body_type               15859 non-null  object \n",
            " 2   price_€                 15919 non-null  float64\n",
            " 3   vat                     11406 non-null  object \n",
            " 4   km                      14895 non-null  float64\n",
            " 5   registration            14322 non-null  float64\n",
            " 6   prev_owner              9091 non-null   float64\n",
            " 7   hp_kW                   15831 non-null  float64\n",
            " 8   type                    15917 non-null  object \n",
            " 9   previous_owners         9279 non-null   float64\n",
            " 10  warranty                4853 non-null   float64\n",
            " 11  make                    15919 non-null  object \n",
            " 12  model                   15919 non-null  object \n",
            " 13  body_color              15322 non-null  object \n",
            " 14  paint_type              10147 non-null  object \n",
            " 15  body_color_original     12160 non-null  object \n",
            " 16  upholstery              12199 non-null  object \n",
            " 17  nr._of_doors            15707 non-null  object \n",
            " 18  nr._of_seats            14942 non-null  float64\n",
            " 19  gearing_type            15919 non-null  object \n",
            " 20  engine_displacement_cc  15423 non-null  float64\n",
            " 21  cylinders               10239 non-null  float64\n",
            " 22  weight_kg               8945 non-null   float64\n",
            " 23  drive_chain             9061 non-null   object \n",
            " 24  fuel                    15919 non-null  object \n",
            " 25  co2e_g                  13477 non-null  float64\n",
            " 26  emission_class          12291 non-null  object \n",
            " 27  comfort&convenience     14999 non-null  object \n",
            " 28  entertainment&media     14545 non-null  object \n",
            " 29  extras                  12957 non-null  object \n",
            " 30  safety_&_security       14937 non-null  object \n",
            " 31  gears                   11207 non-null  float64\n",
            " 32  country_version         7586 non-null   object \n",
            " 33  consumption_comb        12129 non-null  float64\n",
            " 34  consumption_city        11880 non-null  float64\n",
            " 35  consumption_country     12554 non-null  float64\n",
            "dtypes: float64(16), object(20)\n",
            "memory usage: 4.4+ MB\n"
          ]
        }
      ]
    },
    {
      "cell_type": "code",
      "source": [
        "\n",
        "df.to_csv(\"cleaned_autoscout.csv\", index=False)"
      ],
      "metadata": {
        "id": "NDCFMtT1XrTh"
      },
      "execution_count": 212,
      "outputs": []
    },
    {
      "cell_type": "markdown",
      "source": [
        ""
      ],
      "metadata": {
        "id": "5WZO0x62Xvq7"
      }
    }
  ]
}