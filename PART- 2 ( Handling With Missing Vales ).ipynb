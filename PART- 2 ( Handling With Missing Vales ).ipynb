{
  "nbformat": 4,
  "nbformat_minor": 0,
  "metadata": {
    "colab": {
      "name": "Project-2/Filled AutoScout.ipynb",
      "provenance": []
    },
    "kernelspec": {
      "name": "python3",
      "display_name": "Python 3"
    },
    "language_info": {
      "name": "python"
    }
  },
  "cells": [
    {
      "cell_type": "markdown",
      "source": [
        "Project-2/Filled AutoScout.ipynb"
      ],
      "metadata": {
        "id": "2nCqfFpRXCiL"
      }
    },
    {
      "cell_type": "code",
      "source": [
        "import numpy as np\n",
        "import pandas as pd\n",
        "import matplotlib.pyplot as plt\n",
        "import seaborn as sns\n",
        "\n",
        "import warnings\n",
        "warnings.filterwarnings(\"ignore\")\n",
        "warnings.warn(\"this will not show\")\n",
        "\n",
        "plt.rcParams[\"figure.figsize\"] = (10, 6)\n",
        "\n",
        "sns.set_style(\"whitegrid\")\n",
        "pd.set_option('display.float_format', lambda x: '%.3f' % x)\n",
        "\n",
        "# Set it None to display all rows in the dataframe\n",
        "# pd.set_option('display.max_rows', None)\n",
        "\n",
        "# Set it to None to display all columns in the dataframe\n",
        "pd.set_option('display.max_columns', None)"
      ],
      "metadata": {
        "id": "ZklxysICW_Pv"
      },
      "execution_count": 172,
      "outputs": []
    },
    {
      "cell_type": "code",
      "source": [
        "df = pd.read_csv(\"cleaned_autoscout.csv\")"
      ],
      "metadata": {
        "id": "b-lX6F2xPdpd"
      },
      "execution_count": 2,
      "outputs": []
    },
    {
      "cell_type": "code",
      "source": [
        "df.head()"
      ],
      "metadata": {
        "colab": {
          "base_uri": "https://localhost:8080/",
          "height": 513
        },
        "id": "mlOaFgwWPdsW",
        "outputId": "23a15e4c-3407-41b4-c9b5-deb2139b33eb"
      },
      "execution_count": 3,
      "outputs": [
        {
          "output_type": "execute_result",
          "data": {
            "text/plain": [
              "                                   short_description body_type   price_€  \\\n",
              "0        Sportback 1.4 TDI S-tronic Xenon Navi Klima    Sedans 15770.000   \n",
              "1                                     1.8 TFSI sport    Sedans 14500.000   \n",
              "2  Sportback 1.6 TDI S tronic Einparkhilfe plus+m...    Sedans 14640.000   \n",
              "3                            1.4 TDi Design S tronic    Sedans 14500.000   \n",
              "4  Sportback 1.4 TDI S-Tronic S-Line Ext. admired...    Sedans 16790.000   \n",
              "\n",
              "                vat        km  registration  prev_owner   hp_kW  type  \\\n",
              "0    VAT deductible 56013.000      2016.000       2.000  66.000  Used   \n",
              "1  Price negotiable 80000.000      2017.000         NaN 141.000  Used   \n",
              "2    VAT deductible 83450.000      2016.000       1.000  85.000  Used   \n",
              "3               NaN 73000.000      2016.000       1.000  66.000  Used   \n",
              "4               NaN 16200.000      2016.000       1.000  66.000  Used   \n",
              "\n",
              "   previous_owners  warranty  make model body_color paint_type  \\\n",
              "0            2.000       NaN  Audi    A1      Black   Metallic   \n",
              "1              NaN       NaN  Audi    A1        Red        NaN   \n",
              "2            1.000       NaN  Audi    A1      Black   Metallic   \n",
              "3            1.000       NaN  Audi    A1      Brown   Metallic   \n",
              "4            1.000       NaN  Audi    A1      Black   Metallic   \n",
              "\n",
              "      body_color_original upholstery  nr._of_doors  nr._of_seats gearing_type  \\\n",
              "0           Mythosschwarz      Cloth         5.000         5.000    Automatic   \n",
              "1                     NaN      Cloth         3.000         4.000    Automatic   \n",
              "2  mythosschwarz metallic      Cloth         4.000         4.000    Automatic   \n",
              "3                     NaN        NaN         3.000         4.000    Automatic   \n",
              "4  Mythosschwarz Metallic      Cloth         5.000         5.000    Automatic   \n",
              "\n",
              "   engine_displacement_cc  cylinders  weight_kg drive_chain     fuel  co2e_g  \\\n",
              "0                1422.000      3.000   1220.000       front   Diesel  99.000   \n",
              "1                1798.000      4.000   1255.000       front  Benzine 129.000   \n",
              "2                1598.000        NaN        NaN       front   Diesel  99.000   \n",
              "3                1422.000      3.000   1195.000         NaN   Diesel  99.000   \n",
              "4                1422.000      3.000        NaN       front   Diesel 109.000   \n",
              "\n",
              "  emission_class                                comfort&convenience  \\\n",
              "0         Euro 6  Air conditioning,Armrest,Automatic climate con...   \n",
              "1         Euro 6  Air conditioning,Automatic climate control,Hil...   \n",
              "2         Euro 6  Air conditioning,Cruise control,Electrical sid...   \n",
              "3         Euro 6  Air suspension,Armrest,Auxiliary heating,Elect...   \n",
              "4         Euro 6  Air conditioning,Armrest,Automatic climate con...   \n",
              "\n",
              "                                 entertainment&media  \\\n",
              "0  Bluetooth,Hands-free equipment,On-board comput...   \n",
              "1  Bluetooth,Hands-free equipment,On-board comput...   \n",
              "2                              MP3,On-board computer   \n",
              "3  Bluetooth,CD player,Hands-free equipment,MP3,O...   \n",
              "4  Bluetooth,CD player,Hands-free equipment,MP3,O...   \n",
              "\n",
              "                                              extras  \\\n",
              "0     Alloy wheels,Catalytic Converter,Voice Control   \n",
              "1  Alloy wheels,Sport seats,Sport suspension,Voic...   \n",
              "2                         Alloy wheels,Voice Control   \n",
              "3             Alloy wheels,Sport seats,Voice Control   \n",
              "4  Alloy wheels,Sport package,Sport suspension,Vo...   \n",
              "\n",
              "                                   safety_&_security  gears country_version  \\\n",
              "0  ABS,Central door lock,Daytime running lights,D...    NaN             NaN   \n",
              "1  ABS,Central door lock,Central door lock with r...  7.000             NaN   \n",
              "2  ABS,Central door lock,Daytime running lights,D...    NaN             NaN   \n",
              "3  ABS,Alarm system,Central door lock with remote...  6.000             NaN   \n",
              "4  ABS,Central door lock,Driver-side airbag,Elect...    NaN         Germany   \n",
              "\n",
              "   consumption_comb  consumption_city  consumption_country  \n",
              "0             3.800             4.300                3.500  \n",
              "1             5.600             7.100                4.700  \n",
              "2             3.800             4.400                3.400  \n",
              "3             3.800             4.300                3.500  \n",
              "4             4.100             4.600                3.800  "
            ],
            "text/html": [
              "\n",
              "  <div id=\"df-8b677774-8d97-4db5-925a-f1099c521bdb\">\n",
              "    <div class=\"colab-df-container\">\n",
              "      <div>\n",
              "<style scoped>\n",
              "    .dataframe tbody tr th:only-of-type {\n",
              "        vertical-align: middle;\n",
              "    }\n",
              "\n",
              "    .dataframe tbody tr th {\n",
              "        vertical-align: top;\n",
              "    }\n",
              "\n",
              "    .dataframe thead th {\n",
              "        text-align: right;\n",
              "    }\n",
              "</style>\n",
              "<table border=\"1\" class=\"dataframe\">\n",
              "  <thead>\n",
              "    <tr style=\"text-align: right;\">\n",
              "      <th></th>\n",
              "      <th>short_description</th>\n",
              "      <th>body_type</th>\n",
              "      <th>price_€</th>\n",
              "      <th>vat</th>\n",
              "      <th>km</th>\n",
              "      <th>registration</th>\n",
              "      <th>prev_owner</th>\n",
              "      <th>hp_kW</th>\n",
              "      <th>type</th>\n",
              "      <th>previous_owners</th>\n",
              "      <th>warranty</th>\n",
              "      <th>make</th>\n",
              "      <th>model</th>\n",
              "      <th>body_color</th>\n",
              "      <th>paint_type</th>\n",
              "      <th>body_color_original</th>\n",
              "      <th>upholstery</th>\n",
              "      <th>nr._of_doors</th>\n",
              "      <th>nr._of_seats</th>\n",
              "      <th>gearing_type</th>\n",
              "      <th>engine_displacement_cc</th>\n",
              "      <th>cylinders</th>\n",
              "      <th>weight_kg</th>\n",
              "      <th>drive_chain</th>\n",
              "      <th>fuel</th>\n",
              "      <th>co2e_g</th>\n",
              "      <th>emission_class</th>\n",
              "      <th>comfort&amp;convenience</th>\n",
              "      <th>entertainment&amp;media</th>\n",
              "      <th>extras</th>\n",
              "      <th>safety_&amp;_security</th>\n",
              "      <th>gears</th>\n",
              "      <th>country_version</th>\n",
              "      <th>consumption_comb</th>\n",
              "      <th>consumption_city</th>\n",
              "      <th>consumption_country</th>\n",
              "    </tr>\n",
              "  </thead>\n",
              "  <tbody>\n",
              "    <tr>\n",
              "      <th>0</th>\n",
              "      <td>Sportback 1.4 TDI S-tronic Xenon Navi Klima</td>\n",
              "      <td>Sedans</td>\n",
              "      <td>15770.000</td>\n",
              "      <td>VAT deductible</td>\n",
              "      <td>56013.000</td>\n",
              "      <td>2016.000</td>\n",
              "      <td>2.000</td>\n",
              "      <td>66.000</td>\n",
              "      <td>Used</td>\n",
              "      <td>2.000</td>\n",
              "      <td>NaN</td>\n",
              "      <td>Audi</td>\n",
              "      <td>A1</td>\n",
              "      <td>Black</td>\n",
              "      <td>Metallic</td>\n",
              "      <td>Mythosschwarz</td>\n",
              "      <td>Cloth</td>\n",
              "      <td>5.000</td>\n",
              "      <td>5.000</td>\n",
              "      <td>Automatic</td>\n",
              "      <td>1422.000</td>\n",
              "      <td>3.000</td>\n",
              "      <td>1220.000</td>\n",
              "      <td>front</td>\n",
              "      <td>Diesel</td>\n",
              "      <td>99.000</td>\n",
              "      <td>Euro 6</td>\n",
              "      <td>Air conditioning,Armrest,Automatic climate con...</td>\n",
              "      <td>Bluetooth,Hands-free equipment,On-board comput...</td>\n",
              "      <td>Alloy wheels,Catalytic Converter,Voice Control</td>\n",
              "      <td>ABS,Central door lock,Daytime running lights,D...</td>\n",
              "      <td>NaN</td>\n",
              "      <td>NaN</td>\n",
              "      <td>3.800</td>\n",
              "      <td>4.300</td>\n",
              "      <td>3.500</td>\n",
              "    </tr>\n",
              "    <tr>\n",
              "      <th>1</th>\n",
              "      <td>1.8 TFSI sport</td>\n",
              "      <td>Sedans</td>\n",
              "      <td>14500.000</td>\n",
              "      <td>Price negotiable</td>\n",
              "      <td>80000.000</td>\n",
              "      <td>2017.000</td>\n",
              "      <td>NaN</td>\n",
              "      <td>141.000</td>\n",
              "      <td>Used</td>\n",
              "      <td>NaN</td>\n",
              "      <td>NaN</td>\n",
              "      <td>Audi</td>\n",
              "      <td>A1</td>\n",
              "      <td>Red</td>\n",
              "      <td>NaN</td>\n",
              "      <td>NaN</td>\n",
              "      <td>Cloth</td>\n",
              "      <td>3.000</td>\n",
              "      <td>4.000</td>\n",
              "      <td>Automatic</td>\n",
              "      <td>1798.000</td>\n",
              "      <td>4.000</td>\n",
              "      <td>1255.000</td>\n",
              "      <td>front</td>\n",
              "      <td>Benzine</td>\n",
              "      <td>129.000</td>\n",
              "      <td>Euro 6</td>\n",
              "      <td>Air conditioning,Automatic climate control,Hil...</td>\n",
              "      <td>Bluetooth,Hands-free equipment,On-board comput...</td>\n",
              "      <td>Alloy wheels,Sport seats,Sport suspension,Voic...</td>\n",
              "      <td>ABS,Central door lock,Central door lock with r...</td>\n",
              "      <td>7.000</td>\n",
              "      <td>NaN</td>\n",
              "      <td>5.600</td>\n",
              "      <td>7.100</td>\n",
              "      <td>4.700</td>\n",
              "    </tr>\n",
              "    <tr>\n",
              "      <th>2</th>\n",
              "      <td>Sportback 1.6 TDI S tronic Einparkhilfe plus+m...</td>\n",
              "      <td>Sedans</td>\n",
              "      <td>14640.000</td>\n",
              "      <td>VAT deductible</td>\n",
              "      <td>83450.000</td>\n",
              "      <td>2016.000</td>\n",
              "      <td>1.000</td>\n",
              "      <td>85.000</td>\n",
              "      <td>Used</td>\n",
              "      <td>1.000</td>\n",
              "      <td>NaN</td>\n",
              "      <td>Audi</td>\n",
              "      <td>A1</td>\n",
              "      <td>Black</td>\n",
              "      <td>Metallic</td>\n",
              "      <td>mythosschwarz metallic</td>\n",
              "      <td>Cloth</td>\n",
              "      <td>4.000</td>\n",
              "      <td>4.000</td>\n",
              "      <td>Automatic</td>\n",
              "      <td>1598.000</td>\n",
              "      <td>NaN</td>\n",
              "      <td>NaN</td>\n",
              "      <td>front</td>\n",
              "      <td>Diesel</td>\n",
              "      <td>99.000</td>\n",
              "      <td>Euro 6</td>\n",
              "      <td>Air conditioning,Cruise control,Electrical sid...</td>\n",
              "      <td>MP3,On-board computer</td>\n",
              "      <td>Alloy wheels,Voice Control</td>\n",
              "      <td>ABS,Central door lock,Daytime running lights,D...</td>\n",
              "      <td>NaN</td>\n",
              "      <td>NaN</td>\n",
              "      <td>3.800</td>\n",
              "      <td>4.400</td>\n",
              "      <td>3.400</td>\n",
              "    </tr>\n",
              "    <tr>\n",
              "      <th>3</th>\n",
              "      <td>1.4 TDi Design S tronic</td>\n",
              "      <td>Sedans</td>\n",
              "      <td>14500.000</td>\n",
              "      <td>NaN</td>\n",
              "      <td>73000.000</td>\n",
              "      <td>2016.000</td>\n",
              "      <td>1.000</td>\n",
              "      <td>66.000</td>\n",
              "      <td>Used</td>\n",
              "      <td>1.000</td>\n",
              "      <td>NaN</td>\n",
              "      <td>Audi</td>\n",
              "      <td>A1</td>\n",
              "      <td>Brown</td>\n",
              "      <td>Metallic</td>\n",
              "      <td>NaN</td>\n",
              "      <td>NaN</td>\n",
              "      <td>3.000</td>\n",
              "      <td>4.000</td>\n",
              "      <td>Automatic</td>\n",
              "      <td>1422.000</td>\n",
              "      <td>3.000</td>\n",
              "      <td>1195.000</td>\n",
              "      <td>NaN</td>\n",
              "      <td>Diesel</td>\n",
              "      <td>99.000</td>\n",
              "      <td>Euro 6</td>\n",
              "      <td>Air suspension,Armrest,Auxiliary heating,Elect...</td>\n",
              "      <td>Bluetooth,CD player,Hands-free equipment,MP3,O...</td>\n",
              "      <td>Alloy wheels,Sport seats,Voice Control</td>\n",
              "      <td>ABS,Alarm system,Central door lock with remote...</td>\n",
              "      <td>6.000</td>\n",
              "      <td>NaN</td>\n",
              "      <td>3.800</td>\n",
              "      <td>4.300</td>\n",
              "      <td>3.500</td>\n",
              "    </tr>\n",
              "    <tr>\n",
              "      <th>4</th>\n",
              "      <td>Sportback 1.4 TDI S-Tronic S-Line Ext. admired...</td>\n",
              "      <td>Sedans</td>\n",
              "      <td>16790.000</td>\n",
              "      <td>NaN</td>\n",
              "      <td>16200.000</td>\n",
              "      <td>2016.000</td>\n",
              "      <td>1.000</td>\n",
              "      <td>66.000</td>\n",
              "      <td>Used</td>\n",
              "      <td>1.000</td>\n",
              "      <td>NaN</td>\n",
              "      <td>Audi</td>\n",
              "      <td>A1</td>\n",
              "      <td>Black</td>\n",
              "      <td>Metallic</td>\n",
              "      <td>Mythosschwarz Metallic</td>\n",
              "      <td>Cloth</td>\n",
              "      <td>5.000</td>\n",
              "      <td>5.000</td>\n",
              "      <td>Automatic</td>\n",
              "      <td>1422.000</td>\n",
              "      <td>3.000</td>\n",
              "      <td>NaN</td>\n",
              "      <td>front</td>\n",
              "      <td>Diesel</td>\n",
              "      <td>109.000</td>\n",
              "      <td>Euro 6</td>\n",
              "      <td>Air conditioning,Armrest,Automatic climate con...</td>\n",
              "      <td>Bluetooth,CD player,Hands-free equipment,MP3,O...</td>\n",
              "      <td>Alloy wheels,Sport package,Sport suspension,Vo...</td>\n",
              "      <td>ABS,Central door lock,Driver-side airbag,Elect...</td>\n",
              "      <td>NaN</td>\n",
              "      <td>Germany</td>\n",
              "      <td>4.100</td>\n",
              "      <td>4.600</td>\n",
              "      <td>3.800</td>\n",
              "    </tr>\n",
              "  </tbody>\n",
              "</table>\n",
              "</div>\n",
              "      <button class=\"colab-df-convert\" onclick=\"convertToInteractive('df-8b677774-8d97-4db5-925a-f1099c521bdb')\"\n",
              "              title=\"Convert this dataframe to an interactive table.\"\n",
              "              style=\"display:none;\">\n",
              "        \n",
              "  <svg xmlns=\"http://www.w3.org/2000/svg\" height=\"24px\"viewBox=\"0 0 24 24\"\n",
              "       width=\"24px\">\n",
              "    <path d=\"M0 0h24v24H0V0z\" fill=\"none\"/>\n",
              "    <path d=\"M18.56 5.44l.94 2.06.94-2.06 2.06-.94-2.06-.94-.94-2.06-.94 2.06-2.06.94zm-11 1L8.5 8.5l.94-2.06 2.06-.94-2.06-.94L8.5 2.5l-.94 2.06-2.06.94zm10 10l.94 2.06.94-2.06 2.06-.94-2.06-.94-.94-2.06-.94 2.06-2.06.94z\"/><path d=\"M17.41 7.96l-1.37-1.37c-.4-.4-.92-.59-1.43-.59-.52 0-1.04.2-1.43.59L10.3 9.45l-7.72 7.72c-.78.78-.78 2.05 0 2.83L4 21.41c.39.39.9.59 1.41.59.51 0 1.02-.2 1.41-.59l7.78-7.78 2.81-2.81c.8-.78.8-2.07 0-2.86zM5.41 20L4 18.59l7.72-7.72 1.47 1.35L5.41 20z\"/>\n",
              "  </svg>\n",
              "      </button>\n",
              "      \n",
              "  <style>\n",
              "    .colab-df-container {\n",
              "      display:flex;\n",
              "      flex-wrap:wrap;\n",
              "      gap: 12px;\n",
              "    }\n",
              "\n",
              "    .colab-df-convert {\n",
              "      background-color: #E8F0FE;\n",
              "      border: none;\n",
              "      border-radius: 50%;\n",
              "      cursor: pointer;\n",
              "      display: none;\n",
              "      fill: #1967D2;\n",
              "      height: 32px;\n",
              "      padding: 0 0 0 0;\n",
              "      width: 32px;\n",
              "    }\n",
              "\n",
              "    .colab-df-convert:hover {\n",
              "      background-color: #E2EBFA;\n",
              "      box-shadow: 0px 1px 2px rgba(60, 64, 67, 0.3), 0px 1px 3px 1px rgba(60, 64, 67, 0.15);\n",
              "      fill: #174EA6;\n",
              "    }\n",
              "\n",
              "    [theme=dark] .colab-df-convert {\n",
              "      background-color: #3B4455;\n",
              "      fill: #D2E3FC;\n",
              "    }\n",
              "\n",
              "    [theme=dark] .colab-df-convert:hover {\n",
              "      background-color: #434B5C;\n",
              "      box-shadow: 0px 1px 3px 1px rgba(0, 0, 0, 0.15);\n",
              "      filter: drop-shadow(0px 1px 2px rgba(0, 0, 0, 0.3));\n",
              "      fill: #FFFFFF;\n",
              "    }\n",
              "  </style>\n",
              "\n",
              "      <script>\n",
              "        const buttonEl =\n",
              "          document.querySelector('#df-8b677774-8d97-4db5-925a-f1099c521bdb button.colab-df-convert');\n",
              "        buttonEl.style.display =\n",
              "          google.colab.kernel.accessAllowed ? 'block' : 'none';\n",
              "\n",
              "        async function convertToInteractive(key) {\n",
              "          const element = document.querySelector('#df-8b677774-8d97-4db5-925a-f1099c521bdb');\n",
              "          const dataTable =\n",
              "            await google.colab.kernel.invokeFunction('convertToInteractive',\n",
              "                                                     [key], {});\n",
              "          if (!dataTable) return;\n",
              "\n",
              "          const docLinkHtml = 'Like what you see? Visit the ' +\n",
              "            '<a target=\"_blank\" href=https://colab.research.google.com/notebooks/data_table.ipynb>data table notebook</a>'\n",
              "            + ' to learn more about interactive tables.';\n",
              "          element.innerHTML = '';\n",
              "          dataTable['output_type'] = 'display_data';\n",
              "          await google.colab.output.renderOutput(dataTable, element);\n",
              "          const docLink = document.createElement('div');\n",
              "          docLink.innerHTML = docLinkHtml;\n",
              "          element.appendChild(docLink);\n",
              "        }\n",
              "      </script>\n",
              "    </div>\n",
              "  </div>\n",
              "  "
            ]
          },
          "metadata": {},
          "execution_count": 3
        }
      ]
    },
    {
      "cell_type": "code",
      "source": [
        "df.shape"
      ],
      "metadata": {
        "colab": {
          "base_uri": "https://localhost:8080/"
        },
        "id": "9L4A2T4NPdvN",
        "outputId": "59eb323e-73b8-4459-baf0-6653368275a2"
      },
      "execution_count": 4,
      "outputs": [
        {
          "output_type": "execute_result",
          "data": {
            "text/plain": [
              "(15919, 36)"
            ]
          },
          "metadata": {},
          "execution_count": 4
        }
      ]
    },
    {
      "cell_type": "code",
      "source": [
        "df.info()"
      ],
      "metadata": {
        "colab": {
          "base_uri": "https://localhost:8080/"
        },
        "id": "NQ2uSSXJPdyM",
        "outputId": "8803a522-651b-4f5a-d4af-3247bb276f84"
      },
      "execution_count": 5,
      "outputs": [
        {
          "output_type": "stream",
          "name": "stdout",
          "text": [
            "<class 'pandas.core.frame.DataFrame'>\n",
            "RangeIndex: 15919 entries, 0 to 15918\n",
            "Data columns (total 36 columns):\n",
            " #   Column                  Non-Null Count  Dtype  \n",
            "---  ------                  --------------  -----  \n",
            " 0   short_description       15873 non-null  object \n",
            " 1   body_type               15859 non-null  object \n",
            " 2   price_€                 15919 non-null  float64\n",
            " 3   vat                     11406 non-null  object \n",
            " 4   km                      14895 non-null  float64\n",
            " 5   registration            14322 non-null  float64\n",
            " 6   prev_owner              9091 non-null   float64\n",
            " 7   hp_kW                   15831 non-null  float64\n",
            " 8   type                    15917 non-null  object \n",
            " 9   previous_owners         9279 non-null   float64\n",
            " 10  warranty                4853 non-null   float64\n",
            " 11  make                    15919 non-null  object \n",
            " 12  model                   15919 non-null  object \n",
            " 13  body_color              15322 non-null  object \n",
            " 14  paint_type              10147 non-null  object \n",
            " 15  body_color_original     12145 non-null  object \n",
            " 16  upholstery              12199 non-null  object \n",
            " 17  nr._of_doors            15707 non-null  float64\n",
            " 18  nr._of_seats            14942 non-null  float64\n",
            " 19  gearing_type            15919 non-null  object \n",
            " 20  engine_displacement_cc  15423 non-null  float64\n",
            " 21  cylinders               10239 non-null  float64\n",
            " 22  weight_kg               8945 non-null   float64\n",
            " 23  drive_chain             9061 non-null   object \n",
            " 24  fuel                    15919 non-null  object \n",
            " 25  co2e_g                  13477 non-null  float64\n",
            " 26  emission_class          12291 non-null  object \n",
            " 27  comfort&convenience     14999 non-null  object \n",
            " 28  entertainment&media     14545 non-null  object \n",
            " 29  extras                  12957 non-null  object \n",
            " 30  safety_&_security       14937 non-null  object \n",
            " 31  gears                   11207 non-null  float64\n",
            " 32  country_version         7586 non-null   object \n",
            " 33  consumption_comb        12129 non-null  float64\n",
            " 34  consumption_city        11880 non-null  float64\n",
            " 35  consumption_country     12554 non-null  float64\n",
            "dtypes: float64(17), object(19)\n",
            "memory usage: 4.4+ MB\n"
          ]
        }
      ]
    },
    {
      "cell_type": "code",
      "source": [
        "df.isnull().sum()"
      ],
      "metadata": {
        "colab": {
          "base_uri": "https://localhost:8080/"
        },
        "id": "lmlUaZVyPd09",
        "outputId": "e0378286-d568-4442-e8ac-278088223b15"
      },
      "execution_count": 6,
      "outputs": [
        {
          "output_type": "execute_result",
          "data": {
            "text/plain": [
              "short_description            46\n",
              "body_type                    60\n",
              "price_€                       0\n",
              "vat                        4513\n",
              "km                         1024\n",
              "registration               1597\n",
              "prev_owner                 6828\n",
              "hp_kW                        88\n",
              "type                          2\n",
              "previous_owners            6640\n",
              "warranty                  11066\n",
              "make                          0\n",
              "model                         0\n",
              "body_color                  597\n",
              "paint_type                 5772\n",
              "body_color_original        3774\n",
              "upholstery                 3720\n",
              "nr._of_doors                212\n",
              "nr._of_seats                977\n",
              "gearing_type                  0\n",
              "engine_displacement_cc      496\n",
              "cylinders                  5680\n",
              "weight_kg                  6974\n",
              "drive_chain                6858\n",
              "fuel                          0\n",
              "co2e_g                     2442\n",
              "emission_class             3628\n",
              "comfort&convenience         920\n",
              "entertainment&media        1374\n",
              "extras                     2962\n",
              "safety_&_security           982\n",
              "gears                      4712\n",
              "country_version            8333\n",
              "consumption_comb           3790\n",
              "consumption_city           4039\n",
              "consumption_country        3365\n",
              "dtype: int64"
            ]
          },
          "metadata": {},
          "execution_count": 6
        }
      ]
    },
    {
      "cell_type": "code",
      "source": [
        "df.duplicated().value_counts()"
      ],
      "metadata": {
        "colab": {
          "base_uri": "https://localhost:8080/"
        },
        "id": "WQu385LFPd3y",
        "outputId": "c88f754d-0156-49ea-8f4c-9a2e38f6b74e"
      },
      "execution_count": 7,
      "outputs": [
        {
          "output_type": "execute_result",
          "data": {
            "text/plain": [
              "False    14476\n",
              "True      1443\n",
              "dtype: int64"
            ]
          },
          "metadata": {},
          "execution_count": 7
        }
      ]
    },
    {
      "cell_type": "code",
      "source": [
        "df.describe().T"
      ],
      "metadata": {
        "colab": {
          "base_uri": "https://localhost:8080/",
          "height": 582
        },
        "id": "QIiIyMAwPd6i",
        "outputId": "c5fb5721-25d6-48cb-ca77-0d6ff2c203b2"
      },
      "execution_count": 8,
      "outputs": [
        {
          "output_type": "execute_result",
          "data": {
            "text/plain": [
              "                           count      mean       std      min       25%  \\\n",
              "price_€                15919.000 18019.897  7386.169   13.000 12850.000   \n",
              "km                     14895.000 34130.128 37352.978    0.000  5153.000   \n",
              "registration           14322.000  2017.458     1.077 2016.000  2016.000   \n",
              "prev_owner              9091.000     1.090     0.295    1.000     1.000   \n",
              "hp_kW                  15831.000    88.368    26.835    1.000    66.000   \n",
              "previous_owners         9279.000     1.068     0.330    0.000     1.000   \n",
              "warranty                4853.000    21.927    15.771    1.000    12.000   \n",
              "nr._of_doors           15707.000     4.656     0.645    1.000     4.000   \n",
              "nr._of_seats           14942.000     4.950     0.490    2.000     5.000   \n",
              "engine_displacement_cc 15423.000  1423.541   333.531    1.000  1229.000   \n",
              "cylinders              10239.000     3.797     0.415    1.000     4.000   \n",
              "weight_kg               8945.000  1351.107   220.662    1.000  1165.000   \n",
              "co2e_g                 13477.000   123.794   270.000   14.000   104.000   \n",
              "gears                  11207.000     5.925     0.848    1.000     5.000   \n",
              "consumption_comb       12129.000     4.861     0.906    1.200     4.200   \n",
              "consumption_city       11880.000     5.973     1.409    3.300     4.700   \n",
              "consumption_country    12554.000     4.214     0.676    2.900     3.700   \n",
              "\n",
              "                             50%       75%        max  \n",
              "price_€                16900.000 21900.000  74600.000  \n",
              "km                     22740.000 49371.500 317000.000  \n",
              "registration            2018.000  2018.000   2019.000  \n",
              "prev_owner                 1.000     1.000      4.000  \n",
              "hp_kW                     85.000   101.000    294.000  \n",
              "previous_owners            1.000     1.000      4.000  \n",
              "warranty                  12.000    24.000     72.000  \n",
              "nr._of_doors               5.000     5.000      7.000  \n",
              "nr._of_seats               5.000     5.000      7.000  \n",
              "engine_displacement_cc  1461.000  1598.000  16000.000  \n",
              "cylinders                  4.000     4.000      8.000  \n",
              "weight_kg               1288.000  1487.000   2471.000  \n",
              "co2e_g                   116.000   129.000  14457.000  \n",
              "gears                      6.000     6.000     50.000  \n",
              "consumption_comb           4.800     5.500     13.800  \n",
              "consumption_city           5.800     7.100     19.900  \n",
              "consumption_country        4.200     4.600     10.300  "
            ],
            "text/html": [
              "\n",
              "  <div id=\"df-9d4f445d-f8e6-44d3-96f9-b78162ab520e\">\n",
              "    <div class=\"colab-df-container\">\n",
              "      <div>\n",
              "<style scoped>\n",
              "    .dataframe tbody tr th:only-of-type {\n",
              "        vertical-align: middle;\n",
              "    }\n",
              "\n",
              "    .dataframe tbody tr th {\n",
              "        vertical-align: top;\n",
              "    }\n",
              "\n",
              "    .dataframe thead th {\n",
              "        text-align: right;\n",
              "    }\n",
              "</style>\n",
              "<table border=\"1\" class=\"dataframe\">\n",
              "  <thead>\n",
              "    <tr style=\"text-align: right;\">\n",
              "      <th></th>\n",
              "      <th>count</th>\n",
              "      <th>mean</th>\n",
              "      <th>std</th>\n",
              "      <th>min</th>\n",
              "      <th>25%</th>\n",
              "      <th>50%</th>\n",
              "      <th>75%</th>\n",
              "      <th>max</th>\n",
              "    </tr>\n",
              "  </thead>\n",
              "  <tbody>\n",
              "    <tr>\n",
              "      <th>price_€</th>\n",
              "      <td>15919.000</td>\n",
              "      <td>18019.897</td>\n",
              "      <td>7386.169</td>\n",
              "      <td>13.000</td>\n",
              "      <td>12850.000</td>\n",
              "      <td>16900.000</td>\n",
              "      <td>21900.000</td>\n",
              "      <td>74600.000</td>\n",
              "    </tr>\n",
              "    <tr>\n",
              "      <th>km</th>\n",
              "      <td>14895.000</td>\n",
              "      <td>34130.128</td>\n",
              "      <td>37352.978</td>\n",
              "      <td>0.000</td>\n",
              "      <td>5153.000</td>\n",
              "      <td>22740.000</td>\n",
              "      <td>49371.500</td>\n",
              "      <td>317000.000</td>\n",
              "    </tr>\n",
              "    <tr>\n",
              "      <th>registration</th>\n",
              "      <td>14322.000</td>\n",
              "      <td>2017.458</td>\n",
              "      <td>1.077</td>\n",
              "      <td>2016.000</td>\n",
              "      <td>2016.000</td>\n",
              "      <td>2018.000</td>\n",
              "      <td>2018.000</td>\n",
              "      <td>2019.000</td>\n",
              "    </tr>\n",
              "    <tr>\n",
              "      <th>prev_owner</th>\n",
              "      <td>9091.000</td>\n",
              "      <td>1.090</td>\n",
              "      <td>0.295</td>\n",
              "      <td>1.000</td>\n",
              "      <td>1.000</td>\n",
              "      <td>1.000</td>\n",
              "      <td>1.000</td>\n",
              "      <td>4.000</td>\n",
              "    </tr>\n",
              "    <tr>\n",
              "      <th>hp_kW</th>\n",
              "      <td>15831.000</td>\n",
              "      <td>88.368</td>\n",
              "      <td>26.835</td>\n",
              "      <td>1.000</td>\n",
              "      <td>66.000</td>\n",
              "      <td>85.000</td>\n",
              "      <td>101.000</td>\n",
              "      <td>294.000</td>\n",
              "    </tr>\n",
              "    <tr>\n",
              "      <th>previous_owners</th>\n",
              "      <td>9279.000</td>\n",
              "      <td>1.068</td>\n",
              "      <td>0.330</td>\n",
              "      <td>0.000</td>\n",
              "      <td>1.000</td>\n",
              "      <td>1.000</td>\n",
              "      <td>1.000</td>\n",
              "      <td>4.000</td>\n",
              "    </tr>\n",
              "    <tr>\n",
              "      <th>warranty</th>\n",
              "      <td>4853.000</td>\n",
              "      <td>21.927</td>\n",
              "      <td>15.771</td>\n",
              "      <td>1.000</td>\n",
              "      <td>12.000</td>\n",
              "      <td>12.000</td>\n",
              "      <td>24.000</td>\n",
              "      <td>72.000</td>\n",
              "    </tr>\n",
              "    <tr>\n",
              "      <th>nr._of_doors</th>\n",
              "      <td>15707.000</td>\n",
              "      <td>4.656</td>\n",
              "      <td>0.645</td>\n",
              "      <td>1.000</td>\n",
              "      <td>4.000</td>\n",
              "      <td>5.000</td>\n",
              "      <td>5.000</td>\n",
              "      <td>7.000</td>\n",
              "    </tr>\n",
              "    <tr>\n",
              "      <th>nr._of_seats</th>\n",
              "      <td>14942.000</td>\n",
              "      <td>4.950</td>\n",
              "      <td>0.490</td>\n",
              "      <td>2.000</td>\n",
              "      <td>5.000</td>\n",
              "      <td>5.000</td>\n",
              "      <td>5.000</td>\n",
              "      <td>7.000</td>\n",
              "    </tr>\n",
              "    <tr>\n",
              "      <th>engine_displacement_cc</th>\n",
              "      <td>15423.000</td>\n",
              "      <td>1423.541</td>\n",
              "      <td>333.531</td>\n",
              "      <td>1.000</td>\n",
              "      <td>1229.000</td>\n",
              "      <td>1461.000</td>\n",
              "      <td>1598.000</td>\n",
              "      <td>16000.000</td>\n",
              "    </tr>\n",
              "    <tr>\n",
              "      <th>cylinders</th>\n",
              "      <td>10239.000</td>\n",
              "      <td>3.797</td>\n",
              "      <td>0.415</td>\n",
              "      <td>1.000</td>\n",
              "      <td>4.000</td>\n",
              "      <td>4.000</td>\n",
              "      <td>4.000</td>\n",
              "      <td>8.000</td>\n",
              "    </tr>\n",
              "    <tr>\n",
              "      <th>weight_kg</th>\n",
              "      <td>8945.000</td>\n",
              "      <td>1351.107</td>\n",
              "      <td>220.662</td>\n",
              "      <td>1.000</td>\n",
              "      <td>1165.000</td>\n",
              "      <td>1288.000</td>\n",
              "      <td>1487.000</td>\n",
              "      <td>2471.000</td>\n",
              "    </tr>\n",
              "    <tr>\n",
              "      <th>co2e_g</th>\n",
              "      <td>13477.000</td>\n",
              "      <td>123.794</td>\n",
              "      <td>270.000</td>\n",
              "      <td>14.000</td>\n",
              "      <td>104.000</td>\n",
              "      <td>116.000</td>\n",
              "      <td>129.000</td>\n",
              "      <td>14457.000</td>\n",
              "    </tr>\n",
              "    <tr>\n",
              "      <th>gears</th>\n",
              "      <td>11207.000</td>\n",
              "      <td>5.925</td>\n",
              "      <td>0.848</td>\n",
              "      <td>1.000</td>\n",
              "      <td>5.000</td>\n",
              "      <td>6.000</td>\n",
              "      <td>6.000</td>\n",
              "      <td>50.000</td>\n",
              "    </tr>\n",
              "    <tr>\n",
              "      <th>consumption_comb</th>\n",
              "      <td>12129.000</td>\n",
              "      <td>4.861</td>\n",
              "      <td>0.906</td>\n",
              "      <td>1.200</td>\n",
              "      <td>4.200</td>\n",
              "      <td>4.800</td>\n",
              "      <td>5.500</td>\n",
              "      <td>13.800</td>\n",
              "    </tr>\n",
              "    <tr>\n",
              "      <th>consumption_city</th>\n",
              "      <td>11880.000</td>\n",
              "      <td>5.973</td>\n",
              "      <td>1.409</td>\n",
              "      <td>3.300</td>\n",
              "      <td>4.700</td>\n",
              "      <td>5.800</td>\n",
              "      <td>7.100</td>\n",
              "      <td>19.900</td>\n",
              "    </tr>\n",
              "    <tr>\n",
              "      <th>consumption_country</th>\n",
              "      <td>12554.000</td>\n",
              "      <td>4.214</td>\n",
              "      <td>0.676</td>\n",
              "      <td>2.900</td>\n",
              "      <td>3.700</td>\n",
              "      <td>4.200</td>\n",
              "      <td>4.600</td>\n",
              "      <td>10.300</td>\n",
              "    </tr>\n",
              "  </tbody>\n",
              "</table>\n",
              "</div>\n",
              "      <button class=\"colab-df-convert\" onclick=\"convertToInteractive('df-9d4f445d-f8e6-44d3-96f9-b78162ab520e')\"\n",
              "              title=\"Convert this dataframe to an interactive table.\"\n",
              "              style=\"display:none;\">\n",
              "        \n",
              "  <svg xmlns=\"http://www.w3.org/2000/svg\" height=\"24px\"viewBox=\"0 0 24 24\"\n",
              "       width=\"24px\">\n",
              "    <path d=\"M0 0h24v24H0V0z\" fill=\"none\"/>\n",
              "    <path d=\"M18.56 5.44l.94 2.06.94-2.06 2.06-.94-2.06-.94-.94-2.06-.94 2.06-2.06.94zm-11 1L8.5 8.5l.94-2.06 2.06-.94-2.06-.94L8.5 2.5l-.94 2.06-2.06.94zm10 10l.94 2.06.94-2.06 2.06-.94-2.06-.94-.94-2.06-.94 2.06-2.06.94z\"/><path d=\"M17.41 7.96l-1.37-1.37c-.4-.4-.92-.59-1.43-.59-.52 0-1.04.2-1.43.59L10.3 9.45l-7.72 7.72c-.78.78-.78 2.05 0 2.83L4 21.41c.39.39.9.59 1.41.59.51 0 1.02-.2 1.41-.59l7.78-7.78 2.81-2.81c.8-.78.8-2.07 0-2.86zM5.41 20L4 18.59l7.72-7.72 1.47 1.35L5.41 20z\"/>\n",
              "  </svg>\n",
              "      </button>\n",
              "      \n",
              "  <style>\n",
              "    .colab-df-container {\n",
              "      display:flex;\n",
              "      flex-wrap:wrap;\n",
              "      gap: 12px;\n",
              "    }\n",
              "\n",
              "    .colab-df-convert {\n",
              "      background-color: #E8F0FE;\n",
              "      border: none;\n",
              "      border-radius: 50%;\n",
              "      cursor: pointer;\n",
              "      display: none;\n",
              "      fill: #1967D2;\n",
              "      height: 32px;\n",
              "      padding: 0 0 0 0;\n",
              "      width: 32px;\n",
              "    }\n",
              "\n",
              "    .colab-df-convert:hover {\n",
              "      background-color: #E2EBFA;\n",
              "      box-shadow: 0px 1px 2px rgba(60, 64, 67, 0.3), 0px 1px 3px 1px rgba(60, 64, 67, 0.15);\n",
              "      fill: #174EA6;\n",
              "    }\n",
              "\n",
              "    [theme=dark] .colab-df-convert {\n",
              "      background-color: #3B4455;\n",
              "      fill: #D2E3FC;\n",
              "    }\n",
              "\n",
              "    [theme=dark] .colab-df-convert:hover {\n",
              "      background-color: #434B5C;\n",
              "      box-shadow: 0px 1px 3px 1px rgba(0, 0, 0, 0.15);\n",
              "      filter: drop-shadow(0px 1px 2px rgba(0, 0, 0, 0.3));\n",
              "      fill: #FFFFFF;\n",
              "    }\n",
              "  </style>\n",
              "\n",
              "      <script>\n",
              "        const buttonEl =\n",
              "          document.querySelector('#df-9d4f445d-f8e6-44d3-96f9-b78162ab520e button.colab-df-convert');\n",
              "        buttonEl.style.display =\n",
              "          google.colab.kernel.accessAllowed ? 'block' : 'none';\n",
              "\n",
              "        async function convertToInteractive(key) {\n",
              "          const element = document.querySelector('#df-9d4f445d-f8e6-44d3-96f9-b78162ab520e');\n",
              "          const dataTable =\n",
              "            await google.colab.kernel.invokeFunction('convertToInteractive',\n",
              "                                                     [key], {});\n",
              "          if (!dataTable) return;\n",
              "\n",
              "          const docLinkHtml = 'Like what you see? Visit the ' +\n",
              "            '<a target=\"_blank\" href=https://colab.research.google.com/notebooks/data_table.ipynb>data table notebook</a>'\n",
              "            + ' to learn more about interactive tables.';\n",
              "          element.innerHTML = '';\n",
              "          dataTable['output_type'] = 'display_data';\n",
              "          await google.colab.output.renderOutput(dataTable, element);\n",
              "          const docLink = document.createElement('div');\n",
              "          docLink.innerHTML = docLinkHtml;\n",
              "          element.appendChild(docLink);\n",
              "        }\n",
              "      </script>\n",
              "    </div>\n",
              "  </div>\n",
              "  "
            ]
          },
          "metadata": {},
          "execution_count": 8
        }
      ]
    },
    {
      "cell_type": "code",
      "source": [
        "def check_df(col):\n",
        "    print('column name : ', col)\n",
        "    print('--------------------------------')\n",
        "    print('Per_of_Nulls   : ', '%', round(df[col].isnull().sum() / df.shape[0]*100, 2))\n",
        "    print('Num_of_Nulls   : ', df[col].isnull().sum())\n",
        "    print(df[col].value_counts(dropna = False))\n",
        "    print(\"*\"*30)\n",
        "    print(\"\\n\\n\")"
      ],
      "metadata": {
        "id": "MsgsIZc1Pd9d"
      },
      "execution_count": 10,
      "outputs": []
    },
    {
      "cell_type": "code",
      "source": [
        "check_df(\"body_type\")"
      ],
      "metadata": {
        "colab": {
          "base_uri": "https://localhost:8080/"
        },
        "id": "9WbH10apPeAa",
        "outputId": "c1ab1ab5-cddf-441e-e7cd-35d171fc6868"
      },
      "execution_count": 11,
      "outputs": [
        {
          "output_type": "stream",
          "name": "stdout",
          "text": [
            "column name :  body_type\n",
            "--------------------------------\n",
            "Per_of_Nulls   :  % 0.38\n",
            "Num_of_Nulls   :  60\n",
            "Sedans           7903\n",
            "Station wagon    3553\n",
            "Compact          3153\n",
            "Van               783\n",
            "Other             290\n",
            "Transporter        88\n",
            "NaN                60\n",
            "Off-Road           56\n",
            "Coupe              25\n",
            "Convertible         8\n",
            "Name: body_type, dtype: int64\n",
            "******************************\n",
            "\n",
            "\n",
            "\n"
          ]
        }
      ]
    },
    {
      "cell_type": "code",
      "source": [
        "df[df.body_type.isnull()].sample(5)"
      ],
      "metadata": {
        "colab": {
          "base_uri": "https://localhost:8080/",
          "height": 426
        },
        "id": "8KvkQj9KPeDS",
        "outputId": "bc726a0f-e07e-48bc-8e1a-9e4c0e1ba35c"
      },
      "execution_count": 12,
      "outputs": [
        {
          "output_type": "execute_result",
          "data": {
            "text/plain": [
              "                              short_description body_type   price_€  \\\n",
              "14480                                 1.2i Life       NaN 10000.000   \n",
              "15556           V Espace Zen Dci 160 Energy Edc       NaN 30160.000   \n",
              "15696  1.6 dci energy Executive 160cv 7p.ti edc       NaN 38200.000   \n",
              "6927            1.6 CDTi 81kW (110CV) Selective       NaN 11990.000   \n",
              "13470           Limited 1.2 16v 55kW (75CV) -18       NaN  8490.000   \n",
              "\n",
              "                  vat        km  registration  prev_owner   hp_kW  \\\n",
              "14480             NaN  8000.000      2018.000         NaN  54.000   \n",
              "15556             NaN    10.000           NaN         NaN 118.000   \n",
              "15696  VAT deductible     1.000      2019.000         NaN 118.000   \n",
              "6927              NaN 64000.000      2017.000         NaN  81.000   \n",
              "13470             NaN 39990.000      2018.000         NaN  55.000   \n",
              "\n",
              "                 type  previous_owners  warranty     make   model body_color  \\\n",
              "14480            Used              NaN       NaN  Renault    Clio        Red   \n",
              "15556            Used              NaN       NaN  Renault  Espace       Grey   \n",
              "15696  Pre-registered              NaN       NaN  Renault  Espace      Black   \n",
              "6927             Used              NaN       NaN     Opel   Astra      Black   \n",
              "13470            Used              NaN       NaN  Renault    Clio      White   \n",
              "\n",
              "      paint_type body_color_original upholstery  nr._of_doors  nr._of_seats  \\\n",
              "14480        NaN                 NaN      Cloth         5.000         5.000   \n",
              "15556        NaN                Gris        NaN         5.000           NaN   \n",
              "15696   Metallic                Nero        NaN         5.000         7.000   \n",
              "6927         NaN                 NaN        NaN         5.000           NaN   \n",
              "13470        NaN                 NaN        NaN         5.000           NaN   \n",
              "\n",
              "      gearing_type  engine_displacement_cc  cylinders  weight_kg drive_chain  \\\n",
              "14480       Manual                     NaN      5.000   1134.000         NaN   \n",
              "15556    Automatic                1598.000      4.000        NaN         NaN   \n",
              "15696    Automatic                1598.000      4.000        NaN         NaN   \n",
              "6927        Manual                     NaN        NaN        NaN         NaN   \n",
              "13470       Manual                     NaN        NaN        NaN         NaN   \n",
              "\n",
              "          fuel  co2e_g emission_class  \\\n",
              "14480  Benzine 127.000         Euro 4   \n",
              "15556   Diesel 120.000            NaN   \n",
              "15696   Diesel 123.000         Euro 6   \n",
              "6927    Diesel  97.000            NaN   \n",
              "13470  Benzine     NaN            NaN   \n",
              "\n",
              "                                     comfort&convenience  \\\n",
              "14480  Air conditioning,Cruise control,Electrical sid...   \n",
              "15556                                                NaN   \n",
              "15696  Air conditioning,Automatic climate control,Cru...   \n",
              "6927                                    Air conditioning   \n",
              "13470  Air conditioning,Multi-function steering wheel...   \n",
              "\n",
              "                                     entertainment&media        extras  \\\n",
              "14480  Bluetooth,Hands-free equipment,On-board comput...           NaN   \n",
              "15556                                                NaN           NaN   \n",
              "15696                            Digital radio,Radio,USB  Touch screen   \n",
              "6927                                                 NaN           NaN   \n",
              "13470                                                NaN           NaN   \n",
              "\n",
              "                                       safety_&_security  gears  \\\n",
              "14480  ABS,Central door lock,Central door lock with r...  5.000   \n",
              "15556                                                NaN  6.000   \n",
              "15696  ABS,Alarm system,Driver-side airbag,Electronic...  6.000   \n",
              "6927   ABS,Central door lock,Daytime running lights,D...    NaN   \n",
              "13470  ABS,Central door lock,Daytime running lights,D...    NaN   \n",
              "\n",
              "      country_version  consumption_comb  consumption_city  consumption_country  \n",
              "14480             NaN             5.600             7.200                4.700  \n",
              "15556             NaN             4.600               NaN                4.400  \n",
              "15696             NaN             4.700             5.100                4.400  \n",
              "6927              NaN             3.700             4.200                3.300  \n",
              "13470             NaN               NaN               NaN                  NaN  "
            ],
            "text/html": [
              "\n",
              "  <div id=\"df-582ef499-0e75-4a7b-93cc-1adb7940f184\">\n",
              "    <div class=\"colab-df-container\">\n",
              "      <div>\n",
              "<style scoped>\n",
              "    .dataframe tbody tr th:only-of-type {\n",
              "        vertical-align: middle;\n",
              "    }\n",
              "\n",
              "    .dataframe tbody tr th {\n",
              "        vertical-align: top;\n",
              "    }\n",
              "\n",
              "    .dataframe thead th {\n",
              "        text-align: right;\n",
              "    }\n",
              "</style>\n",
              "<table border=\"1\" class=\"dataframe\">\n",
              "  <thead>\n",
              "    <tr style=\"text-align: right;\">\n",
              "      <th></th>\n",
              "      <th>short_description</th>\n",
              "      <th>body_type</th>\n",
              "      <th>price_€</th>\n",
              "      <th>vat</th>\n",
              "      <th>km</th>\n",
              "      <th>registration</th>\n",
              "      <th>prev_owner</th>\n",
              "      <th>hp_kW</th>\n",
              "      <th>type</th>\n",
              "      <th>previous_owners</th>\n",
              "      <th>warranty</th>\n",
              "      <th>make</th>\n",
              "      <th>model</th>\n",
              "      <th>body_color</th>\n",
              "      <th>paint_type</th>\n",
              "      <th>body_color_original</th>\n",
              "      <th>upholstery</th>\n",
              "      <th>nr._of_doors</th>\n",
              "      <th>nr._of_seats</th>\n",
              "      <th>gearing_type</th>\n",
              "      <th>engine_displacement_cc</th>\n",
              "      <th>cylinders</th>\n",
              "      <th>weight_kg</th>\n",
              "      <th>drive_chain</th>\n",
              "      <th>fuel</th>\n",
              "      <th>co2e_g</th>\n",
              "      <th>emission_class</th>\n",
              "      <th>comfort&amp;convenience</th>\n",
              "      <th>entertainment&amp;media</th>\n",
              "      <th>extras</th>\n",
              "      <th>safety_&amp;_security</th>\n",
              "      <th>gears</th>\n",
              "      <th>country_version</th>\n",
              "      <th>consumption_comb</th>\n",
              "      <th>consumption_city</th>\n",
              "      <th>consumption_country</th>\n",
              "    </tr>\n",
              "  </thead>\n",
              "  <tbody>\n",
              "    <tr>\n",
              "      <th>14480</th>\n",
              "      <td>1.2i Life</td>\n",
              "      <td>NaN</td>\n",
              "      <td>10000.000</td>\n",
              "      <td>NaN</td>\n",
              "      <td>8000.000</td>\n",
              "      <td>2018.000</td>\n",
              "      <td>NaN</td>\n",
              "      <td>54.000</td>\n",
              "      <td>Used</td>\n",
              "      <td>NaN</td>\n",
              "      <td>NaN</td>\n",
              "      <td>Renault</td>\n",
              "      <td>Clio</td>\n",
              "      <td>Red</td>\n",
              "      <td>NaN</td>\n",
              "      <td>NaN</td>\n",
              "      <td>Cloth</td>\n",
              "      <td>5.000</td>\n",
              "      <td>5.000</td>\n",
              "      <td>Manual</td>\n",
              "      <td>NaN</td>\n",
              "      <td>5.000</td>\n",
              "      <td>1134.000</td>\n",
              "      <td>NaN</td>\n",
              "      <td>Benzine</td>\n",
              "      <td>127.000</td>\n",
              "      <td>Euro 4</td>\n",
              "      <td>Air conditioning,Cruise control,Electrical sid...</td>\n",
              "      <td>Bluetooth,Hands-free equipment,On-board comput...</td>\n",
              "      <td>NaN</td>\n",
              "      <td>ABS,Central door lock,Central door lock with r...</td>\n",
              "      <td>5.000</td>\n",
              "      <td>NaN</td>\n",
              "      <td>5.600</td>\n",
              "      <td>7.200</td>\n",
              "      <td>4.700</td>\n",
              "    </tr>\n",
              "    <tr>\n",
              "      <th>15556</th>\n",
              "      <td>V Espace Zen Dci 160 Energy Edc</td>\n",
              "      <td>NaN</td>\n",
              "      <td>30160.000</td>\n",
              "      <td>NaN</td>\n",
              "      <td>10.000</td>\n",
              "      <td>NaN</td>\n",
              "      <td>NaN</td>\n",
              "      <td>118.000</td>\n",
              "      <td>Used</td>\n",
              "      <td>NaN</td>\n",
              "      <td>NaN</td>\n",
              "      <td>Renault</td>\n",
              "      <td>Espace</td>\n",
              "      <td>Grey</td>\n",
              "      <td>NaN</td>\n",
              "      <td>Gris</td>\n",
              "      <td>NaN</td>\n",
              "      <td>5.000</td>\n",
              "      <td>NaN</td>\n",
              "      <td>Automatic</td>\n",
              "      <td>1598.000</td>\n",
              "      <td>4.000</td>\n",
              "      <td>NaN</td>\n",
              "      <td>NaN</td>\n",
              "      <td>Diesel</td>\n",
              "      <td>120.000</td>\n",
              "      <td>NaN</td>\n",
              "      <td>NaN</td>\n",
              "      <td>NaN</td>\n",
              "      <td>NaN</td>\n",
              "      <td>NaN</td>\n",
              "      <td>6.000</td>\n",
              "      <td>NaN</td>\n",
              "      <td>4.600</td>\n",
              "      <td>NaN</td>\n",
              "      <td>4.400</td>\n",
              "    </tr>\n",
              "    <tr>\n",
              "      <th>15696</th>\n",
              "      <td>1.6 dci energy Executive 160cv 7p.ti edc</td>\n",
              "      <td>NaN</td>\n",
              "      <td>38200.000</td>\n",
              "      <td>VAT deductible</td>\n",
              "      <td>1.000</td>\n",
              "      <td>2019.000</td>\n",
              "      <td>NaN</td>\n",
              "      <td>118.000</td>\n",
              "      <td>Pre-registered</td>\n",
              "      <td>NaN</td>\n",
              "      <td>NaN</td>\n",
              "      <td>Renault</td>\n",
              "      <td>Espace</td>\n",
              "      <td>Black</td>\n",
              "      <td>Metallic</td>\n",
              "      <td>Nero</td>\n",
              "      <td>NaN</td>\n",
              "      <td>5.000</td>\n",
              "      <td>7.000</td>\n",
              "      <td>Automatic</td>\n",
              "      <td>1598.000</td>\n",
              "      <td>4.000</td>\n",
              "      <td>NaN</td>\n",
              "      <td>NaN</td>\n",
              "      <td>Diesel</td>\n",
              "      <td>123.000</td>\n",
              "      <td>Euro 6</td>\n",
              "      <td>Air conditioning,Automatic climate control,Cru...</td>\n",
              "      <td>Digital radio,Radio,USB</td>\n",
              "      <td>Touch screen</td>\n",
              "      <td>ABS,Alarm system,Driver-side airbag,Electronic...</td>\n",
              "      <td>6.000</td>\n",
              "      <td>NaN</td>\n",
              "      <td>4.700</td>\n",
              "      <td>5.100</td>\n",
              "      <td>4.400</td>\n",
              "    </tr>\n",
              "    <tr>\n",
              "      <th>6927</th>\n",
              "      <td>1.6 CDTi 81kW (110CV) Selective</td>\n",
              "      <td>NaN</td>\n",
              "      <td>11990.000</td>\n",
              "      <td>NaN</td>\n",
              "      <td>64000.000</td>\n",
              "      <td>2017.000</td>\n",
              "      <td>NaN</td>\n",
              "      <td>81.000</td>\n",
              "      <td>Used</td>\n",
              "      <td>NaN</td>\n",
              "      <td>NaN</td>\n",
              "      <td>Opel</td>\n",
              "      <td>Astra</td>\n",
              "      <td>Black</td>\n",
              "      <td>NaN</td>\n",
              "      <td>NaN</td>\n",
              "      <td>NaN</td>\n",
              "      <td>5.000</td>\n",
              "      <td>NaN</td>\n",
              "      <td>Manual</td>\n",
              "      <td>NaN</td>\n",
              "      <td>NaN</td>\n",
              "      <td>NaN</td>\n",
              "      <td>NaN</td>\n",
              "      <td>Diesel</td>\n",
              "      <td>97.000</td>\n",
              "      <td>NaN</td>\n",
              "      <td>Air conditioning</td>\n",
              "      <td>NaN</td>\n",
              "      <td>NaN</td>\n",
              "      <td>ABS,Central door lock,Daytime running lights,D...</td>\n",
              "      <td>NaN</td>\n",
              "      <td>NaN</td>\n",
              "      <td>3.700</td>\n",
              "      <td>4.200</td>\n",
              "      <td>3.300</td>\n",
              "    </tr>\n",
              "    <tr>\n",
              "      <th>13470</th>\n",
              "      <td>Limited 1.2 16v 55kW (75CV) -18</td>\n",
              "      <td>NaN</td>\n",
              "      <td>8490.000</td>\n",
              "      <td>NaN</td>\n",
              "      <td>39990.000</td>\n",
              "      <td>2018.000</td>\n",
              "      <td>NaN</td>\n",
              "      <td>55.000</td>\n",
              "      <td>Used</td>\n",
              "      <td>NaN</td>\n",
              "      <td>NaN</td>\n",
              "      <td>Renault</td>\n",
              "      <td>Clio</td>\n",
              "      <td>White</td>\n",
              "      <td>NaN</td>\n",
              "      <td>NaN</td>\n",
              "      <td>NaN</td>\n",
              "      <td>5.000</td>\n",
              "      <td>NaN</td>\n",
              "      <td>Manual</td>\n",
              "      <td>NaN</td>\n",
              "      <td>NaN</td>\n",
              "      <td>NaN</td>\n",
              "      <td>NaN</td>\n",
              "      <td>Benzine</td>\n",
              "      <td>NaN</td>\n",
              "      <td>NaN</td>\n",
              "      <td>Air conditioning,Multi-function steering wheel...</td>\n",
              "      <td>NaN</td>\n",
              "      <td>NaN</td>\n",
              "      <td>ABS,Central door lock,Daytime running lights,D...</td>\n",
              "      <td>NaN</td>\n",
              "      <td>NaN</td>\n",
              "      <td>NaN</td>\n",
              "      <td>NaN</td>\n",
              "      <td>NaN</td>\n",
              "    </tr>\n",
              "  </tbody>\n",
              "</table>\n",
              "</div>\n",
              "      <button class=\"colab-df-convert\" onclick=\"convertToInteractive('df-582ef499-0e75-4a7b-93cc-1adb7940f184')\"\n",
              "              title=\"Convert this dataframe to an interactive table.\"\n",
              "              style=\"display:none;\">\n",
              "        \n",
              "  <svg xmlns=\"http://www.w3.org/2000/svg\" height=\"24px\"viewBox=\"0 0 24 24\"\n",
              "       width=\"24px\">\n",
              "    <path d=\"M0 0h24v24H0V0z\" fill=\"none\"/>\n",
              "    <path d=\"M18.56 5.44l.94 2.06.94-2.06 2.06-.94-2.06-.94-.94-2.06-.94 2.06-2.06.94zm-11 1L8.5 8.5l.94-2.06 2.06-.94-2.06-.94L8.5 2.5l-.94 2.06-2.06.94zm10 10l.94 2.06.94-2.06 2.06-.94-2.06-.94-.94-2.06-.94 2.06-2.06.94z\"/><path d=\"M17.41 7.96l-1.37-1.37c-.4-.4-.92-.59-1.43-.59-.52 0-1.04.2-1.43.59L10.3 9.45l-7.72 7.72c-.78.78-.78 2.05 0 2.83L4 21.41c.39.39.9.59 1.41.59.51 0 1.02-.2 1.41-.59l7.78-7.78 2.81-2.81c.8-.78.8-2.07 0-2.86zM5.41 20L4 18.59l7.72-7.72 1.47 1.35L5.41 20z\"/>\n",
              "  </svg>\n",
              "      </button>\n",
              "      \n",
              "  <style>\n",
              "    .colab-df-container {\n",
              "      display:flex;\n",
              "      flex-wrap:wrap;\n",
              "      gap: 12px;\n",
              "    }\n",
              "\n",
              "    .colab-df-convert {\n",
              "      background-color: #E8F0FE;\n",
              "      border: none;\n",
              "      border-radius: 50%;\n",
              "      cursor: pointer;\n",
              "      display: none;\n",
              "      fill: #1967D2;\n",
              "      height: 32px;\n",
              "      padding: 0 0 0 0;\n",
              "      width: 32px;\n",
              "    }\n",
              "\n",
              "    .colab-df-convert:hover {\n",
              "      background-color: #E2EBFA;\n",
              "      box-shadow: 0px 1px 2px rgba(60, 64, 67, 0.3), 0px 1px 3px 1px rgba(60, 64, 67, 0.15);\n",
              "      fill: #174EA6;\n",
              "    }\n",
              "\n",
              "    [theme=dark] .colab-df-convert {\n",
              "      background-color: #3B4455;\n",
              "      fill: #D2E3FC;\n",
              "    }\n",
              "\n",
              "    [theme=dark] .colab-df-convert:hover {\n",
              "      background-color: #434B5C;\n",
              "      box-shadow: 0px 1px 3px 1px rgba(0, 0, 0, 0.15);\n",
              "      filter: drop-shadow(0px 1px 2px rgba(0, 0, 0, 0.3));\n",
              "      fill: #FFFFFF;\n",
              "    }\n",
              "  </style>\n",
              "\n",
              "      <script>\n",
              "        const buttonEl =\n",
              "          document.querySelector('#df-582ef499-0e75-4a7b-93cc-1adb7940f184 button.colab-df-convert');\n",
              "        buttonEl.style.display =\n",
              "          google.colab.kernel.accessAllowed ? 'block' : 'none';\n",
              "\n",
              "        async function convertToInteractive(key) {\n",
              "          const element = document.querySelector('#df-582ef499-0e75-4a7b-93cc-1adb7940f184');\n",
              "          const dataTable =\n",
              "            await google.colab.kernel.invokeFunction('convertToInteractive',\n",
              "                                                     [key], {});\n",
              "          if (!dataTable) return;\n",
              "\n",
              "          const docLinkHtml = 'Like what you see? Visit the ' +\n",
              "            '<a target=\"_blank\" href=https://colab.research.google.com/notebooks/data_table.ipynb>data table notebook</a>'\n",
              "            + ' to learn more about interactive tables.';\n",
              "          element.innerHTML = '';\n",
              "          dataTable['output_type'] = 'display_data';\n",
              "          await google.colab.output.renderOutput(dataTable, element);\n",
              "          const docLink = document.createElement('div');\n",
              "          docLink.innerHTML = docLinkHtml;\n",
              "          element.appendChild(docLink);\n",
              "        }\n",
              "      </script>\n",
              "    </div>\n",
              "  </div>\n",
              "  "
            ]
          },
          "metadata": {},
          "execution_count": 12
        }
      ]
    },
    {
      "cell_type": "code",
      "source": [
        "df[df.body_type.isnull()][[\"make\", \"model\", \"nr._of_doors\", \"nr._of_seats\" ]]"
      ],
      "metadata": {
        "colab": {
          "base_uri": "https://localhost:8080/",
          "height": 1000
        },
        "id": "mZT9u_lTPeTg",
        "outputId": "705b8bb0-bf64-4e35-cfb5-93db06c89d4b"
      },
      "execution_count": 14,
      "outputs": [
        {
          "output_type": "execute_result",
          "data": {
            "text/plain": [
              "          make     model  nr._of_doors  nr._of_seats\n",
              "3175      Audi        A3         5.000         5.000\n",
              "3255      Audi        A3         3.000         5.000\n",
              "3975      Audi        A3         5.000         5.000\n",
              "3997      Audi        A3         3.000           NaN\n",
              "4206      Audi        A3         5.000           NaN\n",
              "4297      Audi        A3         5.000           NaN\n",
              "4298      Audi        A3         5.000           NaN\n",
              "5718      Opel     Astra         5.000           NaN\n",
              "5938      Opel     Astra         5.000           NaN\n",
              "5940      Opel     Astra         5.000           NaN\n",
              "6920      Opel     Astra         5.000           NaN\n",
              "6922      Opel     Astra         5.000           NaN\n",
              "6927      Opel     Astra         5.000           NaN\n",
              "7709      Opel     Astra         5.000           NaN\n",
              "8408      Opel     Corsa         5.000         5.000\n",
              "8584      Opel     Corsa           NaN           NaN\n",
              "10837     Opel  Insignia         5.000           NaN\n",
              "10838     Opel  Insignia         5.000           NaN\n",
              "10857     Opel  Insignia         5.000           NaN\n",
              "13430  Renault      Clio         5.000           NaN\n",
              "13470  Renault      Clio         5.000           NaN\n",
              "13576  Renault      Clio         5.000           NaN\n",
              "13703  Renault      Clio         5.000           NaN\n",
              "13725  Renault      Clio         5.000           NaN\n",
              "13852  Renault      Clio         5.000           NaN\n",
              "13900  Renault      Clio         5.000           NaN\n",
              "14107  Renault      Clio         5.000           NaN\n",
              "14124  Renault      Clio         5.000           NaN\n",
              "14127  Renault      Clio         5.000           NaN\n",
              "14134  Renault      Clio         5.000           NaN\n",
              "14135  Renault      Clio         5.000           NaN\n",
              "14480  Renault      Clio         5.000         5.000\n",
              "14869  Renault      Clio         5.000         5.000\n",
              "14870  Renault      Clio         5.000         5.000\n",
              "14928  Renault    Espace         5.000           NaN\n",
              "14990  Renault    Espace         5.000           NaN\n",
              "15058  Renault    Espace         5.000           NaN\n",
              "15059  Renault    Espace         5.000           NaN\n",
              "15060  Renault    Espace         5.000           NaN\n",
              "15124  Renault    Espace         5.000           NaN\n",
              "15269  Renault    Espace         5.000           NaN\n",
              "15275  Renault    Espace         5.000           NaN\n",
              "15289  Renault    Espace         5.000           NaN\n",
              "15307  Renault    Espace         5.000           NaN\n",
              "15378  Renault    Espace         5.000           NaN\n",
              "15437  Renault    Espace         5.000         7.000\n",
              "15452  Renault    Espace         5.000           NaN\n",
              "15456  Renault    Espace         5.000           NaN\n",
              "15457  Renault    Espace         5.000           NaN\n",
              "15488  Renault    Espace         5.000           NaN\n",
              "15489  Renault    Espace         5.000         7.000\n",
              "15491  Renault    Espace         5.000         7.000\n",
              "15499  Renault    Espace         5.000           NaN\n",
              "15544  Renault    Espace         5.000           NaN\n",
              "15556  Renault    Espace         5.000           NaN\n",
              "15589  Renault    Espace         5.000         7.000\n",
              "15696  Renault    Espace         5.000         7.000\n",
              "15712  Renault    Espace         5.000         7.000\n",
              "15736  Renault    Espace         5.000           NaN\n",
              "15770  Renault    Espace         5.000           NaN"
            ],
            "text/html": [
              "\n",
              "  <div id=\"df-f855b4d8-39c2-4c15-8417-19338a31f655\">\n",
              "    <div class=\"colab-df-container\">\n",
              "      <div>\n",
              "<style scoped>\n",
              "    .dataframe tbody tr th:only-of-type {\n",
              "        vertical-align: middle;\n",
              "    }\n",
              "\n",
              "    .dataframe tbody tr th {\n",
              "        vertical-align: top;\n",
              "    }\n",
              "\n",
              "    .dataframe thead th {\n",
              "        text-align: right;\n",
              "    }\n",
              "</style>\n",
              "<table border=\"1\" class=\"dataframe\">\n",
              "  <thead>\n",
              "    <tr style=\"text-align: right;\">\n",
              "      <th></th>\n",
              "      <th>make</th>\n",
              "      <th>model</th>\n",
              "      <th>nr._of_doors</th>\n",
              "      <th>nr._of_seats</th>\n",
              "    </tr>\n",
              "  </thead>\n",
              "  <tbody>\n",
              "    <tr>\n",
              "      <th>3175</th>\n",
              "      <td>Audi</td>\n",
              "      <td>A3</td>\n",
              "      <td>5.000</td>\n",
              "      <td>5.000</td>\n",
              "    </tr>\n",
              "    <tr>\n",
              "      <th>3255</th>\n",
              "      <td>Audi</td>\n",
              "      <td>A3</td>\n",
              "      <td>3.000</td>\n",
              "      <td>5.000</td>\n",
              "    </tr>\n",
              "    <tr>\n",
              "      <th>3975</th>\n",
              "      <td>Audi</td>\n",
              "      <td>A3</td>\n",
              "      <td>5.000</td>\n",
              "      <td>5.000</td>\n",
              "    </tr>\n",
              "    <tr>\n",
              "      <th>3997</th>\n",
              "      <td>Audi</td>\n",
              "      <td>A3</td>\n",
              "      <td>3.000</td>\n",
              "      <td>NaN</td>\n",
              "    </tr>\n",
              "    <tr>\n",
              "      <th>4206</th>\n",
              "      <td>Audi</td>\n",
              "      <td>A3</td>\n",
              "      <td>5.000</td>\n",
              "      <td>NaN</td>\n",
              "    </tr>\n",
              "    <tr>\n",
              "      <th>4297</th>\n",
              "      <td>Audi</td>\n",
              "      <td>A3</td>\n",
              "      <td>5.000</td>\n",
              "      <td>NaN</td>\n",
              "    </tr>\n",
              "    <tr>\n",
              "      <th>4298</th>\n",
              "      <td>Audi</td>\n",
              "      <td>A3</td>\n",
              "      <td>5.000</td>\n",
              "      <td>NaN</td>\n",
              "    </tr>\n",
              "    <tr>\n",
              "      <th>5718</th>\n",
              "      <td>Opel</td>\n",
              "      <td>Astra</td>\n",
              "      <td>5.000</td>\n",
              "      <td>NaN</td>\n",
              "    </tr>\n",
              "    <tr>\n",
              "      <th>5938</th>\n",
              "      <td>Opel</td>\n",
              "      <td>Astra</td>\n",
              "      <td>5.000</td>\n",
              "      <td>NaN</td>\n",
              "    </tr>\n",
              "    <tr>\n",
              "      <th>5940</th>\n",
              "      <td>Opel</td>\n",
              "      <td>Astra</td>\n",
              "      <td>5.000</td>\n",
              "      <td>NaN</td>\n",
              "    </tr>\n",
              "    <tr>\n",
              "      <th>6920</th>\n",
              "      <td>Opel</td>\n",
              "      <td>Astra</td>\n",
              "      <td>5.000</td>\n",
              "      <td>NaN</td>\n",
              "    </tr>\n",
              "    <tr>\n",
              "      <th>6922</th>\n",
              "      <td>Opel</td>\n",
              "      <td>Astra</td>\n",
              "      <td>5.000</td>\n",
              "      <td>NaN</td>\n",
              "    </tr>\n",
              "    <tr>\n",
              "      <th>6927</th>\n",
              "      <td>Opel</td>\n",
              "      <td>Astra</td>\n",
              "      <td>5.000</td>\n",
              "      <td>NaN</td>\n",
              "    </tr>\n",
              "    <tr>\n",
              "      <th>7709</th>\n",
              "      <td>Opel</td>\n",
              "      <td>Astra</td>\n",
              "      <td>5.000</td>\n",
              "      <td>NaN</td>\n",
              "    </tr>\n",
              "    <tr>\n",
              "      <th>8408</th>\n",
              "      <td>Opel</td>\n",
              "      <td>Corsa</td>\n",
              "      <td>5.000</td>\n",
              "      <td>5.000</td>\n",
              "    </tr>\n",
              "    <tr>\n",
              "      <th>8584</th>\n",
              "      <td>Opel</td>\n",
              "      <td>Corsa</td>\n",
              "      <td>NaN</td>\n",
              "      <td>NaN</td>\n",
              "    </tr>\n",
              "    <tr>\n",
              "      <th>10837</th>\n",
              "      <td>Opel</td>\n",
              "      <td>Insignia</td>\n",
              "      <td>5.000</td>\n",
              "      <td>NaN</td>\n",
              "    </tr>\n",
              "    <tr>\n",
              "      <th>10838</th>\n",
              "      <td>Opel</td>\n",
              "      <td>Insignia</td>\n",
              "      <td>5.000</td>\n",
              "      <td>NaN</td>\n",
              "    </tr>\n",
              "    <tr>\n",
              "      <th>10857</th>\n",
              "      <td>Opel</td>\n",
              "      <td>Insignia</td>\n",
              "      <td>5.000</td>\n",
              "      <td>NaN</td>\n",
              "    </tr>\n",
              "    <tr>\n",
              "      <th>13430</th>\n",
              "      <td>Renault</td>\n",
              "      <td>Clio</td>\n",
              "      <td>5.000</td>\n",
              "      <td>NaN</td>\n",
              "    </tr>\n",
              "    <tr>\n",
              "      <th>13470</th>\n",
              "      <td>Renault</td>\n",
              "      <td>Clio</td>\n",
              "      <td>5.000</td>\n",
              "      <td>NaN</td>\n",
              "    </tr>\n",
              "    <tr>\n",
              "      <th>13576</th>\n",
              "      <td>Renault</td>\n",
              "      <td>Clio</td>\n",
              "      <td>5.000</td>\n",
              "      <td>NaN</td>\n",
              "    </tr>\n",
              "    <tr>\n",
              "      <th>13703</th>\n",
              "      <td>Renault</td>\n",
              "      <td>Clio</td>\n",
              "      <td>5.000</td>\n",
              "      <td>NaN</td>\n",
              "    </tr>\n",
              "    <tr>\n",
              "      <th>13725</th>\n",
              "      <td>Renault</td>\n",
              "      <td>Clio</td>\n",
              "      <td>5.000</td>\n",
              "      <td>NaN</td>\n",
              "    </tr>\n",
              "    <tr>\n",
              "      <th>13852</th>\n",
              "      <td>Renault</td>\n",
              "      <td>Clio</td>\n",
              "      <td>5.000</td>\n",
              "      <td>NaN</td>\n",
              "    </tr>\n",
              "    <tr>\n",
              "      <th>13900</th>\n",
              "      <td>Renault</td>\n",
              "      <td>Clio</td>\n",
              "      <td>5.000</td>\n",
              "      <td>NaN</td>\n",
              "    </tr>\n",
              "    <tr>\n",
              "      <th>14107</th>\n",
              "      <td>Renault</td>\n",
              "      <td>Clio</td>\n",
              "      <td>5.000</td>\n",
              "      <td>NaN</td>\n",
              "    </tr>\n",
              "    <tr>\n",
              "      <th>14124</th>\n",
              "      <td>Renault</td>\n",
              "      <td>Clio</td>\n",
              "      <td>5.000</td>\n",
              "      <td>NaN</td>\n",
              "    </tr>\n",
              "    <tr>\n",
              "      <th>14127</th>\n",
              "      <td>Renault</td>\n",
              "      <td>Clio</td>\n",
              "      <td>5.000</td>\n",
              "      <td>NaN</td>\n",
              "    </tr>\n",
              "    <tr>\n",
              "      <th>14134</th>\n",
              "      <td>Renault</td>\n",
              "      <td>Clio</td>\n",
              "      <td>5.000</td>\n",
              "      <td>NaN</td>\n",
              "    </tr>\n",
              "    <tr>\n",
              "      <th>14135</th>\n",
              "      <td>Renault</td>\n",
              "      <td>Clio</td>\n",
              "      <td>5.000</td>\n",
              "      <td>NaN</td>\n",
              "    </tr>\n",
              "    <tr>\n",
              "      <th>14480</th>\n",
              "      <td>Renault</td>\n",
              "      <td>Clio</td>\n",
              "      <td>5.000</td>\n",
              "      <td>5.000</td>\n",
              "    </tr>\n",
              "    <tr>\n",
              "      <th>14869</th>\n",
              "      <td>Renault</td>\n",
              "      <td>Clio</td>\n",
              "      <td>5.000</td>\n",
              "      <td>5.000</td>\n",
              "    </tr>\n",
              "    <tr>\n",
              "      <th>14870</th>\n",
              "      <td>Renault</td>\n",
              "      <td>Clio</td>\n",
              "      <td>5.000</td>\n",
              "      <td>5.000</td>\n",
              "    </tr>\n",
              "    <tr>\n",
              "      <th>14928</th>\n",
              "      <td>Renault</td>\n",
              "      <td>Espace</td>\n",
              "      <td>5.000</td>\n",
              "      <td>NaN</td>\n",
              "    </tr>\n",
              "    <tr>\n",
              "      <th>14990</th>\n",
              "      <td>Renault</td>\n",
              "      <td>Espace</td>\n",
              "      <td>5.000</td>\n",
              "      <td>NaN</td>\n",
              "    </tr>\n",
              "    <tr>\n",
              "      <th>15058</th>\n",
              "      <td>Renault</td>\n",
              "      <td>Espace</td>\n",
              "      <td>5.000</td>\n",
              "      <td>NaN</td>\n",
              "    </tr>\n",
              "    <tr>\n",
              "      <th>15059</th>\n",
              "      <td>Renault</td>\n",
              "      <td>Espace</td>\n",
              "      <td>5.000</td>\n",
              "      <td>NaN</td>\n",
              "    </tr>\n",
              "    <tr>\n",
              "      <th>15060</th>\n",
              "      <td>Renault</td>\n",
              "      <td>Espace</td>\n",
              "      <td>5.000</td>\n",
              "      <td>NaN</td>\n",
              "    </tr>\n",
              "    <tr>\n",
              "      <th>15124</th>\n",
              "      <td>Renault</td>\n",
              "      <td>Espace</td>\n",
              "      <td>5.000</td>\n",
              "      <td>NaN</td>\n",
              "    </tr>\n",
              "    <tr>\n",
              "      <th>15269</th>\n",
              "      <td>Renault</td>\n",
              "      <td>Espace</td>\n",
              "      <td>5.000</td>\n",
              "      <td>NaN</td>\n",
              "    </tr>\n",
              "    <tr>\n",
              "      <th>15275</th>\n",
              "      <td>Renault</td>\n",
              "      <td>Espace</td>\n",
              "      <td>5.000</td>\n",
              "      <td>NaN</td>\n",
              "    </tr>\n",
              "    <tr>\n",
              "      <th>15289</th>\n",
              "      <td>Renault</td>\n",
              "      <td>Espace</td>\n",
              "      <td>5.000</td>\n",
              "      <td>NaN</td>\n",
              "    </tr>\n",
              "    <tr>\n",
              "      <th>15307</th>\n",
              "      <td>Renault</td>\n",
              "      <td>Espace</td>\n",
              "      <td>5.000</td>\n",
              "      <td>NaN</td>\n",
              "    </tr>\n",
              "    <tr>\n",
              "      <th>15378</th>\n",
              "      <td>Renault</td>\n",
              "      <td>Espace</td>\n",
              "      <td>5.000</td>\n",
              "      <td>NaN</td>\n",
              "    </tr>\n",
              "    <tr>\n",
              "      <th>15437</th>\n",
              "      <td>Renault</td>\n",
              "      <td>Espace</td>\n",
              "      <td>5.000</td>\n",
              "      <td>7.000</td>\n",
              "    </tr>\n",
              "    <tr>\n",
              "      <th>15452</th>\n",
              "      <td>Renault</td>\n",
              "      <td>Espace</td>\n",
              "      <td>5.000</td>\n",
              "      <td>NaN</td>\n",
              "    </tr>\n",
              "    <tr>\n",
              "      <th>15456</th>\n",
              "      <td>Renault</td>\n",
              "      <td>Espace</td>\n",
              "      <td>5.000</td>\n",
              "      <td>NaN</td>\n",
              "    </tr>\n",
              "    <tr>\n",
              "      <th>15457</th>\n",
              "      <td>Renault</td>\n",
              "      <td>Espace</td>\n",
              "      <td>5.000</td>\n",
              "      <td>NaN</td>\n",
              "    </tr>\n",
              "    <tr>\n",
              "      <th>15488</th>\n",
              "      <td>Renault</td>\n",
              "      <td>Espace</td>\n",
              "      <td>5.000</td>\n",
              "      <td>NaN</td>\n",
              "    </tr>\n",
              "    <tr>\n",
              "      <th>15489</th>\n",
              "      <td>Renault</td>\n",
              "      <td>Espace</td>\n",
              "      <td>5.000</td>\n",
              "      <td>7.000</td>\n",
              "    </tr>\n",
              "    <tr>\n",
              "      <th>15491</th>\n",
              "      <td>Renault</td>\n",
              "      <td>Espace</td>\n",
              "      <td>5.000</td>\n",
              "      <td>7.000</td>\n",
              "    </tr>\n",
              "    <tr>\n",
              "      <th>15499</th>\n",
              "      <td>Renault</td>\n",
              "      <td>Espace</td>\n",
              "      <td>5.000</td>\n",
              "      <td>NaN</td>\n",
              "    </tr>\n",
              "    <tr>\n",
              "      <th>15544</th>\n",
              "      <td>Renault</td>\n",
              "      <td>Espace</td>\n",
              "      <td>5.000</td>\n",
              "      <td>NaN</td>\n",
              "    </tr>\n",
              "    <tr>\n",
              "      <th>15556</th>\n",
              "      <td>Renault</td>\n",
              "      <td>Espace</td>\n",
              "      <td>5.000</td>\n",
              "      <td>NaN</td>\n",
              "    </tr>\n",
              "    <tr>\n",
              "      <th>15589</th>\n",
              "      <td>Renault</td>\n",
              "      <td>Espace</td>\n",
              "      <td>5.000</td>\n",
              "      <td>7.000</td>\n",
              "    </tr>\n",
              "    <tr>\n",
              "      <th>15696</th>\n",
              "      <td>Renault</td>\n",
              "      <td>Espace</td>\n",
              "      <td>5.000</td>\n",
              "      <td>7.000</td>\n",
              "    </tr>\n",
              "    <tr>\n",
              "      <th>15712</th>\n",
              "      <td>Renault</td>\n",
              "      <td>Espace</td>\n",
              "      <td>5.000</td>\n",
              "      <td>7.000</td>\n",
              "    </tr>\n",
              "    <tr>\n",
              "      <th>15736</th>\n",
              "      <td>Renault</td>\n",
              "      <td>Espace</td>\n",
              "      <td>5.000</td>\n",
              "      <td>NaN</td>\n",
              "    </tr>\n",
              "    <tr>\n",
              "      <th>15770</th>\n",
              "      <td>Renault</td>\n",
              "      <td>Espace</td>\n",
              "      <td>5.000</td>\n",
              "      <td>NaN</td>\n",
              "    </tr>\n",
              "  </tbody>\n",
              "</table>\n",
              "</div>\n",
              "      <button class=\"colab-df-convert\" onclick=\"convertToInteractive('df-f855b4d8-39c2-4c15-8417-19338a31f655')\"\n",
              "              title=\"Convert this dataframe to an interactive table.\"\n",
              "              style=\"display:none;\">\n",
              "        \n",
              "  <svg xmlns=\"http://www.w3.org/2000/svg\" height=\"24px\"viewBox=\"0 0 24 24\"\n",
              "       width=\"24px\">\n",
              "    <path d=\"M0 0h24v24H0V0z\" fill=\"none\"/>\n",
              "    <path d=\"M18.56 5.44l.94 2.06.94-2.06 2.06-.94-2.06-.94-.94-2.06-.94 2.06-2.06.94zm-11 1L8.5 8.5l.94-2.06 2.06-.94-2.06-.94L8.5 2.5l-.94 2.06-2.06.94zm10 10l.94 2.06.94-2.06 2.06-.94-2.06-.94-.94-2.06-.94 2.06-2.06.94z\"/><path d=\"M17.41 7.96l-1.37-1.37c-.4-.4-.92-.59-1.43-.59-.52 0-1.04.2-1.43.59L10.3 9.45l-7.72 7.72c-.78.78-.78 2.05 0 2.83L4 21.41c.39.39.9.59 1.41.59.51 0 1.02-.2 1.41-.59l7.78-7.78 2.81-2.81c.8-.78.8-2.07 0-2.86zM5.41 20L4 18.59l7.72-7.72 1.47 1.35L5.41 20z\"/>\n",
              "  </svg>\n",
              "      </button>\n",
              "      \n",
              "  <style>\n",
              "    .colab-df-container {\n",
              "      display:flex;\n",
              "      flex-wrap:wrap;\n",
              "      gap: 12px;\n",
              "    }\n",
              "\n",
              "    .colab-df-convert {\n",
              "      background-color: #E8F0FE;\n",
              "      border: none;\n",
              "      border-radius: 50%;\n",
              "      cursor: pointer;\n",
              "      display: none;\n",
              "      fill: #1967D2;\n",
              "      height: 32px;\n",
              "      padding: 0 0 0 0;\n",
              "      width: 32px;\n",
              "    }\n",
              "\n",
              "    .colab-df-convert:hover {\n",
              "      background-color: #E2EBFA;\n",
              "      box-shadow: 0px 1px 2px rgba(60, 64, 67, 0.3), 0px 1px 3px 1px rgba(60, 64, 67, 0.15);\n",
              "      fill: #174EA6;\n",
              "    }\n",
              "\n",
              "    [theme=dark] .colab-df-convert {\n",
              "      background-color: #3B4455;\n",
              "      fill: #D2E3FC;\n",
              "    }\n",
              "\n",
              "    [theme=dark] .colab-df-convert:hover {\n",
              "      background-color: #434B5C;\n",
              "      box-shadow: 0px 1px 3px 1px rgba(0, 0, 0, 0.15);\n",
              "      filter: drop-shadow(0px 1px 2px rgba(0, 0, 0, 0.3));\n",
              "      fill: #FFFFFF;\n",
              "    }\n",
              "  </style>\n",
              "\n",
              "      <script>\n",
              "        const buttonEl =\n",
              "          document.querySelector('#df-f855b4d8-39c2-4c15-8417-19338a31f655 button.colab-df-convert');\n",
              "        buttonEl.style.display =\n",
              "          google.colab.kernel.accessAllowed ? 'block' : 'none';\n",
              "\n",
              "        async function convertToInteractive(key) {\n",
              "          const element = document.querySelector('#df-f855b4d8-39c2-4c15-8417-19338a31f655');\n",
              "          const dataTable =\n",
              "            await google.colab.kernel.invokeFunction('convertToInteractive',\n",
              "                                                     [key], {});\n",
              "          if (!dataTable) return;\n",
              "\n",
              "          const docLinkHtml = 'Like what you see? Visit the ' +\n",
              "            '<a target=\"_blank\" href=https://colab.research.google.com/notebooks/data_table.ipynb>data table notebook</a>'\n",
              "            + ' to learn more about interactive tables.';\n",
              "          element.innerHTML = '';\n",
              "          dataTable['output_type'] = 'display_data';\n",
              "          await google.colab.output.renderOutput(dataTable, element);\n",
              "          const docLink = document.createElement('div');\n",
              "          docLink.innerHTML = docLinkHtml;\n",
              "          element.appendChild(docLink);\n",
              "        }\n",
              "      </script>\n",
              "    </div>\n",
              "  </div>\n",
              "  "
            ]
          },
          "metadata": {},
          "execution_count": 14
        }
      ]
    },
    {
      "cell_type": "code",
      "source": [
        "df.groupby([\"make\", \"model\"])[\"body_type\"].value_counts()"
      ],
      "metadata": {
        "colab": {
          "base_uri": "https://localhost:8080/"
        },
        "id": "qqlvGrmlPeWz",
        "outputId": "9f115ea6-ac11-436b-d217-a2b184b222b5"
      },
      "execution_count": 15,
      "outputs": [
        {
          "output_type": "execute_result",
          "data": {
            "text/plain": [
              "make     model     body_type    \n",
              "Audi     A1        Sedans           1538\n",
              "                   Compact          1039\n",
              "                   Station wagon      21\n",
              "                   Other              13\n",
              "                   Coupe               2\n",
              "                   Van                 1\n",
              "         A2        Off-Road            1\n",
              "         A3        Sedans           2598\n",
              "                   Station wagon     282\n",
              "                   Compact           182\n",
              "                   Other              16\n",
              "                   Convertible         8\n",
              "                   Coupe               4\n",
              "Opel     Astra     Station wagon    1211\n",
              "                   Sedans           1053\n",
              "                   Compact           185\n",
              "                   Other              67\n",
              "                   Coupe               2\n",
              "                   Off-Road            1\n",
              "         Corsa     Compact          1230\n",
              "                   Sedans            875\n",
              "                   Other              87\n",
              "                   Coupe              13\n",
              "                   Transporter         7\n",
              "                   Off-Road            3\n",
              "                   Van                 2\n",
              "         Insignia  Station wagon    1611\n",
              "                   Sedans            900\n",
              "                   Other              48\n",
              "                   Compact            27\n",
              "                   Off-Road            7\n",
              "                   Coupe               1\n",
              "                   Van                 1\n",
              "Renault  Clio      Sedans            918\n",
              "                   Compact           484\n",
              "                   Station wagon     337\n",
              "                   Other              51\n",
              "                   Transporter        29\n",
              "                   Off-Road            2\n",
              "                   Van                 2\n",
              "                   Coupe               1\n",
              "         Duster    Off-Road           34\n",
              "         Espace    Van               777\n",
              "                   Station wagon      91\n",
              "                   Transporter        52\n",
              "                   Sedans             21\n",
              "                   Off-Road            8\n",
              "                   Other               8\n",
              "                   Compact             6\n",
              "                   Coupe               2\n",
              "Name: body_type, dtype: int64"
            ]
          },
          "metadata": {},
          "execution_count": 15
        }
      ]
    },
    {
      "cell_type": "code",
      "source": [
        "df.groupby([\"make\", \"model\"])['body_type'].apply(lambda x: x.mode()[0])"
      ],
      "metadata": {
        "colab": {
          "base_uri": "https://localhost:8080/"
        },
        "id": "-vM58-nJPeZv",
        "outputId": "6d9ec500-aa7f-4a02-fea2-2c607345b60b"
      },
      "execution_count": 16,
      "outputs": [
        {
          "output_type": "execute_result",
          "data": {
            "text/plain": [
              "make     model   \n",
              "Audi     A1                 Sedans\n",
              "         A2               Off-Road\n",
              "         A3                 Sedans\n",
              "Opel     Astra       Station wagon\n",
              "         Corsa             Compact\n",
              "         Insignia    Station wagon\n",
              "Renault  Clio               Sedans\n",
              "         Duster           Off-Road\n",
              "         Espace                Van\n",
              "Name: body_type, dtype: object"
            ]
          },
          "metadata": {},
          "execution_count": 16
        }
      ]
    },
    {
      "cell_type": "code",
      "source": [
        "df.body_type = df.groupby([\"make\", \"model\"])[\"body_type\"].apply(lambda x: x.fillna(x.mode()[0]))"
      ],
      "metadata": {
        "id": "oDjh23jnPecz"
      },
      "execution_count": 17,
      "outputs": []
    },
    {
      "cell_type": "code",
      "source": [
        "df.body_type.value_counts(dropna=False)"
      ],
      "metadata": {
        "colab": {
          "base_uri": "https://localhost:8080/"
        },
        "id": "3i0CZt7nPefm",
        "outputId": "30331826-7298-46c8-bea2-a92947a21f57"
      },
      "execution_count": 18,
      "outputs": [
        {
          "output_type": "execute_result",
          "data": {
            "text/plain": [
              "Sedans           7925\n",
              "Station wagon    3563\n",
              "Compact          3155\n",
              "Van               809\n",
              "Other             290\n",
              "Transporter        88\n",
              "Off-Road           56\n",
              "Coupe              25\n",
              "Convertible         8\n",
              "Name: body_type, dtype: int64"
            ]
          },
          "metadata": {},
          "execution_count": 18
        }
      ]
    },
    {
      "cell_type": "code",
      "source": [
        "check_df(\"body_type\")"
      ],
      "metadata": {
        "colab": {
          "base_uri": "https://localhost:8080/"
        },
        "id": "PuquDvrtPeio",
        "outputId": "cb96c4cd-5c25-453a-825e-315b6305b8d2"
      },
      "execution_count": 19,
      "outputs": [
        {
          "output_type": "stream",
          "name": "stdout",
          "text": [
            "column name :  body_type\n",
            "--------------------------------\n",
            "Per_of_Nulls   :  % 0.0\n",
            "Num_of_Nulls   :  0\n",
            "Sedans           7925\n",
            "Station wagon    3563\n",
            "Compact          3155\n",
            "Van               809\n",
            "Other             290\n",
            "Transporter        88\n",
            "Off-Road           56\n",
            "Coupe              25\n",
            "Convertible         8\n",
            "Name: body_type, dtype: int64\n",
            "******************************\n",
            "\n",
            "\n",
            "\n"
          ]
        }
      ]
    },
    {
      "cell_type": "code",
      "source": [
        "check_df(\"vat\")"
      ],
      "metadata": {
        "colab": {
          "base_uri": "https://localhost:8080/"
        },
        "id": "-xWfpRcUPelW",
        "outputId": "c2a1ae15-a4ab-4877-bb8e-f1717cad8d90"
      },
      "execution_count": 20,
      "outputs": [
        {
          "output_type": "stream",
          "name": "stdout",
          "text": [
            "column name :  vat\n",
            "--------------------------------\n",
            "Per_of_Nulls   :  % 28.35\n",
            "Num_of_Nulls   :  4513\n",
            "VAT deductible      10980\n",
            "NaN                  4513\n",
            "Price negotiable      426\n",
            "Name: vat, dtype: int64\n",
            "******************************\n",
            "\n",
            "\n",
            "\n"
          ]
        }
      ]
    },
    {
      "cell_type": "code",
      "source": [
        "df.groupby(\"vat\").describe(include=\"O\")"
      ],
      "metadata": {
        "colab": {
          "base_uri": "https://localhost:8080/",
          "height": 430
        },
        "id": "_uNYwD_aPen1",
        "outputId": "86efaf14-6be7-4f9d-abbc-1ff8d0bc9715"
      },
      "execution_count": 21,
      "outputs": [
        {
          "output_type": "execute_result",
          "data": {
            "text/plain": [
              "                 short_description                                            \\\n",
              "                             count unique                                top   \n",
              "vat                                                                            \n",
              "Price negotiable               415    315         SPB 2.0 TDI S tronic Sport   \n",
              "VAT deductible               10973   7458  SPB 1.6 TDI 116 CV S tronic Sport   \n",
              "\n",
              "                      body_type                        type               \\\n",
              "                 freq     count unique     top  freq  count unique   top   \n",
              "vat                                                                        \n",
              "Price negotiable    7       426      9  Sedans   286    426      3  Used   \n",
              "VAT deductible     42     10980      9  Sedans  5248  10980      5  Used   \n",
              "\n",
              "                         make                     model                   \\\n",
              "                  freq  count unique   top  freq  count unique top  freq   \n",
              "vat                                                                        \n",
              "Price negotiable   421    426      3  Audi   182    426      7  A3   101   \n",
              "VAT deductible    6787  10980      3  Opel  5415  10980      9  A3  2209   \n",
              "\n",
              "                 body_color                     paint_type                   \\\n",
              "                      count unique    top  freq      count unique       top   \n",
              "vat                                                                           \n",
              "Price negotiable        426     10  Black   109        245      1  Metallic   \n",
              "VAT deductible        10586     13  Black  2704       7558      3  Metallic   \n",
              "\n",
              "                       body_color_original                                    \\\n",
              "                  freq               count unique                        top   \n",
              "vat                                                                            \n",
              "Price negotiable   245                  17     17  Floretzilver (grijs metal   \n",
              "VAT deductible    7312                9543   1568               Onyx Schwarz   \n",
              "\n",
              "                      upholstery                     gearing_type         \\\n",
              "                 freq      count unique    top  freq        count unique   \n",
              "vat                                                                        \n",
              "Price negotiable    1        134      7  Cloth    75          426      3   \n",
              "VAT deductible    314       9780     12  Cloth  6810        10980      3   \n",
              "\n",
              "                               drive_chain                       fuel         \\\n",
              "                     top  freq       count unique    top  freq  count unique   \n",
              "vat                                                                            \n",
              "Price negotiable  Manual   204          95      2  front    92    426      4   \n",
              "VAT deductible    Manual  5502        6876      2  front  6762  10980      4   \n",
              "\n",
              "                                emission_class                       \\\n",
              "                      top  freq          count unique     top  freq   \n",
              "vat                                                                   \n",
              "Price negotiable   Diesel   223            401      6  Euro 6   361   \n",
              "VAT deductible    Benzine  6183           8801      6  Euro 6  6915   \n",
              "\n",
              "                 comfort&convenience         \\\n",
              "                               count unique   \n",
              "vat                                           \n",
              "Price negotiable                 423    333   \n",
              "VAT deductible                 10811   4368   \n",
              "\n",
              "                                                                          \\\n",
              "                                                                top freq   \n",
              "vat                                                                        \n",
              "Price negotiable  Air conditioning,Seat ventilation,Split rear s...   15   \n",
              "VAT deductible    Air conditioning,Electrical side mirrors,Hill ...  163   \n",
              "\n",
              "                 entertainment&media         \\\n",
              "                               count unique   \n",
              "vat                                           \n",
              "Price negotiable                 414    100   \n",
              "VAT deductible                 10609    300   \n",
              "\n",
              "                                                                           \\\n",
              "                                                                top  freq   \n",
              "vat                                                                         \n",
              "Price negotiable  Bluetooth,CD player,Hands-free equipment,MP3,O...    32   \n",
              "VAT deductible    Bluetooth,Hands-free equipment,On-board comput...  1088   \n",
              "\n",
              "                 extras                            safety_&_security         \\\n",
              "                  count unique           top  freq             count unique   \n",
              "vat                                                                           \n",
              "Price negotiable    372    139  Alloy wheels    71               422    298   \n",
              "VAT deductible     9471    498  Alloy wheels  2092             10782   2973   \n",
              "\n",
              "                                                                          \\\n",
              "                                                                top freq   \n",
              "vat                                                                        \n",
              "Price negotiable  ABS,Adaptive Cruise Control,Alarm system,Centr...   12   \n",
              "VAT deductible    ABS,Central door lock,Daytime running lights,D...  461   \n",
              "\n",
              "                 country_version                        \n",
              "                           count unique      top  freq  \n",
              "vat                                                     \n",
              "Price negotiable              43      6    Italy    14  \n",
              "VAT deductible              5966     20  Germany  3812  "
            ],
            "text/html": [
              "\n",
              "  <div id=\"df-53ab6e83-646f-450b-bfef-a96bb26ee928\">\n",
              "    <div class=\"colab-df-container\">\n",
              "      <div>\n",
              "<style scoped>\n",
              "    .dataframe tbody tr th:only-of-type {\n",
              "        vertical-align: middle;\n",
              "    }\n",
              "\n",
              "    .dataframe tbody tr th {\n",
              "        vertical-align: top;\n",
              "    }\n",
              "\n",
              "    .dataframe thead tr th {\n",
              "        text-align: left;\n",
              "    }\n",
              "\n",
              "    .dataframe thead tr:last-of-type th {\n",
              "        text-align: right;\n",
              "    }\n",
              "</style>\n",
              "<table border=\"1\" class=\"dataframe\">\n",
              "  <thead>\n",
              "    <tr>\n",
              "      <th></th>\n",
              "      <th colspan=\"4\" halign=\"left\">short_description</th>\n",
              "      <th colspan=\"4\" halign=\"left\">body_type</th>\n",
              "      <th colspan=\"4\" halign=\"left\">type</th>\n",
              "      <th colspan=\"4\" halign=\"left\">make</th>\n",
              "      <th colspan=\"4\" halign=\"left\">model</th>\n",
              "      <th colspan=\"4\" halign=\"left\">body_color</th>\n",
              "      <th colspan=\"4\" halign=\"left\">paint_type</th>\n",
              "      <th colspan=\"4\" halign=\"left\">body_color_original</th>\n",
              "      <th colspan=\"4\" halign=\"left\">upholstery</th>\n",
              "      <th colspan=\"4\" halign=\"left\">gearing_type</th>\n",
              "      <th colspan=\"4\" halign=\"left\">drive_chain</th>\n",
              "      <th colspan=\"4\" halign=\"left\">fuel</th>\n",
              "      <th colspan=\"4\" halign=\"left\">emission_class</th>\n",
              "      <th colspan=\"4\" halign=\"left\">comfort&amp;convenience</th>\n",
              "      <th colspan=\"4\" halign=\"left\">entertainment&amp;media</th>\n",
              "      <th colspan=\"4\" halign=\"left\">extras</th>\n",
              "      <th colspan=\"4\" halign=\"left\">safety_&amp;_security</th>\n",
              "      <th colspan=\"4\" halign=\"left\">country_version</th>\n",
              "    </tr>\n",
              "    <tr>\n",
              "      <th></th>\n",
              "      <th>count</th>\n",
              "      <th>unique</th>\n",
              "      <th>top</th>\n",
              "      <th>freq</th>\n",
              "      <th>count</th>\n",
              "      <th>unique</th>\n",
              "      <th>top</th>\n",
              "      <th>freq</th>\n",
              "      <th>count</th>\n",
              "      <th>unique</th>\n",
              "      <th>top</th>\n",
              "      <th>freq</th>\n",
              "      <th>count</th>\n",
              "      <th>unique</th>\n",
              "      <th>top</th>\n",
              "      <th>freq</th>\n",
              "      <th>count</th>\n",
              "      <th>unique</th>\n",
              "      <th>top</th>\n",
              "      <th>freq</th>\n",
              "      <th>count</th>\n",
              "      <th>unique</th>\n",
              "      <th>top</th>\n",
              "      <th>freq</th>\n",
              "      <th>count</th>\n",
              "      <th>unique</th>\n",
              "      <th>top</th>\n",
              "      <th>freq</th>\n",
              "      <th>count</th>\n",
              "      <th>unique</th>\n",
              "      <th>top</th>\n",
              "      <th>freq</th>\n",
              "      <th>count</th>\n",
              "      <th>unique</th>\n",
              "      <th>top</th>\n",
              "      <th>freq</th>\n",
              "      <th>count</th>\n",
              "      <th>unique</th>\n",
              "      <th>top</th>\n",
              "      <th>freq</th>\n",
              "      <th>count</th>\n",
              "      <th>unique</th>\n",
              "      <th>top</th>\n",
              "      <th>freq</th>\n",
              "      <th>count</th>\n",
              "      <th>unique</th>\n",
              "      <th>top</th>\n",
              "      <th>freq</th>\n",
              "      <th>count</th>\n",
              "      <th>unique</th>\n",
              "      <th>top</th>\n",
              "      <th>freq</th>\n",
              "      <th>count</th>\n",
              "      <th>unique</th>\n",
              "      <th>top</th>\n",
              "      <th>freq</th>\n",
              "      <th>count</th>\n",
              "      <th>unique</th>\n",
              "      <th>top</th>\n",
              "      <th>freq</th>\n",
              "      <th>count</th>\n",
              "      <th>unique</th>\n",
              "      <th>top</th>\n",
              "      <th>freq</th>\n",
              "      <th>count</th>\n",
              "      <th>unique</th>\n",
              "      <th>top</th>\n",
              "      <th>freq</th>\n",
              "      <th>count</th>\n",
              "      <th>unique</th>\n",
              "      <th>top</th>\n",
              "      <th>freq</th>\n",
              "    </tr>\n",
              "    <tr>\n",
              "      <th>vat</th>\n",
              "      <th></th>\n",
              "      <th></th>\n",
              "      <th></th>\n",
              "      <th></th>\n",
              "      <th></th>\n",
              "      <th></th>\n",
              "      <th></th>\n",
              "      <th></th>\n",
              "      <th></th>\n",
              "      <th></th>\n",
              "      <th></th>\n",
              "      <th></th>\n",
              "      <th></th>\n",
              "      <th></th>\n",
              "      <th></th>\n",
              "      <th></th>\n",
              "      <th></th>\n",
              "      <th></th>\n",
              "      <th></th>\n",
              "      <th></th>\n",
              "      <th></th>\n",
              "      <th></th>\n",
              "      <th></th>\n",
              "      <th></th>\n",
              "      <th></th>\n",
              "      <th></th>\n",
              "      <th></th>\n",
              "      <th></th>\n",
              "      <th></th>\n",
              "      <th></th>\n",
              "      <th></th>\n",
              "      <th></th>\n",
              "      <th></th>\n",
              "      <th></th>\n",
              "      <th></th>\n",
              "      <th></th>\n",
              "      <th></th>\n",
              "      <th></th>\n",
              "      <th></th>\n",
              "      <th></th>\n",
              "      <th></th>\n",
              "      <th></th>\n",
              "      <th></th>\n",
              "      <th></th>\n",
              "      <th></th>\n",
              "      <th></th>\n",
              "      <th></th>\n",
              "      <th></th>\n",
              "      <th></th>\n",
              "      <th></th>\n",
              "      <th></th>\n",
              "      <th></th>\n",
              "      <th></th>\n",
              "      <th></th>\n",
              "      <th></th>\n",
              "      <th></th>\n",
              "      <th></th>\n",
              "      <th></th>\n",
              "      <th></th>\n",
              "      <th></th>\n",
              "      <th></th>\n",
              "      <th></th>\n",
              "      <th></th>\n",
              "      <th></th>\n",
              "      <th></th>\n",
              "      <th></th>\n",
              "      <th></th>\n",
              "      <th></th>\n",
              "      <th></th>\n",
              "      <th></th>\n",
              "      <th></th>\n",
              "      <th></th>\n",
              "    </tr>\n",
              "  </thead>\n",
              "  <tbody>\n",
              "    <tr>\n",
              "      <th>Price negotiable</th>\n",
              "      <td>415</td>\n",
              "      <td>315</td>\n",
              "      <td>SPB 2.0 TDI S tronic Sport</td>\n",
              "      <td>7</td>\n",
              "      <td>426</td>\n",
              "      <td>9</td>\n",
              "      <td>Sedans</td>\n",
              "      <td>286</td>\n",
              "      <td>426</td>\n",
              "      <td>3</td>\n",
              "      <td>Used</td>\n",
              "      <td>421</td>\n",
              "      <td>426</td>\n",
              "      <td>3</td>\n",
              "      <td>Audi</td>\n",
              "      <td>182</td>\n",
              "      <td>426</td>\n",
              "      <td>7</td>\n",
              "      <td>A3</td>\n",
              "      <td>101</td>\n",
              "      <td>426</td>\n",
              "      <td>10</td>\n",
              "      <td>Black</td>\n",
              "      <td>109</td>\n",
              "      <td>245</td>\n",
              "      <td>1</td>\n",
              "      <td>Metallic</td>\n",
              "      <td>245</td>\n",
              "      <td>17</td>\n",
              "      <td>17</td>\n",
              "      <td>Floretzilver (grijs metal</td>\n",
              "      <td>1</td>\n",
              "      <td>134</td>\n",
              "      <td>7</td>\n",
              "      <td>Cloth</td>\n",
              "      <td>75</td>\n",
              "      <td>426</td>\n",
              "      <td>3</td>\n",
              "      <td>Manual</td>\n",
              "      <td>204</td>\n",
              "      <td>95</td>\n",
              "      <td>2</td>\n",
              "      <td>front</td>\n",
              "      <td>92</td>\n",
              "      <td>426</td>\n",
              "      <td>4</td>\n",
              "      <td>Diesel</td>\n",
              "      <td>223</td>\n",
              "      <td>401</td>\n",
              "      <td>6</td>\n",
              "      <td>Euro 6</td>\n",
              "      <td>361</td>\n",
              "      <td>423</td>\n",
              "      <td>333</td>\n",
              "      <td>Air conditioning,Seat ventilation,Split rear s...</td>\n",
              "      <td>15</td>\n",
              "      <td>414</td>\n",
              "      <td>100</td>\n",
              "      <td>Bluetooth,CD player,Hands-free equipment,MP3,O...</td>\n",
              "      <td>32</td>\n",
              "      <td>372</td>\n",
              "      <td>139</td>\n",
              "      <td>Alloy wheels</td>\n",
              "      <td>71</td>\n",
              "      <td>422</td>\n",
              "      <td>298</td>\n",
              "      <td>ABS,Adaptive Cruise Control,Alarm system,Centr...</td>\n",
              "      <td>12</td>\n",
              "      <td>43</td>\n",
              "      <td>6</td>\n",
              "      <td>Italy</td>\n",
              "      <td>14</td>\n",
              "    </tr>\n",
              "    <tr>\n",
              "      <th>VAT deductible</th>\n",
              "      <td>10973</td>\n",
              "      <td>7458</td>\n",
              "      <td>SPB 1.6 TDI 116 CV S tronic Sport</td>\n",
              "      <td>42</td>\n",
              "      <td>10980</td>\n",
              "      <td>9</td>\n",
              "      <td>Sedans</td>\n",
              "      <td>5248</td>\n",
              "      <td>10980</td>\n",
              "      <td>5</td>\n",
              "      <td>Used</td>\n",
              "      <td>6787</td>\n",
              "      <td>10980</td>\n",
              "      <td>3</td>\n",
              "      <td>Opel</td>\n",
              "      <td>5415</td>\n",
              "      <td>10980</td>\n",
              "      <td>9</td>\n",
              "      <td>A3</td>\n",
              "      <td>2209</td>\n",
              "      <td>10586</td>\n",
              "      <td>13</td>\n",
              "      <td>Black</td>\n",
              "      <td>2704</td>\n",
              "      <td>7558</td>\n",
              "      <td>3</td>\n",
              "      <td>Metallic</td>\n",
              "      <td>7312</td>\n",
              "      <td>9543</td>\n",
              "      <td>1568</td>\n",
              "      <td>Onyx Schwarz</td>\n",
              "      <td>314</td>\n",
              "      <td>9780</td>\n",
              "      <td>12</td>\n",
              "      <td>Cloth</td>\n",
              "      <td>6810</td>\n",
              "      <td>10980</td>\n",
              "      <td>3</td>\n",
              "      <td>Manual</td>\n",
              "      <td>5502</td>\n",
              "      <td>6876</td>\n",
              "      <td>2</td>\n",
              "      <td>front</td>\n",
              "      <td>6762</td>\n",
              "      <td>10980</td>\n",
              "      <td>4</td>\n",
              "      <td>Benzine</td>\n",
              "      <td>6183</td>\n",
              "      <td>8801</td>\n",
              "      <td>6</td>\n",
              "      <td>Euro 6</td>\n",
              "      <td>6915</td>\n",
              "      <td>10811</td>\n",
              "      <td>4368</td>\n",
              "      <td>Air conditioning,Electrical side mirrors,Hill ...</td>\n",
              "      <td>163</td>\n",
              "      <td>10609</td>\n",
              "      <td>300</td>\n",
              "      <td>Bluetooth,Hands-free equipment,On-board comput...</td>\n",
              "      <td>1088</td>\n",
              "      <td>9471</td>\n",
              "      <td>498</td>\n",
              "      <td>Alloy wheels</td>\n",
              "      <td>2092</td>\n",
              "      <td>10782</td>\n",
              "      <td>2973</td>\n",
              "      <td>ABS,Central door lock,Daytime running lights,D...</td>\n",
              "      <td>461</td>\n",
              "      <td>5966</td>\n",
              "      <td>20</td>\n",
              "      <td>Germany</td>\n",
              "      <td>3812</td>\n",
              "    </tr>\n",
              "  </tbody>\n",
              "</table>\n",
              "</div>\n",
              "      <button class=\"colab-df-convert\" onclick=\"convertToInteractive('df-53ab6e83-646f-450b-bfef-a96bb26ee928')\"\n",
              "              title=\"Convert this dataframe to an interactive table.\"\n",
              "              style=\"display:none;\">\n",
              "        \n",
              "  <svg xmlns=\"http://www.w3.org/2000/svg\" height=\"24px\"viewBox=\"0 0 24 24\"\n",
              "       width=\"24px\">\n",
              "    <path d=\"M0 0h24v24H0V0z\" fill=\"none\"/>\n",
              "    <path d=\"M18.56 5.44l.94 2.06.94-2.06 2.06-.94-2.06-.94-.94-2.06-.94 2.06-2.06.94zm-11 1L8.5 8.5l.94-2.06 2.06-.94-2.06-.94L8.5 2.5l-.94 2.06-2.06.94zm10 10l.94 2.06.94-2.06 2.06-.94-2.06-.94-.94-2.06-.94 2.06-2.06.94z\"/><path d=\"M17.41 7.96l-1.37-1.37c-.4-.4-.92-.59-1.43-.59-.52 0-1.04.2-1.43.59L10.3 9.45l-7.72 7.72c-.78.78-.78 2.05 0 2.83L4 21.41c.39.39.9.59 1.41.59.51 0 1.02-.2 1.41-.59l7.78-7.78 2.81-2.81c.8-.78.8-2.07 0-2.86zM5.41 20L4 18.59l7.72-7.72 1.47 1.35L5.41 20z\"/>\n",
              "  </svg>\n",
              "      </button>\n",
              "      \n",
              "  <style>\n",
              "    .colab-df-container {\n",
              "      display:flex;\n",
              "      flex-wrap:wrap;\n",
              "      gap: 12px;\n",
              "    }\n",
              "\n",
              "    .colab-df-convert {\n",
              "      background-color: #E8F0FE;\n",
              "      border: none;\n",
              "      border-radius: 50%;\n",
              "      cursor: pointer;\n",
              "      display: none;\n",
              "      fill: #1967D2;\n",
              "      height: 32px;\n",
              "      padding: 0 0 0 0;\n",
              "      width: 32px;\n",
              "    }\n",
              "\n",
              "    .colab-df-convert:hover {\n",
              "      background-color: #E2EBFA;\n",
              "      box-shadow: 0px 1px 2px rgba(60, 64, 67, 0.3), 0px 1px 3px 1px rgba(60, 64, 67, 0.15);\n",
              "      fill: #174EA6;\n",
              "    }\n",
              "\n",
              "    [theme=dark] .colab-df-convert {\n",
              "      background-color: #3B4455;\n",
              "      fill: #D2E3FC;\n",
              "    }\n",
              "\n",
              "    [theme=dark] .colab-df-convert:hover {\n",
              "      background-color: #434B5C;\n",
              "      box-shadow: 0px 1px 3px 1px rgba(0, 0, 0, 0.15);\n",
              "      filter: drop-shadow(0px 1px 2px rgba(0, 0, 0, 0.3));\n",
              "      fill: #FFFFFF;\n",
              "    }\n",
              "  </style>\n",
              "\n",
              "      <script>\n",
              "        const buttonEl =\n",
              "          document.querySelector('#df-53ab6e83-646f-450b-bfef-a96bb26ee928 button.colab-df-convert');\n",
              "        buttonEl.style.display =\n",
              "          google.colab.kernel.accessAllowed ? 'block' : 'none';\n",
              "\n",
              "        async function convertToInteractive(key) {\n",
              "          const element = document.querySelector('#df-53ab6e83-646f-450b-bfef-a96bb26ee928');\n",
              "          const dataTable =\n",
              "            await google.colab.kernel.invokeFunction('convertToInteractive',\n",
              "                                                     [key], {});\n",
              "          if (!dataTable) return;\n",
              "\n",
              "          const docLinkHtml = 'Like what you see? Visit the ' +\n",
              "            '<a target=\"_blank\" href=https://colab.research.google.com/notebooks/data_table.ipynb>data table notebook</a>'\n",
              "            + ' to learn more about interactive tables.';\n",
              "          element.innerHTML = '';\n",
              "          dataTable['output_type'] = 'display_data';\n",
              "          await google.colab.output.renderOutput(dataTable, element);\n",
              "          const docLink = document.createElement('div');\n",
              "          docLink.innerHTML = docLinkHtml;\n",
              "          element.appendChild(docLink);\n",
              "        }\n",
              "      </script>\n",
              "    </div>\n",
              "  </div>\n",
              "  "
            ]
          },
          "metadata": {},
          "execution_count": 21
        }
      ]
    },
    {
      "cell_type": "code",
      "source": [
        "\n",
        "df.groupby(\"vat\").describe()"
      ],
      "metadata": {
        "colab": {
          "base_uri": "https://localhost:8080/",
          "height": 274
        },
        "id": "WDhHTRsLQ4oV",
        "outputId": "91d17114-3066-4b53-ac36-78583b107f09"
      },
      "execution_count": 22,
      "outputs": [
        {
          "output_type": "execute_result",
          "data": {
            "text/plain": [
              "                   price_€                                                  \\\n",
              "                     count      mean      std      min       25%       50%   \n",
              "vat                                                                          \n",
              "Price negotiable   426.000 16097.153 6345.227 6250.000 11900.000 15449.500   \n",
              "VAT deductible   10980.000 18708.520 7490.561 4990.000 13490.000 17850.000   \n",
              "\n",
              "                                            km                            \\\n",
              "                       75%       max     count      mean       std   min   \n",
              "vat                                                                        \n",
              "Price negotiable 18967.500 57400.000   426.000 45804.671 32718.334 1.000   \n",
              "VAT deductible   22720.000 74600.000 10196.000 31506.393 38380.170 0.000   \n",
              "\n",
              "                                                          registration  \\\n",
              "                       25%       50%       75%        max        count   \n",
              "vat                                                                      \n",
              "Price negotiable 21000.000 38500.000 62775.000 185000.000      426.000   \n",
              "VAT deductible    2499.000 19007.000 42210.500 291800.000     9652.000   \n",
              "\n",
              "                                                                              \\\n",
              "                     mean   std      min      25%      50%      75%      max   \n",
              "vat                                                                            \n",
              "Price negotiable 2016.660 0.763 2016.000 2016.000 2016.000 2017.000 2019.000   \n",
              "VAT deductible   2017.648 1.067 2016.000 2017.000 2018.000 2018.000 2019.000   \n",
              "\n",
              "                 prev_owner                                            \\\n",
              "                      count  mean   std   min   25%   50%   75%   max   \n",
              "vat                                                                     \n",
              "Price negotiable    266.000 1.350 0.544 1.000 1.000 1.000 2.000 4.000   \n",
              "VAT deductible     6777.000 1.042 0.204 1.000 1.000 1.000 1.000 3.000   \n",
              "\n",
              "                     hp_kW                                                     \\\n",
              "                     count   mean    std    min    25%    50%     75%     max   \n",
              "vat                                                                             \n",
              "Price negotiable   426.000 88.998 29.264 51.000 66.000 85.000 103.000 294.000   \n",
              "VAT deductible   10929.000 89.466 26.262 44.000 66.000 85.000 104.000 294.000   \n",
              "\n",
              "                 previous_owners                                            \\\n",
              "                           count  mean   std   min   25%   50%   75%   max   \n",
              "vat                                                                          \n",
              "Price negotiable         266.000 1.350 0.544 1.000 1.000 1.000 2.000 4.000   \n",
              "VAT deductible          6907.000 1.022 0.246 0.000 1.000 1.000 1.000 3.000   \n",
              "\n",
              "                 warranty                                                   \\\n",
              "                    count   mean    std    min    25%    50%    75%    max   \n",
              "vat                                                                          \n",
              "Price negotiable   28.000 16.286 10.937 12.000 12.000 12.000 12.000 60.000   \n",
              "VAT deductible   3351.000 23.916 16.948  1.000 12.000 12.000 24.000 72.000   \n",
              "\n",
              "                 nr._of_doors                                            \\\n",
              "                        count  mean   std   min   25%   50%   75%   max   \n",
              "vat                                                                       \n",
              "Price negotiable      421.000 4.665 0.736 2.000 5.000 5.000 5.000 7.000   \n",
              "VAT deductible      10820.000 4.648 0.627 1.000 4.000 5.000 5.000 5.000   \n",
              "\n",
              "                 nr._of_seats                                            \\\n",
              "                        count  mean   std   min   25%   50%   75%   max   \n",
              "vat                                                                       \n",
              "Price negotiable      413.000 4.877 0.584 2.000 5.000 5.000 5.000 7.000   \n",
              "VAT deductible      10314.000 4.968 0.430 2.000 5.000 5.000 5.000 7.000   \n",
              "\n",
              "                 engine_displacement_cc                                    \\\n",
              "                                  count     mean     std     min      25%   \n",
              "vat                                                                         \n",
              "Price negotiable                416.000 1487.892 774.517 898.000 1229.000   \n",
              "VAT deductible                10729.000 1421.270 327.305   1.000 1229.000   \n",
              "\n",
              "                                             cylinders                    \\\n",
              "                      50%      75%       max     count  mean   std   min   \n",
              "vat                                                                        \n",
              "Price negotiable 1461.000 1598.000 16000.000   410.000 3.817 0.440 3.000   \n",
              "VAT deductible   1461.000 1598.000 15898.000  6794.000 3.772 0.424 1.000   \n",
              "\n",
              "                                         weight_kg                            \\\n",
              "                   25%   50%   75%   max     count     mean     std      min   \n",
              "vat                                                                            \n",
              "Price negotiable 4.000 4.000 4.000 6.000   403.000 1334.950 208.951 1010.000   \n",
              "VAT deductible   4.000 4.000 4.000 6.000  5632.000 1361.925 221.296    1.000   \n",
              "\n",
              "                                                       co2e_g                  \\\n",
              "                      25%      50%      75%      max    count    mean     std   \n",
              "vat                                                                             \n",
              "Price negotiable 1165.000 1278.000 1415.000 2295.000  406.000 113.192  19.089   \n",
              "VAT deductible   1180.000 1308.000 1503.000 2471.000 9684.000 127.441 318.250   \n",
              "\n",
              "                                                             gears        \\\n",
              "                    min     25%     50%     75%       max    count  mean   \n",
              "vat                                                                        \n",
              "Price negotiable 36.000  99.000 111.500 124.000   239.000  418.000 5.952   \n",
              "VAT deductible   14.000 105.000 117.000 132.000 14457.000 7484.000 5.956   \n",
              "\n",
              "                                                      consumption_comb        \\\n",
              "                   std   min   25%   50%   75%    max            count  mean   \n",
              "vat                                                                            \n",
              "Price negotiable 0.715 5.000 5.000 6.000 6.000  8.000          371.000 4.622   \n",
              "VAT deductible   0.899 1.000 5.000 6.000 6.000 50.000         8604.000 4.935   \n",
              "\n",
              "                                                     consumption_city        \\\n",
              "                   std   min   25%   50%   75%   max            count  mean   \n",
              "vat                                                                           \n",
              "Price negotiable 0.882 1.600 3.900 4.500 5.300 9.100          344.000 5.675   \n",
              "VAT deductible   0.908 3.100 4.200 4.900 5.600 8.700         8554.000 6.079   \n",
              "\n",
              "                                                      consumption_country  \\\n",
              "                   std   min   25%   50%   75%    max               count   \n",
              "vat                                                                         \n",
              "Price negotiable 1.354 3.300 4.600 5.500 6.800 11.300             387.000   \n",
              "VAT deductible   1.405 3.300 4.800 5.900 7.200 16.100            9021.000   \n",
              "\n",
              "                                                            \n",
              "                  mean   std   min   25%   50%   75%   max  \n",
              "vat                                                         \n",
              "Price negotiable 4.063 0.639 3.100 3.600 3.900 4.400 7.800  \n",
              "VAT deductible   4.274 0.683 2.900 3.800 4.200 4.700 7.800  "
            ],
            "text/html": [
              "\n",
              "  <div id=\"df-5b82b3ec-ce10-4c5c-bd0b-f7feff217737\">\n",
              "    <div class=\"colab-df-container\">\n",
              "      <div>\n",
              "<style scoped>\n",
              "    .dataframe tbody tr th:only-of-type {\n",
              "        vertical-align: middle;\n",
              "    }\n",
              "\n",
              "    .dataframe tbody tr th {\n",
              "        vertical-align: top;\n",
              "    }\n",
              "\n",
              "    .dataframe thead tr th {\n",
              "        text-align: left;\n",
              "    }\n",
              "\n",
              "    .dataframe thead tr:last-of-type th {\n",
              "        text-align: right;\n",
              "    }\n",
              "</style>\n",
              "<table border=\"1\" class=\"dataframe\">\n",
              "  <thead>\n",
              "    <tr>\n",
              "      <th></th>\n",
              "      <th colspan=\"8\" halign=\"left\">price_€</th>\n",
              "      <th colspan=\"8\" halign=\"left\">km</th>\n",
              "      <th colspan=\"8\" halign=\"left\">registration</th>\n",
              "      <th colspan=\"8\" halign=\"left\">prev_owner</th>\n",
              "      <th colspan=\"8\" halign=\"left\">hp_kW</th>\n",
              "      <th colspan=\"8\" halign=\"left\">previous_owners</th>\n",
              "      <th colspan=\"8\" halign=\"left\">warranty</th>\n",
              "      <th colspan=\"8\" halign=\"left\">nr._of_doors</th>\n",
              "      <th colspan=\"8\" halign=\"left\">nr._of_seats</th>\n",
              "      <th colspan=\"8\" halign=\"left\">engine_displacement_cc</th>\n",
              "      <th colspan=\"8\" halign=\"left\">cylinders</th>\n",
              "      <th colspan=\"8\" halign=\"left\">weight_kg</th>\n",
              "      <th colspan=\"8\" halign=\"left\">co2e_g</th>\n",
              "      <th colspan=\"8\" halign=\"left\">gears</th>\n",
              "      <th colspan=\"8\" halign=\"left\">consumption_comb</th>\n",
              "      <th colspan=\"8\" halign=\"left\">consumption_city</th>\n",
              "      <th colspan=\"8\" halign=\"left\">consumption_country</th>\n",
              "    </tr>\n",
              "    <tr>\n",
              "      <th></th>\n",
              "      <th>count</th>\n",
              "      <th>mean</th>\n",
              "      <th>std</th>\n",
              "      <th>min</th>\n",
              "      <th>25%</th>\n",
              "      <th>50%</th>\n",
              "      <th>75%</th>\n",
              "      <th>max</th>\n",
              "      <th>count</th>\n",
              "      <th>mean</th>\n",
              "      <th>std</th>\n",
              "      <th>min</th>\n",
              "      <th>25%</th>\n",
              "      <th>50%</th>\n",
              "      <th>75%</th>\n",
              "      <th>max</th>\n",
              "      <th>count</th>\n",
              "      <th>mean</th>\n",
              "      <th>std</th>\n",
              "      <th>min</th>\n",
              "      <th>25%</th>\n",
              "      <th>50%</th>\n",
              "      <th>75%</th>\n",
              "      <th>max</th>\n",
              "      <th>count</th>\n",
              "      <th>mean</th>\n",
              "      <th>std</th>\n",
              "      <th>min</th>\n",
              "      <th>25%</th>\n",
              "      <th>50%</th>\n",
              "      <th>75%</th>\n",
              "      <th>max</th>\n",
              "      <th>count</th>\n",
              "      <th>mean</th>\n",
              "      <th>std</th>\n",
              "      <th>min</th>\n",
              "      <th>25%</th>\n",
              "      <th>50%</th>\n",
              "      <th>75%</th>\n",
              "      <th>max</th>\n",
              "      <th>count</th>\n",
              "      <th>mean</th>\n",
              "      <th>std</th>\n",
              "      <th>min</th>\n",
              "      <th>25%</th>\n",
              "      <th>50%</th>\n",
              "      <th>75%</th>\n",
              "      <th>max</th>\n",
              "      <th>count</th>\n",
              "      <th>mean</th>\n",
              "      <th>std</th>\n",
              "      <th>min</th>\n",
              "      <th>25%</th>\n",
              "      <th>50%</th>\n",
              "      <th>75%</th>\n",
              "      <th>max</th>\n",
              "      <th>count</th>\n",
              "      <th>mean</th>\n",
              "      <th>std</th>\n",
              "      <th>min</th>\n",
              "      <th>25%</th>\n",
              "      <th>50%</th>\n",
              "      <th>75%</th>\n",
              "      <th>max</th>\n",
              "      <th>count</th>\n",
              "      <th>mean</th>\n",
              "      <th>std</th>\n",
              "      <th>min</th>\n",
              "      <th>25%</th>\n",
              "      <th>50%</th>\n",
              "      <th>75%</th>\n",
              "      <th>max</th>\n",
              "      <th>count</th>\n",
              "      <th>mean</th>\n",
              "      <th>std</th>\n",
              "      <th>min</th>\n",
              "      <th>25%</th>\n",
              "      <th>50%</th>\n",
              "      <th>75%</th>\n",
              "      <th>max</th>\n",
              "      <th>count</th>\n",
              "      <th>mean</th>\n",
              "      <th>std</th>\n",
              "      <th>min</th>\n",
              "      <th>25%</th>\n",
              "      <th>50%</th>\n",
              "      <th>75%</th>\n",
              "      <th>max</th>\n",
              "      <th>count</th>\n",
              "      <th>mean</th>\n",
              "      <th>std</th>\n",
              "      <th>min</th>\n",
              "      <th>25%</th>\n",
              "      <th>50%</th>\n",
              "      <th>75%</th>\n",
              "      <th>max</th>\n",
              "      <th>count</th>\n",
              "      <th>mean</th>\n",
              "      <th>std</th>\n",
              "      <th>min</th>\n",
              "      <th>25%</th>\n",
              "      <th>50%</th>\n",
              "      <th>75%</th>\n",
              "      <th>max</th>\n",
              "      <th>count</th>\n",
              "      <th>mean</th>\n",
              "      <th>std</th>\n",
              "      <th>min</th>\n",
              "      <th>25%</th>\n",
              "      <th>50%</th>\n",
              "      <th>75%</th>\n",
              "      <th>max</th>\n",
              "      <th>count</th>\n",
              "      <th>mean</th>\n",
              "      <th>std</th>\n",
              "      <th>min</th>\n",
              "      <th>25%</th>\n",
              "      <th>50%</th>\n",
              "      <th>75%</th>\n",
              "      <th>max</th>\n",
              "      <th>count</th>\n",
              "      <th>mean</th>\n",
              "      <th>std</th>\n",
              "      <th>min</th>\n",
              "      <th>25%</th>\n",
              "      <th>50%</th>\n",
              "      <th>75%</th>\n",
              "      <th>max</th>\n",
              "      <th>count</th>\n",
              "      <th>mean</th>\n",
              "      <th>std</th>\n",
              "      <th>min</th>\n",
              "      <th>25%</th>\n",
              "      <th>50%</th>\n",
              "      <th>75%</th>\n",
              "      <th>max</th>\n",
              "    </tr>\n",
              "    <tr>\n",
              "      <th>vat</th>\n",
              "      <th></th>\n",
              "      <th></th>\n",
              "      <th></th>\n",
              "      <th></th>\n",
              "      <th></th>\n",
              "      <th></th>\n",
              "      <th></th>\n",
              "      <th></th>\n",
              "      <th></th>\n",
              "      <th></th>\n",
              "      <th></th>\n",
              "      <th></th>\n",
              "      <th></th>\n",
              "      <th></th>\n",
              "      <th></th>\n",
              "      <th></th>\n",
              "      <th></th>\n",
              "      <th></th>\n",
              "      <th></th>\n",
              "      <th></th>\n",
              "      <th></th>\n",
              "      <th></th>\n",
              "      <th></th>\n",
              "      <th></th>\n",
              "      <th></th>\n",
              "      <th></th>\n",
              "      <th></th>\n",
              "      <th></th>\n",
              "      <th></th>\n",
              "      <th></th>\n",
              "      <th></th>\n",
              "      <th></th>\n",
              "      <th></th>\n",
              "      <th></th>\n",
              "      <th></th>\n",
              "      <th></th>\n",
              "      <th></th>\n",
              "      <th></th>\n",
              "      <th></th>\n",
              "      <th></th>\n",
              "      <th></th>\n",
              "      <th></th>\n",
              "      <th></th>\n",
              "      <th></th>\n",
              "      <th></th>\n",
              "      <th></th>\n",
              "      <th></th>\n",
              "      <th></th>\n",
              "      <th></th>\n",
              "      <th></th>\n",
              "      <th></th>\n",
              "      <th></th>\n",
              "      <th></th>\n",
              "      <th></th>\n",
              "      <th></th>\n",
              "      <th></th>\n",
              "      <th></th>\n",
              "      <th></th>\n",
              "      <th></th>\n",
              "      <th></th>\n",
              "      <th></th>\n",
              "      <th></th>\n",
              "      <th></th>\n",
              "      <th></th>\n",
              "      <th></th>\n",
              "      <th></th>\n",
              "      <th></th>\n",
              "      <th></th>\n",
              "      <th></th>\n",
              "      <th></th>\n",
              "      <th></th>\n",
              "      <th></th>\n",
              "      <th></th>\n",
              "      <th></th>\n",
              "      <th></th>\n",
              "      <th></th>\n",
              "      <th></th>\n",
              "      <th></th>\n",
              "      <th></th>\n",
              "      <th></th>\n",
              "      <th></th>\n",
              "      <th></th>\n",
              "      <th></th>\n",
              "      <th></th>\n",
              "      <th></th>\n",
              "      <th></th>\n",
              "      <th></th>\n",
              "      <th></th>\n",
              "      <th></th>\n",
              "      <th></th>\n",
              "      <th></th>\n",
              "      <th></th>\n",
              "      <th></th>\n",
              "      <th></th>\n",
              "      <th></th>\n",
              "      <th></th>\n",
              "      <th></th>\n",
              "      <th></th>\n",
              "      <th></th>\n",
              "      <th></th>\n",
              "      <th></th>\n",
              "      <th></th>\n",
              "      <th></th>\n",
              "      <th></th>\n",
              "      <th></th>\n",
              "      <th></th>\n",
              "      <th></th>\n",
              "      <th></th>\n",
              "      <th></th>\n",
              "      <th></th>\n",
              "      <th></th>\n",
              "      <th></th>\n",
              "      <th></th>\n",
              "      <th></th>\n",
              "      <th></th>\n",
              "      <th></th>\n",
              "      <th></th>\n",
              "      <th></th>\n",
              "      <th></th>\n",
              "      <th></th>\n",
              "      <th></th>\n",
              "      <th></th>\n",
              "      <th></th>\n",
              "      <th></th>\n",
              "      <th></th>\n",
              "      <th></th>\n",
              "      <th></th>\n",
              "      <th></th>\n",
              "      <th></th>\n",
              "      <th></th>\n",
              "      <th></th>\n",
              "      <th></th>\n",
              "      <th></th>\n",
              "      <th></th>\n",
              "      <th></th>\n",
              "      <th></th>\n",
              "    </tr>\n",
              "  </thead>\n",
              "  <tbody>\n",
              "    <tr>\n",
              "      <th>Price negotiable</th>\n",
              "      <td>426.000</td>\n",
              "      <td>16097.153</td>\n",
              "      <td>6345.227</td>\n",
              "      <td>6250.000</td>\n",
              "      <td>11900.000</td>\n",
              "      <td>15449.500</td>\n",
              "      <td>18967.500</td>\n",
              "      <td>57400.000</td>\n",
              "      <td>426.000</td>\n",
              "      <td>45804.671</td>\n",
              "      <td>32718.334</td>\n",
              "      <td>1.000</td>\n",
              "      <td>21000.000</td>\n",
              "      <td>38500.000</td>\n",
              "      <td>62775.000</td>\n",
              "      <td>185000.000</td>\n",
              "      <td>426.000</td>\n",
              "      <td>2016.660</td>\n",
              "      <td>0.763</td>\n",
              "      <td>2016.000</td>\n",
              "      <td>2016.000</td>\n",
              "      <td>2016.000</td>\n",
              "      <td>2017.000</td>\n",
              "      <td>2019.000</td>\n",
              "      <td>266.000</td>\n",
              "      <td>1.350</td>\n",
              "      <td>0.544</td>\n",
              "      <td>1.000</td>\n",
              "      <td>1.000</td>\n",
              "      <td>1.000</td>\n",
              "      <td>2.000</td>\n",
              "      <td>4.000</td>\n",
              "      <td>426.000</td>\n",
              "      <td>88.998</td>\n",
              "      <td>29.264</td>\n",
              "      <td>51.000</td>\n",
              "      <td>66.000</td>\n",
              "      <td>85.000</td>\n",
              "      <td>103.000</td>\n",
              "      <td>294.000</td>\n",
              "      <td>266.000</td>\n",
              "      <td>1.350</td>\n",
              "      <td>0.544</td>\n",
              "      <td>1.000</td>\n",
              "      <td>1.000</td>\n",
              "      <td>1.000</td>\n",
              "      <td>2.000</td>\n",
              "      <td>4.000</td>\n",
              "      <td>28.000</td>\n",
              "      <td>16.286</td>\n",
              "      <td>10.937</td>\n",
              "      <td>12.000</td>\n",
              "      <td>12.000</td>\n",
              "      <td>12.000</td>\n",
              "      <td>12.000</td>\n",
              "      <td>60.000</td>\n",
              "      <td>421.000</td>\n",
              "      <td>4.665</td>\n",
              "      <td>0.736</td>\n",
              "      <td>2.000</td>\n",
              "      <td>5.000</td>\n",
              "      <td>5.000</td>\n",
              "      <td>5.000</td>\n",
              "      <td>7.000</td>\n",
              "      <td>413.000</td>\n",
              "      <td>4.877</td>\n",
              "      <td>0.584</td>\n",
              "      <td>2.000</td>\n",
              "      <td>5.000</td>\n",
              "      <td>5.000</td>\n",
              "      <td>5.000</td>\n",
              "      <td>7.000</td>\n",
              "      <td>416.000</td>\n",
              "      <td>1487.892</td>\n",
              "      <td>774.517</td>\n",
              "      <td>898.000</td>\n",
              "      <td>1229.000</td>\n",
              "      <td>1461.000</td>\n",
              "      <td>1598.000</td>\n",
              "      <td>16000.000</td>\n",
              "      <td>410.000</td>\n",
              "      <td>3.817</td>\n",
              "      <td>0.440</td>\n",
              "      <td>3.000</td>\n",
              "      <td>4.000</td>\n",
              "      <td>4.000</td>\n",
              "      <td>4.000</td>\n",
              "      <td>6.000</td>\n",
              "      <td>403.000</td>\n",
              "      <td>1334.950</td>\n",
              "      <td>208.951</td>\n",
              "      <td>1010.000</td>\n",
              "      <td>1165.000</td>\n",
              "      <td>1278.000</td>\n",
              "      <td>1415.000</td>\n",
              "      <td>2295.000</td>\n",
              "      <td>406.000</td>\n",
              "      <td>113.192</td>\n",
              "      <td>19.089</td>\n",
              "      <td>36.000</td>\n",
              "      <td>99.000</td>\n",
              "      <td>111.500</td>\n",
              "      <td>124.000</td>\n",
              "      <td>239.000</td>\n",
              "      <td>418.000</td>\n",
              "      <td>5.952</td>\n",
              "      <td>0.715</td>\n",
              "      <td>5.000</td>\n",
              "      <td>5.000</td>\n",
              "      <td>6.000</td>\n",
              "      <td>6.000</td>\n",
              "      <td>8.000</td>\n",
              "      <td>371.000</td>\n",
              "      <td>4.622</td>\n",
              "      <td>0.882</td>\n",
              "      <td>1.600</td>\n",
              "      <td>3.900</td>\n",
              "      <td>4.500</td>\n",
              "      <td>5.300</td>\n",
              "      <td>9.100</td>\n",
              "      <td>344.000</td>\n",
              "      <td>5.675</td>\n",
              "      <td>1.354</td>\n",
              "      <td>3.300</td>\n",
              "      <td>4.600</td>\n",
              "      <td>5.500</td>\n",
              "      <td>6.800</td>\n",
              "      <td>11.300</td>\n",
              "      <td>387.000</td>\n",
              "      <td>4.063</td>\n",
              "      <td>0.639</td>\n",
              "      <td>3.100</td>\n",
              "      <td>3.600</td>\n",
              "      <td>3.900</td>\n",
              "      <td>4.400</td>\n",
              "      <td>7.800</td>\n",
              "    </tr>\n",
              "    <tr>\n",
              "      <th>VAT deductible</th>\n",
              "      <td>10980.000</td>\n",
              "      <td>18708.520</td>\n",
              "      <td>7490.561</td>\n",
              "      <td>4990.000</td>\n",
              "      <td>13490.000</td>\n",
              "      <td>17850.000</td>\n",
              "      <td>22720.000</td>\n",
              "      <td>74600.000</td>\n",
              "      <td>10196.000</td>\n",
              "      <td>31506.393</td>\n",
              "      <td>38380.170</td>\n",
              "      <td>0.000</td>\n",
              "      <td>2499.000</td>\n",
              "      <td>19007.000</td>\n",
              "      <td>42210.500</td>\n",
              "      <td>291800.000</td>\n",
              "      <td>9652.000</td>\n",
              "      <td>2017.648</td>\n",
              "      <td>1.067</td>\n",
              "      <td>2016.000</td>\n",
              "      <td>2017.000</td>\n",
              "      <td>2018.000</td>\n",
              "      <td>2018.000</td>\n",
              "      <td>2019.000</td>\n",
              "      <td>6777.000</td>\n",
              "      <td>1.042</td>\n",
              "      <td>0.204</td>\n",
              "      <td>1.000</td>\n",
              "      <td>1.000</td>\n",
              "      <td>1.000</td>\n",
              "      <td>1.000</td>\n",
              "      <td>3.000</td>\n",
              "      <td>10929.000</td>\n",
              "      <td>89.466</td>\n",
              "      <td>26.262</td>\n",
              "      <td>44.000</td>\n",
              "      <td>66.000</td>\n",
              "      <td>85.000</td>\n",
              "      <td>104.000</td>\n",
              "      <td>294.000</td>\n",
              "      <td>6907.000</td>\n",
              "      <td>1.022</td>\n",
              "      <td>0.246</td>\n",
              "      <td>0.000</td>\n",
              "      <td>1.000</td>\n",
              "      <td>1.000</td>\n",
              "      <td>1.000</td>\n",
              "      <td>3.000</td>\n",
              "      <td>3351.000</td>\n",
              "      <td>23.916</td>\n",
              "      <td>16.948</td>\n",
              "      <td>1.000</td>\n",
              "      <td>12.000</td>\n",
              "      <td>12.000</td>\n",
              "      <td>24.000</td>\n",
              "      <td>72.000</td>\n",
              "      <td>10820.000</td>\n",
              "      <td>4.648</td>\n",
              "      <td>0.627</td>\n",
              "      <td>1.000</td>\n",
              "      <td>4.000</td>\n",
              "      <td>5.000</td>\n",
              "      <td>5.000</td>\n",
              "      <td>5.000</td>\n",
              "      <td>10314.000</td>\n",
              "      <td>4.968</td>\n",
              "      <td>0.430</td>\n",
              "      <td>2.000</td>\n",
              "      <td>5.000</td>\n",
              "      <td>5.000</td>\n",
              "      <td>5.000</td>\n",
              "      <td>7.000</td>\n",
              "      <td>10729.000</td>\n",
              "      <td>1421.270</td>\n",
              "      <td>327.305</td>\n",
              "      <td>1.000</td>\n",
              "      <td>1229.000</td>\n",
              "      <td>1461.000</td>\n",
              "      <td>1598.000</td>\n",
              "      <td>15898.000</td>\n",
              "      <td>6794.000</td>\n",
              "      <td>3.772</td>\n",
              "      <td>0.424</td>\n",
              "      <td>1.000</td>\n",
              "      <td>4.000</td>\n",
              "      <td>4.000</td>\n",
              "      <td>4.000</td>\n",
              "      <td>6.000</td>\n",
              "      <td>5632.000</td>\n",
              "      <td>1361.925</td>\n",
              "      <td>221.296</td>\n",
              "      <td>1.000</td>\n",
              "      <td>1180.000</td>\n",
              "      <td>1308.000</td>\n",
              "      <td>1503.000</td>\n",
              "      <td>2471.000</td>\n",
              "      <td>9684.000</td>\n",
              "      <td>127.441</td>\n",
              "      <td>318.250</td>\n",
              "      <td>14.000</td>\n",
              "      <td>105.000</td>\n",
              "      <td>117.000</td>\n",
              "      <td>132.000</td>\n",
              "      <td>14457.000</td>\n",
              "      <td>7484.000</td>\n",
              "      <td>5.956</td>\n",
              "      <td>0.899</td>\n",
              "      <td>1.000</td>\n",
              "      <td>5.000</td>\n",
              "      <td>6.000</td>\n",
              "      <td>6.000</td>\n",
              "      <td>50.000</td>\n",
              "      <td>8604.000</td>\n",
              "      <td>4.935</td>\n",
              "      <td>0.908</td>\n",
              "      <td>3.100</td>\n",
              "      <td>4.200</td>\n",
              "      <td>4.900</td>\n",
              "      <td>5.600</td>\n",
              "      <td>8.700</td>\n",
              "      <td>8554.000</td>\n",
              "      <td>6.079</td>\n",
              "      <td>1.405</td>\n",
              "      <td>3.300</td>\n",
              "      <td>4.800</td>\n",
              "      <td>5.900</td>\n",
              "      <td>7.200</td>\n",
              "      <td>16.100</td>\n",
              "      <td>9021.000</td>\n",
              "      <td>4.274</td>\n",
              "      <td>0.683</td>\n",
              "      <td>2.900</td>\n",
              "      <td>3.800</td>\n",
              "      <td>4.200</td>\n",
              "      <td>4.700</td>\n",
              "      <td>7.800</td>\n",
              "    </tr>\n",
              "  </tbody>\n",
              "</table>\n",
              "</div>\n",
              "      <button class=\"colab-df-convert\" onclick=\"convertToInteractive('df-5b82b3ec-ce10-4c5c-bd0b-f7feff217737')\"\n",
              "              title=\"Convert this dataframe to an interactive table.\"\n",
              "              style=\"display:none;\">\n",
              "        \n",
              "  <svg xmlns=\"http://www.w3.org/2000/svg\" height=\"24px\"viewBox=\"0 0 24 24\"\n",
              "       width=\"24px\">\n",
              "    <path d=\"M0 0h24v24H0V0z\" fill=\"none\"/>\n",
              "    <path d=\"M18.56 5.44l.94 2.06.94-2.06 2.06-.94-2.06-.94-.94-2.06-.94 2.06-2.06.94zm-11 1L8.5 8.5l.94-2.06 2.06-.94-2.06-.94L8.5 2.5l-.94 2.06-2.06.94zm10 10l.94 2.06.94-2.06 2.06-.94-2.06-.94-.94-2.06-.94 2.06-2.06.94z\"/><path d=\"M17.41 7.96l-1.37-1.37c-.4-.4-.92-.59-1.43-.59-.52 0-1.04.2-1.43.59L10.3 9.45l-7.72 7.72c-.78.78-.78 2.05 0 2.83L4 21.41c.39.39.9.59 1.41.59.51 0 1.02-.2 1.41-.59l7.78-7.78 2.81-2.81c.8-.78.8-2.07 0-2.86zM5.41 20L4 18.59l7.72-7.72 1.47 1.35L5.41 20z\"/>\n",
              "  </svg>\n",
              "      </button>\n",
              "      \n",
              "  <style>\n",
              "    .colab-df-container {\n",
              "      display:flex;\n",
              "      flex-wrap:wrap;\n",
              "      gap: 12px;\n",
              "    }\n",
              "\n",
              "    .colab-df-convert {\n",
              "      background-color: #E8F0FE;\n",
              "      border: none;\n",
              "      border-radius: 50%;\n",
              "      cursor: pointer;\n",
              "      display: none;\n",
              "      fill: #1967D2;\n",
              "      height: 32px;\n",
              "      padding: 0 0 0 0;\n",
              "      width: 32px;\n",
              "    }\n",
              "\n",
              "    .colab-df-convert:hover {\n",
              "      background-color: #E2EBFA;\n",
              "      box-shadow: 0px 1px 2px rgba(60, 64, 67, 0.3), 0px 1px 3px 1px rgba(60, 64, 67, 0.15);\n",
              "      fill: #174EA6;\n",
              "    }\n",
              "\n",
              "    [theme=dark] .colab-df-convert {\n",
              "      background-color: #3B4455;\n",
              "      fill: #D2E3FC;\n",
              "    }\n",
              "\n",
              "    [theme=dark] .colab-df-convert:hover {\n",
              "      background-color: #434B5C;\n",
              "      box-shadow: 0px 1px 3px 1px rgba(0, 0, 0, 0.15);\n",
              "      filter: drop-shadow(0px 1px 2px rgba(0, 0, 0, 0.3));\n",
              "      fill: #FFFFFF;\n",
              "    }\n",
              "  </style>\n",
              "\n",
              "      <script>\n",
              "        const buttonEl =\n",
              "          document.querySelector('#df-5b82b3ec-ce10-4c5c-bd0b-f7feff217737 button.colab-df-convert');\n",
              "        buttonEl.style.display =\n",
              "          google.colab.kernel.accessAllowed ? 'block' : 'none';\n",
              "\n",
              "        async function convertToInteractive(key) {\n",
              "          const element = document.querySelector('#df-5b82b3ec-ce10-4c5c-bd0b-f7feff217737');\n",
              "          const dataTable =\n",
              "            await google.colab.kernel.invokeFunction('convertToInteractive',\n",
              "                                                     [key], {});\n",
              "          if (!dataTable) return;\n",
              "\n",
              "          const docLinkHtml = 'Like what you see? Visit the ' +\n",
              "            '<a target=\"_blank\" href=https://colab.research.google.com/notebooks/data_table.ipynb>data table notebook</a>'\n",
              "            + ' to learn more about interactive tables.';\n",
              "          element.innerHTML = '';\n",
              "          dataTable['output_type'] = 'display_data';\n",
              "          await google.colab.output.renderOutput(dataTable, element);\n",
              "          const docLink = document.createElement('div');\n",
              "          docLink.innerHTML = docLinkHtml;\n",
              "          element.appendChild(docLink);\n",
              "        }\n",
              "      </script>\n",
              "    </div>\n",
              "  </div>\n",
              "  "
            ]
          },
          "metadata": {},
          "execution_count": 22
        }
      ]
    },
    {
      "cell_type": "code",
      "source": [
        "df.vat.fillna(method=\"ffill\").value_counts(dropna=False)"
      ],
      "metadata": {
        "colab": {
          "base_uri": "https://localhost:8080/"
        },
        "id": "qHeiLa1PQ4rT",
        "outputId": "6a2926f8-7965-4419-a2e6-15362375409c"
      },
      "execution_count": 23,
      "outputs": [
        {
          "output_type": "execute_result",
          "data": {
            "text/plain": [
              "VAT deductible      15048\n",
              "Price negotiable      871\n",
              "Name: vat, dtype: int64"
            ]
          },
          "metadata": {},
          "execution_count": 23
        }
      ]
    },
    {
      "cell_type": "code",
      "source": [
        "df.vat.fillna(method=\"bfill\").value_counts(dropna=False)"
      ],
      "metadata": {
        "colab": {
          "base_uri": "https://localhost:8080/"
        },
        "id": "Rx8YjUB5Q4uE",
        "outputId": "e3f4e8f5-fa3c-4a00-9a27-66a2db0a0fe1"
      },
      "execution_count": 24,
      "outputs": [
        {
          "output_type": "execute_result",
          "data": {
            "text/plain": [
              "VAT deductible      15083\n",
              "Price negotiable      836\n",
              "Name: vat, dtype: int64"
            ]
          },
          "metadata": {},
          "execution_count": 24
        }
      ]
    },
    {
      "cell_type": "code",
      "source": [
        "df.vat = df.vat.fillna(method=\"bfill\")"
      ],
      "metadata": {
        "id": "RcDa25D4Q4w4"
      },
      "execution_count": 25,
      "outputs": []
    },
    {
      "cell_type": "code",
      "source": [
        "df.vat.value_counts()"
      ],
      "metadata": {
        "colab": {
          "base_uri": "https://localhost:8080/"
        },
        "id": "CQ7kBBH_Q4zr",
        "outputId": "3719c798-9fa7-46ec-992c-7abbd9300e23"
      },
      "execution_count": 26,
      "outputs": [
        {
          "output_type": "execute_result",
          "data": {
            "text/plain": [
              "VAT deductible      15083\n",
              "Price negotiable      836\n",
              "Name: vat, dtype: int64"
            ]
          },
          "metadata": {},
          "execution_count": 26
        }
      ]
    },
    {
      "cell_type": "code",
      "source": [
        "check_df(\"vat\")"
      ],
      "metadata": {
        "colab": {
          "base_uri": "https://localhost:8080/"
        },
        "id": "qj8DDf1yQ42g",
        "outputId": "f1e54346-e11f-4e9f-c144-d89b9b23af40"
      },
      "execution_count": 27,
      "outputs": [
        {
          "output_type": "stream",
          "name": "stdout",
          "text": [
            "column name :  vat\n",
            "--------------------------------\n",
            "Per_of_Nulls   :  % 0.0\n",
            "Num_of_Nulls   :  0\n",
            "VAT deductible      15083\n",
            "Price negotiable      836\n",
            "Name: vat, dtype: int64\n",
            "******************************\n",
            "\n",
            "\n",
            "\n"
          ]
        }
      ]
    },
    {
      "cell_type": "code",
      "source": [
        "check_df(\"type\")"
      ],
      "metadata": {
        "colab": {
          "base_uri": "https://localhost:8080/"
        },
        "id": "0FBWkBsYQ45X",
        "outputId": "088fbc02-f380-4246-fd55-6b13163bfdb6"
      },
      "execution_count": 28,
      "outputs": [
        {
          "output_type": "stream",
          "name": "stdout",
          "text": [
            "column name :  type\n",
            "--------------------------------\n",
            "Per_of_Nulls   :  % 0.01\n",
            "Num_of_Nulls   :  2\n",
            "Used              11096\n",
            "New                1650\n",
            "Pre-registered     1364\n",
            "Employee's car     1011\n",
            "Demonstration       796\n",
            "NaN                   2\n",
            "Name: type, dtype: int64\n",
            "******************************\n",
            "\n",
            "\n",
            "\n"
          ]
        }
      ]
    },
    {
      "cell_type": "code",
      "source": [
        "df.type = df.type.fillna(method=\"ffill\")"
      ],
      "metadata": {
        "id": "Ycs4Rf_9Q48S"
      },
      "execution_count": 29,
      "outputs": []
    },
    {
      "cell_type": "code",
      "source": [
        "df.type.value_counts(dropna=False)"
      ],
      "metadata": {
        "colab": {
          "base_uri": "https://localhost:8080/"
        },
        "id": "VGx5RghZQ4_G",
        "outputId": "bea7c192-1bc3-46f9-cef7-c2f0fd2ef1e5"
      },
      "execution_count": 30,
      "outputs": [
        {
          "output_type": "execute_result",
          "data": {
            "text/plain": [
              "Used              11097\n",
              "New                1650\n",
              "Pre-registered     1365\n",
              "Employee's car     1011\n",
              "Demonstration       796\n",
              "Name: type, dtype: int64"
            ]
          },
          "metadata": {},
          "execution_count": 30
        }
      ]
    },
    {
      "cell_type": "code",
      "source": [
        "check_df(\"type\")"
      ],
      "metadata": {
        "colab": {
          "base_uri": "https://localhost:8080/"
        },
        "id": "2zrhWJPkQ5Bx",
        "outputId": "4afc9ead-3212-4968-d346-731d92e0f195"
      },
      "execution_count": 31,
      "outputs": [
        {
          "output_type": "stream",
          "name": "stdout",
          "text": [
            "column name :  type\n",
            "--------------------------------\n",
            "Per_of_Nulls   :  % 0.0\n",
            "Num_of_Nulls   :  0\n",
            "Used              11097\n",
            "New                1650\n",
            "Pre-registered     1365\n",
            "Employee's car     1011\n",
            "Demonstration       796\n",
            "Name: type, dtype: int64\n",
            "******************************\n",
            "\n",
            "\n",
            "\n"
          ]
        }
      ]
    },
    {
      "cell_type": "code",
      "source": [
        "age = 2019 - df.registration\n",
        "age.value_counts(dropna=False)"
      ],
      "metadata": {
        "colab": {
          "base_uri": "https://localhost:8080/"
        },
        "id": "JPA-Wv0tROxP",
        "outputId": "dab2c427-ed31-47c3-f853-509d573b4687"
      },
      "execution_count": 33,
      "outputs": [
        {
          "output_type": "execute_result",
          "data": {
            "text/plain": [
              "1.000    4522\n",
              "3.000    3674\n",
              "2.000    3273\n",
              "0.000    2853\n",
              "NaN      1597\n",
              "Name: registration, dtype: int64"
            ]
          },
          "metadata": {},
          "execution_count": 33
        }
      ]
    },
    {
      "cell_type": "code",
      "source": [
        "df[\"age\"] = age"
      ],
      "metadata": {
        "id": "eTYo4wChROzo"
      },
      "execution_count": 34,
      "outputs": []
    },
    {
      "cell_type": "code",
      "source": [
        "df.drop([\"registration\", \"short_description\"], axis=1, inplace=True)"
      ],
      "metadata": {
        "id": "39IQMEsqRO21"
      },
      "execution_count": 35,
      "outputs": []
    },
    {
      "cell_type": "code",
      "source": [
        "check_df(\"age\")"
      ],
      "metadata": {
        "colab": {
          "base_uri": "https://localhost:8080/"
        },
        "id": "J_iDEFHoRO5f",
        "outputId": "23bcd706-b4a8-40ca-e853-7dcc63e4308a"
      },
      "execution_count": 36,
      "outputs": [
        {
          "output_type": "stream",
          "name": "stdout",
          "text": [
            "column name :  age\n",
            "--------------------------------\n",
            "Per_of_Nulls   :  % 10.03\n",
            "Num_of_Nulls   :  1597\n",
            "1.000    4522\n",
            "3.000    3674\n",
            "2.000    3273\n",
            "0.000    2853\n",
            "NaN      1597\n",
            "Name: age, dtype: int64\n",
            "******************************\n",
            "\n",
            "\n",
            "\n"
          ]
        }
      ]
    },
    {
      "cell_type": "code",
      "source": [
        "df.groupby(\"type\")[\"age\"].median()"
      ],
      "metadata": {
        "colab": {
          "base_uri": "https://localhost:8080/"
        },
        "id": "wx43cYWvRO8a",
        "outputId": "6b963cd8-3454-43db-f337-4d2680181f78"
      },
      "execution_count": 37,
      "outputs": [
        {
          "output_type": "execute_result",
          "data": {
            "text/plain": [
              "type\n",
              "Demonstration    0.000\n",
              "Employee's car   1.000\n",
              "New              0.000\n",
              "Pre-registered   0.000\n",
              "Used             2.000\n",
              "Name: age, dtype: float64"
            ]
          },
          "metadata": {},
          "execution_count": 37
        }
      ]
    },
    {
      "cell_type": "code",
      "source": [
        "df[\"age\"] = df.groupby(\"type\").age.apply(lambda x: x.fillna(x.median()))"
      ],
      "metadata": {
        "id": "uWYE5M3cRO_Z"
      },
      "execution_count": 38,
      "outputs": []
    },
    {
      "cell_type": "code",
      "source": [
        "df.age.value_counts(dropna=False)"
      ],
      "metadata": {
        "colab": {
          "base_uri": "https://localhost:8080/"
        },
        "id": "D-IAlVk-RPCW",
        "outputId": "6c071afa-9b93-43f8-c18b-1a6eebd1c896"
      },
      "execution_count": 39,
      "outputs": [
        {
          "output_type": "execute_result",
          "data": {
            "text/plain": [
              "1.000    4525\n",
              "0.000    4412\n",
              "3.000    3674\n",
              "2.000    3308\n",
              "Name: age, dtype: int64"
            ]
          },
          "metadata": {},
          "execution_count": 39
        }
      ]
    },
    {
      "cell_type": "code",
      "source": [
        "check_df(\"age\")"
      ],
      "metadata": {
        "colab": {
          "base_uri": "https://localhost:8080/"
        },
        "id": "Pms4B7-KRPFP",
        "outputId": "8bc20329-3372-4403-cce9-3b26a865bbfc"
      },
      "execution_count": 40,
      "outputs": [
        {
          "output_type": "stream",
          "name": "stdout",
          "text": [
            "column name :  age\n",
            "--------------------------------\n",
            "Per_of_Nulls   :  % 0.0\n",
            "Num_of_Nulls   :  0\n",
            "1.000    4525\n",
            "0.000    4412\n",
            "3.000    3674\n",
            "2.000    3308\n",
            "Name: age, dtype: int64\n",
            "******************************\n",
            "\n",
            "\n",
            "\n"
          ]
        }
      ]
    },
    {
      "cell_type": "code",
      "source": [
        "check_df(\"km\")"
      ],
      "metadata": {
        "colab": {
          "base_uri": "https://localhost:8080/"
        },
        "id": "QhYN0GnnRPIX",
        "outputId": "49bdc928-ddc3-4fec-dc9e-0c7fe16ed230"
      },
      "execution_count": 41,
      "outputs": [
        {
          "output_type": "stream",
          "name": "stdout",
          "text": [
            "column name :  km\n",
            "--------------------------------\n",
            "Per_of_Nulls   :  % 6.43\n",
            "Num_of_Nulls   :  1024\n",
            "10.000       1045\n",
            "NaN          1024\n",
            "1.000         367\n",
            "5.000         170\n",
            "50.000        148\n",
            "             ... \n",
            "67469.000       1\n",
            "43197.000       1\n",
            "10027.000       1\n",
            "35882.000       1\n",
            "57.000          1\n",
            "Name: km, Length: 6690, dtype: int64\n",
            "******************************\n",
            "\n",
            "\n",
            "\n"
          ]
        }
      ]
    },
    {
      "cell_type": "code",
      "source": [
        "df.groupby([\"age\",\"type\"])[\"km\"].mean()"
      ],
      "metadata": {
        "colab": {
          "base_uri": "https://localhost:8080/"
        },
        "id": "AVxWILG8RPLP",
        "outputId": "467caff5-93ee-4dea-acf3-b5777e1c82a1"
      },
      "execution_count": 42,
      "outputs": [
        {
          "output_type": "execute_result",
          "data": {
            "text/plain": [
              "age    type          \n",
              "0.000  Demonstration     3373.868\n",
              "       Employee's car    4473.934\n",
              "       New                 16.987\n",
              "       Pre-registered     100.649\n",
              "       Used              3712.171\n",
              "1.000  Demonstration     8294.200\n",
              "       Employee's car   19295.278\n",
              "       New                 53.500\n",
              "       Pre-registered     435.515\n",
              "       Used             18807.503\n",
              "2.000  Demonstration    25327.296\n",
              "       Employee's car   37926.505\n",
              "       Pre-registered    1854.000\n",
              "       Used             41887.938\n",
              "3.000  Demonstration    45500.000\n",
              "       Employee's car   59123.647\n",
              "       Pre-registered      10.000\n",
              "       Used             77566.423\n",
              "Name: km, dtype: float64"
            ]
          },
          "metadata": {},
          "execution_count": 42
        }
      ]
    },
    {
      "cell_type": "code",
      "source": [
        "df.groupby([\"age\",\"type\"])[\"km\"].apply(lambda x: x.fillna(x.mean()))"
      ],
      "metadata": {
        "colab": {
          "base_uri": "https://localhost:8080/"
        },
        "id": "QKR6Z-j5Ro-W",
        "outputId": "9888e31c-28a8-4d5c-c446-f2853b43ee15"
      },
      "execution_count": 43,
      "outputs": [
        {
          "output_type": "execute_result",
          "data": {
            "text/plain": [
              "0       56013.000\n",
              "1       80000.000\n",
              "2       83450.000\n",
              "3       73000.000\n",
              "4       16200.000\n",
              "           ...   \n",
              "15914      16.987\n",
              "15915    9900.000\n",
              "15916      15.000\n",
              "15917      10.000\n",
              "15918    3373.868\n",
              "Name: km, Length: 15919, dtype: float64"
            ]
          },
          "metadata": {},
          "execution_count": 43
        }
      ]
    },
    {
      "cell_type": "code",
      "source": [
        "df[\"km\"] = df.groupby([\"age\",\"type\"])[\"km\"].apply(lambda x: x.fillna(x.mean()))"
      ],
      "metadata": {
        "id": "iWx41uTSRpBJ"
      },
      "execution_count": 44,
      "outputs": []
    },
    {
      "cell_type": "code",
      "source": [
        "df.age.value_counts(dropna=False)"
      ],
      "metadata": {
        "colab": {
          "base_uri": "https://localhost:8080/"
        },
        "id": "pX6_aC7LRpD-",
        "outputId": "249e9667-fdff-440a-b1e2-3fca22eaa9da"
      },
      "execution_count": 45,
      "outputs": [
        {
          "output_type": "execute_result",
          "data": {
            "text/plain": [
              "1.000    4525\n",
              "0.000    4412\n",
              "3.000    3674\n",
              "2.000    3308\n",
              "Name: age, dtype: int64"
            ]
          },
          "metadata": {},
          "execution_count": 45
        }
      ]
    },
    {
      "cell_type": "code",
      "source": [
        "check_df(\"km\")"
      ],
      "metadata": {
        "colab": {
          "base_uri": "https://localhost:8080/"
        },
        "id": "apyLFXObRpG8",
        "outputId": "69acccf6-7551-4ca4-a9bf-c7b51bd4da5c"
      },
      "execution_count": 46,
      "outputs": [
        {
          "output_type": "stream",
          "name": "stdout",
          "text": [
            "column name :  km\n",
            "--------------------------------\n",
            "Per_of_Nulls   :  % 0.0\n",
            "Num_of_Nulls   :  0\n",
            "10.000       1045\n",
            "16.987        848\n",
            "1.000         367\n",
            "5.000         170\n",
            "50.000        148\n",
            "             ... \n",
            "53433.000       1\n",
            "67469.000       1\n",
            "43197.000       1\n",
            "10027.000       1\n",
            "57.000          1\n",
            "Name: km, Length: 6699, dtype: int64\n",
            "******************************\n",
            "\n",
            "\n",
            "\n"
          ]
        }
      ]
    },
    {
      "cell_type": "code",
      "source": [
        "check_df(\"prev_owner\")"
      ],
      "metadata": {
        "colab": {
          "base_uri": "https://localhost:8080/"
        },
        "id": "F_aEYsL9RpJ2",
        "outputId": "3a3c15ef-954e-4916-bb33-add8456fcc3c"
      },
      "execution_count": 47,
      "outputs": [
        {
          "output_type": "stream",
          "name": "stdout",
          "text": [
            "column name :  prev_owner\n",
            "--------------------------------\n",
            "Per_of_Nulls   :  % 42.89\n",
            "Num_of_Nulls   :  6828\n",
            "1.000    8294\n",
            "NaN      6828\n",
            "2.000     778\n",
            "3.000      17\n",
            "4.000       2\n",
            "Name: prev_owner, dtype: int64\n",
            "******************************\n",
            "\n",
            "\n",
            "\n"
          ]
        }
      ]
    },
    {
      "cell_type": "code",
      "source": [
        "check_df(\"previous_owners\")"
      ],
      "metadata": {
        "colab": {
          "base_uri": "https://localhost:8080/"
        },
        "id": "sG2PrjxoRpM7",
        "outputId": "3d72dedf-16a5-44eb-fa31-c61f560ba432"
      },
      "execution_count": 48,
      "outputs": [
        {
          "output_type": "stream",
          "name": "stdout",
          "text": [
            "column name :  previous_owners\n",
            "--------------------------------\n",
            "Per_of_Nulls   :  % 41.71\n",
            "Num_of_Nulls   :  6640\n",
            "1.000    8294\n",
            "NaN      6640\n",
            "2.000     778\n",
            "0.000     188\n",
            "3.000      17\n",
            "4.000       2\n",
            "Name: previous_owners, dtype: int64\n",
            "******************************\n",
            "\n",
            "\n",
            "\n"
          ]
        }
      ]
    },
    {
      "cell_type": "code",
      "source": [
        "df.groupby(\"previous_owners\")[\"prev_owner\"].value_counts(dropna=False)"
      ],
      "metadata": {
        "colab": {
          "base_uri": "https://localhost:8080/"
        },
        "id": "UNCBh_CdRx3y",
        "outputId": "61bbe5c2-86e0-4a28-c74f-1c2925054de4"
      },
      "execution_count": 49,
      "outputs": [
        {
          "output_type": "execute_result",
          "data": {
            "text/plain": [
              "previous_owners  prev_owner\n",
              "0.000            NaN            188\n",
              "1.000            1.000         8294\n",
              "2.000            2.000          778\n",
              "3.000            3.000           17\n",
              "4.000            4.000            2\n",
              "Name: prev_owner, dtype: int64"
            ]
          },
          "metadata": {},
          "execution_count": 49
        }
      ]
    },
    {
      "cell_type": "code",
      "source": [
        "df.drop(columns=\"prev_owner\", inplace=True)"
      ],
      "metadata": {
        "id": "QqhOxn3hRx6-"
      },
      "execution_count": 50,
      "outputs": []
    },
    {
      "cell_type": "code",
      "source": [
        "df.groupby(\"age\")[\"previous_owners\"].value_counts(dropna=False)"
      ],
      "metadata": {
        "colab": {
          "base_uri": "https://localhost:8080/"
        },
        "id": "tcY_HM5JRx97",
        "outputId": "a64a82cf-d85c-474a-cf9d-26fe4fa720cd"
      },
      "execution_count": 51,
      "outputs": [
        {
          "output_type": "execute_result",
          "data": {
            "text/plain": [
              "age    previous_owners\n",
              "0.000  NaN                2653\n",
              "       1.000              1585\n",
              "       0.000               164\n",
              "       2.000                10\n",
              "1.000  1.000              2968\n",
              "       NaN                1474\n",
              "       2.000                75\n",
              "       0.000                 8\n",
              "2.000  1.000              1715\n",
              "       NaN                1283\n",
              "       2.000               296\n",
              "       3.000                 7\n",
              "       0.000                 6\n",
              "       4.000                 1\n",
              "3.000  1.000              2026\n",
              "       NaN                1230\n",
              "       2.000               397\n",
              "       0.000                10\n",
              "       3.000                10\n",
              "       4.000                 1\n",
              "Name: previous_owners, dtype: int64"
            ]
          },
          "metadata": {},
          "execution_count": 51
        }
      ]
    },
    {
      "cell_type": "code",
      "source": [
        "df.groupby(\"age\")[\"previous_owners\"].apply(lambda x: x.fillna(x.mode()[0])).value_counts()"
      ],
      "metadata": {
        "colab": {
          "base_uri": "https://localhost:8080/"
        },
        "id": "au5Zt5SlRyA2",
        "outputId": "fc54cc0e-6012-4fbd-f932-ecfc42931271"
      },
      "execution_count": 52,
      "outputs": [
        {
          "output_type": "execute_result",
          "data": {
            "text/plain": [
              "1.000    14934\n",
              "2.000      778\n",
              "0.000      188\n",
              "3.000       17\n",
              "4.000        2\n",
              "Name: previous_owners, dtype: int64"
            ]
          },
          "metadata": {},
          "execution_count": 52
        }
      ]
    },
    {
      "cell_type": "code",
      "source": [
        "df.groupby(\"type\")[\"previous_owners\"].apply(lambda x: x.fillna(x.mode()[0])).value_counts()"
      ],
      "metadata": {
        "colab": {
          "base_uri": "https://localhost:8080/"
        },
        "id": "Llb3a-ImRyDu",
        "outputId": "5a311807-44a1-4374-ed86-7d8eca214cfb"
      },
      "execution_count": 53,
      "outputs": [
        {
          "output_type": "execute_result",
          "data": {
            "text/plain": [
              "1.000    13463\n",
              "0.000     1659\n",
              "2.000      778\n",
              "3.000       17\n",
              "4.000        2\n",
              "Name: previous_owners, dtype: int64"
            ]
          },
          "metadata": {},
          "execution_count": 53
        }
      ]
    },
    {
      "cell_type": "code",
      "source": [
        "df.previous_owners = df.groupby(\"type\")[\"previous_owners\"].apply(lambda x: x.fillna(x.mode()[0]))"
      ],
      "metadata": {
        "id": "bzCMb861RyGj"
      },
      "execution_count": 54,
      "outputs": []
    },
    {
      "cell_type": "code",
      "source": [
        "df.previous_owners.value_counts(dropna=False)"
      ],
      "metadata": {
        "colab": {
          "base_uri": "https://localhost:8080/"
        },
        "id": "c6ME-sP2RyJh",
        "outputId": "21a5f0b1-94b0-4a78-80cf-76cdae7e274d"
      },
      "execution_count": 55,
      "outputs": [
        {
          "output_type": "execute_result",
          "data": {
            "text/plain": [
              "1.000    13463\n",
              "0.000     1659\n",
              "2.000      778\n",
              "3.000       17\n",
              "4.000        2\n",
              "Name: previous_owners, dtype: int64"
            ]
          },
          "metadata": {},
          "execution_count": 55
        }
      ]
    },
    {
      "cell_type": "code",
      "source": [
        "check_df(\"previous_owners\")"
      ],
      "metadata": {
        "colab": {
          "base_uri": "https://localhost:8080/"
        },
        "id": "VQxAzXF8RyMi",
        "outputId": "fde3687d-b619-401e-f3b7-6e10fb0c4a4a"
      },
      "execution_count": 56,
      "outputs": [
        {
          "output_type": "stream",
          "name": "stdout",
          "text": [
            "column name :  previous_owners\n",
            "--------------------------------\n",
            "Per_of_Nulls   :  % 0.0\n",
            "Num_of_Nulls   :  0\n",
            "1.000    13463\n",
            "0.000     1659\n",
            "2.000      778\n",
            "3.000       17\n",
            "4.000        2\n",
            "Name: previous_owners, dtype: int64\n",
            "******************************\n",
            "\n",
            "\n",
            "\n"
          ]
        }
      ]
    },
    {
      "cell_type": "code",
      "source": [
        "check_df(\"hp_kW\")"
      ],
      "metadata": {
        "colab": {
          "base_uri": "https://localhost:8080/"
        },
        "id": "89dsBQjNRyPd",
        "outputId": "2588b0f7-66ab-462d-a390-ba3ade88ab77"
      },
      "execution_count": 57,
      "outputs": [
        {
          "output_type": "stream",
          "name": "stdout",
          "text": [
            "column name :  hp_kW\n",
            "--------------------------------\n",
            "Per_of_Nulls   :  % 0.55\n",
            "Num_of_Nulls   :  88\n",
            "85.000     2542\n",
            "66.000     2122\n",
            "81.000     1402\n",
            "100.000    1308\n",
            "110.000    1112\n",
            "           ... \n",
            "84.000        1\n",
            "195.000       1\n",
            "44.000        1\n",
            "239.000       1\n",
            "9.000         1\n",
            "Name: hp_kW, Length: 81, dtype: int64\n",
            "******************************\n",
            "\n",
            "\n",
            "\n"
          ]
        }
      ]
    },
    {
      "cell_type": "code",
      "source": [
        "df[df.hp_kW.isnull()][[\"make\", \"model\"]]"
      ],
      "metadata": {
        "colab": {
          "base_uri": "https://localhost:8080/",
          "height": 424
        },
        "id": "cv8GtcG1RySL",
        "outputId": "131f415b-8ccd-4f6b-e845-fe9341a3f1e8"
      },
      "execution_count": 58,
      "outputs": [
        {
          "output_type": "execute_result",
          "data": {
            "text/plain": [
              "          make   model\n",
              "1269      Audi      A1\n",
              "2500      Audi      A1\n",
              "4259      Audi      A3\n",
              "7177      Opel   Astra\n",
              "7670      Opel   Astra\n",
              "...        ...     ...\n",
              "15641  Renault  Espace\n",
              "15647  Renault  Espace\n",
              "15684  Renault  Espace\n",
              "15791  Renault  Espace\n",
              "15906  Renault  Espace\n",
              "\n",
              "[88 rows x 2 columns]"
            ],
            "text/html": [
              "\n",
              "  <div id=\"df-ef37a5d4-02cd-4a68-85a5-ae9f2b6190a2\">\n",
              "    <div class=\"colab-df-container\">\n",
              "      <div>\n",
              "<style scoped>\n",
              "    .dataframe tbody tr th:only-of-type {\n",
              "        vertical-align: middle;\n",
              "    }\n",
              "\n",
              "    .dataframe tbody tr th {\n",
              "        vertical-align: top;\n",
              "    }\n",
              "\n",
              "    .dataframe thead th {\n",
              "        text-align: right;\n",
              "    }\n",
              "</style>\n",
              "<table border=\"1\" class=\"dataframe\">\n",
              "  <thead>\n",
              "    <tr style=\"text-align: right;\">\n",
              "      <th></th>\n",
              "      <th>make</th>\n",
              "      <th>model</th>\n",
              "    </tr>\n",
              "  </thead>\n",
              "  <tbody>\n",
              "    <tr>\n",
              "      <th>1269</th>\n",
              "      <td>Audi</td>\n",
              "      <td>A1</td>\n",
              "    </tr>\n",
              "    <tr>\n",
              "      <th>2500</th>\n",
              "      <td>Audi</td>\n",
              "      <td>A1</td>\n",
              "    </tr>\n",
              "    <tr>\n",
              "      <th>4259</th>\n",
              "      <td>Audi</td>\n",
              "      <td>A3</td>\n",
              "    </tr>\n",
              "    <tr>\n",
              "      <th>7177</th>\n",
              "      <td>Opel</td>\n",
              "      <td>Astra</td>\n",
              "    </tr>\n",
              "    <tr>\n",
              "      <th>7670</th>\n",
              "      <td>Opel</td>\n",
              "      <td>Astra</td>\n",
              "    </tr>\n",
              "    <tr>\n",
              "      <th>...</th>\n",
              "      <td>...</td>\n",
              "      <td>...</td>\n",
              "    </tr>\n",
              "    <tr>\n",
              "      <th>15641</th>\n",
              "      <td>Renault</td>\n",
              "      <td>Espace</td>\n",
              "    </tr>\n",
              "    <tr>\n",
              "      <th>15647</th>\n",
              "      <td>Renault</td>\n",
              "      <td>Espace</td>\n",
              "    </tr>\n",
              "    <tr>\n",
              "      <th>15684</th>\n",
              "      <td>Renault</td>\n",
              "      <td>Espace</td>\n",
              "    </tr>\n",
              "    <tr>\n",
              "      <th>15791</th>\n",
              "      <td>Renault</td>\n",
              "      <td>Espace</td>\n",
              "    </tr>\n",
              "    <tr>\n",
              "      <th>15906</th>\n",
              "      <td>Renault</td>\n",
              "      <td>Espace</td>\n",
              "    </tr>\n",
              "  </tbody>\n",
              "</table>\n",
              "<p>88 rows × 2 columns</p>\n",
              "</div>\n",
              "      <button class=\"colab-df-convert\" onclick=\"convertToInteractive('df-ef37a5d4-02cd-4a68-85a5-ae9f2b6190a2')\"\n",
              "              title=\"Convert this dataframe to an interactive table.\"\n",
              "              style=\"display:none;\">\n",
              "        \n",
              "  <svg xmlns=\"http://www.w3.org/2000/svg\" height=\"24px\"viewBox=\"0 0 24 24\"\n",
              "       width=\"24px\">\n",
              "    <path d=\"M0 0h24v24H0V0z\" fill=\"none\"/>\n",
              "    <path d=\"M18.56 5.44l.94 2.06.94-2.06 2.06-.94-2.06-.94-.94-2.06-.94 2.06-2.06.94zm-11 1L8.5 8.5l.94-2.06 2.06-.94-2.06-.94L8.5 2.5l-.94 2.06-2.06.94zm10 10l.94 2.06.94-2.06 2.06-.94-2.06-.94-.94-2.06-.94 2.06-2.06.94z\"/><path d=\"M17.41 7.96l-1.37-1.37c-.4-.4-.92-.59-1.43-.59-.52 0-1.04.2-1.43.59L10.3 9.45l-7.72 7.72c-.78.78-.78 2.05 0 2.83L4 21.41c.39.39.9.59 1.41.59.51 0 1.02-.2 1.41-.59l7.78-7.78 2.81-2.81c.8-.78.8-2.07 0-2.86zM5.41 20L4 18.59l7.72-7.72 1.47 1.35L5.41 20z\"/>\n",
              "  </svg>\n",
              "      </button>\n",
              "      \n",
              "  <style>\n",
              "    .colab-df-container {\n",
              "      display:flex;\n",
              "      flex-wrap:wrap;\n",
              "      gap: 12px;\n",
              "    }\n",
              "\n",
              "    .colab-df-convert {\n",
              "      background-color: #E8F0FE;\n",
              "      border: none;\n",
              "      border-radius: 50%;\n",
              "      cursor: pointer;\n",
              "      display: none;\n",
              "      fill: #1967D2;\n",
              "      height: 32px;\n",
              "      padding: 0 0 0 0;\n",
              "      width: 32px;\n",
              "    }\n",
              "\n",
              "    .colab-df-convert:hover {\n",
              "      background-color: #E2EBFA;\n",
              "      box-shadow: 0px 1px 2px rgba(60, 64, 67, 0.3), 0px 1px 3px 1px rgba(60, 64, 67, 0.15);\n",
              "      fill: #174EA6;\n",
              "    }\n",
              "\n",
              "    [theme=dark] .colab-df-convert {\n",
              "      background-color: #3B4455;\n",
              "      fill: #D2E3FC;\n",
              "    }\n",
              "\n",
              "    [theme=dark] .colab-df-convert:hover {\n",
              "      background-color: #434B5C;\n",
              "      box-shadow: 0px 1px 3px 1px rgba(0, 0, 0, 0.15);\n",
              "      filter: drop-shadow(0px 1px 2px rgba(0, 0, 0, 0.3));\n",
              "      fill: #FFFFFF;\n",
              "    }\n",
              "  </style>\n",
              "\n",
              "      <script>\n",
              "        const buttonEl =\n",
              "          document.querySelector('#df-ef37a5d4-02cd-4a68-85a5-ae9f2b6190a2 button.colab-df-convert');\n",
              "        buttonEl.style.display =\n",
              "          google.colab.kernel.accessAllowed ? 'block' : 'none';\n",
              "\n",
              "        async function convertToInteractive(key) {\n",
              "          const element = document.querySelector('#df-ef37a5d4-02cd-4a68-85a5-ae9f2b6190a2');\n",
              "          const dataTable =\n",
              "            await google.colab.kernel.invokeFunction('convertToInteractive',\n",
              "                                                     [key], {});\n",
              "          if (!dataTable) return;\n",
              "\n",
              "          const docLinkHtml = 'Like what you see? Visit the ' +\n",
              "            '<a target=\"_blank\" href=https://colab.research.google.com/notebooks/data_table.ipynb>data table notebook</a>'\n",
              "            + ' to learn more about interactive tables.';\n",
              "          element.innerHTML = '';\n",
              "          dataTable['output_type'] = 'display_data';\n",
              "          await google.colab.output.renderOutput(dataTable, element);\n",
              "          const docLink = document.createElement('div');\n",
              "          docLink.innerHTML = docLinkHtml;\n",
              "          element.appendChild(docLink);\n",
              "        }\n",
              "      </script>\n",
              "    </div>\n",
              "  </div>\n",
              "  "
            ]
          },
          "metadata": {},
          "execution_count": 58
        }
      ]
    },
    {
      "cell_type": "code",
      "source": [
        "df.groupby([\"make\", \"model\", \"body_type\"])[\"hp_kW\"].median()"
      ],
      "metadata": {
        "colab": {
          "base_uri": "https://localhost:8080/"
        },
        "id": "Tu3n6U5kSEtx",
        "outputId": "ee40d9f7-1324-4844-8970-462d3acea5a2"
      },
      "execution_count": 59,
      "outputs": [
        {
          "output_type": "execute_result",
          "data": {
            "text/plain": [
              "make     model     body_type    \n",
              "Audi     A1        Compact          70.000\n",
              "                   Coupe            77.500\n",
              "                   Other            70.000\n",
              "                   Sedans           70.000\n",
              "                   Station wagon    70.000\n",
              "                   Van             147.000\n",
              "         A2        Off-Road         85.000\n",
              "         A3        Compact          85.000\n",
              "                   Convertible     110.000\n",
              "                   Coupe            81.000\n",
              "                   Other            85.000\n",
              "                   Sedans           85.000\n",
              "                   Station wagon    85.000\n",
              "Opel     Astra     Compact          81.000\n",
              "                   Coupe           106.500\n",
              "                   Off-Road        110.000\n",
              "                   Other            81.000\n",
              "                   Sedans           81.000\n",
              "                   Station wagon   100.000\n",
              "         Corsa     Compact          66.000\n",
              "                   Coupe            55.000\n",
              "                   Off-Road         66.000\n",
              "                   Other            66.000\n",
              "                   Sedans           55.000\n",
              "                   Transporter      55.000\n",
              "                   Van              51.000\n",
              "         Insignia  Compact         121.000\n",
              "                   Coupe            81.000\n",
              "                   Off-Road        125.000\n",
              "                   Other           100.000\n",
              "                   Sedans          103.000\n",
              "                   Station wagon   121.000\n",
              "                   Van             121.000\n",
              "Renault  Clio      Compact          56.000\n",
              "                   Coupe           147.000\n",
              "                   Off-Road         71.000\n",
              "                   Other            56.000\n",
              "                   Sedans           56.000\n",
              "                   Station wagon    66.000\n",
              "                   Transporter      56.000\n",
              "                   Van              55.000\n",
              "         Duster    Off-Road         77.000\n",
              "         Espace    Compact         133.000\n",
              "                   Coupe           141.500\n",
              "                   Off-Road        118.000\n",
              "                   Other           118.000\n",
              "                   Sedans          118.000\n",
              "                   Station wagon   118.000\n",
              "                   Transporter     118.000\n",
              "                   Van             118.000\n",
              "Name: hp_kW, dtype: float64"
            ]
          },
          "metadata": {},
          "execution_count": 59
        }
      ]
    },
    {
      "cell_type": "code",
      "source": [
        "df.hp_kW = df.groupby([\"make\", \"model\", \"body_type\"])[\"hp_kW\"].apply(lambda x : x.fillna(x.median()))"
      ],
      "metadata": {
        "id": "-rPwGljdSEw0"
      },
      "execution_count": 60,
      "outputs": []
    },
    {
      "cell_type": "code",
      "source": [
        "check_df(\"hp_kW\")"
      ],
      "metadata": {
        "colab": {
          "base_uri": "https://localhost:8080/"
        },
        "id": "tP8AwZuASEzw",
        "outputId": "b0f4e31f-0efa-4874-bbd6-61181c9e6c0e"
      },
      "execution_count": 61,
      "outputs": [
        {
          "output_type": "stream",
          "name": "stdout",
          "text": [
            "column name :  hp_kW\n",
            "--------------------------------\n",
            "Per_of_Nulls   :  % 0.0\n",
            "Num_of_Nulls   :  0\n",
            "85.000     2543\n",
            "66.000     2124\n",
            "81.000     1404\n",
            "100.000    1309\n",
            "110.000    1112\n",
            "           ... \n",
            "123.000       1\n",
            "44.000        1\n",
            "195.000       1\n",
            "75.000        1\n",
            "9.000         1\n",
            "Name: hp_kW, Length: 80, dtype: int64\n",
            "******************************\n",
            "\n",
            "\n",
            "\n"
          ]
        }
      ]
    },
    {
      "cell_type": "code",
      "source": [
        "check_df(\"warranty\")"
      ],
      "metadata": {
        "colab": {
          "base_uri": "https://localhost:8080/"
        },
        "id": "ca3NGGMYSE2t",
        "outputId": "2c8dbfb8-b10f-4d54-abc8-fcec68632646"
      },
      "execution_count": 62,
      "outputs": [
        {
          "output_type": "stream",
          "name": "stdout",
          "text": [
            "column name :  warranty\n",
            "--------------------------------\n",
            "Per_of_Nulls   :  % 69.51\n",
            "Num_of_Nulls   :  11066\n",
            "NaN       11066\n",
            "12.000     2594\n",
            "24.000     1118\n",
            "60.000      401\n",
            "36.000      279\n",
            "48.000      149\n",
            "6.000       125\n",
            "72.000       59\n",
            "3.000        33\n",
            "23.000       11\n",
            "18.000       10\n",
            "20.000        7\n",
            "25.000        6\n",
            "2.000         5\n",
            "50.000        4\n",
            "26.000        4\n",
            "16.000        4\n",
            "4.000         3\n",
            "1.000         3\n",
            "19.000        3\n",
            "34.000        3\n",
            "13.000        3\n",
            "28.000        2\n",
            "22.000        2\n",
            "14.000        2\n",
            "11.000        2\n",
            "46.000        2\n",
            "21.000        2\n",
            "9.000         2\n",
            "17.000        2\n",
            "45.000        2\n",
            "33.000        1\n",
            "40.000        1\n",
            "65.000        1\n",
            "10.000        1\n",
            "15.000        1\n",
            "7.000         1\n",
            "8.000         1\n",
            "56.000        1\n",
            "49.000        1\n",
            "47.000        1\n",
            "30.000        1\n",
            "Name: warranty, dtype: int64\n",
            "******************************\n",
            "\n",
            "\n",
            "\n"
          ]
        }
      ]
    },
    {
      "cell_type": "code",
      "source": [
        "df.warranty.value_counts(normalize=True) "
      ],
      "metadata": {
        "colab": {
          "base_uri": "https://localhost:8080/"
        },
        "id": "nJ04hECTSE5c",
        "outputId": "f9fba11c-991b-417b-9be1-decd8b43f817"
      },
      "execution_count": 63,
      "outputs": [
        {
          "output_type": "execute_result",
          "data": {
            "text/plain": [
              "12.000   0.535\n",
              "24.000   0.230\n",
              "60.000   0.083\n",
              "36.000   0.057\n",
              "48.000   0.031\n",
              "6.000    0.026\n",
              "72.000   0.012\n",
              "3.000    0.007\n",
              "23.000   0.002\n",
              "18.000   0.002\n",
              "20.000   0.001\n",
              "25.000   0.001\n",
              "2.000    0.001\n",
              "50.000   0.001\n",
              "26.000   0.001\n",
              "16.000   0.001\n",
              "4.000    0.001\n",
              "1.000    0.001\n",
              "19.000   0.001\n",
              "34.000   0.001\n",
              "13.000   0.001\n",
              "28.000   0.000\n",
              "22.000   0.000\n",
              "14.000   0.000\n",
              "11.000   0.000\n",
              "46.000   0.000\n",
              "21.000   0.000\n",
              "9.000    0.000\n",
              "17.000   0.000\n",
              "45.000   0.000\n",
              "33.000   0.000\n",
              "40.000   0.000\n",
              "65.000   0.000\n",
              "10.000   0.000\n",
              "15.000   0.000\n",
              "7.000    0.000\n",
              "8.000    0.000\n",
              "56.000   0.000\n",
              "49.000   0.000\n",
              "47.000   0.000\n",
              "30.000   0.000\n",
              "Name: warranty, dtype: float64"
            ]
          },
          "metadata": {},
          "execution_count": 63
        }
      ]
    },
    {
      "cell_type": "code",
      "source": [
        "df.groupby([\"make\", \"model\", \"age\"])[\"warranty\"].mean()"
      ],
      "metadata": {
        "colab": {
          "base_uri": "https://localhost:8080/"
        },
        "id": "48tj4Z4hSE8d",
        "outputId": "9db1db29-ba5b-45b0-b7f7-b81aef3e05c0"
      },
      "execution_count": 64,
      "outputs": [
        {
          "output_type": "execute_result",
          "data": {
            "text/plain": [
              "make     model     age  \n",
              "Audi     A1        0.000   27.971\n",
              "                   1.000   26.300\n",
              "                   2.000   17.679\n",
              "                   3.000   13.926\n",
              "         A2        1.000      NaN\n",
              "         A3        0.000   27.697\n",
              "                   1.000   21.707\n",
              "                   2.000   16.655\n",
              "                   3.000   17.112\n",
              "Opel     Astra     0.000   37.804\n",
              "                   1.000   25.795\n",
              "                   2.000   14.988\n",
              "                   3.000   24.797\n",
              "         Corsa     0.000   27.472\n",
              "                   1.000   17.355\n",
              "                   2.000   22.231\n",
              "                   3.000   27.061\n",
              "         Insignia  0.000   31.863\n",
              "                   1.000   25.348\n",
              "                   2.000   17.058\n",
              "                   3.000   15.225\n",
              "Renault  Clio      0.000   35.510\n",
              "                   1.000   15.686\n",
              "                   2.000   16.733\n",
              "                   3.000   10.864\n",
              "         Duster    0.000   12.000\n",
              "         Espace    0.000   37.226\n",
              "                   1.000   22.524\n",
              "                   2.000   15.922\n",
              "                   3.000   12.482\n",
              "Name: warranty, dtype: float64"
            ]
          },
          "metadata": {},
          "execution_count": 64
        }
      ]
    },
    {
      "cell_type": "code",
      "source": [
        "df[\"warranty\"] = df[\"warranty\"].replace(to_replace=np.nan, value=0).astype(\"float\")"
      ],
      "metadata": {
        "id": "NSUlx2-qSE_b"
      },
      "execution_count": 65,
      "outputs": []
    },
    {
      "cell_type": "code",
      "source": [
        "df.loc[df[\"warranty\"] != 0, \"warranty\"] = 1"
      ],
      "metadata": {
        "id": "NFshoV_7SFCk"
      },
      "execution_count": 66,
      "outputs": []
    },
    {
      "cell_type": "code",
      "source": [
        "check_df(\"warranty\")"
      ],
      "metadata": {
        "colab": {
          "base_uri": "https://localhost:8080/"
        },
        "id": "7OswtkVNSFE2",
        "outputId": "209ad4cf-7c0d-460c-c79d-0b2ecbf6168c"
      },
      "execution_count": 67,
      "outputs": [
        {
          "output_type": "stream",
          "name": "stdout",
          "text": [
            "column name :  warranty\n",
            "--------------------------------\n",
            "Per_of_Nulls   :  % 0.0\n",
            "Num_of_Nulls   :  0\n",
            "0.000    11066\n",
            "1.000     4853\n",
            "Name: warranty, dtype: int64\n",
            "******************************\n",
            "\n",
            "\n",
            "\n"
          ]
        }
      ]
    },
    {
      "cell_type": "code",
      "source": [
        "check_df(\"body_color\")"
      ],
      "metadata": {
        "colab": {
          "base_uri": "https://localhost:8080/"
        },
        "id": "PNyN7JUZSFHx",
        "outputId": "1850e2c4-79ed-4e41-ae5e-805516c01f1a"
      },
      "execution_count": 68,
      "outputs": [
        {
          "output_type": "stream",
          "name": "stdout",
          "text": [
            "column name :  body_color\n",
            "--------------------------------\n",
            "Per_of_Nulls   :  % 3.75\n",
            "Num_of_Nulls   :  597\n",
            "Black     3745\n",
            "Grey      3505\n",
            "White     3406\n",
            "Silver    1647\n",
            "Blue      1431\n",
            "Red        957\n",
            "NaN        597\n",
            "Brown      289\n",
            "Green      154\n",
            "Beige      108\n",
            "Yellow      51\n",
            "Violet      18\n",
            "Bronze       6\n",
            "Orange       3\n",
            "Gold         2\n",
            "Name: body_color, dtype: int64\n",
            "******************************\n",
            "\n",
            "\n",
            "\n"
          ]
        }
      ]
    },
    {
      "cell_type": "code",
      "source": [
        "check_df(\"body_color_original\")"
      ],
      "metadata": {
        "colab": {
          "base_uri": "https://localhost:8080/"
        },
        "id": "hwgvQZAmSFK3",
        "outputId": "71ef9b99-21dd-429f-c9b8-12b56e4ceb03"
      },
      "execution_count": 69,
      "outputs": [
        {
          "output_type": "stream",
          "name": "stdout",
          "text": [
            "column name :  body_color_original\n",
            "--------------------------------\n",
            "Per_of_Nulls   :  % 23.71\n",
            "Num_of_Nulls   :  3774\n",
            "NaN                              3774\n",
            "Onyx Schwarz                      338\n",
            "Bianco                            282\n",
            "Mythosschwarz Metallic            238\n",
            "Brillantschwarz                   216\n",
            "                                 ... \n",
            "Rouge-Braun (G0Y)                   1\n",
            "VARI COLRI DISPONIBILI              1\n",
            "Kokosnussbraun Metallic             1\n",
            "Farbe frei wählbar                  1\n",
            "Perlmutt-Weiß Metallic (Weiß)       1\n",
            "Name: body_color_original, Length: 1927, dtype: int64\n",
            "******************************\n",
            "\n",
            "\n",
            "\n"
          ]
        }
      ]
    },
    {
      "cell_type": "code",
      "source": [
        "df[df.body_color.isnull()][\"body_color_original\"].value_counts(dropna=False).head(60)"
      ],
      "metadata": {
        "colab": {
          "base_uri": "https://localhost:8080/"
        },
        "id": "-Hxem26VRye-",
        "outputId": "666b5ac1-2f1c-42ce-b38a-a874acd8e08e"
      },
      "execution_count": 70,
      "outputs": [
        {
          "output_type": "execute_result",
          "data": {
            "text/plain": [
              "NaN                               205\n",
              "wählbar - ggf. mit Aufpreis       118\n",
              "wählbar                            88\n",
              "Metallic o. Uni (wählbar)          33\n",
              "wählbar - ggf gegen Aufpreis       25\n",
              "Other                              14\n",
              "mitoschwarz                         8\n",
              "Smaragd Gruen (Mi)                  5\n",
              "BLANCO ALPINO                       4\n",
              "verschiedene Farben                 4\n",
              "wählbar (bei Metallic +)            3\n",
              "TEINTE CAISS                        3\n",
              "Rouge Braun                         3\n",
              "BLACK MEET KETTLE MET-4 (507B)      3\n",
              "Kosmosblau Metallic                 3\n",
              "(Silber) - Licht Grau               2\n",
              "gletscherweiÃŸ                      2\n",
              "Cronos / Negro Mito                 2\n",
              "SWITCHBLADE SILVER MET (G)          2\n",
              "Cortinaweiss                        2\n",
              "NOIR MYTHIC METAL                   2\n",
              "BLEU UTOPIA                         2\n",
              "GDX Darkmoon Blue                   1\n",
              "GF6 Satin Steel Grey                1\n",
              "Hellelfenbein RAL 1015              1\n",
              "SATIN STEEL GRAY MET-4 (501B)       1\n",
              "Flip Chip met.                      1\n",
              "GAN Sovereign Silver                1\n",
              "YOU DRIVE ME GRAZY MET-4(509B)      1\n",
              "Srebrny                             1\n",
              "gris nano                           1\n",
              "rot DeZir-Rot (NNP)                 1\n",
              "Abalone Weiß                        1\n",
              "Gris Platine (D69) Noir Etoi        1\n",
              "GNE NOIR ETOILE                     1\n",
              "NOIR AMETHYS                        1\n",
              "Kng - Peinture Metallisee Gris      1\n",
              "Noir EtoilÃ©                        1\n",
              "GNE Noir Etoile                     1\n",
              "ROUGE FLAMME                        1\n",
              "wählbar -ggfl. mit Aufpreis         1\n",
              "Gris Givre                          1\n",
              "(NNP)                               1\n",
              "Rouge Intens (NPK) Bleu Iron        1\n",
              "Noir Etoilé (GNE) Gris Titan        1\n",
              "Gris Titanium (KPN)                 1\n",
              "ROUGE ATACAM                        1\n",
              "FARBTON DER KAROSSERIE WEISS G      1\n",
              "NOIR MTL                            1\n",
              "GRIS ALU METALISE                   1\n",
              "Plat.Anthr.                         1\n",
              "GRJIS UNIVERSO                      1\n",
              "ApfelgruenP2                        1\n",
              "GRIS NANO                           1\n",
              "Chronosgrau Metallic/Mythossch      1\n",
              "Cortina White                       1\n",
              "Nanograu Metallic / Brillantsc      1\n",
              "Nanograu Metallic/Brillantschw      1\n",
              "BLANC GLACIER / NOIR                1\n",
              "Misanorot Perleffekt/Daytonagr      1\n",
              "Name: body_color_original, dtype: int64"
            ]
          },
          "metadata": {},
          "execution_count": 70
        }
      ]
    },
    {
      "cell_type": "code",
      "source": [
        "df.body_color = df.body_color.fillna(method=\"bfill\")"
      ],
      "metadata": {
        "id": "U0Y4enF_RpPr"
      },
      "execution_count": 71,
      "outputs": []
    },
    {
      "cell_type": "code",
      "source": [
        "check_df(\"body_color\")"
      ],
      "metadata": {
        "colab": {
          "base_uri": "https://localhost:8080/"
        },
        "id": "sCGgUsMDRpSd",
        "outputId": "d49b7190-65ef-4dfc-9a05-9f44b8ba40af"
      },
      "execution_count": 72,
      "outputs": [
        {
          "output_type": "stream",
          "name": "stdout",
          "text": [
            "column name :  body_color\n",
            "--------------------------------\n",
            "Per_of_Nulls   :  % 0.0\n",
            "Num_of_Nulls   :  0\n",
            "Black     3888\n",
            "Grey      3638\n",
            "White     3540\n",
            "Silver    1687\n",
            "Blue      1524\n",
            "Red        989\n",
            "Brown      299\n",
            "Green      163\n",
            "Beige      108\n",
            "Yellow      53\n",
            "Violet      18\n",
            "Bronze       7\n",
            "Orange       3\n",
            "Gold         2\n",
            "Name: body_color, dtype: int64\n",
            "******************************\n",
            "\n",
            "\n",
            "\n"
          ]
        }
      ]
    },
    {
      "cell_type": "code",
      "source": [
        "check_df(\"paint_type\")"
      ],
      "metadata": {
        "colab": {
          "base_uri": "https://localhost:8080/"
        },
        "id": "FIF15N_1RpVF",
        "outputId": "35a17360-be21-411d-cc81-493f96d04f6c"
      },
      "execution_count": 73,
      "outputs": [
        {
          "output_type": "stream",
          "name": "stdout",
          "text": [
            "column name :  paint_type\n",
            "--------------------------------\n",
            "Per_of_Nulls   :  % 36.26\n",
            "Num_of_Nulls   :  5772\n",
            "Metallic       9794\n",
            "NaN            5772\n",
            "Uni/basic       347\n",
            "Perl effect       6\n",
            "Name: paint_type, dtype: int64\n",
            "******************************\n",
            "\n",
            "\n",
            "\n"
          ]
        }
      ]
    },
    {
      "cell_type": "code",
      "source": [
        "check_df(\"paint_type\")"
      ],
      "metadata": {
        "colab": {
          "base_uri": "https://localhost:8080/"
        },
        "id": "Ma_5UuggSqeb",
        "outputId": "a323ebbd-02f5-4500-860c-7a53b535f61c"
      },
      "execution_count": 74,
      "outputs": [
        {
          "output_type": "stream",
          "name": "stdout",
          "text": [
            "column name :  paint_type\n",
            "--------------------------------\n",
            "Per_of_Nulls   :  % 36.26\n",
            "Num_of_Nulls   :  5772\n",
            "Metallic       9794\n",
            "NaN            5772\n",
            "Uni/basic       347\n",
            "Perl effect       6\n",
            "Name: paint_type, dtype: int64\n",
            "******************************\n",
            "\n",
            "\n",
            "\n"
          ]
        }
      ]
    },
    {
      "cell_type": "code",
      "source": [
        "df[df.paint_type.isnull()][\"body_color_original\"].value_counts().head(600)"
      ],
      "metadata": {
        "colab": {
          "base_uri": "https://localhost:8080/"
        },
        "id": "9lP_nSTWSqhP",
        "outputId": "2d2306b8-819f-4615-e82a-beabb8baeb4a"
      },
      "execution_count": 75,
      "outputs": [
        {
          "output_type": "execute_result",
          "data": {
            "text/plain": [
              "Brillantschwarz                179\n",
              "Bianco                         163\n",
              "wählbar - ggf. mit Aufpreis    118\n",
              "Blanco                         110\n",
              "Grigio                          91\n",
              "                              ... \n",
              "SchneeWeiss/SummitWhite          1\n",
              "SILBER / GRAU                    1\n",
              "SUMMIT WHITE                     1\n",
              "donkergrijs                      1\n",
              "PLATA BLADE                      1\n",
              "Name: body_color_original, Length: 600, dtype: int64"
            ]
          },
          "metadata": {},
          "execution_count": 75
        }
      ]
    },
    {
      "cell_type": "code",
      "source": [
        "check_df(\"body_color_original\")"
      ],
      "metadata": {
        "colab": {
          "base_uri": "https://localhost:8080/"
        },
        "id": "02qIGi6cSqkF",
        "outputId": "5e84b5da-2924-43a3-9a9e-73659d8d0ca2"
      },
      "execution_count": 76,
      "outputs": [
        {
          "output_type": "stream",
          "name": "stdout",
          "text": [
            "column name :  body_color_original\n",
            "--------------------------------\n",
            "Per_of_Nulls   :  % 23.71\n",
            "Num_of_Nulls   :  3774\n",
            "NaN                              3774\n",
            "Onyx Schwarz                      338\n",
            "Bianco                            282\n",
            "Mythosschwarz Metallic            238\n",
            "Brillantschwarz                   216\n",
            "                                 ... \n",
            "Rouge-Braun (G0Y)                   1\n",
            "VARI COLRI DISPONIBILI              1\n",
            "Kokosnussbraun Metallic             1\n",
            "Farbe frei wählbar                  1\n",
            "Perlmutt-Weiß Metallic (Weiß)       1\n",
            "Name: body_color_original, Length: 1927, dtype: int64\n",
            "******************************\n",
            "\n",
            "\n",
            "\n"
          ]
        }
      ]
    },
    {
      "cell_type": "code",
      "source": [
        "\n",
        "df.paint_type = df.paint_type.fillna(method=\"ffill\")"
      ],
      "metadata": {
        "id": "0SDsxQtBSqnB"
      },
      "execution_count": 77,
      "outputs": []
    },
    {
      "cell_type": "code",
      "source": [
        "check_df(\"paint_type\")"
      ],
      "metadata": {
        "colab": {
          "base_uri": "https://localhost:8080/"
        },
        "id": "jg-DUmasSqp0",
        "outputId": "5317d74f-e51b-42cf-a35a-af54c180340a"
      },
      "execution_count": 78,
      "outputs": [
        {
          "output_type": "stream",
          "name": "stdout",
          "text": [
            "column name :  paint_type\n",
            "--------------------------------\n",
            "Per_of_Nulls   :  % 0.0\n",
            "Num_of_Nulls   :  0\n",
            "Metallic       15261\n",
            "Uni/basic        617\n",
            "Perl effect       41\n",
            "Name: paint_type, dtype: int64\n",
            "******************************\n",
            "\n",
            "\n",
            "\n"
          ]
        }
      ]
    },
    {
      "cell_type": "code",
      "source": [
        "check_df(\"body_color_original\")"
      ],
      "metadata": {
        "colab": {
          "base_uri": "https://localhost:8080/"
        },
        "id": "Va_dpJPDSxrM",
        "outputId": "98cd8e42-c769-44c5-c594-622ef2b26376"
      },
      "execution_count": 79,
      "outputs": [
        {
          "output_type": "stream",
          "name": "stdout",
          "text": [
            "column name :  body_color_original\n",
            "--------------------------------\n",
            "Per_of_Nulls   :  % 23.71\n",
            "Num_of_Nulls   :  3774\n",
            "NaN                              3774\n",
            "Onyx Schwarz                      338\n",
            "Bianco                            282\n",
            "Mythosschwarz Metallic            238\n",
            "Brillantschwarz                   216\n",
            "                                 ... \n",
            "Rouge-Braun (G0Y)                   1\n",
            "VARI COLRI DISPONIBILI              1\n",
            "Kokosnussbraun Metallic             1\n",
            "Farbe frei wählbar                  1\n",
            "Perlmutt-Weiß Metallic (Weiß)       1\n",
            "Name: body_color_original, Length: 1927, dtype: int64\n",
            "******************************\n",
            "\n",
            "\n",
            "\n"
          ]
        }
      ]
    },
    {
      "cell_type": "code",
      "source": [
        "df.drop(columns=\"body_color_original\", inplace=True)"
      ],
      "metadata": {
        "id": "9S3zj7mrSxuA"
      },
      "execution_count": 80,
      "outputs": []
    },
    {
      "cell_type": "code",
      "source": [
        "check_df(\"upholstery\")"
      ],
      "metadata": {
        "colab": {
          "base_uri": "https://localhost:8080/"
        },
        "id": "Xcbh1hsISxw3",
        "outputId": "5a229794-0902-4725-c5d2-16431b55bd20"
      },
      "execution_count": 82,
      "outputs": [
        {
          "output_type": "stream",
          "name": "stdout",
          "text": [
            "column name :  upholstery\n",
            "--------------------------------\n",
            "Per_of_Nulls   :  % 23.37\n",
            "Num_of_Nulls   :  3720\n",
            "Cloth           8423\n",
            "NaN             3720\n",
            "Part leather    1499\n",
            "Full leather    1009\n",
            "Black            491\n",
            "Other            368\n",
            "Grey             273\n",
            "Velour            60\n",
            "alcantara         57\n",
            "Brown             12\n",
            "Beige              3\n",
            "Blue               2\n",
            "White              2\n",
            "Name: upholstery, dtype: int64\n",
            "******************************\n",
            "\n",
            "\n",
            "\n"
          ]
        }
      ]
    },
    {
      "cell_type": "code",
      "source": [
        "check_df(\"nr._of_doors\")"
      ],
      "metadata": {
        "colab": {
          "base_uri": "https://localhost:8080/"
        },
        "id": "Qn-e6bAdSxzq",
        "outputId": "bd088b28-e636-42fb-bb95-ec46daee3b0b"
      },
      "execution_count": 85,
      "outputs": [
        {
          "output_type": "stream",
          "name": "stdout",
          "text": [
            "column name :  nr._of_doors\n",
            "--------------------------------\n",
            "Per_of_Nulls   :  % 1.33\n",
            "Num_of_Nulls   :  212\n",
            "5.000    11575\n",
            "4.000     3079\n",
            "3.000      832\n",
            "2.000      219\n",
            "NaN        212\n",
            "1.000        1\n",
            "7.000        1\n",
            "Name: nr._of_doors, dtype: int64\n",
            "******************************\n",
            "\n",
            "\n",
            "\n"
          ]
        }
      ]
    },
    {
      "cell_type": "code",
      "source": [
        "pd.set_option('display.max_rows', 110)\n",
        "pd.options.display.max_rows = 110"
      ],
      "metadata": {
        "id": "qWHGwTxpSx2a"
      },
      "execution_count": 86,
      "outputs": []
    },
    {
      "cell_type": "code",
      "source": [
        "\n",
        "df.groupby([\"make\", \"model\", \"body_type\"])[\"nr._of_doors\"].value_counts(dropna=False).head(50)"
      ],
      "metadata": {
        "colab": {
          "base_uri": "https://localhost:8080/"
        },
        "id": "jlNqu4mdSx5V",
        "outputId": "aae96bb1-e9b9-4380-bf76-c30e3cb11aec"
      },
      "execution_count": 88,
      "outputs": [
        {
          "output_type": "execute_result",
          "data": {
            "text/plain": [
              "make  model  body_type      nr._of_doors\n",
              "Audi  A1     Compact        5.000            666\n",
              "                            4.000            207\n",
              "                            3.000             80\n",
              "                            2.000             69\n",
              "                            NaN               17\n",
              "             Coupe          2.000              1\n",
              "                            5.000              1\n",
              "             Other          5.000              8\n",
              "                            4.000              5\n",
              "             Sedans         5.000           1048\n",
              "                            4.000            321\n",
              "                            3.000            130\n",
              "                            2.000             29\n",
              "                            NaN               10\n",
              "             Station wagon  5.000             17\n",
              "                            4.000              3\n",
              "                            3.000              1\n",
              "             Van            5.000              1\n",
              "      A2     Off-Road       5.000              1\n",
              "      A3     Compact        5.000            164\n",
              "                            3.000             11\n",
              "                            4.000              6\n",
              "                            NaN                1\n",
              "             Convertible    2.000              7\n",
              "                            5.000              1\n",
              "             Coupe          3.000              4\n",
              "             Other          5.000             10\n",
              "                            3.000              3\n",
              "                            2.000              2\n",
              "                            4.000              1\n",
              "             Sedans         5.000           1953\n",
              "                            4.000            517\n",
              "                            3.000             94\n",
              "                            NaN               24\n",
              "                            2.000             17\n",
              "             Station wagon  5.000            169\n",
              "                            4.000            110\n",
              "                            NaN                1\n",
              "                            2.000              1\n",
              "                            3.000              1\n",
              "Opel  Astra  Compact        5.000            180\n",
              "                            4.000              5\n",
              "             Coupe          3.000              1\n",
              "                            5.000              1\n",
              "             Off-Road       5.000              1\n",
              "             Other          5.000             59\n",
              "                            4.000              7\n",
              "                            NaN                1\n",
              "             Sedans         5.000            797\n",
              "                            4.000            241\n",
              "Name: nr._of_doors, dtype: int64"
            ]
          },
          "metadata": {},
          "execution_count": 88
        }
      ]
    },
    {
      "cell_type": "code",
      "source": [
        "df[(df[\"make\"] == \"Opel\") & (df[\"model\"] == \"Corsa\") & (df[\"body_type\"] == \"Van\")]"
      ],
      "metadata": {
        "colab": {
          "base_uri": "https://localhost:8080/",
          "height": 246
        },
        "id": "t1Pi96IISx8I",
        "outputId": "6ff95adf-9cd7-4c1f-ba51-42f46e9d7b99"
      },
      "execution_count": 89,
      "outputs": [
        {
          "output_type": "execute_result",
          "data": {
            "text/plain": [
              "     body_type  price_€             vat        km  hp_kW  type  \\\n",
              "8952       Van 7900.000  VAT deductible 33633.000 51.000  Used   \n",
              "8953       Van 7900.000  VAT deductible 33633.000 51.000  Used   \n",
              "\n",
              "      previous_owners  warranty  make  model body_color paint_type upholstery  \\\n",
              "8952            1.000     0.000  Opel  Corsa      White   Metallic        NaN   \n",
              "8953            1.000     0.000  Opel  Corsa      White   Metallic        NaN   \n",
              "\n",
              "      nr._of_doors  nr._of_seats gearing_type  engine_displacement_cc  \\\n",
              "8952           NaN           NaN       Manual                1229.000   \n",
              "8953           NaN           NaN       Manual                1229.000   \n",
              "\n",
              "      cylinders  weight_kg drive_chain     fuel  co2e_g emission_class  \\\n",
              "8952        NaN   1124.000         NaN  Benzine     NaN            NaN   \n",
              "8953        NaN   1124.000         NaN  Benzine     NaN            NaN   \n",
              "\n",
              "                                    comfort&convenience entertainment&media  \\\n",
              "8952  Air conditioning,Park Distance Control,Parking...           Bluetooth   \n",
              "8953  Air conditioning,Park Distance Control,Parking...           Bluetooth   \n",
              "\n",
              "     extras                                  safety_&_security  gears  \\\n",
              "8952    NaN  Central door lock,Driver-side airbag,Passenger...    NaN   \n",
              "8953    NaN  Central door lock,Driver-side airbag,Passenger...    NaN   \n",
              "\n",
              "     country_version  consumption_comb  consumption_city  consumption_country  \\\n",
              "8952         Austria               NaN               NaN                  NaN   \n",
              "8953         Austria               NaN               NaN                  NaN   \n",
              "\n",
              "       age  \n",
              "8952 3.000  \n",
              "8953 3.000  "
            ],
            "text/html": [
              "\n",
              "  <div id=\"df-5aa79591-8a8c-4a60-a772-f9b9243aea25\">\n",
              "    <div class=\"colab-df-container\">\n",
              "      <div>\n",
              "<style scoped>\n",
              "    .dataframe tbody tr th:only-of-type {\n",
              "        vertical-align: middle;\n",
              "    }\n",
              "\n",
              "    .dataframe tbody tr th {\n",
              "        vertical-align: top;\n",
              "    }\n",
              "\n",
              "    .dataframe thead th {\n",
              "        text-align: right;\n",
              "    }\n",
              "</style>\n",
              "<table border=\"1\" class=\"dataframe\">\n",
              "  <thead>\n",
              "    <tr style=\"text-align: right;\">\n",
              "      <th></th>\n",
              "      <th>body_type</th>\n",
              "      <th>price_€</th>\n",
              "      <th>vat</th>\n",
              "      <th>km</th>\n",
              "      <th>hp_kW</th>\n",
              "      <th>type</th>\n",
              "      <th>previous_owners</th>\n",
              "      <th>warranty</th>\n",
              "      <th>make</th>\n",
              "      <th>model</th>\n",
              "      <th>body_color</th>\n",
              "      <th>paint_type</th>\n",
              "      <th>upholstery</th>\n",
              "      <th>nr._of_doors</th>\n",
              "      <th>nr._of_seats</th>\n",
              "      <th>gearing_type</th>\n",
              "      <th>engine_displacement_cc</th>\n",
              "      <th>cylinders</th>\n",
              "      <th>weight_kg</th>\n",
              "      <th>drive_chain</th>\n",
              "      <th>fuel</th>\n",
              "      <th>co2e_g</th>\n",
              "      <th>emission_class</th>\n",
              "      <th>comfort&amp;convenience</th>\n",
              "      <th>entertainment&amp;media</th>\n",
              "      <th>extras</th>\n",
              "      <th>safety_&amp;_security</th>\n",
              "      <th>gears</th>\n",
              "      <th>country_version</th>\n",
              "      <th>consumption_comb</th>\n",
              "      <th>consumption_city</th>\n",
              "      <th>consumption_country</th>\n",
              "      <th>age</th>\n",
              "    </tr>\n",
              "  </thead>\n",
              "  <tbody>\n",
              "    <tr>\n",
              "      <th>8952</th>\n",
              "      <td>Van</td>\n",
              "      <td>7900.000</td>\n",
              "      <td>VAT deductible</td>\n",
              "      <td>33633.000</td>\n",
              "      <td>51.000</td>\n",
              "      <td>Used</td>\n",
              "      <td>1.000</td>\n",
              "      <td>0.000</td>\n",
              "      <td>Opel</td>\n",
              "      <td>Corsa</td>\n",
              "      <td>White</td>\n",
              "      <td>Metallic</td>\n",
              "      <td>NaN</td>\n",
              "      <td>NaN</td>\n",
              "      <td>NaN</td>\n",
              "      <td>Manual</td>\n",
              "      <td>1229.000</td>\n",
              "      <td>NaN</td>\n",
              "      <td>1124.000</td>\n",
              "      <td>NaN</td>\n",
              "      <td>Benzine</td>\n",
              "      <td>NaN</td>\n",
              "      <td>NaN</td>\n",
              "      <td>Air conditioning,Park Distance Control,Parking...</td>\n",
              "      <td>Bluetooth</td>\n",
              "      <td>NaN</td>\n",
              "      <td>Central door lock,Driver-side airbag,Passenger...</td>\n",
              "      <td>NaN</td>\n",
              "      <td>Austria</td>\n",
              "      <td>NaN</td>\n",
              "      <td>NaN</td>\n",
              "      <td>NaN</td>\n",
              "      <td>3.000</td>\n",
              "    </tr>\n",
              "    <tr>\n",
              "      <th>8953</th>\n",
              "      <td>Van</td>\n",
              "      <td>7900.000</td>\n",
              "      <td>VAT deductible</td>\n",
              "      <td>33633.000</td>\n",
              "      <td>51.000</td>\n",
              "      <td>Used</td>\n",
              "      <td>1.000</td>\n",
              "      <td>0.000</td>\n",
              "      <td>Opel</td>\n",
              "      <td>Corsa</td>\n",
              "      <td>White</td>\n",
              "      <td>Metallic</td>\n",
              "      <td>NaN</td>\n",
              "      <td>NaN</td>\n",
              "      <td>NaN</td>\n",
              "      <td>Manual</td>\n",
              "      <td>1229.000</td>\n",
              "      <td>NaN</td>\n",
              "      <td>1124.000</td>\n",
              "      <td>NaN</td>\n",
              "      <td>Benzine</td>\n",
              "      <td>NaN</td>\n",
              "      <td>NaN</td>\n",
              "      <td>Air conditioning,Park Distance Control,Parking...</td>\n",
              "      <td>Bluetooth</td>\n",
              "      <td>NaN</td>\n",
              "      <td>Central door lock,Driver-side airbag,Passenger...</td>\n",
              "      <td>NaN</td>\n",
              "      <td>Austria</td>\n",
              "      <td>NaN</td>\n",
              "      <td>NaN</td>\n",
              "      <td>NaN</td>\n",
              "      <td>3.000</td>\n",
              "    </tr>\n",
              "  </tbody>\n",
              "</table>\n",
              "</div>\n",
              "      <button class=\"colab-df-convert\" onclick=\"convertToInteractive('df-5aa79591-8a8c-4a60-a772-f9b9243aea25')\"\n",
              "              title=\"Convert this dataframe to an interactive table.\"\n",
              "              style=\"display:none;\">\n",
              "        \n",
              "  <svg xmlns=\"http://www.w3.org/2000/svg\" height=\"24px\"viewBox=\"0 0 24 24\"\n",
              "       width=\"24px\">\n",
              "    <path d=\"M0 0h24v24H0V0z\" fill=\"none\"/>\n",
              "    <path d=\"M18.56 5.44l.94 2.06.94-2.06 2.06-.94-2.06-.94-.94-2.06-.94 2.06-2.06.94zm-11 1L8.5 8.5l.94-2.06 2.06-.94-2.06-.94L8.5 2.5l-.94 2.06-2.06.94zm10 10l.94 2.06.94-2.06 2.06-.94-2.06-.94-.94-2.06-.94 2.06-2.06.94z\"/><path d=\"M17.41 7.96l-1.37-1.37c-.4-.4-.92-.59-1.43-.59-.52 0-1.04.2-1.43.59L10.3 9.45l-7.72 7.72c-.78.78-.78 2.05 0 2.83L4 21.41c.39.39.9.59 1.41.59.51 0 1.02-.2 1.41-.59l7.78-7.78 2.81-2.81c.8-.78.8-2.07 0-2.86zM5.41 20L4 18.59l7.72-7.72 1.47 1.35L5.41 20z\"/>\n",
              "  </svg>\n",
              "      </button>\n",
              "      \n",
              "  <style>\n",
              "    .colab-df-container {\n",
              "      display:flex;\n",
              "      flex-wrap:wrap;\n",
              "      gap: 12px;\n",
              "    }\n",
              "\n",
              "    .colab-df-convert {\n",
              "      background-color: #E8F0FE;\n",
              "      border: none;\n",
              "      border-radius: 50%;\n",
              "      cursor: pointer;\n",
              "      display: none;\n",
              "      fill: #1967D2;\n",
              "      height: 32px;\n",
              "      padding: 0 0 0 0;\n",
              "      width: 32px;\n",
              "    }\n",
              "\n",
              "    .colab-df-convert:hover {\n",
              "      background-color: #E2EBFA;\n",
              "      box-shadow: 0px 1px 2px rgba(60, 64, 67, 0.3), 0px 1px 3px 1px rgba(60, 64, 67, 0.15);\n",
              "      fill: #174EA6;\n",
              "    }\n",
              "\n",
              "    [theme=dark] .colab-df-convert {\n",
              "      background-color: #3B4455;\n",
              "      fill: #D2E3FC;\n",
              "    }\n",
              "\n",
              "    [theme=dark] .colab-df-convert:hover {\n",
              "      background-color: #434B5C;\n",
              "      box-shadow: 0px 1px 3px 1px rgba(0, 0, 0, 0.15);\n",
              "      filter: drop-shadow(0px 1px 2px rgba(0, 0, 0, 0.3));\n",
              "      fill: #FFFFFF;\n",
              "    }\n",
              "  </style>\n",
              "\n",
              "      <script>\n",
              "        const buttonEl =\n",
              "          document.querySelector('#df-5aa79591-8a8c-4a60-a772-f9b9243aea25 button.colab-df-convert');\n",
              "        buttonEl.style.display =\n",
              "          google.colab.kernel.accessAllowed ? 'block' : 'none';\n",
              "\n",
              "        async function convertToInteractive(key) {\n",
              "          const element = document.querySelector('#df-5aa79591-8a8c-4a60-a772-f9b9243aea25');\n",
              "          const dataTable =\n",
              "            await google.colab.kernel.invokeFunction('convertToInteractive',\n",
              "                                                     [key], {});\n",
              "          if (!dataTable) return;\n",
              "\n",
              "          const docLinkHtml = 'Like what you see? Visit the ' +\n",
              "            '<a target=\"_blank\" href=https://colab.research.google.com/notebooks/data_table.ipynb>data table notebook</a>'\n",
              "            + ' to learn more about interactive tables.';\n",
              "          element.innerHTML = '';\n",
              "          dataTable['output_type'] = 'display_data';\n",
              "          await google.colab.output.renderOutput(dataTable, element);\n",
              "          const docLink = document.createElement('div');\n",
              "          docLink.innerHTML = docLinkHtml;\n",
              "          element.appendChild(docLink);\n",
              "        }\n",
              "      </script>\n",
              "    </div>\n",
              "  </div>\n",
              "  "
            ]
          },
          "metadata": {},
          "execution_count": 89
        }
      ]
    },
    {
      "cell_type": "code",
      "source": [
        "df.groupby([\"make\", \"model\"])[\"nr._of_doors\"].apply(lambda x: x.fillna(x.mode()[0] if any(x.mode()) else df[\"nr._of_doors\"].mode()[0])).value_counts(dropna=False)\n"
      ],
      "metadata": {
        "colab": {
          "base_uri": "https://localhost:8080/"
        },
        "id": "hRJLFYGISx--",
        "outputId": "12914a31-750b-49a7-8b37-42d5390dd459"
      },
      "execution_count": 91,
      "outputs": [
        {
          "output_type": "execute_result",
          "data": {
            "text/plain": [
              "5.000    11787\n",
              "4.000     3079\n",
              "3.000      832\n",
              "2.000      219\n",
              "1.000        1\n",
              "7.000        1\n",
              "Name: nr._of_doors, dtype: int64"
            ]
          },
          "metadata": {},
          "execution_count": 91
        }
      ]
    },
    {
      "cell_type": "code",
      "source": [
        "df[\"nr._of_doors\"] = df.groupby([\"make\", \"model\"])[\"nr._of_doors\"].apply(lambda x: x.fillna(x.mode()[0] if any(x.mode()) else df[\"nr._of_doors\"].mode()[0]))\n"
      ],
      "metadata": {
        "id": "KXH9oWNUSyB0"
      },
      "execution_count": 93,
      "outputs": []
    },
    {
      "cell_type": "code",
      "source": [
        "check_df(\"nr._of_doors\")"
      ],
      "metadata": {
        "colab": {
          "base_uri": "https://localhost:8080/"
        },
        "id": "Wah6XJ9TSqst",
        "outputId": "485c4c9c-c5ef-4855-a5dc-ceb143d66d04"
      },
      "execution_count": 95,
      "outputs": [
        {
          "output_type": "stream",
          "name": "stdout",
          "text": [
            "column name :  nr._of_doors\n",
            "--------------------------------\n",
            "Per_of_Nulls   :  % 0.0\n",
            "Num_of_Nulls   :  0\n",
            "5.000    11787\n",
            "4.000     3079\n",
            "3.000      832\n",
            "2.000      219\n",
            "1.000        1\n",
            "7.000        1\n",
            "Name: nr._of_doors, dtype: int64\n",
            "******************************\n",
            "\n",
            "\n",
            "\n"
          ]
        }
      ]
    },
    {
      "cell_type": "code",
      "source": [
        "check_df(\"nr._of_seats\")"
      ],
      "metadata": {
        "colab": {
          "base_uri": "https://localhost:8080/"
        },
        "id": "FUP_5ZRXSqvk",
        "outputId": "09f8c28f-7203-48c1-f7d0-3a4c9f021f6d"
      },
      "execution_count": 96,
      "outputs": [
        {
          "output_type": "stream",
          "name": "stdout",
          "text": [
            "column name :  nr._of_seats\n",
            "--------------------------------\n",
            "Per_of_Nulls   :  % 6.14\n",
            "Num_of_Nulls   :  977\n",
            "5.000    13336\n",
            "4.000     1125\n",
            "NaN        977\n",
            "7.000      362\n",
            "2.000      116\n",
            "6.000        2\n",
            "3.000        1\n",
            "Name: nr._of_seats, dtype: int64\n",
            "******************************\n",
            "\n",
            "\n",
            "\n"
          ]
        }
      ]
    },
    {
      "cell_type": "code",
      "source": [
        "df.groupby([\"make\", \"model\"])[\"nr._of_seats\"].apply(lambda x: x.fillna(x.mode()[0] if any(x.mode()) else df[\"nr._of_seats\"].mode()[0])).value_counts(dropna=False)\n"
      ],
      "metadata": {
        "colab": {
          "base_uri": "https://localhost:8080/"
        },
        "id": "VbQJoccXSqyn",
        "outputId": "bcab2d20-a4d6-4936-9680-9e1fae17ede6"
      },
      "execution_count": 98,
      "outputs": [
        {
          "output_type": "execute_result",
          "data": {
            "text/plain": [
              "5.000    14313\n",
              "4.000     1125\n",
              "7.000      362\n",
              "2.000      116\n",
              "6.000        2\n",
              "3.000        1\n",
              "Name: nr._of_seats, dtype: int64"
            ]
          },
          "metadata": {},
          "execution_count": 98
        }
      ]
    },
    {
      "cell_type": "code",
      "source": [
        "df[\"nr._of_seats\"] = df.groupby([\"make\", \"model\"])[\"nr._of_seats\"].apply(lambda x: x.fillna(x.mode()[0] if any(x.mode()) else df[\"nr._of_seats\"].mode()[0]))\n",
        "check_df(\"nr._of_seats\")"
      ],
      "metadata": {
        "colab": {
          "base_uri": "https://localhost:8080/"
        },
        "id": "cOuUfXsDSq1S",
        "outputId": "7dcfe77a-2cb7-4c20-e9fe-b7b7878004bf"
      },
      "execution_count": 101,
      "outputs": [
        {
          "output_type": "stream",
          "name": "stdout",
          "text": [
            "column name :  nr._of_seats\n",
            "--------------------------------\n",
            "Per_of_Nulls   :  % 0.0\n",
            "Num_of_Nulls   :  0\n",
            "5.000    14313\n",
            "4.000     1125\n",
            "7.000      362\n",
            "2.000      116\n",
            "6.000        2\n",
            "3.000        1\n",
            "Name: nr._of_seats, dtype: int64\n",
            "******************************\n",
            "\n",
            "\n",
            "\n"
          ]
        }
      ]
    },
    {
      "cell_type": "code",
      "source": [
        "check_df(\"cylinders\")"
      ],
      "metadata": {
        "colab": {
          "base_uri": "https://localhost:8080/"
        },
        "id": "0OvXjzgVSq3v",
        "outputId": "1fe5337e-2c27-4981-8ae3-1d0410abdd0b"
      },
      "execution_count": 102,
      "outputs": [
        {
          "output_type": "stream",
          "name": "stdout",
          "text": [
            "column name :  cylinders\n",
            "--------------------------------\n",
            "Per_of_Nulls   :  % 35.68\n",
            "Num_of_Nulls   :  5680\n",
            "4.000    8105\n",
            "NaN      5680\n",
            "3.000    2104\n",
            "5.000      22\n",
            "6.000       3\n",
            "8.000       2\n",
            "2.000       2\n",
            "1.000       1\n",
            "Name: cylinders, dtype: int64\n",
            "******************************\n",
            "\n",
            "\n",
            "\n"
          ]
        }
      ]
    },
    {
      "cell_type": "code",
      "source": [
        "df.groupby([\"make\", \"model\", \"hp_kW\"])[\"cylinders\"].apply(lambda x : x.fillna(x.mode()[0] if any(x.mode()) else df[\"cylinders\"].mode()[0])).value_counts(dropna=False)\n"
      ],
      "metadata": {
        "colab": {
          "base_uri": "https://localhost:8080/"
        },
        "id": "eAkOQhisTtZB",
        "outputId": "d077ec61-27f5-4d1f-f947-a8926756a233"
      },
      "execution_count": 103,
      "outputs": [
        {
          "output_type": "execute_result",
          "data": {
            "text/plain": [
              "4.000    12559\n",
              "3.000     3325\n",
              "5.000       22\n",
              "8.000        7\n",
              "6.000        3\n",
              "2.000        2\n",
              "1.000        1\n",
              "Name: cylinders, dtype: int64"
            ]
          },
          "metadata": {},
          "execution_count": 103
        }
      ]
    },
    {
      "cell_type": "code",
      "source": [
        "df[\"cylinders\"] = df.groupby([\"make\", \"model\", \"hp_kW\"])[\"cylinders\"].apply(lambda x : x.fillna(x.mode()[0] if any(x.mode()) else df[\"cylinders\"].mode()[0]))\n",
        "check_df(\"cylinders\")"
      ],
      "metadata": {
        "colab": {
          "base_uri": "https://localhost:8080/"
        },
        "id": "2aIYhOpyTtbt",
        "outputId": "b54e3d57-41dc-4aad-bdd1-343721cbcd94"
      },
      "execution_count": 104,
      "outputs": [
        {
          "output_type": "stream",
          "name": "stdout",
          "text": [
            "column name :  cylinders\n",
            "--------------------------------\n",
            "Per_of_Nulls   :  % 0.0\n",
            "Num_of_Nulls   :  0\n",
            "4.000    12559\n",
            "3.000     3325\n",
            "5.000       22\n",
            "8.000        7\n",
            "6.000        3\n",
            "2.000        2\n",
            "1.000        1\n",
            "Name: cylinders, dtype: int64\n",
            "******************************\n",
            "\n",
            "\n",
            "\n"
          ]
        }
      ]
    },
    {
      "cell_type": "code",
      "source": [
        "check_df(\"engine_displacement_cc\")"
      ],
      "metadata": {
        "colab": {
          "base_uri": "https://localhost:8080/"
        },
        "id": "cGMiLXYxTteV",
        "outputId": "e9ac7dce-ad8b-4c9e-fbf0-32e2b94099ee"
      },
      "execution_count": 105,
      "outputs": [
        {
          "output_type": "stream",
          "name": "stdout",
          "text": [
            "column name :  engine_displacement_cc\n",
            "--------------------------------\n",
            "Per_of_Nulls   :  % 3.12\n",
            "Num_of_Nulls   :  496\n",
            "1598.000     4761\n",
            "999.000      2438\n",
            "1398.000     1314\n",
            "1399.000      749\n",
            "1229.000      677\n",
            "1956.000      670\n",
            "1461.000      595\n",
            "1490.000      559\n",
            "NaN           496\n",
            "1422.000      467\n",
            "1197.000      353\n",
            "898.000       351\n",
            "1395.000      320\n",
            "1968.000      301\n",
            "1149.000      288\n",
            "1618.000      212\n",
            "1798.000      210\n",
            "1498.000      196\n",
            "1600.000      130\n",
            "1248.000      110\n",
            "1997.000      103\n",
            "1364.000      102\n",
            "1400.000       90\n",
            "998.000        72\n",
            "1500.000       50\n",
            "2000.000       46\n",
            "1000.000       40\n",
            "1.000          36\n",
            "1998.000       25\n",
            "2480.000       20\n",
            "1200.000       18\n",
            "1984.000       18\n",
            "1397.000       11\n",
            "899.000        11\n",
            "160.000         6\n",
            "929.000         5\n",
            "1499.000        5\n",
            "997.000         4\n",
            "1596.000        4\n",
            "139.000         4\n",
            "900.000         4\n",
            "1599.000        3\n",
            "1199.000        3\n",
            "1396.000        3\n",
            "1495.000        2\n",
            "1589.000        2\n",
            "1300.000        2\n",
            "2.000           2\n",
            "995.000         2\n",
            "1496.000        1\n",
            "890.000         1\n",
            "1580.000        1\n",
            "1995.000        1\n",
            "1333.000        1\n",
            "54.000          1\n",
            "1533.000        1\n",
            "1100.000        1\n",
            "1350.000        1\n",
            "16000.000       1\n",
            "1856.000        1\n",
            "1568.000        1\n",
            "1896.000        1\n",
            "1584.000        1\n",
            "996.000         1\n",
            "1696.000        1\n",
            "1686.000        1\n",
            "15898.000       1\n",
            "1368.000        1\n",
            "140.000         1\n",
            "973.000         1\n",
            "1239.000        1\n",
            "1369.000        1\n",
            "1390.000        1\n",
            "122.000         1\n",
            "1198.000        1\n",
            "1195.000        1\n",
            "2967.000        1\n",
            "1800.000        1\n",
            "Name: engine_displacement_cc, dtype: int64\n",
            "******************************\n",
            "\n",
            "\n",
            "\n"
          ]
        }
      ]
    },
    {
      "cell_type": "code",
      "source": [
        "df.groupby([\"make\",\"model\",\"cylinders\", \"hp_kW\"])[\"engine_displacement_cc\"].value_counts(dropna=False).head(50)\n"
      ],
      "metadata": {
        "colab": {
          "base_uri": "https://localhost:8080/"
        },
        "id": "0YXh7JInTthQ",
        "outputId": "71e931b1-0b70-4ae9-aee2-e81b5ca57106"
      },
      "execution_count": 107,
      "outputs": [
        {
          "output_type": "execute_result",
          "data": {
            "text/plain": [
              "make  model  cylinders  hp_kW    engine_displacement_cc\n",
              "Audi  A1     3.000      60.000   999.000                   148\n",
              "                                 929.000                     4\n",
              "                                 NaN                         2\n",
              "                        66.000   1422.000                  453\n",
              "                                 NaN                         5\n",
              "                                 1596.000                    1\n",
              "                                 1598.000                    1\n",
              "                        67.000   1422.000                   12\n",
              "                        70.000   999.000                   767\n",
              "                                 NaN                         8\n",
              "                                 1000.000                    5\n",
              "                                 998.000                     2\n",
              "                                 929.000                     1\n",
              "                                 1197.000                    1\n",
              "                        71.000   999.000                    53\n",
              "                                 NaN                         3\n",
              "                        85.000   999.000                   572\n",
              "                                 1598.000                   73\n",
              "                                 1000.000                    8\n",
              "                                 NaN                         6\n",
              "                                 995.000                     2\n",
              "                                 1596.000                    1\n",
              "                                 1600.000                    1\n",
              "             4.000      60.000   999.000                     2\n",
              "                        66.000   1598.000                    3\n",
              "                                 1422.000                    2\n",
              "                        70.000   999.000                     7\n",
              "                                 1000.000                    1\n",
              "                        85.000   1598.000                  222\n",
              "                                 NaN                         3\n",
              "                                 999.000                     1\n",
              "                                 1600.000                    1\n",
              "                        86.000   1598.000                    1\n",
              "                        87.000   1598.000                    4\n",
              "                        92.000   1395.000                  169\n",
              "                                 999.000                     2\n",
              "                                 NaN                         1\n",
              "                        93.000   1395.000                    3\n",
              "                        110.000  1498.000                   16\n",
              "                                 1395.000                   14\n",
              "                        112.000  1395.000                    1\n",
              "                        140.000  NaN                         1\n",
              "                        141.000  1798.000                   16\n",
              "                        147.000  1984.000                   14\n",
              "             8.000      70.000   999.000                     1\n",
              "      A2     4.000      85.000   1598.000                    1\n",
              "      A3     3.000      85.000   999.000                   361\n",
              "                                 1000.000                    3\n",
              "                                 NaN                         1\n",
              "                                 997.000                     1\n",
              "Name: engine_displacement_cc, dtype: int64"
            ]
          },
          "metadata": {},
          "execution_count": 107
        }
      ]
    },
    {
      "cell_type": "code",
      "source": [
        "df.groupby([\"make\", \"model\", \"cylinders\", \"hp_kW\"])[\"engine_displacement_cc\"].apply(lambda x : x.fillna(x.mode()[0] if any(x.mode()) else df[\"engine_displacement_cc\"].mode()[0])).value_counts(dropna=False)\n"
      ],
      "metadata": {
        "colab": {
          "base_uri": "https://localhost:8080/"
        },
        "id": "zEQfYvmRTtkC",
        "outputId": "e7798c17-dbf8-491b-c17f-ae9c79ce320f"
      },
      "execution_count": 108,
      "outputs": [
        {
          "output_type": "execute_result",
          "data": {
            "text/plain": [
              "1598.000     4991\n",
              "999.000      2463\n",
              "1398.000     1348\n",
              "1399.000      765\n",
              "1229.000      708\n",
              "1956.000      693\n",
              "1461.000      642\n",
              "1490.000      579\n",
              "1422.000      472\n",
              "898.000       387\n",
              "1197.000      355\n",
              "1395.000      325\n",
              "1968.000      304\n",
              "1149.000      290\n",
              "1618.000      215\n",
              "1798.000      214\n",
              "1498.000      196\n",
              "1600.000      130\n",
              "1248.000      117\n",
              "1364.000      104\n",
              "1997.000      103\n",
              "1400.000       90\n",
              "998.000        72\n",
              "1500.000       50\n",
              "2000.000       46\n",
              "1000.000       40\n",
              "1.000          36\n",
              "1998.000       26\n",
              "2480.000       20\n",
              "1200.000       18\n",
              "1984.000       18\n",
              "1397.000       11\n",
              "899.000        11\n",
              "160.000         6\n",
              "929.000         5\n",
              "1499.000        5\n",
              "1596.000        4\n",
              "139.000         4\n",
              "900.000         4\n",
              "997.000         4\n",
              "1199.000        3\n",
              "1599.000        3\n",
              "1396.000        3\n",
              "1495.000        2\n",
              "1589.000        2\n",
              "1300.000        2\n",
              "2.000           2\n",
              "995.000         2\n",
              "1496.000        1\n",
              "890.000         1\n",
              "1580.000        1\n",
              "1995.000        1\n",
              "1333.000        1\n",
              "54.000          1\n",
              "1533.000        1\n",
              "1100.000        1\n",
              "1350.000        1\n",
              "16000.000       1\n",
              "1856.000        1\n",
              "1568.000        1\n",
              "1896.000        1\n",
              "1584.000        1\n",
              "996.000         1\n",
              "1696.000        1\n",
              "1686.000        1\n",
              "15898.000       1\n",
              "1368.000        1\n",
              "140.000         1\n",
              "973.000         1\n",
              "1239.000        1\n",
              "1369.000        1\n",
              "1390.000        1\n",
              "122.000         1\n",
              "1198.000        1\n",
              "1195.000        1\n",
              "2967.000        1\n",
              "1800.000        1\n",
              "Name: engine_displacement_cc, dtype: int64"
            ]
          },
          "metadata": {},
          "execution_count": 108
        }
      ]
    },
    {
      "cell_type": "code",
      "source": [
        "df.groupby([\"make\", \"model\", \"cylinders\", \"hp_kW\"])[\"engine_displacement_cc\"].apply(lambda x : x.fillna(x.mode()[0] if any(x.mode()) else df[\"engine_displacement_cc\"].mode()[0]))\n"
      ],
      "metadata": {
        "colab": {
          "base_uri": "https://localhost:8080/"
        },
        "id": "VEgfbCmfTtm9",
        "outputId": "790e51d5-849c-4433-fe24-72736d5bc3e4"
      },
      "execution_count": 109,
      "outputs": [
        {
          "output_type": "execute_result",
          "data": {
            "text/plain": [
              "0       1422.000\n",
              "1       1798.000\n",
              "2       1598.000\n",
              "3       1422.000\n",
              "4       1422.000\n",
              "          ...   \n",
              "15914   1997.000\n",
              "15915   1798.000\n",
              "15916   1997.000\n",
              "15917   1997.000\n",
              "15918   1798.000\n",
              "Name: engine_displacement_cc, Length: 15919, dtype: float64"
            ]
          },
          "metadata": {},
          "execution_count": 109
        }
      ]
    },
    {
      "cell_type": "code",
      "source": [
        "df[\"engine_displacement_cc\"] = df.groupby([\"make\", \"model\", \"cylinders\", \"hp_kW\"])[\"engine_displacement_cc\"].apply(lambda x : x.fillna(x.mode()[0] if any(x.mode()) else df[\"engine_displacement_cc\"].mode()[0]))\n",
        "check_df(\"engine_displacement_cc\")"
      ],
      "metadata": {
        "colab": {
          "base_uri": "https://localhost:8080/"
        },
        "id": "Nyy7avsfTtpy",
        "outputId": "d9c5ceb1-0be2-4fdf-eb2c-df3005cd9923"
      },
      "execution_count": 110,
      "outputs": [
        {
          "output_type": "stream",
          "name": "stdout",
          "text": [
            "column name :  engine_displacement_cc\n",
            "--------------------------------\n",
            "Per_of_Nulls   :  % 0.0\n",
            "Num_of_Nulls   :  0\n",
            "1598.000     4991\n",
            "999.000      2463\n",
            "1398.000     1348\n",
            "1399.000      765\n",
            "1229.000      708\n",
            "1956.000      693\n",
            "1461.000      642\n",
            "1490.000      579\n",
            "1422.000      472\n",
            "898.000       387\n",
            "1197.000      355\n",
            "1395.000      325\n",
            "1968.000      304\n",
            "1149.000      290\n",
            "1618.000      215\n",
            "1798.000      214\n",
            "1498.000      196\n",
            "1600.000      130\n",
            "1248.000      117\n",
            "1364.000      104\n",
            "1997.000      103\n",
            "1400.000       90\n",
            "998.000        72\n",
            "1500.000       50\n",
            "2000.000       46\n",
            "1000.000       40\n",
            "1.000          36\n",
            "1998.000       26\n",
            "2480.000       20\n",
            "1200.000       18\n",
            "1984.000       18\n",
            "1397.000       11\n",
            "899.000        11\n",
            "160.000         6\n",
            "929.000         5\n",
            "1499.000        5\n",
            "1596.000        4\n",
            "139.000         4\n",
            "900.000         4\n",
            "997.000         4\n",
            "1199.000        3\n",
            "1599.000        3\n",
            "1396.000        3\n",
            "1495.000        2\n",
            "1589.000        2\n",
            "1300.000        2\n",
            "2.000           2\n",
            "995.000         2\n",
            "1496.000        1\n",
            "890.000         1\n",
            "1580.000        1\n",
            "1995.000        1\n",
            "1333.000        1\n",
            "54.000          1\n",
            "1533.000        1\n",
            "1100.000        1\n",
            "1350.000        1\n",
            "16000.000       1\n",
            "1856.000        1\n",
            "1568.000        1\n",
            "1896.000        1\n",
            "1584.000        1\n",
            "996.000         1\n",
            "1696.000        1\n",
            "1686.000        1\n",
            "15898.000       1\n",
            "1368.000        1\n",
            "140.000         1\n",
            "973.000         1\n",
            "1239.000        1\n",
            "1369.000        1\n",
            "1390.000        1\n",
            "122.000         1\n",
            "1198.000        1\n",
            "1195.000        1\n",
            "2967.000        1\n",
            "1800.000        1\n",
            "Name: engine_displacement_cc, dtype: int64\n",
            "******************************\n",
            "\n",
            "\n",
            "\n"
          ]
        }
      ]
    },
    {
      "cell_type": "code",
      "source": [
        "check_df(\"weight_kg\")"
      ],
      "metadata": {
        "colab": {
          "base_uri": "https://localhost:8080/"
        },
        "id": "lFfl8CCQTtss",
        "outputId": "72d2831d-f77f-46c4-a97a-4d6f07ff5838"
      },
      "execution_count": 111,
      "outputs": [
        {
          "output_type": "stream",
          "name": "stdout",
          "text": [
            "column name :  weight_kg\n",
            "--------------------------------\n",
            "Per_of_Nulls   :  % 43.81\n",
            "Num_of_Nulls   :  6974\n",
            "NaN         6974\n",
            "1163.000     574\n",
            "1360.000     356\n",
            "1165.000     301\n",
            "1335.000     242\n",
            "            ... \n",
            "1960.000       1\n",
            "1258.000       1\n",
            "1167.000       1\n",
            "1331.000       1\n",
            "2037.000       1\n",
            "Name: weight_kg, Length: 435, dtype: int64\n",
            "******************************\n",
            "\n",
            "\n",
            "\n"
          ]
        }
      ]
    },
    {
      "cell_type": "code",
      "source": [
        "df.weight_kg.mean()"
      ],
      "metadata": {
        "colab": {
          "base_uri": "https://localhost:8080/"
        },
        "id": "W2w6_yKxTtvx",
        "outputId": "7db89869-8f93-4e8c-a0fa-1f03f936bde7"
      },
      "execution_count": 112,
      "outputs": [
        {
          "output_type": "execute_result",
          "data": {
            "text/plain": [
              "1351.1065399664617"
            ]
          },
          "metadata": {},
          "execution_count": 112
        }
      ]
    },
    {
      "cell_type": "code",
      "source": [
        "df.weight_kg.median()"
      ],
      "metadata": {
        "colab": {
          "base_uri": "https://localhost:8080/"
        },
        "id": "j30Jzcx0Ttyt",
        "outputId": "82c357fc-98e5-4506-ba4f-5e3fe8878646"
      },
      "execution_count": 113,
      "outputs": [
        {
          "output_type": "execute_result",
          "data": {
            "text/plain": [
              "1288.0"
            ]
          },
          "metadata": {},
          "execution_count": 113
        }
      ]
    },
    {
      "cell_type": "code",
      "source": [
        "df.groupby([\"make\", \"model\", \"body_type\"])[\"weight_kg\"].apply(lambda x : x.fillna(x.median() if (x.median() >= 1) else df[\"weight_kg\"].median())).value_counts(dropna=False)\n"
      ],
      "metadata": {
        "colab": {
          "base_uri": "https://localhost:8080/"
        },
        "id": "fiQ8KSnBTt1y",
        "outputId": "c834723c-d271-4d26-d3f5-d75411cdf733"
      },
      "execution_count": 114,
      "outputs": [
        {
          "output_type": "execute_result",
          "data": {
            "text/plain": [
              "1163.000    1547\n",
              "1350.000    1147\n",
              "1623.000     877\n",
              "1195.000     702\n",
              "1180.000     694\n",
              "            ... \n",
              "1258.000       1\n",
              "1167.000       1\n",
              "1331.000       1\n",
              "1132.000       1\n",
              "2037.000       1\n",
              "Name: weight_kg, Length: 440, dtype: int64"
            ]
          },
          "metadata": {},
          "execution_count": 114
        }
      ]
    },
    {
      "cell_type": "code",
      "source": [
        "df[\"weight_kg\"] = df.groupby([\"make\", \"model\", \"body_type\"])[\"weight_kg\"].apply(lambda x : x.fillna(x.median() if (x.median() >= 1) else df[\"weight_kg\"].median()))\n",
        "check_df(\"weight_kg\")"
      ],
      "metadata": {
        "colab": {
          "base_uri": "https://localhost:8080/"
        },
        "id": "NlgGSF_5Tt4t",
        "outputId": "0ee0a820-5419-45da-ad55-38b55ef3323e"
      },
      "execution_count": 115,
      "outputs": [
        {
          "output_type": "stream",
          "name": "stdout",
          "text": [
            "column name :  weight_kg\n",
            "--------------------------------\n",
            "Per_of_Nulls   :  % 0.0\n",
            "Num_of_Nulls   :  0\n",
            "1163.000    1547\n",
            "1350.000    1147\n",
            "1623.000     877\n",
            "1195.000     702\n",
            "1180.000     694\n",
            "            ... \n",
            "1258.000       1\n",
            "1167.000       1\n",
            "1331.000       1\n",
            "1132.000       1\n",
            "2037.000       1\n",
            "Name: weight_kg, Length: 440, dtype: int64\n",
            "******************************\n",
            "\n",
            "\n",
            "\n"
          ]
        }
      ]
    },
    {
      "cell_type": "code",
      "source": [
        "df.weight_kg.mean()"
      ],
      "metadata": {
        "colab": {
          "base_uri": "https://localhost:8080/"
        },
        "id": "Ryuw6yIfTt72",
        "outputId": "f746db59-8391-4bed-8550-e28809343702"
      },
      "execution_count": 116,
      "outputs": [
        {
          "output_type": "execute_result",
          "data": {
            "text/plain": [
              "1345.4031346190088"
            ]
          },
          "metadata": {},
          "execution_count": 116
        }
      ]
    },
    {
      "cell_type": "code",
      "source": [
        "df.weight_kg.median()"
      ],
      "metadata": {
        "colab": {
          "base_uri": "https://localhost:8080/"
        },
        "id": "yPIFNF4HTt-p",
        "outputId": "3e23e0ad-93e9-4a5a-9c64-254f4da70e64"
      },
      "execution_count": 117,
      "outputs": [
        {
          "output_type": "execute_result",
          "data": {
            "text/plain": [
              "1308.0"
            ]
          },
          "metadata": {},
          "execution_count": 117
        }
      ]
    },
    {
      "cell_type": "code",
      "source": [
        "check_df(\"drive_chain\")"
      ],
      "metadata": {
        "colab": {
          "base_uri": "https://localhost:8080/"
        },
        "id": "Gw42svlDTuBx",
        "outputId": "cd9f4e68-4c60-4100-995d-3c7e324cd72b"
      },
      "execution_count": 118,
      "outputs": [
        {
          "output_type": "stream",
          "name": "stdout",
          "text": [
            "column name :  drive_chain\n",
            "--------------------------------\n",
            "Per_of_Nulls   :  % 43.08\n",
            "Num_of_Nulls   :  6858\n",
            "front    8886\n",
            "NaN      6858\n",
            "4WD       171\n",
            "rear        4\n",
            "Name: drive_chain, dtype: int64\n",
            "******************************\n",
            "\n",
            "\n",
            "\n"
          ]
        }
      ]
    },
    {
      "cell_type": "code",
      "source": [
        "df.groupby([\"make\", \"model\", \"body_type\"])[\"drive_chain\"].apply(lambda x : x.fillna(x.mode()[0] if any(x.mode()) else df[\"drive_chain\"].mode()[0])).value_counts(dropna=False)\n"
      ],
      "metadata": {
        "colab": {
          "base_uri": "https://localhost:8080/"
        },
        "id": "lDngVHvbTuEU",
        "outputId": "deeb037d-2383-4c6e-b084-11215eb101ce"
      },
      "execution_count": 119,
      "outputs": [
        {
          "output_type": "execute_result",
          "data": {
            "text/plain": [
              "front    15711\n",
              "4WD        204\n",
              "rear         4\n",
              "Name: drive_chain, dtype: int64"
            ]
          },
          "metadata": {},
          "execution_count": 119
        }
      ]
    },
    {
      "cell_type": "code",
      "source": [
        "df[\"drive_chain\"] = df.groupby([\"make\", \"model\", \"body_type\"])[\"drive_chain\"].apply(lambda x : x.fillna(x.mode()[0] if any(x.mode()) else df[\"drive_chain\"].mode()[0]))\n",
        "check_df(\"drive_chain\")"
      ],
      "metadata": {
        "colab": {
          "base_uri": "https://localhost:8080/"
        },
        "id": "lrS6VrqIUloo",
        "outputId": "c5edfb55-72ba-45da-9dc6-6aefdc8ad47b"
      },
      "execution_count": 120,
      "outputs": [
        {
          "output_type": "stream",
          "name": "stdout",
          "text": [
            "column name :  drive_chain\n",
            "--------------------------------\n",
            "Per_of_Nulls   :  % 0.0\n",
            "Num_of_Nulls   :  0\n",
            "front    15711\n",
            "4WD        204\n",
            "rear         4\n",
            "Name: drive_chain, dtype: int64\n",
            "******************************\n",
            "\n",
            "\n",
            "\n"
          ]
        }
      ]
    },
    {
      "cell_type": "code",
      "source": [
        "check_df(\"co2e_g\")"
      ],
      "metadata": {
        "colab": {
          "base_uri": "https://localhost:8080/"
        },
        "id": "lucohJQxUon3",
        "outputId": "91cd8a4c-7d2d-4ed9-b8fc-12c7af4fefc5"
      },
      "execution_count": 121,
      "outputs": [
        {
          "output_type": "stream",
          "name": "stdout",
          "text": [
            "column name :  co2e_g\n",
            "--------------------------------\n",
            "Per_of_Nulls   :  % 15.34\n",
            "Num_of_Nulls   :  2442\n",
            "NaN         2442\n",
            "120.000      740\n",
            "99.000       545\n",
            "97.000       537\n",
            "104.000      501\n",
            "            ... \n",
            "160.000        1\n",
            "331.000        1\n",
            "990.000        1\n",
            "1060.000       1\n",
            "193.000        1\n",
            "Name: co2e_g, Length: 120, dtype: int64\n",
            "******************************\n",
            "\n",
            "\n",
            "\n"
          ]
        }
      ]
    },
    {
      "cell_type": "code",
      "source": [
        "df.fuel.value_counts()"
      ],
      "metadata": {
        "colab": {
          "base_uri": "https://localhost:8080/"
        },
        "id": "YTHWM4j8Uoqv",
        "outputId": "ce6d7efb-1ed4-4dc4-d7be-2a2d2e173fef"
      },
      "execution_count": 122,
      "outputs": [
        {
          "output_type": "execute_result",
          "data": {
            "text/plain": [
              "Benzine     8551\n",
              "Diesel      7299\n",
              "LPG/CNG       64\n",
              "Electric       5\n",
              "Name: fuel, dtype: int64"
            ]
          },
          "metadata": {},
          "execution_count": 122
        }
      ]
    },
    {
      "cell_type": "code",
      "source": [
        "df.groupby([\"make\", \"model\", \"fuel\"])[\"co2e_g\"].value_counts(dropna=False)"
      ],
      "metadata": {
        "colab": {
          "base_uri": "https://localhost:8080/"
        },
        "id": "g7OsLGmjUotl",
        "outputId": "a0a082a0-15a0-4648-8673-e39a2ed491ac"
      },
      "execution_count": 123,
      "outputs": [
        {
          "output_type": "execute_result",
          "data": {
            "text/plain": [
              "make     model   fuel     co2e_g \n",
              "Audi     A1      Benzine  97.000     287\n",
              "                          NaN        238\n",
              "                          102.000    229\n",
              "                          108.000    195\n",
              "                          111.000    181\n",
              "                                    ... \n",
              "Renault  Espace  Diesel   191.000      2\n",
              "                          117.000      1\n",
              "                          122.000      1\n",
              "                          140.000      1\n",
              "                          174.000      1\n",
              "Name: co2e_g, Length: 516, dtype: int64"
            ]
          },
          "metadata": {},
          "execution_count": 123
        }
      ]
    },
    {
      "cell_type": "code",
      "source": [
        "df.groupby([\"make\", \"model\", \"fuel\"])[\"co2e_g\"].mean()"
      ],
      "metadata": {
        "colab": {
          "base_uri": "https://localhost:8080/"
        },
        "id": "tmSt6dJaUowA",
        "outputId": "ebbfb339-1e10-4bd7-e815-998e846c824c"
      },
      "execution_count": 124,
      "outputs": [
        {
          "output_type": "execute_result",
          "data": {
            "text/plain": [
              "make     model     fuel    \n",
              "Audi     A1        Benzine    106.337\n",
              "                   Diesel     100.101\n",
              "         A2        Diesel         NaN\n",
              "         A3        Benzine    116.421\n",
              "                   Diesel     106.831\n",
              "                   Electric    36.000\n",
              "                   LPG/CNG     97.000\n",
              "Opel     Astra     Benzine    154.590\n",
              "                   Diesel     105.849\n",
              "                   LPG/CNG    113.000\n",
              "         Corsa     Benzine    136.407\n",
              "                   Diesel      99.456\n",
              "                   LPG/CNG    117.667\n",
              "         Insignia  Benzine    176.918\n",
              "                   Diesel     132.546\n",
              "Renault  Clio      Benzine    122.653\n",
              "                   Diesel      89.530\n",
              "                   Electric       NaN\n",
              "                   LPG/CNG     98.000\n",
              "         Duster    Benzine    177.000\n",
              "         Espace    Benzine    155.903\n",
              "                   Diesel     124.425\n",
              "Name: co2e_g, dtype: float64"
            ]
          },
          "metadata": {},
          "execution_count": 124
        }
      ]
    },
    {
      "cell_type": "code",
      "source": [
        "df.groupby([\"make\", \"model\", \"fuel\"])[\"co2e_g\"].median()"
      ],
      "metadata": {
        "colab": {
          "base_uri": "https://localhost:8080/"
        },
        "id": "E2xKTORhUoyq",
        "outputId": "8d6a378d-0e5b-4212-fc92-a6f2078585a4"
      },
      "execution_count": 125,
      "outputs": [
        {
          "output_type": "execute_result",
          "data": {
            "text/plain": [
              "make     model     fuel    \n",
              "Audi     A1        Benzine    105.000\n",
              "                   Diesel      99.000\n",
              "         A2        Diesel         NaN\n",
              "         A3        Benzine    117.000\n",
              "                   Diesel     105.000\n",
              "                   Electric    36.000\n",
              "                   LPG/CNG     94.000\n",
              "Opel     Astra     Benzine    125.000\n",
              "                   Diesel     101.000\n",
              "                   LPG/CNG    113.000\n",
              "         Corsa     Benzine    128.000\n",
              "                   Diesel     101.000\n",
              "                   LPG/CNG    113.000\n",
              "         Insignia  Benzine    139.000\n",
              "                   Diesel     135.000\n",
              "Renault  Clio      Benzine    120.000\n",
              "                   Diesel      85.000\n",
              "                   Electric       NaN\n",
              "                   LPG/CNG     98.000\n",
              "         Duster    Benzine    186.000\n",
              "         Espace    Benzine    153.000\n",
              "                   Diesel     120.000\n",
              "Name: co2e_g, dtype: float64"
            ]
          },
          "metadata": {},
          "execution_count": 125
        }
      ]
    },
    {
      "cell_type": "code",
      "source": [
        "df.groupby([\"make\", \"model\", \"fuel\"])[\"co2e_g\"].apply(lambda x : x.fillna(x.median() if (x.median() > 13) else df[\"co2e_g\"].median())).value_counts(dropna=False)\n"
      ],
      "metadata": {
        "colab": {
          "base_uri": "https://localhost:8080/"
        },
        "id": "bNxmTLPXUo1b",
        "outputId": "b6668c56-9223-49d0-c2d1-617441919c3c"
      },
      "execution_count": 126,
      "outputs": [
        {
          "output_type": "execute_result",
          "data": {
            "text/plain": [
              "120.000      1081\n",
              "105.000       656\n",
              "99.000        617\n",
              "135.000       594\n",
              "97.000        537\n",
              "             ... \n",
              "80.000          1\n",
              "14.000          1\n",
              "12324.000       1\n",
              "51.000          1\n",
              "193.000         1\n",
              "Name: co2e_g, Length: 119, dtype: int64"
            ]
          },
          "metadata": {},
          "execution_count": 126
        }
      ]
    },
    {
      "cell_type": "code",
      "source": [
        "df[\"co2e_g\"] = df.groupby([\"make\", \"model\", \"fuel\"])[\"co2e_g\"].apply(lambda x : x.fillna(x.median() if (x.median() > 13) else df[\"co2e_g\"].median()))\n",
        "check_df(\"co2e_g\")"
      ],
      "metadata": {
        "colab": {
          "base_uri": "https://localhost:8080/"
        },
        "id": "RHmQ5Mp4Uo4T",
        "outputId": "b2a6eaf9-6fd8-4ed8-da6a-1a10dce156f3"
      },
      "execution_count": 127,
      "outputs": [
        {
          "output_type": "stream",
          "name": "stdout",
          "text": [
            "column name :  co2e_g\n",
            "--------------------------------\n",
            "Per_of_Nulls   :  % 0.0\n",
            "Num_of_Nulls   :  0\n",
            "120.000      1081\n",
            "105.000       656\n",
            "99.000        617\n",
            "135.000       594\n",
            "97.000        537\n",
            "             ... \n",
            "80.000          1\n",
            "14.000          1\n",
            "12324.000       1\n",
            "51.000          1\n",
            "193.000         1\n",
            "Name: co2e_g, Length: 119, dtype: int64\n",
            "******************************\n",
            "\n",
            "\n",
            "\n"
          ]
        }
      ]
    },
    {
      "cell_type": "code",
      "source": [
        "check_df(\"emission_class\")"
      ],
      "metadata": {
        "colab": {
          "base_uri": "https://localhost:8080/"
        },
        "id": "MzmWi9yEUo6n",
        "outputId": "5ac632f6-910e-4d5b-9f3d-f009435af07f"
      },
      "execution_count": 128,
      "outputs": [
        {
          "output_type": "stream",
          "name": "stdout",
          "text": [
            "column name :  emission_class\n",
            "--------------------------------\n",
            "Per_of_Nulls   :  % 22.79\n",
            "Num_of_Nulls   :  3628\n",
            "Euro 6          10139\n",
            "NaN              3628\n",
            "Euro 6d-TEMP     1845\n",
            "Euro 6c           127\n",
            "Euro 5             78\n",
            "Euro 6d            62\n",
            "Euro 4             40\n",
            "Name: emission_class, dtype: int64\n",
            "******************************\n",
            "\n",
            "\n",
            "\n"
          ]
        }
      ]
    },
    {
      "cell_type": "code",
      "source": [
        "df.groupby([\"make\", \"model\", \"fuel\", \"age\"])[\"emission_class\"].value_counts(dropna=False)"
      ],
      "metadata": {
        "colab": {
          "base_uri": "https://localhost:8080/"
        },
        "id": "5gtvUlQFU7zb",
        "outputId": "91a083bf-ed01-4bf6-f5fd-d32c40db84f8"
      },
      "execution_count": 129,
      "outputs": [
        {
          "output_type": "execute_result",
          "data": {
            "text/plain": [
              "make     model   fuel     age    emission_class\n",
              "Audi     A1      Benzine  0.000  NaN               266\n",
              "                                 Euro 6            266\n",
              "                                 Euro 6d-TEMP      264\n",
              "                                 Euro 6d             5\n",
              "                          1.000  Euro 6            323\n",
              "                                                  ... \n",
              "Renault  Espace  Diesel   3.000  NaN                65\n",
              "                                 Euro 6d-TEMP        3\n",
              "                                 Euro 5              1\n",
              "                                 Euro 6c             1\n",
              "                                 Euro 6d             1\n",
              "Name: emission_class, Length: 243, dtype: int64"
            ]
          },
          "metadata": {},
          "execution_count": 129
        }
      ]
    },
    {
      "cell_type": "code",
      "source": [
        "df.groupby([\"make\", \"model\", \"fuel\", \"age\"])[\"emission_class\"].fillna(method=\"bfill\").fillna(method=\"ffill\").value_counts(dropna=False)\n"
      ],
      "metadata": {
        "colab": {
          "base_uri": "https://localhost:8080/"
        },
        "id": "PKbja2hXU72W",
        "outputId": "fc54b59e-cafc-44ab-b4a6-7c089ad896cd"
      },
      "execution_count": 130,
      "outputs": [
        {
          "output_type": "execute_result",
          "data": {
            "text/plain": [
              "Euro 6          12919\n",
              "Euro 6d-TEMP     2582\n",
              "Euro 6c           183\n",
              "Euro 5             95\n",
              "Euro 6d            95\n",
              "Euro 4             45\n",
              "Name: emission_class, dtype: int64"
            ]
          },
          "metadata": {},
          "execution_count": 130
        }
      ]
    },
    {
      "cell_type": "code",
      "source": [
        "df[\"emission_class\"] = df.groupby([\"make\", \"model\", \"fuel\", \"age\"])[\"emission_class\"].fillna(method=\"bfill\").fillna(method=\"ffill\")\n",
        "check_df(\"emission_class\")"
      ],
      "metadata": {
        "colab": {
          "base_uri": "https://localhost:8080/"
        },
        "id": "HUbK_yuHU75O",
        "outputId": "51dcedfd-a70d-4d4e-9966-812a2d7a4b27"
      },
      "execution_count": 131,
      "outputs": [
        {
          "output_type": "stream",
          "name": "stdout",
          "text": [
            "column name :  emission_class\n",
            "--------------------------------\n",
            "Per_of_Nulls   :  % 0.0\n",
            "Num_of_Nulls   :  0\n",
            "Euro 6          12919\n",
            "Euro 6d-TEMP     2582\n",
            "Euro 6c           183\n",
            "Euro 5             95\n",
            "Euro 6d            95\n",
            "Euro 4             45\n",
            "Name: emission_class, dtype: int64\n",
            "******************************\n",
            "\n",
            "\n",
            "\n"
          ]
        }
      ]
    },
    {
      "cell_type": "code",
      "source": [
        "check_df(\"comfort&convenience\")"
      ],
      "metadata": {
        "colab": {
          "base_uri": "https://localhost:8080/"
        },
        "id": "8FUVUwGPU78P",
        "outputId": "bcec24fd-a3de-4ab0-8592-bd104d3233f1"
      },
      "execution_count": 132,
      "outputs": [
        {
          "output_type": "stream",
          "name": "stdout",
          "text": [
            "column name :  comfort&convenience\n",
            "--------------------------------\n",
            "Per_of_Nulls   :  % 5.78\n",
            "Num_of_Nulls   :  920\n",
            "NaN                                                                                                                                                                                                                                                                                                                                                                                                                                                                                                  920\n",
            "Air conditioning,Electrical side mirrors,Hill Holder,Power windows                                                                                                                                                                                                                                                                                                                                                                                                                                   216\n",
            "Air conditioning,Electrical side mirrors,Power windows                                                                                                                                                                                                                                                                                                                                                                                                                                               134\n",
            "Air conditioning,Power windows                                                                                                                                                                                                                                                                                                                                                                                                                                                                       130\n",
            "Air conditioning,Armrest,Automatic climate control,Cruise control,Electrical side mirrors,Leather steering wheel,Light sensor,Lumbar support,Multi-function steering wheel,Navigation system,Park Distance Control,Parking assist system sensors front,Parking assist system sensors rear,Power windows,Rain sensor,Seat heating,Start-stop system                                                                                                                                                   105\n",
            "                                                                                                                                                                                                                                                                                                                                                                                                                                                                                                    ... \n",
            "Air conditioning,Cruise control,Electrical side mirrors,Hill Holder,Leather steering wheel,Light sensor,Multi-function steering wheel,Navigation system,Park Distance Control,Parking assist system sensors rear,Power windows,Rain sensor,Split rear seats,Start-stop system,Tinted windows                                                                                                                                                                                                           1\n",
            "Air conditioning,Armrest,Automatic climate control,Cruise control,Electrical side mirrors,Heated steering wheel,Hill Holder,Leather steering wheel,Light sensor,Lumbar support,Multi-function steering wheel,Navigation system,Park Distance Control,Parking assist system camera,Parking assist system sensors front,Parking assist system sensors rear,Power windows,Rain sensor,Seat heating,Sunroof                                                                                                1\n",
            "Air conditioning,Armrest,Cruise control,Electrical side mirrors,Heated steering wheel,Hill Holder,Leather steering wheel,Light sensor,Multi-function steering wheel,Park Distance Control,Parking assist system camera,Parking assist system sensors front,Parking assist system sensors rear,Power windows,Rain sensor,Seat heating,Split rear seats,Start-stop system,Tinted windows                                                                                                                 1\n",
            "Air conditioning,Automatic climate control,Cruise control,Electrical side mirrors,Leather steering wheel,Light sensor,Multi-function steering wheel,Park Distance Control,Parking assist system sensors front,Parking assist system sensors rear,Power windows,Rain sensor,Seat heating                                                                                                                                                                                                                1\n",
            "Air conditioning,Automatic climate control,Cruise control,Electrically heated windshield,Electrical side mirrors,Electric tailgate,Heads-up display,Heated steering wheel,Hill Holder,Keyless central door lock,Leather steering wheel,Light sensor,Lumbar support,Navigation system,Park Distance Control,Parking assist system camera,Parking assist system self-steering,Parking assist system sensors front,Parking assist system sensors rear,Power windows,Rain sensor,Seat heating,Sunroof      1\n",
            "Name: comfort&convenience, Length: 6199, dtype: int64\n",
            "******************************\n",
            "\n",
            "\n",
            "\n"
          ]
        }
      ]
    },
    {
      "cell_type": "code",
      "source": [
        "df.columns"
      ],
      "metadata": {
        "colab": {
          "base_uri": "https://localhost:8080/"
        },
        "id": "UPxhWT_iU7_I",
        "outputId": "e6c113af-4200-4428-f0b3-2c138d6e4fea"
      },
      "execution_count": 135,
      "outputs": [
        {
          "output_type": "execute_result",
          "data": {
            "text/plain": [
              "Index(['body_type', 'price_€', 'vat', 'km', 'hp_kW', 'type', 'previous_owners',\n",
              "       'warranty', 'make', 'model', 'body_color', 'paint_type', 'upholstery',\n",
              "       'nr._of_doors', 'nr._of_seats', 'gearing_type',\n",
              "       'engine_displacement_cc', 'cylinders', 'weight_kg', 'drive_chain',\n",
              "       'fuel', 'co2e_g', 'emission_class', 'comfort&convenience',\n",
              "       'entertainment&media', 'extras', 'safety_&_security', 'gears',\n",
              "       'country_version', 'consumption_comb', 'consumption_city',\n",
              "       'consumption_country', 'age'],\n",
              "      dtype='object')"
            ]
          },
          "metadata": {},
          "execution_count": 135
        }
      ]
    },
    {
      "cell_type": "code",
      "source": [
        "check_df('safety_&_security')"
      ],
      "metadata": {
        "colab": {
          "base_uri": "https://localhost:8080/"
        },
        "id": "h67RznkrU8B9",
        "outputId": "73c830a7-7b6d-4dd5-9fd6-051ff37ec9a2"
      },
      "execution_count": 136,
      "outputs": [
        {
          "output_type": "stream",
          "name": "stdout",
          "text": [
            "column name :  safety_&_security\n",
            "--------------------------------\n",
            "Per_of_Nulls   :  % 6.17\n",
            "Num_of_Nulls   :  982\n",
            "NaN                                                                                                                                                                                                                                                                                                                                                               982\n",
            "ABS,Central door lock,Daytime running lights,Driver-side airbag,Electronic stability control,Fog lights,Immobilizer,Isofix,Passenger-side airbag,Power steering,Side airbag,Tire pressure monitoring system,Traction control                                                                                                                                      538\n",
            "ABS,Central door lock,Daytime running lights,Driver-side airbag,Electronic stability control,Immobilizer,Isofix,Passenger-side airbag,Power steering,Side airbag,Tire pressure monitoring system,Traction control                                                                                                                                                 480\n",
            "ABS,Central door lock,Daytime running lights,Driver-side airbag,Electronic stability control,Immobilizer,Isofix,Passenger-side airbag,Power steering,Side airbag,Tire pressure monitoring system,Traction control,Xenon headlights                                                                                                                                275\n",
            "ABS,Central door lock,Daytime running lights,Driver-side airbag,Electronic stability control,Fog lights,Immobilizer,Isofix,LED Daytime Running Lights,Passenger-side airbag,Power steering,Side airbag,Tire pressure monitoring system,Traction control                                                                                                           272\n",
            "                                                                                                                                                                                                                                                                                                                                                                 ... \n",
            "ABS,Central door lock,Electronic stability control,Immobilizer,Isofix,Passenger-side airbag,Power steering,Side airbag                                                                                                                                                                                                                                              1\n",
            "ABS,Adaptive Cruise Control,Central door lock,Daytime running lights,Driver-side airbag,Electronic stability control,Emergency brake assistant,Immobilizer,Isofix,Passenger-side airbag,Power steering,Side airbag,Tire pressure monitoring system,Traction control                                                                                                 1\n",
            "ABS,Adaptive Cruise Control,Alarm system,Central door lock,Driver-side airbag,Electronic stability control,Fog lights,Immobilizer,Isofix,Lane departure warning system,LED Daytime Running Lights,Passenger-side airbag,Power steering,Side airbag,Tire pressure monitoring system,Traction control,Xenon headlights                                                1\n",
            "ABS,Adaptive Cruise Control,Central door lock,Daytime running lights,Driver-side airbag,Electronic stability control,Fog lights,Immobilizer,Isofix,Power steering,Tire pressure monitoring system,Traction control                                                                                                                                                  1\n",
            "ABS,Adaptive Cruise Control,Central door lock,Daytime running lights,Driver-side airbag,Electronic stability control,Emergency brake assistant,Fog lights,Immobilizer,Isofix,Lane departure warning system,LED Daytime Running Lights,LED Headlights,Passenger-side airbag,Power steering,Side airbag,Tire pressure monitoring system,Traffic sign recognition      1\n",
            "Name: safety_&_security, Length: 4444, dtype: int64\n",
            "******************************\n",
            "\n",
            "\n",
            "\n"
          ]
        }
      ]
    },
    {
      "cell_type": "code",
      "source": [
        "df.groupby([\"make\", \"model\", \"age\", \"body_type\"])[\"safety_&_security\"].value_counts(dropna=False)"
      ],
      "metadata": {
        "colab": {
          "base_uri": "https://localhost:8080/"
        },
        "id": "yH1bntfcU8E3",
        "outputId": "52e0537f-ee56-4807-a37f-2fb4880e3b81"
      },
      "execution_count": 137,
      "outputs": [
        {
          "output_type": "execute_result",
          "data": {
            "text/plain": [
              "make     model   age    body_type  safety_&_security                                                                                                                                                                                                                                                                                                                             \n",
              "Audi     A1      0.000  Compact    NaN                                                                                                                                                                                                                                                                                                                                               33\n",
              "                                   ABS,Central door lock,Daytime running lights,Driver-side airbag,Electronic stability control,Emergency brake assistant,Emergency system,Immobilizer,Isofix,Lane departure warning system,Passenger-side airbag,Power steering,Side airbag,Tire pressure monitoring system,Traction control                                                        30\n",
              "                                   ABS,Central door lock,Daytime running lights,Driver-side airbag,Electronic stability control,Emergency brake assistant,Emergency system,Immobilizer,Lane departure warning system,LED Daytime Running Lights,LED Headlights,Passenger-side airbag,Power steering,Side airbag,Tire pressure monitoring system,Traction control,Xenon headlights    24\n",
              "                                   ABS,Central door lock,Daytime running lights,Driver-side airbag,Electronic stability control,Emergency brake assistant,Emergency system,Immobilizer,Passenger-side airbag,Power steering,Side airbag,Tire pressure monitoring system                                                                                                              18\n",
              "                                   ABS,Central door lock,Daytime running lights,Driver-side airbag,Electronic stability control,Emergency brake assistant,Emergency system,Immobilizer,Isofix,Lane departure warning system,LED Headlights,Passenger-side airbag,Power steering,Side airbag,Tire pressure monitoring system,Traction control                                         14\n",
              "                                                                                                                                                                                                                                                                                                                                                                                     ..\n",
              "Renault  Espace  3.000  Van        ABS,Driver-side airbag,Isofix,Passenger-side airbag,Power steering                                                                                                                                                                                                                                                                                 1\n",
              "                                   ABS,LED Headlights,Tire pressure monitoring system,Traction control                                                                                                                                                                                                                                                                                1\n",
              "                                   Alarm system,Central door lock,Daytime running lights,Fog lights,Power steering                                                                                                                                                                                                                                                                    1\n",
              "                                   Central door lock,Driver-side airbag,Fog lights,Passenger-side airbag,Power steering,Tire pressure monitoring system                                                                                                                                                                                                                               1\n",
              "                                   Fog lights                                                                                                                                                                                                                                                                                                                                         1\n",
              "Name: safety_&_security, Length: 7179, dtype: int64"
            ]
          },
          "metadata": {},
          "execution_count": 137
        }
      ]
    },
    {
      "cell_type": "code",
      "source": [
        "df[\"safety_&_security\"] = df.groupby([\"make\", \"model\", \"age\", \"body_type\"])[\"safety_&_security\"].fillna(method=\"pad\").fillna(method=\"backfill\")\n",
        "check_df(\"safety_&_security\")"
      ],
      "metadata": {
        "colab": {
          "base_uri": "https://localhost:8080/"
        },
        "id": "dXxUynJLU8HK",
        "outputId": "6e86fae8-af38-4419-91cd-018c2853b181"
      },
      "execution_count": 139,
      "outputs": [
        {
          "output_type": "stream",
          "name": "stdout",
          "text": [
            "column name :  safety_&_security\n",
            "--------------------------------\n",
            "Per_of_Nulls   :  % 0.0\n",
            "Num_of_Nulls   :  0\n",
            "ABS,Central door lock,Daytime running lights,Driver-side airbag,Electronic stability control,Fog lights,Immobilizer,Isofix,Passenger-side airbag,Power steering,Side airbag,Tire pressure monitoring system,Traction control                                                                                                                                      551\n",
            "ABS,Central door lock,Daytime running lights,Driver-side airbag,Electronic stability control,Immobilizer,Isofix,Passenger-side airbag,Power steering,Side airbag,Tire pressure monitoring system,Traction control                                                                                                                                                 500\n",
            "ABS,Central door lock,Daytime running lights,Driver-side airbag,Electronic stability control,Fog lights,Immobilizer,Isofix,LED Daytime Running Lights,Passenger-side airbag,Power steering,Side airbag,Tire pressure monitoring system,Traction control                                                                                                           277\n",
            "ABS,Central door lock,Daytime running lights,Driver-side airbag,Electronic stability control,Immobilizer,Isofix,Passenger-side airbag,Power steering,Side airbag,Tire pressure monitoring system,Traction control,Xenon headlights                                                                                                                                277\n",
            "ABS,Central door lock,Daytime running lights,Driver-side airbag,Electronic stability control,Immobilizer,Isofix,LED Daytime Running Lights,Passenger-side airbag,Power steering,Side airbag,Tire pressure monitoring system,Traction control                                                                                                                      275\n",
            "                                                                                                                                                                                                                                                                                                                                                                 ... \n",
            "ABS,Central door lock,Daytime running lights,Driver-side airbag,Electronic stability control,Immobilizer,Isofix,Power steering,Xenon headlights                                                                                                                                                                                                                     1\n",
            "ABS,Adaptive headlights,Central door lock,Daytime running lights,Driver drowsiness detection,Driver-side airbag,Electronic stability control,Emergency brake assistant,Fog lights,Immobilizer,Isofix,Passenger-side airbag,Power steering,Side airbag,Tire pressure monitoring system,Traction control,Xenon headlights                                             1\n",
            "ABS,Central door lock with remote control,Daytime running lights,Driver-side airbag,Isofix,LED Daytime Running Lights,LED Headlights,Passenger-side airbag,Power steering,Side airbag,Tire pressure monitoring system                                                                                                                                               1\n",
            "ABS,Alarm system,Central door lock with remote control,Driver-side airbag,Electronic stability control,Fog lights,Head airbag,Immobilizer,Isofix,LED Daytime Running Lights,Passenger-side airbag,Power steering,Side airbag,Tire pressure monitoring system,Traction control                                                                                       1\n",
            "ABS,Adaptive Cruise Control,Central door lock,Daytime running lights,Driver-side airbag,Electronic stability control,Emergency brake assistant,Fog lights,Immobilizer,Isofix,Lane departure warning system,LED Daytime Running Lights,LED Headlights,Passenger-side airbag,Power steering,Side airbag,Tire pressure monitoring system,Traffic sign recognition      1\n",
            "Name: safety_&_security, Length: 4443, dtype: int64\n",
            "******************************\n",
            "\n",
            "\n",
            "\n"
          ]
        }
      ]
    },
    {
      "cell_type": "code",
      "source": [
        "check_df(\"gears\")"
      ],
      "metadata": {
        "colab": {
          "base_uri": "https://localhost:8080/"
        },
        "id": "5bCnKntrVppv",
        "outputId": "96c95cdc-02e9-42eb-f50a-4ff99c47f297"
      },
      "execution_count": 140,
      "outputs": [
        {
          "output_type": "stream",
          "name": "stdout",
          "text": [
            "column name :  gears\n",
            "--------------------------------\n",
            "Per_of_Nulls   :  % 29.6\n",
            "Num_of_Nulls   :  4712\n",
            "6.000     5822\n",
            "NaN       4712\n",
            "5.000     3239\n",
            "7.000     1908\n",
            "8.000      224\n",
            "9.000        6\n",
            "1.000        2\n",
            "3.000        2\n",
            "4.000        2\n",
            "2.000        1\n",
            "50.000       1\n",
            "Name: gears, dtype: int64\n",
            "******************************\n",
            "\n",
            "\n",
            "\n"
          ]
        }
      ]
    },
    {
      "cell_type": "code",
      "source": [
        "df.groupby([\"make\", \"model\", \"body_type\"])[\"gears\"].fillna(method=\"ffill\").fillna(method = \"bfill\").value_counts(dropna=False)\n"
      ],
      "metadata": {
        "colab": {
          "base_uri": "https://localhost:8080/"
        },
        "id": "ELEfUKmxVpsu",
        "outputId": "7bf1c327-eff2-40c8-a899-69c69db44ed0"
      },
      "execution_count": 141,
      "outputs": [
        {
          "output_type": "execute_result",
          "data": {
            "text/plain": [
              "6.000     8370\n",
              "5.000     4398\n",
              "7.000     2843\n",
              "8.000      288\n",
              "9.000       11\n",
              "3.000        3\n",
              "1.000        2\n",
              "4.000        2\n",
              "2.000        1\n",
              "50.000       1\n",
              "Name: gears, dtype: int64"
            ]
          },
          "metadata": {},
          "execution_count": 141
        }
      ]
    },
    {
      "cell_type": "code",
      "source": [
        "df.gears = df.groupby([\"make\", \"model\", \"body_type\"])[\"gears\"].fillna(method=\"ffill\").fillna(method = \"bfill\")\n",
        "check_df(\"gears\")"
      ],
      "metadata": {
        "colab": {
          "base_uri": "https://localhost:8080/"
        },
        "id": "RE9-cEX4Vpvq",
        "outputId": "39eaa883-f0b1-4f3d-87dc-191910f5b4d5"
      },
      "execution_count": 142,
      "outputs": [
        {
          "output_type": "stream",
          "name": "stdout",
          "text": [
            "column name :  gears\n",
            "--------------------------------\n",
            "Per_of_Nulls   :  % 0.0\n",
            "Num_of_Nulls   :  0\n",
            "6.000     8370\n",
            "5.000     4398\n",
            "7.000     2843\n",
            "8.000      288\n",
            "9.000       11\n",
            "3.000        3\n",
            "1.000        2\n",
            "4.000        2\n",
            "2.000        1\n",
            "50.000       1\n",
            "Name: gears, dtype: int64\n",
            "******************************\n",
            "\n",
            "\n",
            "\n"
          ]
        }
      ]
    },
    {
      "cell_type": "code",
      "source": [
        "check_df(\"country_version\")"
      ],
      "metadata": {
        "colab": {
          "base_uri": "https://localhost:8080/"
        },
        "id": "GmfhkVWIVpyd",
        "outputId": "eaed38f8-18b0-4c97-af09-c6a5d5b4a617"
      },
      "execution_count": 143,
      "outputs": [
        {
          "output_type": "stream",
          "name": "stdout",
          "text": [
            "column name :  country_version\n",
            "--------------------------------\n",
            "Per_of_Nulls   :  % 52.35\n",
            "Num_of_Nulls   :  8333\n",
            "NaN               8333\n",
            "Germany           4502\n",
            "Italy             1038\n",
            "European Union     507\n",
            "Netherlands        464\n",
            "Spain              325\n",
            "Belgium            314\n",
            "Austria            208\n",
            "Czech Republic      52\n",
            "Poland              49\n",
            "France              38\n",
            "Denmark             33\n",
            "Hungary             28\n",
            "Japan                8\n",
            "Slovakia             4\n",
            "Croatia              4\n",
            "Sweden               3\n",
            "Romania              2\n",
            "Bulgaria             2\n",
            "Luxembourg           1\n",
            "Switzerland          1\n",
            "Slovenia             1\n",
            "Egypt                1\n",
            "Serbia               1\n",
            "Name: country_version, dtype: int64\n",
            "******************************\n",
            "\n",
            "\n",
            "\n"
          ]
        }
      ]
    },
    {
      "cell_type": "code",
      "source": [
        "df.groupby([\"make\", \"model\", \"body_type\"])[\"country_version\"].value_counts(dropna=False).head(50)"
      ],
      "metadata": {
        "colab": {
          "base_uri": "https://localhost:8080/"
        },
        "id": "c3WbewCDVp1s",
        "outputId": "ef16051e-af97-4629-dfeb-49f31bca2e39"
      },
      "execution_count": 144,
      "outputs": [
        {
          "output_type": "execute_result",
          "data": {
            "text/plain": [
              "make  model  body_type      country_version\n",
              "Audi  A1     Compact        Germany             448\n",
              "                            NaN                 426\n",
              "                            Netherlands          68\n",
              "                            European Union       58\n",
              "                            Denmark              15\n",
              "                            Italy                 8\n",
              "                            Austria               5\n",
              "                            Belgium               5\n",
              "                            France                2\n",
              "                            Poland                2\n",
              "                            Romania               1\n",
              "                            Spain                 1\n",
              "             Coupe          NaN                   2\n",
              "             Other          NaN                   7\n",
              "                            Italy                 5\n",
              "                            Germany               1\n",
              "             Sedans         NaN                 948\n",
              "                            Germany             314\n",
              "                            Italy               143\n",
              "                            Spain                61\n",
              "                            Belgium              43\n",
              "                            Austria              14\n",
              "                            European Union        9\n",
              "                            France                3\n",
              "                            Luxembourg            1\n",
              "                            Slovakia              1\n",
              "                            Switzerland           1\n",
              "             Station wagon  NaN                  16\n",
              "                            Germany               4\n",
              "                            Spain                 1\n",
              "             Van            NaN                   1\n",
              "      A2     Off-Road       Germany               1\n",
              "      A3     Compact        NaN                 131\n",
              "                            Netherlands          33\n",
              "                            Belgium              12\n",
              "                            Germany               3\n",
              "                            Austria               2\n",
              "                            Italy                 1\n",
              "             Convertible    NaN                   4\n",
              "                            Italy                 2\n",
              "                            Netherlands           2\n",
              "             Coupe          NaN                   2\n",
              "                            Belgium               1\n",
              "                            Italy                 1\n",
              "             Other          NaN                  14\n",
              "                            Italy                 2\n",
              "             Sedans         NaN                1624\n",
              "                            Italy               334\n",
              "                            Germany             306\n",
              "                            European Union      173\n",
              "Name: country_version, dtype: int64"
            ]
          },
          "metadata": {},
          "execution_count": 144
        }
      ]
    },
    {
      "cell_type": "code",
      "source": [
        "df.country_version.fillna(value=\"Unknown\").value_counts(dropna=False)"
      ],
      "metadata": {
        "colab": {
          "base_uri": "https://localhost:8080/"
        },
        "id": "eb6oFcM1Vp3_",
        "outputId": "63068457-48f0-48c7-b339-31cc4a8645bf"
      },
      "execution_count": 145,
      "outputs": [
        {
          "output_type": "execute_result",
          "data": {
            "text/plain": [
              "Unknown           8333\n",
              "Germany           4502\n",
              "Italy             1038\n",
              "European Union     507\n",
              "Netherlands        464\n",
              "Spain              325\n",
              "Belgium            314\n",
              "Austria            208\n",
              "Czech Republic      52\n",
              "Poland              49\n",
              "France              38\n",
              "Denmark             33\n",
              "Hungary             28\n",
              "Japan                8\n",
              "Slovakia             4\n",
              "Croatia              4\n",
              "Sweden               3\n",
              "Romania              2\n",
              "Bulgaria             2\n",
              "Luxembourg           1\n",
              "Switzerland          1\n",
              "Slovenia             1\n",
              "Egypt                1\n",
              "Serbia               1\n",
              "Name: country_version, dtype: int64"
            ]
          },
          "metadata": {},
          "execution_count": 145
        }
      ]
    },
    {
      "cell_type": "code",
      "source": [
        "df.country_version = df.country_version.fillna(value=\"Unknown\")"
      ],
      "metadata": {
        "id": "hOVK6G8ZVp7B"
      },
      "execution_count": 146,
      "outputs": []
    },
    {
      "cell_type": "code",
      "source": [
        "check_df(\"country_version\")"
      ],
      "metadata": {
        "colab": {
          "base_uri": "https://localhost:8080/"
        },
        "id": "nbGYAiEgVp-A",
        "outputId": "53263a89-26ac-44b8-98e8-3c1e2bcfb3ed"
      },
      "execution_count": 147,
      "outputs": [
        {
          "output_type": "stream",
          "name": "stdout",
          "text": [
            "column name :  country_version\n",
            "--------------------------------\n",
            "Per_of_Nulls   :  % 0.0\n",
            "Num_of_Nulls   :  0\n",
            "Unknown           8333\n",
            "Germany           4502\n",
            "Italy             1038\n",
            "European Union     507\n",
            "Netherlands        464\n",
            "Spain              325\n",
            "Belgium            314\n",
            "Austria            208\n",
            "Czech Republic      52\n",
            "Poland              49\n",
            "France              38\n",
            "Denmark             33\n",
            "Hungary             28\n",
            "Japan                8\n",
            "Slovakia             4\n",
            "Croatia              4\n",
            "Sweden               3\n",
            "Romania              2\n",
            "Bulgaria             2\n",
            "Luxembourg           1\n",
            "Switzerland          1\n",
            "Slovenia             1\n",
            "Egypt                1\n",
            "Serbia               1\n",
            "Name: country_version, dtype: int64\n",
            "******************************\n",
            "\n",
            "\n",
            "\n"
          ]
        }
      ]
    },
    {
      "cell_type": "code",
      "source": [
        "check_df(\"consumption_comb\")"
      ],
      "metadata": {
        "colab": {
          "base_uri": "https://localhost:8080/"
        },
        "id": "dNTo8QnyVqBC",
        "outputId": "b4580a7b-3f61-4291-aba6-df7523f6f30a"
      },
      "execution_count": 148,
      "outputs": [
        {
          "output_type": "stream",
          "name": "stdout",
          "text": [
            "column name :  consumption_comb\n",
            "--------------------------------\n",
            "Per_of_Nulls   :  % 23.81\n",
            "Num_of_Nulls   :  3790\n",
            "NaN       3790\n",
            "5.400      769\n",
            "3.900      733\n",
            "5.100      654\n",
            "4.400      623\n",
            "5.600      618\n",
            "4.700      602\n",
            "3.800      585\n",
            "4.800      546\n",
            "4.500      523\n",
            "5.200      454\n",
            "4.200      435\n",
            "4.600      426\n",
            "4.900      393\n",
            "5.500      380\n",
            "5.300      379\n",
            "5.900      369\n",
            "3.700      369\n",
            "5.700      342\n",
            "4.100      342\n",
            "4.300      307\n",
            "3.300      298\n",
            "3.500      285\n",
            "6.200      216\n",
            "3.600      193\n",
            "6.300      181\n",
            "6.100      175\n",
            "5.800      164\n",
            "6.600      148\n",
            "6.800      136\n",
            "3.400       94\n",
            "6.400       75\n",
            "7.400       66\n",
            "6.500       43\n",
            "6.700       43\n",
            "7.100       38\n",
            "6.900       27\n",
            "3.200       25\n",
            "8.300       19\n",
            "7.600       14\n",
            "3.100        7\n",
            "7.800        6\n",
            "7.200        6\n",
            "8.600        4\n",
            "1.600        3\n",
            "8.700        3\n",
            "7.900        3\n",
            "7.300        2\n",
            "8.100        2\n",
            "7.500        1\n",
            "9.100        1\n",
            "1.200        1\n",
            "13.800       1\n",
            "Name: consumption_comb, dtype: int64\n",
            "******************************\n",
            "\n",
            "\n",
            "\n"
          ]
        }
      ]
    },
    {
      "cell_type": "code",
      "source": [
        "check_df(\"consumption_city\")"
      ],
      "metadata": {
        "colab": {
          "base_uri": "https://localhost:8080/"
        },
        "id": "KAVLbM7aVqEL",
        "outputId": "de74077e-26b5-4e57-9219-12caef0990be"
      },
      "execution_count": 149,
      "outputs": [
        {
          "output_type": "stream",
          "name": "stdout",
          "text": [
            "column name :  consumption_city\n",
            "--------------------------------\n",
            "Per_of_Nulls   :  % 25.37\n",
            "Num_of_Nulls   :  4039\n",
            "NaN       4039\n",
            "5.800      630\n",
            "4.500      577\n",
            "4.300      512\n",
            "5.100      479\n",
            "6.800      453\n",
            "7.200      445\n",
            "7.300      435\n",
            "4.600      417\n",
            "7.800      413\n",
            "5.900      389\n",
            "5.700      376\n",
            "4.200      353\n",
            "6.600      352\n",
            "6.700      346\n",
            "5.200      345\n",
            "6.300      338\n",
            "5.400      321\n",
            "4.100      320\n",
            "4.700      289\n",
            "7.500      267\n",
            "7.100      258\n",
            "7.600      248\n",
            "3.900      245\n",
            "3.500      230\n",
            "6.900      223\n",
            "5.500      216\n",
            "6.200      211\n",
            "7.700      204\n",
            "7.400      179\n",
            "6.500      161\n",
            "8.700      161\n",
            "6.100      152\n",
            "8.200      140\n",
            "4.400      135\n",
            "6.400      121\n",
            "5.600      104\n",
            "5.300      101\n",
            "7.900      101\n",
            "4.800       72\n",
            "4.900       58\n",
            "3.700       53\n",
            "3.400       50\n",
            "9.600       42\n",
            "8.600       42\n",
            "8.300       41\n",
            "8.500       39\n",
            "9.200       34\n",
            "3.300       30\n",
            "3.800       26\n",
            "8.100       25\n",
            "10.200      21\n",
            "11.300      19\n",
            "9.900       15\n",
            "9.400       14\n",
            "9.100       12\n",
            "8.400        7\n",
            "9.800        5\n",
            "8.900        4\n",
            "11.500       4\n",
            "11.200       4\n",
            "9.500        3\n",
            "10.800       3\n",
            "10.100       2\n",
            "8.800        2\n",
            "3.600        2\n",
            "10.400       1\n",
            "16.100       1\n",
            "19.900       1\n",
            "9.700        1\n",
            "Name: consumption_city, dtype: int64\n",
            "******************************\n",
            "\n",
            "\n",
            "\n"
          ]
        }
      ]
    },
    {
      "cell_type": "code",
      "source": [
        "check_df(\"consumption_country\")"
      ],
      "metadata": {
        "colab": {
          "base_uri": "https://localhost:8080/"
        },
        "id": "R1TdLvWrVqHR",
        "outputId": "8e75181f-c915-4e62-b73f-02dd590c93fa"
      },
      "execution_count": 150,
      "outputs": [
        {
          "output_type": "stream",
          "name": "stdout",
          "text": [
            "column name :  consumption_country\n",
            "--------------------------------\n",
            "Per_of_Nulls   :  % 21.14\n",
            "Num_of_Nulls   :  3365\n",
            "NaN       3365\n",
            "4.200     1178\n",
            "3.700     1089\n",
            "4.400      898\n",
            "4.500      847\n",
            "3.800      802\n",
            "3.900      777\n",
            "4.700      612\n",
            "4.100      592\n",
            "3.500      525\n",
            "4.300      520\n",
            "4.600      515\n",
            "3.600      486\n",
            "4.900      481\n",
            "3.100      481\n",
            "3.300      457\n",
            "3.400      353\n",
            "4.800      341\n",
            "5.300      278\n",
            "5.400      239\n",
            "5.100      232\n",
            "5.700      204\n",
            "3.200      180\n",
            "5.600      154\n",
            "5.200      117\n",
            "6.300       52\n",
            "5.500       36\n",
            "5.800       30\n",
            "7.700       20\n",
            "6.600       19\n",
            "6.400       15\n",
            "6.500        4\n",
            "7.300        4\n",
            "7.100        3\n",
            "6.700        2\n",
            "6.100        2\n",
            "5.900        2\n",
            "7.800        2\n",
            "2.900        1\n",
            "10.300       1\n",
            "8.600        1\n",
            "6.900        1\n",
            "7.600        1\n",
            "Name: consumption_country, dtype: int64\n",
            "******************************\n",
            "\n",
            "\n",
            "\n"
          ]
        }
      ]
    },
    {
      "cell_type": "code",
      "source": [
        "df[df.consumption_city.isnull()][[\"consumption_comb\", \"consumption_country\"]].value_counts()"
      ],
      "metadata": {
        "colab": {
          "base_uri": "https://localhost:8080/"
        },
        "id": "wxDU9ImxVqKH",
        "outputId": "e117dc24-8c1a-4b1d-ae1c-ef6006b1a755"
      },
      "execution_count": 151,
      "outputs": [
        {
          "output_type": "execute_result",
          "data": {
            "text/plain": [
              "consumption_comb  consumption_country\n",
              "4.200             3.700                  303\n",
              "4.600             4.400                  112\n",
              "4.900             4.200                  110\n",
              "3.500             3.200                  109\n",
              "3.600             3.300                   74\n",
              "5.500             4.600                   47\n",
              "4.300             3.700                   44\n",
              "5.100             4.600                   34\n",
              "4.100             3.600                   33\n",
              "3.500             3.300                   30\n",
              "5.600             4.800                   28\n",
              "6.300             5.300                   28\n",
              "5.500             4.700                   26\n",
              "5.300             4.300                   23\n",
              "5.400             4.600                    9\n",
              "4.800             4.100                    9\n",
              "                  4.200                    6\n",
              "3.600             4.100                    6\n",
              "5.600             4.700                    6\n",
              "5.400             4.400                    6\n",
              "5.300             4.900                    4\n",
              "5.200             4.700                    3\n",
              "6.200             5.200                    3\n",
              "4.300             3.800                    3\n",
              "5.100             4.500                    3\n",
              "3.400             3.100                    2\n",
              "4.900             4.300                    2\n",
              "3.300             3.300                    2\n",
              "5.200             4.800                    2\n",
              "5.400             4.500                    2\n",
              "3.700             3.400                    2\n",
              "3.600             4.700                    2\n",
              "5.600             4.600                    1\n",
              "5.700             4.700                    1\n",
              "                  4.900                    1\n",
              "5.900             4.600                    1\n",
              "6.100             5.100                    1\n",
              "3.100             3.500                    1\n",
              "5.200             4.400                    1\n",
              "4.700             8.600                    1\n",
              "3.400             3.200                    1\n",
              "3.600             4.400                    1\n",
              "3.700             3.300                    1\n",
              "                  3.500                    1\n",
              "3.900             3.300                    1\n",
              "                  3.600                    1\n",
              "4.200             4.900                    1\n",
              "                  5.800                    1\n",
              "                  7.800                    1\n",
              "4.300             5.600                    1\n",
              "                  6.500                    1\n",
              "4.400             3.700                    1\n",
              "                  3.900                    1\n",
              "                  6.900                    1\n",
              "3.300             3.100                    1\n",
              "6.500             5.700                    1\n",
              "dtype: int64"
            ]
          },
          "metadata": {},
          "execution_count": 151
        }
      ]
    },
    {
      "cell_type": "code",
      "source": [
        "df.consumption_city.mean()"
      ],
      "metadata": {
        "colab": {
          "base_uri": "https://localhost:8080/"
        },
        "id": "r8LyHI4ZWAkw",
        "outputId": "1f76c3a1-b781-4d32-85ab-319912aea07c"
      },
      "execution_count": 152,
      "outputs": [
        {
          "output_type": "execute_result",
          "data": {
            "text/plain": [
              "5.9730471380471375"
            ]
          },
          "metadata": {},
          "execution_count": 152
        }
      ]
    },
    {
      "cell_type": "code",
      "source": [
        "df.consumption_comb.mean()"
      ],
      "metadata": {
        "colab": {
          "base_uri": "https://localhost:8080/"
        },
        "id": "-1jM7KnbWAn6",
        "outputId": "e389f8fa-00a2-440d-d314-3eeb29d07ecf"
      },
      "execution_count": 153,
      "outputs": [
        {
          "output_type": "execute_result",
          "data": {
            "text/plain": [
              "4.860722235963394"
            ]
          },
          "metadata": {},
          "execution_count": 153
        }
      ]
    },
    {
      "cell_type": "code",
      "source": [
        "df.consumption_country.mean()"
      ],
      "metadata": {
        "colab": {
          "base_uri": "https://localhost:8080/"
        },
        "id": "gavYG98FWAq5",
        "outputId": "7d755d53-2041-4cec-aa20-7c4da98f6b64"
      },
      "execution_count": 154,
      "outputs": [
        {
          "output_type": "execute_result",
          "data": {
            "text/plain": [
              "4.2141070575115505"
            ]
          },
          "metadata": {},
          "execution_count": 154
        }
      ]
    },
    {
      "cell_type": "code",
      "source": [
        "df.groupby([\"make\", \"model\", \"cylinders\", \"weight_kg\", \"body_type\", \"fuel\"])[\"consumption_city\"].mean().head(50)\n"
      ],
      "metadata": {
        "colab": {
          "base_uri": "https://localhost:8080/"
        },
        "id": "c-y7dtIyWAtu",
        "outputId": "6cbe4368-1927-4b94-842f-78205a9e9ab5"
      },
      "execution_count": 156,
      "outputs": [
        {
          "output_type": "execute_result",
          "data": {
            "text/plain": [
              "make  model  cylinders  weight_kg  body_type      fuel   \n",
              "Audi  A1     3.000      102.000    Compact        Benzine   5.600\n",
              "                        1010.000   Compact        Benzine     NaN\n",
              "                                   Coupe          Benzine     NaN\n",
              "                                                  Diesel      NaN\n",
              "                        1035.000   Compact        Benzine     NaN\n",
              "                                   Sedans         Benzine     NaN\n",
              "                        1040.000   Compact        Benzine   5.400\n",
              "                        1060.000   Sedans         Benzine     NaN\n",
              "                        1065.000   Compact        Benzine   5.427\n",
              "                                   Sedans         Benzine   5.400\n",
              "                        1088.000   Sedans         Benzine     NaN\n",
              "                        1090.000   Compact        Benzine   5.400\n",
              "                                   Sedans         Benzine   5.400\n",
              "                                                  Diesel      NaN\n",
              "                        1094.000   Sedans         Benzine     NaN\n",
              "                        1097.000   Sedans         Benzine     NaN\n",
              "                        1100.000   Compact        Benzine   5.400\n",
              "                        1105.000   Compact        Diesel    4.150\n",
              "                                   Sedans         Benzine     NaN\n",
              "                        1110.000   Compact        Benzine   5.200\n",
              "                                   Sedans         Benzine   5.467\n",
              "                        1114.000   Sedans         Benzine     NaN\n",
              "                        1115.000   Sedans         Benzine     NaN\n",
              "                        1118.000   Sedans         Benzine     NaN\n",
              "                        1120.000   Sedans         Diesel    3.960\n",
              "                        1125.000   Sedans         Benzine     NaN\n",
              "                                   Station wagon  Benzine     NaN\n",
              "                        1130.000   Sedans         Diesel    3.975\n",
              "                        1133.000   Compact        Benzine   5.800\n",
              "                                   Sedans         Benzine     NaN\n",
              "                        1134.000   Compact        Benzine     NaN\n",
              "                                   Sedans         Benzine   5.150\n",
              "                        1135.000   Compact        Benzine   5.239\n",
              "                                   Sedans         Benzine   5.307\n",
              "                                   Station wagon  Benzine   5.200\n",
              "                        1136.000   Sedans         Benzine   5.900\n",
              "                        1138.000   Compact        Benzine   5.800\n",
              "                                   Sedans         Benzine     NaN\n",
              "                        1140.000   Compact        Benzine   5.200\n",
              "                                   Sedans         Benzine   5.400\n",
              "                        1141.000   Sedans         Benzine     NaN\n",
              "                        1142.000   Sedans         Benzine     NaN\n",
              "                        1144.000   Sedans         Benzine     NaN\n",
              "                        1145.000   Sedans         Diesel    4.450\n",
              "                        1146.000   Sedans         Benzine     NaN\n",
              "                        1147.000   Compact        Benzine   5.800\n",
              "                                   Sedans         Benzine     NaN\n",
              "                        1150.000   Compact        Benzine   5.900\n",
              "                        1155.000   Sedans         Benzine     NaN\n",
              "                        1156.000   Sedans         Benzine     NaN\n",
              "Name: consumption_city, dtype: float64"
            ]
          },
          "metadata": {},
          "execution_count": 156
        }
      ]
    },
    {
      "cell_type": "code",
      "source": [
        "df[\"consumption_city\"].fillna(abs(df[\"consumption_comb\"] - df[\"consumption_country\"]*0.62)/0.38)"
      ],
      "metadata": {
        "colab": {
          "base_uri": "https://localhost:8080/"
        },
        "id": "gKHGgdsFWAwz",
        "outputId": "30db214c-7dfa-4681-e7e4-232909773816"
      },
      "execution_count": 157,
      "outputs": [
        {
          "output_type": "execute_result",
          "data": {
            "text/plain": [
              "0       4.300\n",
              "1       7.100\n",
              "2       4.400\n",
              "3       4.300\n",
              "4       4.600\n",
              "         ... \n",
              "15914   6.200\n",
              "15915   9.200\n",
              "15916   6.200\n",
              "15917   6.200\n",
              "15918   8.700\n",
              "Name: consumption_city, Length: 15919, dtype: float64"
            ]
          },
          "metadata": {},
          "execution_count": 157
        }
      ]
    },
    {
      "cell_type": "code",
      "source": [
        "df[\"consumption_city\"] = df[\"consumption_city\"].fillna(abs(df[\"consumption_comb\"] - df[\"consumption_country\"]*0.62)/0.38)\n",
        "df[\"consumption_city\"].mean()"
      ],
      "metadata": {
        "colab": {
          "base_uri": "https://localhost:8080/"
        },
        "id": "m9EzcTPWWA0G",
        "outputId": "cde7f2d5-b816-44a6-8f98-612704a5d252"
      },
      "execution_count": 158,
      "outputs": [
        {
          "output_type": "execute_result",
          "data": {
            "text/plain": [
              "5.913447273110726"
            ]
          },
          "metadata": {},
          "execution_count": 158
        }
      ]
    },
    {
      "cell_type": "code",
      "source": [
        "check_df(\"consumption_city\")"
      ],
      "metadata": {
        "colab": {
          "base_uri": "https://localhost:8080/"
        },
        "id": "FqbChLLVWA2l",
        "outputId": "04fb4e7a-632f-4ce2-bdc8-38a567d186be"
      },
      "execution_count": 159,
      "outputs": [
        {
          "output_type": "stream",
          "name": "stdout",
          "text": [
            "column name :  consumption_city\n",
            "--------------------------------\n",
            "Per_of_Nulls   :  % 18.48\n",
            "Num_of_Nulls   :  2942\n",
            "NaN       2942\n",
            "5.800      630\n",
            "4.500      577\n",
            "4.300      512\n",
            "5.100      479\n",
            "          ... \n",
            "16.100       1\n",
            "7.732        1\n",
            "0.711        1\n",
            "4.353        1\n",
            "9.700        1\n",
            "Name: consumption_city, Length: 125, dtype: int64\n",
            "******************************\n",
            "\n",
            "\n",
            "\n"
          ]
        }
      ]
    },
    {
      "cell_type": "code",
      "source": [
        "df[\"consumption_country\"].fillna(abs((df[\"consumption_comb\"] - df[\"consumption_city\"]*0.38)/0.62))"
      ],
      "metadata": {
        "colab": {
          "base_uri": "https://localhost:8080/"
        },
        "id": "s0zYCA_VWA51",
        "outputId": "747b54fc-f25d-403d-f436-508cfefee691"
      },
      "execution_count": 160,
      "outputs": [
        {
          "output_type": "execute_result",
          "data": {
            "text/plain": [
              "0       3.500\n",
              "1       4.700\n",
              "2       3.400\n",
              "3       3.500\n",
              "4       3.800\n",
              "         ... \n",
              "15914   4.700\n",
              "15915   6.300\n",
              "15916   4.700\n",
              "15917   4.700\n",
              "15918   5.700\n",
              "Name: consumption_country, Length: 15919, dtype: float64"
            ]
          },
          "metadata": {},
          "execution_count": 160
        }
      ]
    },
    {
      "cell_type": "code",
      "source": [
        "df[\"consumption_country\"] = df[\"consumption_country\"].fillna(abs((df[\"consumption_comb\"] - df[\"consumption_city\"]*0.38)/0.62))\n",
        "df[\"consumption_country\"].mean()"
      ],
      "metadata": {
        "colab": {
          "base_uri": "https://localhost:8080/"
        },
        "id": "Igq3VxsGWA8i",
        "outputId": "3bdaeea1-df0c-4bba-cc50-f4b5f9584baa"
      },
      "execution_count": 161,
      "outputs": [
        {
          "output_type": "execute_result",
          "data": {
            "text/plain": [
              "4.2171319184929255"
            ]
          },
          "metadata": {},
          "execution_count": 161
        }
      ]
    },
    {
      "cell_type": "code",
      "source": [
        "check_df(\"consumption_country\")"
      ],
      "metadata": {
        "colab": {
          "base_uri": "https://localhost:8080/"
        },
        "id": "VFSyBPXUWA_V",
        "outputId": "f76d9ed5-a048-440c-9bbb-5b3c101a2556"
      },
      "execution_count": 162,
      "outputs": [
        {
          "output_type": "stream",
          "name": "stdout",
          "text": [
            "column name :  consumption_country\n",
            "--------------------------------\n",
            "Per_of_Nulls   :  % 18.07\n",
            "Num_of_Nulls   :  2876\n",
            "NaN       2876\n",
            "4.200     1178\n",
            "3.700     1089\n",
            "4.400      898\n",
            "4.500      847\n",
            "3.800      802\n",
            "3.900      777\n",
            "4.700      612\n",
            "4.100      592\n",
            "3.500      525\n",
            "4.300      520\n",
            "4.600      515\n",
            "3.600      486\n",
            "4.900      481\n",
            "3.100      481\n",
            "3.300      457\n",
            "3.400      353\n",
            "4.800      341\n",
            "5.300      278\n",
            "5.400      239\n",
            "5.100      232\n",
            "5.700      204\n",
            "3.200      180\n",
            "5.600      154\n",
            "5.200      117\n",
            "4.026       93\n",
            "6.300       52\n",
            "4.981       42\n",
            "3.948       41\n",
            "5.500       36\n",
            "3.910       32\n",
            "3.971       31\n",
            "3.965       31\n",
            "5.800       30\n",
            "3.981       24\n",
            "3.987       22\n",
            "3.926       20\n",
            "7.700       20\n",
            "4.919       19\n",
            "6.600       19\n",
            "6.052       17\n",
            "6.400       15\n",
            "5.858       11\n",
            "3.765       11\n",
            "4.748        9\n",
            "4.010        8\n",
            "4.048        8\n",
            "3.916        8\n",
            "2.916        6\n",
            "4.990        5\n",
            "5.797        4\n",
            "6.500        4\n",
            "7.300        4\n",
            "4.042        4\n",
            "4.071        4\n",
            "4.126        4\n",
            "4.761        3\n",
            "2.994        3\n",
            "7.100        3\n",
            "6.700        2\n",
            "6.594        2\n",
            "6.100        2\n",
            "5.900        2\n",
            "7.800        2\n",
            "4.890        2\n",
            "2.832        2\n",
            "3.077        2\n",
            "4.574        1\n",
            "6.158        1\n",
            "5.619        1\n",
            "6.823        1\n",
            "7.600        1\n",
            "5.881        1\n",
            "6.900        1\n",
            "10.110       1\n",
            "4.942        1\n",
            "3.565        1\n",
            "7.006        1\n",
            "8.600        1\n",
            "3.942        1\n",
            "6.103        1\n",
            "2.894        1\n",
            "3.787        1\n",
            "6.739        1\n",
            "5.242        1\n",
            "3.671        1\n",
            "4.952        1\n",
            "3.116        1\n",
            "4.974        1\n",
            "2.900        1\n",
            "3.371        1\n",
            "10.300       1\n",
            "4.971        1\n",
            "Name: consumption_country, dtype: int64\n",
            "******************************\n",
            "\n",
            "\n",
            "\n"
          ]
        }
      ]
    },
    {
      "cell_type": "code",
      "source": [
        "df[\"consumption_comb\"].fillna(abs(df[\"consumption_country\"]*0.62 + df[\"consumption_city\"]*0.38))"
      ],
      "metadata": {
        "colab": {
          "base_uri": "https://localhost:8080/"
        },
        "id": "BZMmYyUhWBB-",
        "outputId": "b8d72b08-64b7-4aec-f5b2-39385aa7cf18"
      },
      "execution_count": 163,
      "outputs": [
        {
          "output_type": "execute_result",
          "data": {
            "text/plain": [
              "0       3.800\n",
              "1       5.600\n",
              "2       3.800\n",
              "3       3.800\n",
              "4       4.100\n",
              "         ... \n",
              "15914   5.300\n",
              "15915   7.400\n",
              "15916   5.300\n",
              "15917   5.300\n",
              "15918   6.800\n",
              "Name: consumption_comb, Length: 15919, dtype: float64"
            ]
          },
          "metadata": {},
          "execution_count": 163
        }
      ]
    },
    {
      "cell_type": "code",
      "source": [
        "df[\"consumption_comb\"] = df[\"consumption_comb\"].fillna(abs(df[\"consumption_country\"]*0.62 + df[\"consumption_city\"]*0.38))\n",
        "check_df(\"consumption_comb\")"
      ],
      "metadata": {
        "colab": {
          "base_uri": "https://localhost:8080/"
        },
        "id": "74oTdJsOWWV_",
        "outputId": "b055d6c8-8b63-42c2-97a0-949ce021b95b"
      },
      "execution_count": 164,
      "outputs": [
        {
          "output_type": "stream",
          "name": "stdout",
          "text": [
            "column name :  consumption_comb\n",
            "--------------------------------\n",
            "Per_of_Nulls   :  % 15.64\n",
            "Num_of_Nulls   :  2490\n",
            "NaN      2490\n",
            "5.400     769\n",
            "3.900     733\n",
            "5.100     654\n",
            "4.400     623\n",
            "         ... \n",
            "7.500       1\n",
            "3.780       1\n",
            "5.074       1\n",
            "4.282       1\n",
            "5.098       1\n",
            "Name: consumption_comb, Length: 116, dtype: int64\n",
            "******************************\n",
            "\n",
            "\n",
            "\n"
          ]
        }
      ]
    },
    {
      "cell_type": "code",
      "source": [
        "df.consumption_city = df.groupby([\"make\", \"model\", \"body_type\" ,\"weight_kg\", \"cylinders\", \"fuel\"])[\"consumption_city\"].fillna(method=\"ffill\").fillna(method=\"bfill\")\n"
      ],
      "metadata": {
        "id": "u8a0pVvkWWY1"
      },
      "execution_count": 166,
      "outputs": []
    },
    {
      "cell_type": "code",
      "source": [
        "df.consumption_country = df.groupby([\"make\", \"model\", \"body_type\" ,\"weight_kg\", \"cylinders\", \"fuel\"])[\"consumption_country\"].fillna(method=\"ffill\").fillna(method=\"bfill\")\n"
      ],
      "metadata": {
        "id": "IdaSVhiCWWb8"
      },
      "execution_count": 167,
      "outputs": []
    },
    {
      "cell_type": "code",
      "source": [
        "df[\"consumption_comb\"] = df[\"consumption_comb\"].fillna(abs(df[\"consumption_country\"]*0.62 + df[\"consumption_city\"]*0.38))\n"
      ],
      "metadata": {
        "id": "6LPQb_ZmWWeS"
      },
      "execution_count": 169,
      "outputs": []
    },
    {
      "cell_type": "code",
      "source": [
        "check_df(\"consumption_comb\"), check_df(\"consumption_country\") ,check_df(\"consumption_city\")"
      ],
      "metadata": {
        "colab": {
          "base_uri": "https://localhost:8080/"
        },
        "id": "EKfn_kIKWWg8",
        "outputId": "df883b8d-6f3f-4f28-d06c-b6f2e2bafabb"
      },
      "execution_count": 170,
      "outputs": [
        {
          "output_type": "stream",
          "name": "stdout",
          "text": [
            "column name :  consumption_comb\n",
            "--------------------------------\n",
            "Per_of_Nulls   :  % 0.0\n",
            "Num_of_Nulls   :  0\n",
            "5.400    772\n",
            "3.900    733\n",
            "5.100    659\n",
            "4.400    653\n",
            "5.600    623\n",
            "        ... \n",
            "5.394      1\n",
            "5.174      1\n",
            "5.864      1\n",
            "6.392      1\n",
            "5.432      1\n",
            "Name: consumption_comb, Length: 319, dtype: int64\n",
            "******************************\n",
            "\n",
            "\n",
            "\n",
            "column name :  consumption_country\n",
            "--------------------------------\n",
            "Per_of_Nulls   :  % 0.0\n",
            "Num_of_Nulls   :  0\n",
            "4.200     1469\n",
            "3.700     1264\n",
            "4.400     1210\n",
            "4.500     1081\n",
            "3.800      962\n",
            "3.900      956\n",
            "4.700      748\n",
            "4.100      711\n",
            "4.600      633\n",
            "3.500      623\n",
            "3.300      619\n",
            "4.300      613\n",
            "3.600      584\n",
            "3.100      580\n",
            "4.900      555\n",
            "3.400      426\n",
            "4.800      400\n",
            "5.300      329\n",
            "5.100      263\n",
            "5.400      255\n",
            "5.700      230\n",
            "3.200      223\n",
            "5.600      189\n",
            "5.200      135\n",
            "4.026      115\n",
            "6.300       62\n",
            "3.910       54\n",
            "3.948       50\n",
            "4.981       47\n",
            "3.971       45\n",
            "3.981       39\n",
            "5.500       38\n",
            "3.965       37\n",
            "5.800       34\n",
            "2.894       24\n",
            "3.987       22\n",
            "6.600       21\n",
            "3.926       21\n",
            "7.700       20\n",
            "4.919       19\n",
            "6.052       18\n",
            "6.400       15\n",
            "4.748       14\n",
            "3.671       14\n",
            "3.765       13\n",
            "4.048       11\n",
            "5.858       11\n",
            "3.916        9\n",
            "4.010        9\n",
            "4.761        8\n",
            "4.990        6\n",
            "2.916        6\n",
            "7.800        5\n",
            "4.042        5\n",
            "7.300        4\n",
            "4.126        4\n",
            "4.071        4\n",
            "6.500        4\n",
            "2.994        4\n",
            "5.797        4\n",
            "8.600        3\n",
            "7.100        3\n",
            "2.832        2\n",
            "6.100        2\n",
            "5.900        2\n",
            "6.594        2\n",
            "3.077        2\n",
            "4.890        2\n",
            "6.700        2\n",
            "10.110       2\n",
            "2.900        2\n",
            "4.942        1\n",
            "6.823        1\n",
            "5.619        1\n",
            "7.600        1\n",
            "5.881        1\n",
            "6.158        1\n",
            "4.574        1\n",
            "3.116        1\n",
            "6.900        1\n",
            "7.006        1\n",
            "3.942        1\n",
            "6.103        1\n",
            "3.787        1\n",
            "6.739        1\n",
            "5.242        1\n",
            "4.952        1\n",
            "3.565        1\n",
            "4.974        1\n",
            "3.371        1\n",
            "10.300       1\n",
            "4.971        1\n",
            "Name: consumption_country, dtype: int64\n",
            "******************************\n",
            "\n",
            "\n",
            "\n",
            "column name :  consumption_city\n",
            "--------------------------------\n",
            "Per_of_Nulls   :  % 0.0\n",
            "Num_of_Nulls   :  0\n",
            "5.800    750\n",
            "5.100    679\n",
            "4.500    667\n",
            "4.300    591\n",
            "7.200    562\n",
            "        ... \n",
            "7.732      1\n",
            "8.021      1\n",
            "2.179      1\n",
            "4.353      1\n",
            "9.700      1\n",
            "Name: consumption_city, Length: 124, dtype: int64\n",
            "******************************\n",
            "\n",
            "\n",
            "\n"
          ]
        },
        {
          "output_type": "execute_result",
          "data": {
            "text/plain": [
              "(None, None, None)"
            ]
          },
          "metadata": {},
          "execution_count": 170
        }
      ]
    },
    {
      "cell_type": "code",
      "source": [
        "df.to_csv(\"filled_autoscout.csv\", index=False)"
      ],
      "metadata": {
        "id": "WmpKzQOUWWjt"
      },
      "execution_count": 171,
      "outputs": []
    }
  ]
}